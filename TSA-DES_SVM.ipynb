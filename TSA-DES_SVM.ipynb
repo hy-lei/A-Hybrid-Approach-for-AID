{
 "cells": [
  {
   "cell_type": "markdown",
   "metadata": {},
   "source": [
    "# H_DES model: Train"
   ]
  },
  {
   "cell_type": "markdown",
   "metadata": {},
   "source": [
    "# a. Time Series - Double Exponential Smoothing (DES)"
   ]
  },
  {
   "cell_type": "code",
   "execution_count": 2,
   "metadata": {},
   "outputs": [],
   "source": [
    "import numpy as np\n",
    "import pandas as pd"
   ]
  },
  {
   "cell_type": "code",
   "execution_count": 3,
   "metadata": {},
   "outputs": [],
   "source": [
    "import util as u"
   ]
  },
  {
   "cell_type": "code",
   "execution_count": 4,
   "metadata": {},
   "outputs": [],
   "source": [
    "base_path = \"data/I88N-processed/\""
   ]
  },
  {
   "cell_type": "code",
   "execution_count": 5,
   "metadata": {},
   "outputs": [],
   "source": [
    "# import concatenated data, and available days to sample from\n",
    "concat_1 = pd.read_csv(base_path + \"concat/concat_1.csv\")\n",
    "concat_2 = pd.read_csv(base_path + \"concat/concat_2.csv\")\n",
    "concat_3 = pd.read_csv(base_path + \"concat/concat_3.csv\")"
   ]
  },
  {
   "cell_type": "code",
   "execution_count": 57,
   "metadata": {},
   "outputs": [],
   "source": [
    "datetime_1 = concat_1[\"datetime\"].values\n",
    "datetime_1 = pd.to_datetime(datetime_1)"
   ]
  },
  {
   "cell_type": "code",
   "execution_count": 196,
   "metadata": {},
   "outputs": [],
   "source": [
    "dataset_df_1 = concat_1.loc[concat_1[\"Date\"].isin(dates_format_1)]"
   ]
  },
  {
   "cell_type": "code",
   "execution_count": 197,
   "metadata": {},
   "outputs": [],
   "source": [
    "dataset_df_2 = concat_2.loc[concat_2[\"Date\"].isin(dates_format_2)]\n",
    "dataset_df_3 = concat_3.loc[concat_3[\"Date\"].isin(dates_format_2)]"
   ]
  },
  {
   "cell_type": "code",
   "execution_count": 202,
   "metadata": {},
   "outputs": [
    {
     "data": {
      "text/plain": [
       "array([400141, 400761, 400490, 401888, 400137, 400716, 401545, 401011,\n",
       "       400674, 400539, 400534, 401062, 401529, 401613, 400536, 400488,\n",
       "       401561, 400611, 400928, 400284, 400041, 408133, 408135, 417665,\n",
       "       412637, 417666, 408134, 400685, 401003, 400898, 400275, 400939,\n",
       "       400180, 400529, 400990])"
      ]
     },
     "execution_count": 202,
     "metadata": {},
     "output_type": "execute_result"
    }
   ],
   "source": [
    "dataset_df_2[\"Station ID\"].unique()"
   ]
  },
  {
   "cell_type": "code",
   "execution_count": 205,
   "metadata": {},
   "outputs": [
    {
     "data": {
      "text/plain": [
       "64512"
      ]
     },
     "execution_count": 205,
     "metadata": {},
     "output_type": "execute_result"
    }
   ],
   "source": [
    "len(dataset_df_2.loc[dataset_df_2[\"Station ID\"] == 417666].values)"
   ]
  },
  {
   "cell_type": "code",
   "execution_count": 200,
   "metadata": {},
   "outputs": [],
   "source": [
    "dates = available_dates"
   ]
  },
  {
   "cell_type": "code",
   "execution_count": 206,
   "metadata": {},
   "outputs": [
    {
     "data": {
      "text/plain": [
       "224"
      ]
     },
     "execution_count": 206,
     "metadata": {},
     "output_type": "execute_result"
    }
   ],
   "source": [
    "len(dates)"
   ]
  },
  {
   "cell_type": "markdown",
   "metadata": {},
   "source": [
    "The total number of samples collected at one station across all days is 97344, which is equal to 338 days * 24 hours/day * 12 samples/hour."
   ]
  },
  {
   "cell_type": "code",
   "execution_count": 260,
   "metadata": {},
   "outputs": [
    {
     "data": {
      "text/html": [
       "<div>\n",
       "<style scoped>\n",
       "    .dataframe tbody tr th:only-of-type {\n",
       "        vertical-align: middle;\n",
       "    }\n",
       "\n",
       "    .dataframe tbody tr th {\n",
       "        vertical-align: top;\n",
       "    }\n",
       "\n",
       "    .dataframe thead th {\n",
       "        text-align: right;\n",
       "    }\n",
       "</style>\n",
       "<table border=\"1\" class=\"dataframe\">\n",
       "  <thead>\n",
       "    <tr style=\"text-align: right;\">\n",
       "      <th></th>\n",
       "      <th>Station ID</th>\n",
       "      <th>datetime</th>\n",
       "      <th>Occupancy</th>\n",
       "      <th>Flow</th>\n",
       "      <th>Speed</th>\n",
       "      <th>Date</th>\n",
       "      <th>Time</th>\n",
       "      <th>idx</th>\n",
       "    </tr>\n",
       "  </thead>\n",
       "  <tbody>\n",
       "    <tr>\n",
       "      <th>33395</th>\n",
       "      <td>408907</td>\n",
       "      <td>2017-04-30 00:00:00</td>\n",
       "      <td>0.6</td>\n",
       "      <td>26.0</td>\n",
       "      <td>68.4</td>\n",
       "      <td>04/30/2017</td>\n",
       "      <td>00:00</td>\n",
       "      <td>33395</td>\n",
       "    </tr>\n",
       "    <tr>\n",
       "      <th>33396</th>\n",
       "      <td>408907</td>\n",
       "      <td>2017-04-30 00:05:00</td>\n",
       "      <td>1.1</td>\n",
       "      <td>42.0</td>\n",
       "      <td>67.5</td>\n",
       "      <td>04/30/2017</td>\n",
       "      <td>00:05</td>\n",
       "      <td>33396</td>\n",
       "    </tr>\n",
       "    <tr>\n",
       "      <th>33397</th>\n",
       "      <td>408907</td>\n",
       "      <td>2017-04-30 00:10:00</td>\n",
       "      <td>1.0</td>\n",
       "      <td>41.0</td>\n",
       "      <td>68.1</td>\n",
       "      <td>04/30/2017</td>\n",
       "      <td>00:10</td>\n",
       "      <td>33397</td>\n",
       "    </tr>\n",
       "  </tbody>\n",
       "</table>\n",
       "</div>"
      ],
      "text/plain": [
       "       Station ID             datetime  Occupancy  Flow  Speed        Date  \\\n",
       "33395      408907  2017-04-30 00:00:00        0.6  26.0   68.4  04/30/2017   \n",
       "33396      408907  2017-04-30 00:05:00        1.1  42.0   67.5  04/30/2017   \n",
       "33397      408907  2017-04-30 00:10:00        1.0  41.0   68.1  04/30/2017   \n",
       "\n",
       "        Time    idx  \n",
       "33395  00:00  33395  \n",
       "33396  00:05  33396  \n",
       "33397  00:10  33397  "
      ]
     },
     "execution_count": 260,
     "metadata": {},
     "output_type": "execute_result"
    }
   ],
   "source": [
    "dataset_df_1.head(3)"
   ]
  },
  {
   "cell_type": "code",
   "execution_count": 6,
   "metadata": {},
   "outputs": [],
   "source": [
    "dataset_df_1 = pd.read_csv(base_path + \"concat_no_holes/concat_1.csv\")\n",
    "dataset_df_2 = pd.read_csv(base_path + \"concat_no_holes/concat_2.csv\")\n",
    "dataset_df_3 = pd.read_csv(base_path + \"concat_no_holes/concat_3.csv\")"
   ]
  },
  {
   "cell_type": "code",
   "execution_count": 8,
   "metadata": {},
   "outputs": [],
   "source": [
    "concats = pd.read_csv(base_path + \"concat_no_holes/concat.csv\")"
   ]
  },
  {
   "cell_type": "code",
   "execution_count": 52,
   "metadata": {},
   "outputs": [],
   "source": [
    "concat = concats"
   ]
  },
  {
   "cell_type": "code",
   "execution_count": 264,
   "metadata": {},
   "outputs": [],
   "source": [
    "concat.to_csv(base_path + \"concat_no_holes/concat.csv\")"
   ]
  },
  {
   "cell_type": "code",
   "execution_count": 9,
   "metadata": {},
   "outputs": [],
   "source": [
    "available_dates_str = pd.read_csv(base_path + \"available_dates.csv\").iloc[:, 0].values"
   ]
  },
  {
   "cell_type": "code",
   "execution_count": 10,
   "metadata": {},
   "outputs": [
    {
     "data": {
      "text/plain": [
       "array(['2017-04-30', '2017-05-01', '2017-05-02'], dtype=object)"
      ]
     },
     "execution_count": 10,
     "metadata": {},
     "output_type": "execute_result"
    }
   ],
   "source": [
    "available_dates_str[:3]"
   ]
  },
  {
   "cell_type": "code",
   "execution_count": 70,
   "metadata": {},
   "outputs": [],
   "source": [
    "dates = list(map(lambda x: pd.to_datetime(x).date(), available_dates_str))"
   ]
  },
  {
   "cell_type": "code",
   "execution_count": 21,
   "metadata": {},
   "outputs": [],
   "source": [
    "# dataset_df_1 = dataset_df_1.drop([\"Unnamed: 0\"], axis=1)\n",
    "dataset_df_1.to_csv(base_path + \"concat_no_holes/concat_1.csv\", index=False)"
   ]
  },
  {
   "cell_type": "code",
   "execution_count": 20,
   "metadata": {},
   "outputs": [],
   "source": [
    "# dataset_df_2 = dataset_df_2.drop([\"Unnamed: 0\"], axis=1)\n",
    "dataset_df_2.to_csv(base_path + \"concat_no_holes/concat_2.csv\", index=False)"
   ]
  },
  {
   "cell_type": "code",
   "execution_count": 22,
   "metadata": {},
   "outputs": [],
   "source": [
    "dataset_df_3 = dataset_df_3.drop([\"Unnamed: 0\"], axis=1)\n",
    "dataset_df_3.to_csv(base_path + \"concat_no_holes/concat_3.csv\", index=False)"
   ]
  },
  {
   "cell_type": "code",
   "execution_count": 23,
   "metadata": {},
   "outputs": [],
   "source": [
    "concats = concats.drop([\"Unnamed: 0\"], axis=1)\n",
    "concats.to_csv(base_path + \"concat_no_holes/concat.csv\", index=False)"
   ]
  },
  {
   "cell_type": "code",
   "execution_count": 24,
   "metadata": {
    "scrolled": false
   },
   "outputs": [
    {
     "data": {
      "text/html": [
       "<div>\n",
       "<style scoped>\n",
       "    .dataframe tbody tr th:only-of-type {\n",
       "        vertical-align: middle;\n",
       "    }\n",
       "\n",
       "    .dataframe tbody tr th {\n",
       "        vertical-align: top;\n",
       "    }\n",
       "\n",
       "    .dataframe thead th {\n",
       "        text-align: right;\n",
       "    }\n",
       "</style>\n",
       "<table border=\"1\" class=\"dataframe\">\n",
       "  <thead>\n",
       "    <tr style=\"text-align: right;\">\n",
       "      <th></th>\n",
       "      <th>Station ID</th>\n",
       "      <th>datetime</th>\n",
       "      <th>Occupancy</th>\n",
       "      <th>Flow</th>\n",
       "      <th>Speed</th>\n",
       "      <th>Date</th>\n",
       "      <th>Time</th>\n",
       "      <th>idx</th>\n",
       "    </tr>\n",
       "  </thead>\n",
       "  <tbody>\n",
       "    <tr>\n",
       "      <th>0</th>\n",
       "      <td>408907</td>\n",
       "      <td>2017-04-30 00:00:00</td>\n",
       "      <td>0.6</td>\n",
       "      <td>26.0</td>\n",
       "      <td>68.4</td>\n",
       "      <td>04/30/2017</td>\n",
       "      <td>00:00</td>\n",
       "      <td>33395</td>\n",
       "    </tr>\n",
       "  </tbody>\n",
       "</table>\n",
       "</div>"
      ],
      "text/plain": [
       "   Station ID             datetime  Occupancy  Flow  Speed        Date   Time  \\\n",
       "0      408907  2017-04-30 00:00:00        0.6  26.0   68.4  04/30/2017  00:00   \n",
       "\n",
       "     idx  \n",
       "0  33395  "
      ]
     },
     "execution_count": 24,
     "metadata": {},
     "output_type": "execute_result"
    }
   ],
   "source": [
    "dataset_df_1.head(1)"
   ]
  },
  {
   "cell_type": "code",
   "execution_count": 25,
   "metadata": {},
   "outputs": [
    {
     "data": {
      "text/html": [
       "<div>\n",
       "<style scoped>\n",
       "    .dataframe tbody tr th:only-of-type {\n",
       "        vertical-align: middle;\n",
       "    }\n",
       "\n",
       "    .dataframe tbody tr th {\n",
       "        vertical-align: top;\n",
       "    }\n",
       "\n",
       "    .dataframe thead th {\n",
       "        text-align: right;\n",
       "    }\n",
       "</style>\n",
       "<table border=\"1\" class=\"dataframe\">\n",
       "  <thead>\n",
       "    <tr style=\"text-align: right;\">\n",
       "      <th></th>\n",
       "      <th>Station ID</th>\n",
       "      <th>datetime</th>\n",
       "      <th>Occupancy</th>\n",
       "      <th>Flow</th>\n",
       "      <th>Speed</th>\n",
       "      <th>Date</th>\n",
       "      <th>Time</th>\n",
       "      <th>idx</th>\n",
       "    </tr>\n",
       "  </thead>\n",
       "  <tbody>\n",
       "    <tr>\n",
       "      <th>0</th>\n",
       "      <td>400141</td>\n",
       "      <td>2017-04-30 00:00:00</td>\n",
       "      <td>2.7</td>\n",
       "      <td>175.0</td>\n",
       "      <td>68.1</td>\n",
       "      <td>04/30/2017</td>\n",
       "      <td>00:00</td>\n",
       "      <td>33396</td>\n",
       "    </tr>\n",
       "  </tbody>\n",
       "</table>\n",
       "</div>"
      ],
      "text/plain": [
       "   Station ID             datetime  Occupancy   Flow  Speed        Date  \\\n",
       "0      400141  2017-04-30 00:00:00        2.7  175.0   68.1  04/30/2017   \n",
       "\n",
       "    Time    idx  \n",
       "0  00:00  33396  "
      ]
     },
     "execution_count": 25,
     "metadata": {},
     "output_type": "execute_result"
    }
   ],
   "source": [
    "dataset_df_2.head(1)"
   ]
  },
  {
   "cell_type": "code",
   "execution_count": 26,
   "metadata": {
    "scrolled": true
   },
   "outputs": [
    {
     "data": {
      "text/html": [
       "<div>\n",
       "<style scoped>\n",
       "    .dataframe tbody tr th:only-of-type {\n",
       "        vertical-align: middle;\n",
       "    }\n",
       "\n",
       "    .dataframe tbody tr th {\n",
       "        vertical-align: top;\n",
       "    }\n",
       "\n",
       "    .dataframe thead th {\n",
       "        text-align: right;\n",
       "    }\n",
       "</style>\n",
       "<table border=\"1\" class=\"dataframe\">\n",
       "  <thead>\n",
       "    <tr style=\"text-align: right;\">\n",
       "      <th></th>\n",
       "      <th>Station ID</th>\n",
       "      <th>datetime</th>\n",
       "      <th>Occupancy</th>\n",
       "      <th>Flow</th>\n",
       "      <th>Speed</th>\n",
       "      <th>Date</th>\n",
       "      <th>Time</th>\n",
       "      <th>idx</th>\n",
       "    </tr>\n",
       "  </thead>\n",
       "  <tbody>\n",
       "    <tr>\n",
       "      <th>2064383</th>\n",
       "      <td>401471</td>\n",
       "      <td>2017-12-30 23:55:00</td>\n",
       "      <td>4.0</td>\n",
       "      <td>210.0</td>\n",
       "      <td>60.8</td>\n",
       "      <td>12/30/2017</td>\n",
       "      <td>23:55</td>\n",
       "      <td>3252717</td>\n",
       "    </tr>\n",
       "  </tbody>\n",
       "</table>\n",
       "</div>"
      ],
      "text/plain": [
       "         Station ID             datetime  Occupancy   Flow  Speed        Date  \\\n",
       "2064383      401471  2017-12-30 23:55:00        4.0  210.0   60.8  12/30/2017   \n",
       "\n",
       "          Time      idx  \n",
       "2064383  23:55  3252717  "
      ]
     },
     "execution_count": 26,
     "metadata": {},
     "output_type": "execute_result"
    }
   ],
   "source": [
    "dataset_df_3.tail(1)"
   ]
  },
  {
   "cell_type": "code",
   "execution_count": 71,
   "metadata": {},
   "outputs": [
    {
     "data": {
      "text/html": [
       "<div>\n",
       "<style scoped>\n",
       "    .dataframe tbody tr th:only-of-type {\n",
       "        vertical-align: middle;\n",
       "    }\n",
       "\n",
       "    .dataframe tbody tr th {\n",
       "        vertical-align: top;\n",
       "    }\n",
       "\n",
       "    .dataframe thead th {\n",
       "        text-align: right;\n",
       "    }\n",
       "</style>\n",
       "<table border=\"1\" class=\"dataframe\">\n",
       "  <thead>\n",
       "    <tr style=\"text-align: right;\">\n",
       "      <th></th>\n",
       "      <th>Station ID</th>\n",
       "      <th>datetime</th>\n",
       "      <th>Occupancy</th>\n",
       "      <th>Flow</th>\n",
       "      <th>Speed</th>\n",
       "      <th>Date</th>\n",
       "      <th>Time</th>\n",
       "      <th>idx</th>\n",
       "    </tr>\n",
       "  </thead>\n",
       "  <tbody>\n",
       "    <tr>\n",
       "      <th>0</th>\n",
       "      <td>408907</td>\n",
       "      <td>2017-04-30 00:00:00</td>\n",
       "      <td>0.6</td>\n",
       "      <td>26.0</td>\n",
       "      <td>68.4</td>\n",
       "      <td>04/30/2017</td>\n",
       "      <td>00:00</td>\n",
       "      <td>33395</td>\n",
       "    </tr>\n",
       "  </tbody>\n",
       "</table>\n",
       "</div>"
      ],
      "text/plain": [
       "   Station ID             datetime  Occupancy  Flow  Speed        Date   Time  \\\n",
       "0      408907  2017-04-30 00:00:00        0.6  26.0   68.4  04/30/2017  00:00   \n",
       "\n",
       "     idx  \n",
       "0  33395  "
      ]
     },
     "execution_count": 71,
     "metadata": {},
     "output_type": "execute_result"
    }
   ],
   "source": [
    "concat.head(1)"
   ]
  },
  {
   "cell_type": "code",
   "execution_count": 28,
   "metadata": {},
   "outputs": [
    {
     "data": {
      "text/plain": [
       "[datetime.date(2017, 4, 30), datetime.date(2017, 5, 1)]"
      ]
     },
     "execution_count": 28,
     "metadata": {},
     "output_type": "execute_result"
    }
   ],
   "source": [
    "dates[0:2]"
   ]
  },
  {
   "cell_type": "code",
   "execution_count": 29,
   "metadata": {},
   "outputs": [],
   "source": [
    "dates_format_1 = available_dates_str"
   ]
  },
  {
   "cell_type": "code",
   "execution_count": 30,
   "metadata": {},
   "outputs": [
    {
     "data": {
      "text/plain": [
       "array(['2017-04-30', '2017-05-01', '2017-05-02'], dtype=object)"
      ]
     },
     "execution_count": 30,
     "metadata": {},
     "output_type": "execute_result"
    }
   ],
   "source": [
    "dates_format_1[0:3]"
   ]
  },
  {
   "cell_type": "code",
   "execution_count": 72,
   "metadata": {},
   "outputs": [],
   "source": [
    "dates_format_2 = list(map(lambda x: x.split('-')[1] + \"/\" + x.split('-')[2] + \"/\" + x.split('-')[0], available_dates_str))"
   ]
  },
  {
   "cell_type": "code",
   "execution_count": 73,
   "metadata": {
    "scrolled": true
   },
   "outputs": [
    {
     "data": {
      "text/plain": [
       "['04/30/2017', '05/01/2017', '05/02/2017']"
      ]
     },
     "execution_count": 73,
     "metadata": {},
     "output_type": "execute_result"
    }
   ],
   "source": [
    "dates_format_2[0:3]"
   ]
  },
  {
   "cell_type": "markdown",
   "metadata": {},
   "source": [
    "## Exception found: we want the dates to start from 2017-04-30"
   ]
  },
  {
   "cell_type": "code",
   "execution_count": null,
   "metadata": {},
   "outputs": [],
   "source": [
    "available_dates[0:10]"
   ]
  },
  {
   "cell_type": "code",
   "execution_count": 188,
   "metadata": {},
   "outputs": [],
   "source": [
    "pd.DataFrame(available_dates).to_csv(base_path + \"available_dates.csv\", index=False)"
   ]
  },
  {
   "cell_type": "markdown",
   "metadata": {},
   "source": [
    "## Loading incidents"
   ]
  },
  {
   "cell_type": "markdown",
   "metadata": {},
   "source": [
    "Upstream is of type int, and downstream is of type string, since the last station has no downstream by definition and each road segment has an upstream station."
   ]
  },
  {
   "cell_type": "code",
   "execution_count": 33,
   "metadata": {},
   "outputs": [],
   "source": [
    "incidents = pd.read_csv(base_path + \"incidents.csv\")"
   ]
  },
  {
   "cell_type": "code",
   "execution_count": 76,
   "metadata": {},
   "outputs": [
    {
     "data": {
      "text/plain": [
       "[datetime.date(2017, 4, 30),\n",
       " datetime.date(2017, 5, 1),\n",
       " datetime.date(2017, 5, 2)]"
      ]
     },
     "execution_count": 76,
     "metadata": {},
     "output_type": "execute_result"
    }
   ],
   "source": [
    "dates[0:3]"
   ]
  },
  {
   "cell_type": "code",
   "execution_count": 37,
   "metadata": {},
   "outputs": [
    {
     "data": {
      "text/plain": [
       "6722"
      ]
     },
     "execution_count": 37,
     "metadata": {},
     "output_type": "execute_result"
    }
   ],
   "source": [
    "len(incidents[\"ID\"].values)"
   ]
  },
  {
   "cell_type": "code",
   "execution_count": 38,
   "metadata": {},
   "outputs": [
    {
     "data": {
      "text/plain": [
       "5234"
      ]
     },
     "execution_count": 38,
     "metadata": {},
     "output_type": "execute_result"
    }
   ],
   "source": [
    "len(incidents.loc[incidents[\"Duration\"].apply(lambda x: int(x) >= 5)][\"ID\"].values)"
   ]
  },
  {
   "cell_type": "code",
   "execution_count": 39,
   "metadata": {},
   "outputs": [],
   "source": [
    "valid_incidents = incidents.loc[incidents[\"Duration\"].apply(lambda x: int(x) >= 5)]"
   ]
  },
  {
   "cell_type": "code",
   "execution_count": 40,
   "metadata": {},
   "outputs": [],
   "source": [
    "valid_incidents.to_csv(base_path + \"valid_incidents.csv\")"
   ]
  },
  {
   "cell_type": "markdown",
   "metadata": {},
   "source": [
    "# Is there any temporal correlation in the data?  Visulize data at one station, in one day"
   ]
  },
  {
   "cell_type": "code",
   "execution_count": 41,
   "metadata": {},
   "outputs": [],
   "source": [
    "import matplotlib.pyplot as plt"
   ]
  },
  {
   "cell_type": "code",
   "execution_count": 53,
   "metadata": {},
   "outputs": [],
   "source": [
    "stations = concat[\"Station ID\"].unique()"
   ]
  },
  {
   "cell_type": "markdown",
   "metadata": {},
   "source": [
    "There is a problem here.  The two stations, 417665 and 417666, have records starting from 2007-04-29, and started to collect data on 2007-04-30 (notice that speed, flow and occupancy are all constant on 2007-04-29).  Therefore we discard the data before date 2007-04-29."
   ]
  },
  {
   "cell_type": "code",
   "execution_count": 46,
   "metadata": {},
   "outputs": [
    {
     "data": {
      "text/plain": [
       "5234"
      ]
     },
     "execution_count": 46,
     "metadata": {},
     "output_type": "execute_result"
    }
   ],
   "source": [
    "len(valid_incidents)"
   ]
  },
  {
   "cell_type": "markdown",
   "metadata": {},
   "source": [
    "Finally, there are 224 days of data available for use, and the total number of records for each station is 64512."
   ]
  },
  {
   "cell_type": "code",
   "execution_count": 54,
   "metadata": {},
   "outputs": [
    {
     "data": {
      "text/plain": [
       "102"
      ]
     },
     "execution_count": 54,
     "metadata": {},
     "output_type": "execute_result"
    }
   ],
   "source": [
    "len(stations)"
   ]
  },
  {
   "cell_type": "code",
   "execution_count": 55,
   "metadata": {},
   "outputs": [
    {
     "data": {
      "text/plain": [
       "array([408907, 400951, 400057, 400147, 400343, 401560, 400045, 400122,\n",
       "       401541, 402281])"
      ]
     },
     "execution_count": 55,
     "metadata": {},
     "output_type": "execute_result"
    }
   ],
   "source": [
    "stations[0:10]"
   ]
  },
  {
   "cell_type": "code",
   "execution_count": 115,
   "metadata": {},
   "outputs": [],
   "source": [
    "sample_station = np.random.choice(stations)\n",
    "sample_date, sample_date2 = np.random.choice(dates, 2)"
   ]
  },
  {
   "cell_type": "code",
   "execution_count": 116,
   "metadata": {
    "scrolled": true
   },
   "outputs": [
    {
     "name": "stdout",
     "output_type": "stream",
     "text": [
      "400041 2017-09-13 2017-06-24\n"
     ]
    }
   ],
   "source": [
    "print(sample_station, sample_date, sample_date2)"
   ]
  },
  {
   "cell_type": "code",
   "execution_count": 90,
   "metadata": {},
   "outputs": [
    {
     "data": {
      "text/plain": [
       "array(['04/30/2017', '04/30/2017', '04/30/2017', ..., '12/30/2017',\n",
       "       '12/30/2017', '12/30/2017'], dtype=object)"
      ]
     },
     "execution_count": 90,
     "metadata": {},
     "output_type": "execute_result"
    }
   ],
   "source": [
    "concat[\"Date\"].values"
   ]
  },
  {
   "cell_type": "code",
   "execution_count": 117,
   "metadata": {},
   "outputs": [],
   "source": [
    "sample_df = concat.loc[(concat[\"Station ID\"] == sample_station) & (concat[\"Date\"] == sample_date.strftime(\"%m/%d/%Y\"))]\n",
    "sample_df2 = concat.loc[(concat[\"Station ID\"] == sample_station) & (concat[\"Date\"] == sample_date2.strftime(\"%m/%d/%Y\"))]"
   ]
  },
  {
   "cell_type": "markdown",
   "metadata": {},
   "source": [
    "### Occupancy (%)"
   ]
  },
  {
   "cell_type": "code",
   "execution_count": 102,
   "metadata": {},
   "outputs": [],
   "source": [
    "sample_x = sample_df[\"Time\"].values"
   ]
  },
  {
   "cell_type": "code",
   "execution_count": 118,
   "metadata": {},
   "outputs": [
    {
     "data": {
      "text/plain": [
       "<Figure size 432x288 with 0 Axes>"
      ]
     },
     "metadata": {},
     "output_type": "display_data"
    },
    {
     "data": {
      "image/png": "[encoded data removed]",
      "text/plain": [
       "<Figure size 1152x360 with 2 Axes>"
      ]
     },
     "metadata": {},
     "output_type": "display_data"
    }
   ],
   "source": [
    "sample_occ = sample_df[\"Occupancy\"].values\n",
    "sample_occ2 = sample_df2[\"Occupancy\"].values\n",
    "\n",
    "plt.gcf().clear()\n",
    "fig = plt.figure(figsize=(16, 5))\n",
    "ax = fig.add_subplot(121)\n",
    "ax2 = fig.add_subplot(122)\n",
    "ax.plot(sample_x, sample_occ)\n",
    "ax2.plot(sample_x, sample_occ2)\n",
    "start, end = ax.get_xlim()\n",
    "ax.xaxis.set_ticks(np.arange(start, end, 60))\n",
    "start, end = ax2.get_xlim()\n",
    "ax2.xaxis.set_ticks(np.arange(start, end, 60))\n",
    "\n",
    "plt.show()"
   ]
  },
  {
   "cell_type": "markdown",
   "metadata": {},
   "source": [
    "### Flow (number of cars / 5 minutes)"
   ]
  },
  {
   "cell_type": "code",
   "execution_count": 119,
   "metadata": {},
   "outputs": [
    {
     "data": {
      "text/plain": [
       "<Figure size 432x288 with 0 Axes>"
      ]
     },
     "metadata": {},
     "output_type": "display_data"
    },
    {
     "data": {
      "image/png": "[encoded data removed]",
      "text/plain": [
       "<Figure size 1152x360 with 2 Axes>"
      ]
     },
     "metadata": {},
     "output_type": "display_data"
    }
   ],
   "source": [
    "sample_flow = sample_df[\"Flow\"].values\n",
    "sample_flow2 = sample_df2[\"Flow\"].values\n",
    "\n",
    "plt.gcf().clear()\n",
    "fig = plt.figure(figsize=(16, 5))\n",
    "ax = fig.add_subplot(121)\n",
    "ax2 = fig.add_subplot(122)\n",
    "ax.plot(sample_x, sample_flow)\n",
    "ax2.plot(sample_x, sample_flow2)\n",
    "start, end = ax.get_xlim()\n",
    "ax.xaxis.set_ticks(np.arange(start, end, 60))\n",
    "start, end = ax2.get_xlim()\n",
    "ax2.xaxis.set_ticks(np.arange(start, end, 60))\n",
    "\n",
    "plt.show()"
   ]
  },
  {
   "cell_type": "markdown",
   "metadata": {},
   "source": [
    "### Speed (mph)"
   ]
  },
  {
   "cell_type": "code",
   "execution_count": 120,
   "metadata": {},
   "outputs": [
    {
     "data": {
      "text/plain": [
       "<Figure size 432x288 with 0 Axes>"
      ]
     },
     "metadata": {},
     "output_type": "display_data"
    },
    {
     "data": {
      "image/png": "[encoded data removed]",
      "text/plain": [
       "<Figure size 1152x360 with 2 Axes>"
      ]
     },
     "metadata": {},
     "output_type": "display_data"
    }
   ],
   "source": [
    "sample_speed = sample_df[\"Speed\"].values\n",
    "sample_speed2 = sample_df2[\"Speed\"].values\n",
    "\n",
    "plt.gcf().clear()\n",
    "fig = plt.figure(figsize=(16, 5))\n",
    "ax = fig.add_subplot(121)\n",
    "ax2 = fig.add_subplot(122)\n",
    "ax.plot(sample_x, sample_speed)\n",
    "ax2.plot(sample_x, sample_speed2)\n",
    "start, end = ax.get_xlim()\n",
    "ax.xaxis.set_ticks(np.arange(start, end, 60))\n",
    "start, end = ax2.get_xlim()\n",
    "ax2.xaxis.set_ticks(np.arange(start, end, 60))\n",
    "\n",
    "plt.show()"
   ]
  },
  {
   "cell_type": "markdown",
   "metadata": {},
   "source": [
    "# Bootstrapping data"
   ]
  },
  {
   "cell_type": "markdown",
   "metadata": {},
   "source": [
    "TODO: One idea - we can keep a rational proportion between weekdays and weekends in the sample data."
   ]
  },
  {
   "cell_type": "code",
   "execution_count": 121,
   "metadata": {
    "scrolled": true
   },
   "outputs": [
    {
     "data": {
      "text/plain": [
       "224"
      ]
     },
     "execution_count": 121,
     "metadata": {},
     "output_type": "execute_result"
    }
   ],
   "source": [
    "len(dates)"
   ]
  },
  {
   "cell_type": "code",
   "execution_count": 122,
   "metadata": {},
   "outputs": [],
   "source": [
    "dates_train = np.random.choice(dates, 112)"
   ]
  },
  {
   "cell_type": "code",
   "execution_count": 123,
   "metadata": {},
   "outputs": [],
   "source": [
    "dates_test = list(set(dates).difference(set(dates_train)))\n",
    "dates_test.sort()"
   ]
  },
  {
   "cell_type": "code",
   "execution_count": 124,
   "metadata": {
    "scrolled": true
   },
   "outputs": [
    {
     "data": {
      "text/plain": [
       "(112, 140)"
      ]
     },
     "execution_count": 124,
     "metadata": {},
     "output_type": "execute_result"
    }
   ],
   "source": [
    "len(dates_train), len(dates_test)"
   ]
  },
  {
   "cell_type": "code",
   "execution_count": 125,
   "metadata": {},
   "outputs": [],
   "source": [
    "dates_train_str = list(map(lambda x: x.strftime(\"%m/%d/%Y\"), dates_train))\n",
    "dates_test_str = list(map(lambda x: x.strftime(\"%m/%d/%Y\"), dates_test))\n",
    "dates_train_str.sort()\n",
    "dates_test_str.sort()"
   ]
  },
  {
   "cell_type": "code",
   "execution_count": 126,
   "metadata": {},
   "outputs": [
    {
     "data": {
      "text/plain": [
       "(['04/30/2017', '05/01/2017', '05/01/2017'],\n",
       " ['05/03/2017', '05/04/2017', '05/08/2017'])"
      ]
     },
     "execution_count": 126,
     "metadata": {},
     "output_type": "execute_result"
    }
   ],
   "source": [
    "dates_train_str[:3], dates_test_str[:3]"
   ]
  },
  {
   "cell_type": "code",
   "execution_count": 306,
   "metadata": {},
   "outputs": [],
   "source": [
    "df_train = concat.loc[concat[\"Date\"].isin(dates_train_str)]\n",
    "df_test = concat.loc[concat[\"Date\"].isin(dates_test_str)]"
   ]
  },
  {
   "cell_type": "code",
   "execution_count": 128,
   "metadata": {},
   "outputs": [
    {
     "data": {
      "text/html": [
       "<div>\n",
       "<style scoped>\n",
       "    .dataframe tbody tr th:only-of-type {\n",
       "        vertical-align: middle;\n",
       "    }\n",
       "\n",
       "    .dataframe tbody tr th {\n",
       "        vertical-align: top;\n",
       "    }\n",
       "\n",
       "    .dataframe thead th {\n",
       "        text-align: right;\n",
       "    }\n",
       "</style>\n",
       "<table border=\"1\" class=\"dataframe\">\n",
       "  <thead>\n",
       "    <tr style=\"text-align: right;\">\n",
       "      <th></th>\n",
       "      <th>Station ID</th>\n",
       "      <th>datetime</th>\n",
       "      <th>Occupancy</th>\n",
       "      <th>Flow</th>\n",
       "      <th>Speed</th>\n",
       "      <th>Date</th>\n",
       "      <th>Time</th>\n",
       "      <th>idx</th>\n",
       "    </tr>\n",
       "  </thead>\n",
       "  <tbody>\n",
       "    <tr>\n",
       "      <th>0</th>\n",
       "      <td>408907</td>\n",
       "      <td>2017-04-30 00:00:00</td>\n",
       "      <td>0.6</td>\n",
       "      <td>26.0</td>\n",
       "      <td>68.4</td>\n",
       "      <td>04/30/2017</td>\n",
       "      <td>00:00</td>\n",
       "      <td>33395</td>\n",
       "    </tr>\n",
       "    <tr>\n",
       "      <th>1</th>\n",
       "      <td>408907</td>\n",
       "      <td>2017-04-30 00:05:00</td>\n",
       "      <td>1.1</td>\n",
       "      <td>42.0</td>\n",
       "      <td>67.5</td>\n",
       "      <td>04/30/2017</td>\n",
       "      <td>00:05</td>\n",
       "      <td>33396</td>\n",
       "    </tr>\n",
       "    <tr>\n",
       "      <th>2</th>\n",
       "      <td>408907</td>\n",
       "      <td>2017-04-30 00:10:00</td>\n",
       "      <td>1.0</td>\n",
       "      <td>41.0</td>\n",
       "      <td>68.1</td>\n",
       "      <td>04/30/2017</td>\n",
       "      <td>00:10</td>\n",
       "      <td>33397</td>\n",
       "    </tr>\n",
       "  </tbody>\n",
       "</table>\n",
       "</div>"
      ],
      "text/plain": [
       "   Station ID             datetime  Occupancy  Flow  Speed        Date   Time  \\\n",
       "0      408907  2017-04-30 00:00:00        0.6  26.0   68.4  04/30/2017  00:00   \n",
       "1      408907  2017-04-30 00:05:00        1.1  42.0   67.5  04/30/2017  00:05   \n",
       "2      408907  2017-04-30 00:10:00        1.0  41.0   68.1  04/30/2017  00:10   \n",
       "\n",
       "     idx  \n",
       "0  33395  \n",
       "1  33396  \n",
       "2  33397  "
      ]
     },
     "execution_count": 128,
     "metadata": {},
     "output_type": "execute_result"
    }
   ],
   "source": [
    "df_train.head(3)"
   ]
  },
  {
   "cell_type": "code",
   "execution_count": 129,
   "metadata": {},
   "outputs": [
    {
     "data": {
      "text/html": [
       "<div>\n",
       "<style scoped>\n",
       "    .dataframe tbody tr th:only-of-type {\n",
       "        vertical-align: middle;\n",
       "    }\n",
       "\n",
       "    .dataframe tbody tr th {\n",
       "        vertical-align: top;\n",
       "    }\n",
       "\n",
       "    .dataframe thead th {\n",
       "        text-align: right;\n",
       "    }\n",
       "</style>\n",
       "<table border=\"1\" class=\"dataframe\">\n",
       "  <thead>\n",
       "    <tr style=\"text-align: right;\">\n",
       "      <th></th>\n",
       "      <th>Station ID</th>\n",
       "      <th>datetime</th>\n",
       "      <th>Occupancy</th>\n",
       "      <th>Flow</th>\n",
       "      <th>Speed</th>\n",
       "      <th>Date</th>\n",
       "      <th>Time</th>\n",
       "      <th>idx</th>\n",
       "    </tr>\n",
       "  </thead>\n",
       "  <tbody>\n",
       "    <tr>\n",
       "      <th>864</th>\n",
       "      <td>408907</td>\n",
       "      <td>2017-05-03 00:00:00</td>\n",
       "      <td>0.7</td>\n",
       "      <td>27.0</td>\n",
       "      <td>67.3</td>\n",
       "      <td>05/03/2017</td>\n",
       "      <td>00:00</td>\n",
       "      <td>34259</td>\n",
       "    </tr>\n",
       "    <tr>\n",
       "      <th>865</th>\n",
       "      <td>408907</td>\n",
       "      <td>2017-05-03 00:05:00</td>\n",
       "      <td>0.8</td>\n",
       "      <td>32.0</td>\n",
       "      <td>68.5</td>\n",
       "      <td>05/03/2017</td>\n",
       "      <td>00:05</td>\n",
       "      <td>34260</td>\n",
       "    </tr>\n",
       "    <tr>\n",
       "      <th>866</th>\n",
       "      <td>408907</td>\n",
       "      <td>2017-05-03 00:10:00</td>\n",
       "      <td>0.4</td>\n",
       "      <td>13.0</td>\n",
       "      <td>67.7</td>\n",
       "      <td>05/03/2017</td>\n",
       "      <td>00:10</td>\n",
       "      <td>34261</td>\n",
       "    </tr>\n",
       "  </tbody>\n",
       "</table>\n",
       "</div>"
      ],
      "text/plain": [
       "     Station ID             datetime  Occupancy  Flow  Speed        Date  \\\n",
       "864      408907  2017-05-03 00:00:00        0.7  27.0   67.3  05/03/2017   \n",
       "865      408907  2017-05-03 00:05:00        0.8  32.0   68.5  05/03/2017   \n",
       "866      408907  2017-05-03 00:10:00        0.4  13.0   67.7  05/03/2017   \n",
       "\n",
       "      Time    idx  \n",
       "864  00:00  34259  \n",
       "865  00:05  34260  \n",
       "866  00:10  34261  "
      ]
     },
     "execution_count": 129,
     "metadata": {},
     "output_type": "execute_result"
    }
   ],
   "source": [
    "df_test.head(3)"
   ]
  },
  {
   "cell_type": "markdown",
   "metadata": {},
   "source": [
    "## Step 1.  DES: Tune and save parameters for each variable, and each detector station"
   ]
  },
  {
   "cell_type": "markdown",
   "metadata": {},
   "source": [
    "$$S_1(t) = \\alpha X(i,t) + (1 - \\alpha) S_1(t-1)$$\n",
    "$$S_2(t) = \\alpha S_1(t) + (1 - \\alpha) S_2(t-1)$$\n",
    "$$A(t) = 2S_1(t) - S_2(t)$$\n",
    "$$B(t) = \\frac{\\alpha}{1 - \\alpha} [S_1(t) - S_2(t)]$$\n",
    "and finally,\n",
    "$$Y(i, t+1) = A(i, t) + B(i, t),$$\n",
    "where $i$ denotes a detector station named $i$."
   ]
  },
  {
   "cell_type": "markdown",
   "metadata": {},
   "source": [
    "### How to define \"normal days\" for a detector?"
   ]
  },
  {
   "cell_type": "markdown",
   "metadata": {},
   "source": [
    "Of course a \"normal\" day is a day when no incident happens and the traffic state at the detector station is normal overall.  But how can we determine a normal day?"
   ]
  },
  {
   "cell_type": "markdown",
   "metadata": {},
   "source": [
    "Suppose a lane-blocking incident happens between two adjacent road segments B (upstream) and E (downstream).  Then B and E are both likely to be affected because the occupancy at B may increase and E decrease in a short time.  Hence at present, let's suppose both B and E are affected, and the rest upstream and downstream stations are unaffected."
   ]
  },
  {
   "cell_type": "code",
   "execution_count": 130,
   "metadata": {},
   "outputs": [],
   "source": [
    "station = np.random.choice(stations)"
   ]
  },
  {
   "cell_type": "code",
   "execution_count": 131,
   "metadata": {},
   "outputs": [
    {
     "data": {
      "text/plain": [
       "402800"
      ]
     },
     "execution_count": 131,
     "metadata": {},
     "output_type": "execute_result"
    }
   ],
   "source": [
    "station"
   ]
  },
  {
   "cell_type": "code",
   "execution_count": 132,
   "metadata": {},
   "outputs": [],
   "source": [
    "abnormal_dates_station = incidents.loc[(incidents[\"Upstream\"] == station) | (incidents[\"Downstream\"] == str(station))][\"Date\"].unique()\n",
    "normal_dates_train = list(set(dates_train).difference(set(abnormal_dates_station)))\n",
    "normal_dates_train.sort()\n",
    "normal_dates_train_str = list(map(lambda x: x.strftime(\"%m/%d/%Y\"), normal_dates_train))\n",
    "df_train_station = df_train.loc[(df_train[\"Station ID\"] == station) & (df_train[\"Date\"].isin(normal_dates_train_str))]"
   ]
  },
  {
   "cell_type": "code",
   "execution_count": 133,
   "metadata": {
    "scrolled": true
   },
   "outputs": [
    {
     "data": {
      "text/html": [
       "<div>\n",
       "<style scoped>\n",
       "    .dataframe tbody tr th:only-of-type {\n",
       "        vertical-align: middle;\n",
       "    }\n",
       "\n",
       "    .dataframe tbody tr th {\n",
       "        vertical-align: top;\n",
       "    }\n",
       "\n",
       "    .dataframe thead th {\n",
       "        text-align: right;\n",
       "    }\n",
       "</style>\n",
       "<table border=\"1\" class=\"dataframe\">\n",
       "  <thead>\n",
       "    <tr style=\"text-align: right;\">\n",
       "      <th></th>\n",
       "      <th>Station ID</th>\n",
       "      <th>datetime</th>\n",
       "      <th>Occupancy</th>\n",
       "      <th>Flow</th>\n",
       "      <th>Speed</th>\n",
       "      <th>Date</th>\n",
       "      <th>Time</th>\n",
       "      <th>idx</th>\n",
       "    </tr>\n",
       "  </thead>\n",
       "  <tbody>\n",
       "    <tr>\n",
       "      <th>1419264</th>\n",
       "      <td>402800</td>\n",
       "      <td>2017-04-30 00:00:00</td>\n",
       "      <td>2.5</td>\n",
       "      <td>218.0</td>\n",
       "      <td>72.4</td>\n",
       "      <td>04/30/2017</td>\n",
       "      <td>00:00</td>\n",
       "      <td>2269619</td>\n",
       "    </tr>\n",
       "    <tr>\n",
       "      <th>1419265</th>\n",
       "      <td>402800</td>\n",
       "      <td>2017-04-30 00:05:00</td>\n",
       "      <td>1.8</td>\n",
       "      <td>151.0</td>\n",
       "      <td>72.1</td>\n",
       "      <td>04/30/2017</td>\n",
       "      <td>00:05</td>\n",
       "      <td>2269620</td>\n",
       "    </tr>\n",
       "    <tr>\n",
       "      <th>1419266</th>\n",
       "      <td>402800</td>\n",
       "      <td>2017-04-30 00:10:00</td>\n",
       "      <td>2.1</td>\n",
       "      <td>173.0</td>\n",
       "      <td>71.3</td>\n",
       "      <td>04/30/2017</td>\n",
       "      <td>00:10</td>\n",
       "      <td>2269621</td>\n",
       "    </tr>\n",
       "    <tr>\n",
       "      <th>1419267</th>\n",
       "      <td>402800</td>\n",
       "      <td>2017-04-30 00:15:00</td>\n",
       "      <td>2.0</td>\n",
       "      <td>173.0</td>\n",
       "      <td>72.0</td>\n",
       "      <td>04/30/2017</td>\n",
       "      <td>00:15</td>\n",
       "      <td>2269622</td>\n",
       "    </tr>\n",
       "    <tr>\n",
       "      <th>1419268</th>\n",
       "      <td>402800</td>\n",
       "      <td>2017-04-30 00:20:00</td>\n",
       "      <td>2.0</td>\n",
       "      <td>172.0</td>\n",
       "      <td>71.7</td>\n",
       "      <td>04/30/2017</td>\n",
       "      <td>00:20</td>\n",
       "      <td>2269623</td>\n",
       "    </tr>\n",
       "  </tbody>\n",
       "</table>\n",
       "</div>"
      ],
      "text/plain": [
       "         Station ID             datetime  Occupancy   Flow  Speed        Date  \\\n",
       "1419264      402800  2017-04-30 00:00:00        2.5  218.0   72.4  04/30/2017   \n",
       "1419265      402800  2017-04-30 00:05:00        1.8  151.0   72.1  04/30/2017   \n",
       "1419266      402800  2017-04-30 00:10:00        2.1  173.0   71.3  04/30/2017   \n",
       "1419267      402800  2017-04-30 00:15:00        2.0  173.0   72.0  04/30/2017   \n",
       "1419268      402800  2017-04-30 00:20:00        2.0  172.0   71.7  04/30/2017   \n",
       "\n",
       "          Time      idx  \n",
       "1419264  00:00  2269619  \n",
       "1419265  00:05  2269620  \n",
       "1419266  00:10  2269621  \n",
       "1419267  00:15  2269622  \n",
       "1419268  00:20  2269623  "
      ]
     },
     "execution_count": 133,
     "metadata": {},
     "output_type": "execute_result"
    }
   ],
   "source": [
    "df_train_station.head(5)"
   ]
  },
  {
   "cell_type": "code",
   "execution_count": 240,
   "metadata": {},
   "outputs": [],
   "source": [
    "var_name = \"Speed\"\n",
    "var_series = df_train_station[var_name].values"
   ]
  },
  {
   "cell_type": "code",
   "execution_count": 241,
   "metadata": {},
   "outputs": [
    {
     "data": {
      "text/plain": [
       "array([68.7, 70.4, 70.3, 70.9, 65.5])"
      ]
     },
     "execution_count": 241,
     "metadata": {},
     "output_type": "execute_result"
    }
   ],
   "source": [
    "var_series[:5]"
   ]
  },
  {
   "cell_type": "code",
   "execution_count": 196,
   "metadata": {},
   "outputs": [],
   "source": [
    "# initialize data using the first ten points\n",
    "alphas = np.arange(1000) / 1000.\n",
    "# for each alpha, perform exponential smoothing, and compute RMSE\n",
    "alpha = np.random.choice(alphas)\n",
    "beta = round(1. - alpha, 3)"
   ]
  },
  {
   "cell_type": "code",
   "execution_count": 197,
   "metadata": {},
   "outputs": [
    {
     "data": {
      "text/plain": [
       "(0.074, 0.926)"
      ]
     },
     "execution_count": 197,
     "metadata": {},
     "output_type": "execute_result"
    }
   ],
   "source": [
    "alpha, beta"
   ]
  },
  {
   "cell_type": "code",
   "execution_count": 261,
   "metadata": {},
   "outputs": [],
   "source": [
    "alpha = .7\n",
    "beta = .3"
   ]
  },
  {
   "cell_type": "code",
   "execution_count": 256,
   "metadata": {
    "scrolled": true
   },
   "outputs": [
    {
     "data": {
      "text/plain": [
       "24192"
      ]
     },
     "execution_count": 256,
     "metadata": {},
     "output_type": "execute_result"
    }
   ],
   "source": [
    "len(var_series)"
   ]
  },
  {
   "cell_type": "code",
   "execution_count": 262,
   "metadata": {},
   "outputs": [],
   "source": [
    "sse = 0.\n",
    "s1 = [0.] * len(var_series)\n",
    "s2 = [0.] * len(var_series)\n",
    "y = [0.] * len(var_series)\n",
    "# initialize values\n",
    "s1[10] = np.mean(var_series[:10])\n",
    "s2[10] = s1[10]\n",
    "for i in range(11, len(var_series) - 1):\n",
    "    s1[i] = alpha * var_series[i] + beta * s1[i-1]\n",
    "    s2[i] = alpha * s1[i] + beta * s2[i-1]\n",
    "    y[i+1] = 2 * s1[i] - s2[i] + alpha / beta * (s1[i] - s2[i])\n",
    "    sse += (var_series[i+1] - y[i+1]) ** 2"
   ]
  },
  {
   "cell_type": "code",
   "execution_count": 263,
   "metadata": {},
   "outputs": [],
   "source": [
    "# compute RMSE\n",
    "diff = var_series - y\n",
    "diff = diff[12:len(var_series)]"
   ]
  },
  {
   "cell_type": "code",
   "execution_count": 264,
   "metadata": {},
   "outputs": [
    {
     "data": {
      "text/plain": [
       "3.0259644677551067"
      ]
     },
     "execution_count": 264,
     "metadata": {},
     "output_type": "execute_result"
    }
   ],
   "source": [
    "rmse = np.sqrt( np.mean(diff ** 2) )\n",
    "rmse"
   ]
  },
  {
   "cell_type": "code",
   "execution_count": 266,
   "metadata": {},
   "outputs": [
    {
     "data": {
      "image/png": "[encoded data removed]",
      "text/plain": [
       "<Figure size 720x576 with 1 Axes>"
      ]
     },
     "metadata": {},
     "output_type": "display_data"
    }
   ],
   "source": [
    "u.plot_time_series(var_series[20300:20900], y[20300:20900], X_label=\"X\", Y_label=\"Y\")"
   ]
  },
  {
   "cell_type": "code",
   "execution_count": 224,
   "metadata": {},
   "outputs": [
    {
     "data": {
      "text/plain": [
       "2.0930696264644015"
      ]
     },
     "execution_count": 224,
     "metadata": {},
     "output_type": "execute_result"
    }
   ],
   "source": [
    "np.sqrt( sse/ (len(var_series) - 12) )"
   ]
  },
  {
   "cell_type": "markdown",
   "metadata": {},
   "source": [
    "*TODO*: We don't actually need the vectors s1, s2 and y to get rmse.  Implement a memory-efficient solution."
   ]
  },
  {
   "cell_type": "markdown",
   "metadata": {},
   "source": [
    "### Memory-efficient form"
   ]
  },
  {
   "cell_type": "code",
   "execution_count": 225,
   "metadata": {},
   "outputs": [],
   "source": [
    "sse = 0.\n",
    "s1 = np.mean(var_series[:10])\n",
    "s2 = s1\n",
    "y = None\n",
    "for i in range(11, len(var_series) - 1):\n",
    "    s1 = alpha * var_series[i] + beta * s1\n",
    "    s2 = alpha * s1 + beta * s2\n",
    "    y_next = 2 * s1 - s2 + alpha / beta * (s1 - s2)\n",
    "    sse += (var_series[i+1] - y_next) ** 2"
   ]
  },
  {
   "cell_type": "code",
   "execution_count": 226,
   "metadata": {},
   "outputs": [
    {
     "data": {
      "text/plain": [
       "2.0930696264644015"
      ]
     },
     "execution_count": 226,
     "metadata": {},
     "output_type": "execute_result"
    }
   ],
   "source": [
    "np.sqrt( sse/ (len(var_series) - 12) )"
   ]
  },
  {
   "cell_type": "markdown",
   "metadata": {},
   "source": [
    "## Put the above code together!"
   ]
  },
  {
   "cell_type": "markdown",
   "metadata": {},
   "source": [
    "We also want to save the best alphas for each variable. Use a dictionary, transform it to pandas dataframe, and save to csv."
   ]
  },
  {
   "cell_type": "code",
   "execution_count": 146,
   "metadata": {},
   "outputs": [],
   "source": [
    "var_names = [\"Speed\", \"Flow\", \"Occupancy\"]"
   ]
  },
  {
   "cell_type": "code",
   "execution_count": 227,
   "metadata": {},
   "outputs": [],
   "source": [
    "def DES_rmse(alpha, var_series):\n",
    "    len_series = len(var_series)\n",
    "    \n",
    "    beta = round(1. - alpha, 3)\n",
    "\n",
    "    sse = 0.\n",
    "    s1 = np.mean(var_series[:10])\n",
    "    s2 = s1\n",
    "    \n",
    "    for i in range(11, len_series - 1):\n",
    "        s1 = alpha * var_series[i] + beta * s1\n",
    "        s2 = alpha * s1 + beta * s2\n",
    "        y_next = 2 * s1 - s2 + alpha / beta * (s1 - s2)\n",
    "        sse += (var_series[i+1] - y_next) ** 2\n",
    "    \n",
    "    return np.sqrt( sse / (len_series - 12) )"
   ]
  },
  {
   "cell_type": "code",
   "execution_count": 228,
   "metadata": {},
   "outputs": [
    {
     "data": {
      "text/plain": [
       "2.0930696264644015"
      ]
     },
     "execution_count": 228,
     "metadata": {},
     "output_type": "execute_result"
    }
   ],
   "source": [
    "DES_rmse(alpha, var_series)"
   ]
  },
  {
   "cell_type": "code",
   "execution_count": 237,
   "metadata": {},
   "outputs": [
    {
     "data": {
      "text/plain": [
       "2.093069626464403"
      ]
     },
     "execution_count": 237,
     "metadata": {},
     "output_type": "execute_result"
    }
   ],
   "source": [
    "DES_rmse_vector(alpha, var_series)"
   ]
  },
  {
   "cell_type": "code",
   "execution_count": 236,
   "metadata": {},
   "outputs": [],
   "source": [
    "def DES_rmse_vector(alpha, var_series):\n",
    "    len_series = len(var_series)\n",
    "    \n",
    "    beta = round(1. - alpha, 3)\n",
    "    s1 = [0.] * len_series\n",
    "    s2 = [0.] * len_series\n",
    "    y = [0.] * len_series\n",
    "\n",
    "    # initialize values\n",
    "    s1[10] = np.mean(var_series[:10])\n",
    "    s2[10] = s1[10]\n",
    "    \n",
    "    # time series prediction\n",
    "    for t in range(11, len_series - 1):\n",
    "        s1[t] = alpha * var_series[t] + beta * s1[t-1]\n",
    "        s2[t] = alpha * s1[t] + beta * s2[t-1]\n",
    "        y[t+1] = 2 * s1[t] - s2[t] + alpha / beta * (s1[t] - s2[t])\n",
    "\n",
    "    # compute RMSE\n",
    "        diff = var_series - y\n",
    "        diff = diff[12:len(var_series)]\n",
    "        rmse = np.sqrt( np.mean(diff ** 2) )\n",
    "    \n",
    "    return rmse"
   ]
  },
  {
   "cell_type": "code",
   "execution_count": 238,
   "metadata": {
    "scrolled": true
   },
   "outputs": [
    {
     "name": "stdout",
     "output_type": "stream",
     "text": [
      "408907\n",
      "408907 0.7 0.2 0.5\n",
      "400951\n",
      "400951 0.7 0.2 0.5\n",
      "400057\n",
      "400057 0.7 0.2 0.4\n",
      "400147\n",
      "400147 0.7 0.2 0.4\n",
      "400343\n",
      "400343 0.7 0.2 0.4\n",
      "401560\n",
      "401560 0.6 0.2 0.3\n",
      "400045\n",
      "400045 0.7 0.2 0.3\n",
      "400122\n",
      "400122 0.7 0.3 0.4\n",
      "401541\n",
      "401541 0.6 0.2 0.3\n",
      "402281\n",
      "402281 0.5 0.2 0.3\n",
      "402283\n",
      "402283 0.4 0.2 0.3\n",
      "402285\n",
      "402285 0.5 0.2 0.3\n",
      "402286\n",
      "402286 0.4 0.2 0.2\n",
      "400088\n",
      "400088 0.4 0.2 0.2\n",
      "402288\n",
      "402288 0.4 0.2 0.2\n",
      "413026\n",
      "413026 0.5 0.2 0.4\n",
      "401464\n",
      "401464 0.6 0.2 0.4\n",
      "401489\n",
      "401489 0.6 0.2 0.5\n",
      "401538\n",
      "401538 0.4 0.2 0.3\n",
      "402290\n",
      "402290 0.5 0.2 0.4\n",
      "402292\n",
      "402292 0.6 0.2 0.4\n",
      "401643\n",
      "401643 0.7 0.2 0.4\n",
      "402800\n",
      "402800 0.5 0.3 0.3\n",
      "402828\n",
      "402828 0.7 0.2 0.3\n",
      "407219\n",
      "407219 0.6 0.2 0.3\n",
      "402789\n",
      "402789 0.6 0.2 0.3\n",
      "408755\n",
      "408755 0.7 0.2 0.3\n",
      "402802\n",
      "402802 0.6 0.1 0.2\n",
      "408756\n",
      "408756 0.7 0.2 0.3\n",
      "400189\n",
      "400189 0.6 0.2 0.3\n",
      "400309\n",
      "400309 0.6 0.2 0.3\n",
      "400417\n",
      "400417 0.5 0.2 0.3\n",
      "400249\n",
      "400249 0.7 0.2 0.4\n",
      "401639\n",
      "401639 0.8 0.2 0.5\n",
      "400662\n",
      "400662 0.6 0.2 0.3\n",
      "400141\n",
      "400141 0.6 0.2 0.3\n",
      "400761\n",
      "400761 0.6 0.2 0.3\n",
      "400490\n",
      "400490 0.5 0.2 0.3\n",
      "401888\n",
      "401888 0.6 0.1 0.2\n",
      "400137\n",
      "400137 0.7 0.2 0.3\n",
      "400716\n",
      "400716 0.6 0.2 0.3\n",
      "401545\n",
      "401545 0.5 0.2 0.3\n",
      "401011\n",
      "401011 0.6 0.2 0.4\n",
      "400674\n",
      "400674 0.6 0.2 0.3\n",
      "400539\n",
      "400539 0.6 0.2 0.3\n",
      "400534\n",
      "400534 0.7 0.2 0.3\n",
      "401062\n",
      "401062 0.6 0.2 0.3\n",
      "401529\n",
      "401529 0.6 0.2 0.2\n",
      "401613\n",
      "401613 0.6 0.2 0.2\n",
      "400536\n",
      "400536 0.5 0.2 0.3\n",
      "400488\n",
      "400488 0.8 0.2 0.4\n",
      "401561\n",
      "401561 0.6 0.2 0.4\n",
      "400611\n",
      "400611 0.6 0.2 0.3\n",
      "400928\n",
      "400928 0.6 0.2 0.3\n",
      "400284\n",
      "400284 0.6 0.2 0.3\n",
      "400041\n",
      "400041 0.6 0.2 0.3\n",
      "408133\n",
      "408133 0.5 0.2 0.3\n",
      "408135\n",
      "408135 0.6 0.2 0.3\n",
      "417665\n",
      "417665 0.6 0.2 0.4\n",
      "412637\n",
      "412637 0.7 0.2 0.4\n",
      "417666\n",
      "417666 0.7 0.2 0.4\n",
      "408134\n",
      "408134 0.6 0.2 0.4\n",
      "400685\n"
     ]
    },
    {
     "ename": "KeyboardInterrupt",
     "evalue": "",
     "output_type": "error",
     "traceback": [
      "\u001b[0;31m---------------------------------------------------------------------------\u001b[0m",
      "\u001b[0;31mKeyboardInterrupt\u001b[0m                         Traceback (most recent call last)",
      "\u001b[0;32m<ipython-input-238-7de028aea6bd>\u001b[0m in \u001b[0;36m<module>\u001b[0;34m()\u001b[0m\n\u001b[1;32m     43\u001b[0m                 \u001b[0ms1\u001b[0m\u001b[0;34m[\u001b[0m\u001b[0mt\u001b[0m\u001b[0;34m]\u001b[0m \u001b[0;34m=\u001b[0m \u001b[0malpha\u001b[0m \u001b[0;34m*\u001b[0m \u001b[0mvar_series\u001b[0m\u001b[0;34m[\u001b[0m\u001b[0mt\u001b[0m\u001b[0;34m]\u001b[0m \u001b[0;34m+\u001b[0m \u001b[0mbeta\u001b[0m \u001b[0;34m*\u001b[0m \u001b[0ms1\u001b[0m\u001b[0;34m[\u001b[0m\u001b[0mt\u001b[0m\u001b[0;34m-\u001b[0m\u001b[0;36m1\u001b[0m\u001b[0;34m]\u001b[0m\u001b[0;34m\u001b[0m\u001b[0m\n\u001b[1;32m     44\u001b[0m                 \u001b[0ms2\u001b[0m\u001b[0;34m[\u001b[0m\u001b[0mt\u001b[0m\u001b[0;34m]\u001b[0m \u001b[0;34m=\u001b[0m \u001b[0malpha\u001b[0m \u001b[0;34m*\u001b[0m \u001b[0ms1\u001b[0m\u001b[0;34m[\u001b[0m\u001b[0mt\u001b[0m\u001b[0;34m]\u001b[0m \u001b[0;34m+\u001b[0m \u001b[0mbeta\u001b[0m \u001b[0;34m*\u001b[0m \u001b[0ms2\u001b[0m\u001b[0;34m[\u001b[0m\u001b[0mt\u001b[0m\u001b[0;34m-\u001b[0m\u001b[0;36m1\u001b[0m\u001b[0;34m]\u001b[0m\u001b[0;34m\u001b[0m\u001b[0m\n\u001b[0;32m---> 45\u001b[0;31m                 \u001b[0my\u001b[0m\u001b[0;34m[\u001b[0m\u001b[0mt\u001b[0m\u001b[0;34m+\u001b[0m\u001b[0;36m1\u001b[0m\u001b[0;34m]\u001b[0m \u001b[0;34m=\u001b[0m \u001b[0;36m2\u001b[0m \u001b[0;34m*\u001b[0m \u001b[0ms1\u001b[0m\u001b[0;34m[\u001b[0m\u001b[0mt\u001b[0m\u001b[0;34m]\u001b[0m \u001b[0;34m-\u001b[0m \u001b[0ms2\u001b[0m\u001b[0;34m[\u001b[0m\u001b[0mt\u001b[0m\u001b[0;34m]\u001b[0m \u001b[0;34m+\u001b[0m \u001b[0malpha\u001b[0m \u001b[0;34m/\u001b[0m \u001b[0mbeta\u001b[0m \u001b[0;34m*\u001b[0m \u001b[0;34m(\u001b[0m\u001b[0ms1\u001b[0m\u001b[0;34m[\u001b[0m\u001b[0mt\u001b[0m\u001b[0;34m]\u001b[0m \u001b[0;34m-\u001b[0m \u001b[0ms2\u001b[0m\u001b[0;34m[\u001b[0m\u001b[0mt\u001b[0m\u001b[0;34m]\u001b[0m\u001b[0;34m)\u001b[0m\u001b[0;34m\u001b[0m\u001b[0m\n\u001b[0m\u001b[1;32m     46\u001b[0m \u001b[0;34m\u001b[0m\u001b[0m\n\u001b[1;32m     47\u001b[0m             \u001b[0;31m# compute RMSE\u001b[0m\u001b[0;34m\u001b[0m\u001b[0;34m\u001b[0m\u001b[0m\n",
      "\u001b[0;31mKeyboardInterrupt\u001b[0m: "
     ]
    }
   ],
   "source": [
    "best_alphas = {\n",
    "    'Station ID': [],\n",
    "    'Speed': [],\n",
    "    'Flow': [],\n",
    "    'Occupancy': []\n",
    "}\n",
    "num_grids = 10\n",
    "for i, station in enumerate(stations):\n",
    "    best_alphas['Station ID'].append(station)\n",
    "    \n",
    "    # update current training station dataframe, the training data is normal day's data\n",
    "    abnormal_dates_station = incidents.loc[(incidents[\"Upstream\"] == station) | (incidents[\"Downstream\"] == str(station))][\"Date\"].unique()\n",
    "    normal_dates_train = list(set(dates_train).difference(set(abnormal_dates_station)))\n",
    "    normal_dates_train_str = list(map(lambda x: x.strftime(\"%m/%d/%Y\"), normal_dates_train))\n",
    "    df_train_station = df_train.loc[(df_train[\"Station ID\"] == station) & (df_train[\"Date\"].isin(normal_dates_train_str))]\n",
    "\n",
    "    df_train_station = df_train.loc[df_train[\"Station ID\"] == station]\n",
    "    print(station)\n",
    "    for var_name in var_names:\n",
    "        var_series = df_train_station[var_name].values\n",
    "        len_series = len(var_series)\n",
    "        \n",
    "        # setting up alphas\n",
    "        alphas = np.arange(num_grids) * 1. / num_grids\n",
    "        \n",
    "        # save the historical best alpha by rmse\n",
    "        best_rmse = float(\"inf\")\n",
    "        best_alpha = 0.\n",
    "        \n",
    "        # for each alpha, perform exponential smoothing, and compute RMSE\n",
    "        for alpha in alphas:\n",
    "            beta = round(1. - alpha, 3)\n",
    "            s1 = [0.] * len_series\n",
    "            s2 = [0.] * len_series\n",
    "            y = [0.] * len_series\n",
    "            \n",
    "            # initialize values\n",
    "            s1[10] = np.mean(var_series[:10])\n",
    "            s2[10] = s1[10]\n",
    "            \n",
    "            # time series prediction\n",
    "            for t in range(11, len_series-1):\n",
    "                s1[t] = alpha * var_series[t] + beta * s1[t-1]\n",
    "                s2[t] = alpha * s1[t] + beta * s2[t-1]\n",
    "                y[t+1] = 2 * s1[t] - s2[t] + alpha / beta * (s1[t] - s2[t])\n",
    "            \n",
    "            # compute RMSE\n",
    "            diff = var_series - y\n",
    "            diff = diff[12:len(var_series)]\n",
    "            rmse = np.sqrt( np.mean(diff ** 2) )\n",
    "            \n",
    "            # compare, and decide whether to update best alpha\n",
    "            if rmse < best_rmse:\n",
    "                best_rmse = rmse\n",
    "                best_alpha = alpha\n",
    "        \n",
    "        # finally, save the best alpha for the variable at this station\n",
    "        best_alphas[var_name].append(best_alpha)\n",
    "    \n",
    "    # print trained alphas for each station\n",
    "    print(best_alphas['Station ID'][i], best_alphas['Speed'][i], best_alphas['Flow'][i], best_alphas['Occupancy'][i])"
   ]
  },
  {
   "cell_type": "markdown",
   "metadata": {},
   "source": [
    "### Memory-efficient version"
   ]
  },
  {
   "cell_type": "markdown",
   "metadata": {},
   "source": [
    "The time needed to find optimal alpha for three traffic variables at one single detector station is approximately 2 minutes."
   ]
  },
  {
   "cell_type": "code",
   "execution_count": 267,
   "metadata": {
    "scrolled": true
   },
   "outputs": [
    {
     "name": "stdout",
     "output_type": "stream",
     "text": [
      "408907\n",
      "408907 0.72 0.201 0.525\n",
      "400951\n",
      "400951 0.742 0.212 0.524\n",
      "400057\n",
      "400057 0.738 0.218 0.443\n",
      "400147\n",
      "400147 0.724 0.235 0.419\n",
      "400343\n",
      "400343 0.683 0.239 0.363\n",
      "401560\n",
      "401560 0.592 0.177 0.319\n",
      "400045\n",
      "400045 0.679 0.182 0.279\n",
      "400122\n",
      "400122 0.704 0.255 0.407\n",
      "401541\n",
      "401541 0.641 0.225 0.292\n",
      "402281\n",
      "402281 0.534 0.214 0.295\n",
      "402283\n",
      "402283 0.441 0.228 0.305\n",
      "402285\n",
      "402285 0.528 0.184 0.281\n",
      "402286\n",
      "402286 0.448 0.193 0.186\n",
      "400088\n",
      "400088 0.425 0.184 0.169\n",
      "402288\n",
      "402288 0.394 0.241 0.161\n",
      "413026\n",
      "413026 0.506 0.173 0.382\n",
      "401464\n",
      "401464 0.572 0.198 0.427\n",
      "401489\n",
      "401489 0.61 0.209 0.451\n",
      "401538\n",
      "401538 0.371 0.208 0.337\n",
      "402290\n",
      "402290 0.539 0.211 0.392\n",
      "402292\n",
      "402292 0.628 0.22 0.383\n",
      "401643\n",
      "401643 0.696 0.232 0.404\n",
      "402800\n",
      "402800 0.52 0.253 0.29\n",
      "402828\n",
      "402828 0.68 0.191 0.326\n",
      "407219\n",
      "407219 0.56 0.194 0.295\n",
      "402789\n",
      "402789 0.598 0.244 0.321\n",
      "408755\n",
      "408755 0.714 0.217 0.34\n",
      "402802\n",
      "402802 0.565 0.136 0.206\n",
      "408756\n",
      "408756 0.696 0.211 0.345\n",
      "400189\n",
      "400189 0.588 0.208 0.268\n",
      "400309\n",
      "400309 0.6 0.21 0.302\n",
      "400417\n",
      "400417 0.514 0.189 0.298\n",
      "400249\n",
      "400249 0.732 0.212 0.412\n",
      "401639\n",
      "401639 0.753 0.214 0.458\n",
      "400662\n",
      "400662 0.594 0.21 0.265\n",
      "400141\n",
      "400141 0.55 0.2 0.298\n",
      "400761\n",
      "400761 0.632 0.198 0.326\n",
      "400490\n",
      "400490 0.535 0.196 0.328\n",
      "401888\n",
      "401888 0.578 0.126 0.244\n",
      "400137\n",
      "400137 0.66 0.195 0.3\n",
      "400716\n",
      "400716 0.559 0.195 0.305\n",
      "401545\n",
      "401545 0.538 0.158 0.29\n",
      "401011\n",
      "401011 0.645 0.176 0.357\n",
      "400674\n",
      "400674 0.645 0.203 0.318\n",
      "400539\n",
      "400539 0.555 0.213 0.317\n",
      "400534\n",
      "400534 0.662 0.202 0.269\n",
      "401062\n",
      "401062 0.596 0.186 0.284\n",
      "401529\n",
      "401529 0.604 0.185 0.238\n",
      "401613\n",
      "401613 0.564 0.182 0.24\n",
      "400536\n",
      "400536 0.518 0.208 0.32\n",
      "400488\n",
      "400488 0.751 0.206 0.447\n",
      "401561\n",
      "401561 0.64 0.204 0.368\n",
      "400611\n",
      "400611 0.615 0.22 0.275\n",
      "400928\n",
      "400928 0.649 0.189 0.287\n",
      "400284\n",
      "400284 0.645 0.211 0.293\n",
      "400041\n",
      "400041 0.637 0.22 0.315\n",
      "408133\n",
      "408133 0.451 0.221 0.27\n",
      "408135\n",
      "408135 0.575 0.227 0.344\n",
      "417665\n",
      "417665 0.625 0.218 0.366\n",
      "412637\n",
      "412637 0.701 0.237 0.369\n",
      "417666\n",
      "417666 0.667 0.235 0.374\n",
      "408134\n",
      "408134 0.611 0.241 0.403\n",
      "400685\n",
      "400685 0.623 0.265 0.379\n",
      "401003\n",
      "401003 0.557 0.234 0.329\n",
      "400898\n",
      "400898 0.479 0.213 0.243\n",
      "400275\n",
      "400275 0.607 0.233 0.353\n",
      "400939\n",
      "400939 0.69 0.266 0.479\n",
      "400180\n",
      "400180 0.634 0.24 0.405\n",
      "400529\n",
      "400529 0.692 0.257 0.425\n",
      "400990\n",
      "400990 0.594 0.258 0.374\n",
      "400515\n",
      "400515 0.533 0.23 0.403\n",
      "400252\n",
      "400252 0.654 0.236 0.422\n",
      "400788\n",
      "400788 0.669 0.228 0.423\n",
      "401517\n",
      "401517 0.626 0.232 0.419\n",
      "401871\n",
      "401871 0.634 0.181 0.364\n",
      "400574\n",
      "400574 0.599 0.227 0.382\n",
      "401629\n",
      "401629 0.656 0.343 0.424\n",
      "400422\n",
      "400422 0.698 0.216 0.432\n",
      "400333\n",
      "400333 0.684 0.185 0.328\n",
      "410363\n",
      "410363 0.457 0.132 0.258\n",
      "400360\n",
      "400360 0.614 0.217 0.373\n",
      "400955\n",
      "400955 0.64 0.226 0.41\n",
      "400495\n",
      "400495 0.629 0.226 0.412\n",
      "400608\n",
      "400608 0.726 0.25 0.435\n",
      "400949\n",
      "400949 0.675 0.269 0.412\n",
      "400678\n",
      "400678 0.728 0.252 0.423\n",
      "400341\n",
      "400341 0.781 0.258 0.465\n",
      "400607\n",
      "400607 0.693 0.225 0.421\n",
      "400094\n",
      "400094 0.7 0.905 0.8\n",
      "400682\n",
      "400682 0.537 0.162 0.241\n",
      "408138\n",
      "408138 0.561 0.172 0.219\n",
      "400980\n",
      "400980 0.565 0.186 0.273\n",
      "401333\n",
      "401333 0.515 0.148 0.172\n",
      "404746\n",
      "404746 0.423 0.141 0.133\n",
      "401142\n",
      "401142 0.462 0.149 0.18\n",
      "400218\n",
      "400218 0.448 0.144 0.228\n",
      "400983\n",
      "400983 0.336 0.114 0.146\n",
      "400765\n",
      "400765 0.505 0.173 0.391\n",
      "400844\n",
      "400844 0.686 0.175 0.509\n",
      "400923\n",
      "400923 0.538 0.189 0.455\n",
      "401143\n",
      "401143 0.465 0.184 0.38\n",
      "401471\n",
      "401471 0.314 0.177 0.19\n"
     ]
    }
   ],
   "source": [
    "best_alphas = {\n",
    "    'Station ID': [],\n",
    "    'Speed': [],\n",
    "    'Flow': [],\n",
    "    'Occupancy': []\n",
    "}\n",
    "num_grids = 1000\n",
    "for i, station in enumerate(stations):\n",
    "    best_alphas['Station ID'].append(station)\n",
    "    \n",
    "    # update current training station dataframe, the training data is normal day's data\n",
    "    abnormal_dates_station = incidents.loc[(incidents[\"Upstream\"] == station) | (incidents[\"Downstream\"] == str(station))][\"Date\"].unique()\n",
    "    normal_dates_train = list(set(dates_train).difference(set(abnormal_dates_station)))\n",
    "    normal_dates_train_str = list(map(lambda x: x.strftime(\"%m/%d/%Y\"), normal_dates_train))\n",
    "    df_train_station = df_train.loc[(df_train[\"Station ID\"] == station) & (df_train[\"Date\"].isin(normal_dates_train_str))]\n",
    "\n",
    "    df_train_station = df_train.loc[df_train[\"Station ID\"] == station]\n",
    "    print(station)\n",
    "    for var_name in var_names:\n",
    "        var_series = df_train_station[var_name].values\n",
    "        len_series = len(var_series)\n",
    "        \n",
    "        # setting up alphas\n",
    "        alphas = np.arange(num_grids) * 1. / num_grids\n",
    "        \n",
    "        # save the historical best alpha by rmse\n",
    "        best_rmse = float(\"inf\")\n",
    "        best_alpha = 0.\n",
    "        \n",
    "        # for each alpha, perform exponential smoothing, and compute RMSE\n",
    "        for alpha in alphas:\n",
    "            rmse = DES_rmse(alpha, var_series)\n",
    "            \n",
    "            # compare, and decide whether to update best alpha\n",
    "            if rmse < best_rmse:\n",
    "                best_rmse = rmse\n",
    "                best_alpha = alpha\n",
    "        \n",
    "        # finally, save the best alpha for the variable at this station\n",
    "        best_alphas[var_name].append(best_alpha)\n",
    "    \n",
    "    # print trained alphas for each station\n",
    "    print(best_alphas['Station ID'][i], best_alphas['Speed'][i], best_alphas['Flow'][i], best_alphas['Occupancy'][i])"
   ]
  },
  {
   "cell_type": "code",
   "execution_count": 269,
   "metadata": {},
   "outputs": [],
   "source": [
    "best_alphas_df = pd.DataFrame(best_alphas)\n",
    "best_alphas_df.to_csv(base_path + \"best_alphas.csv\", index=False)"
   ]
  },
  {
   "cell_type": "markdown",
   "metadata": {},
   "source": [
    "## Step 2.  DES: Predict for each detector, each variable, and each time"
   ]
  },
  {
   "cell_type": "markdown",
   "metadata": {},
   "source": [
    "After this step we will have all the data needed to train the SVM: speed, flow, occupancy, and their predictions."
   ]
  },
  {
   "cell_type": "markdown",
   "metadata": {},
   "source": [
    "As always, we start from a small sample.  It will also be helpful, by the way, to prepare for a dictionary which maps each detector station to their relative position on the highway, i.e., 0, 1, ..., 101.  This will facilitate access to other traffic variables."
   ]
  },
  {
   "cell_type": "code",
   "execution_count": 272,
   "metadata": {},
   "outputs": [],
   "source": [
    "sid_to_idx = dict()\n",
    "for i, station in enumerate(stations):\n",
    "    sid_to_idx[station] = i"
   ]
  },
  {
   "cell_type": "code",
   "execution_count": 276,
   "metadata": {},
   "outputs": [
    {
     "data": {
      "text/plain": [
       "4"
      ]
     },
     "execution_count": 276,
     "metadata": {},
     "output_type": "execute_result"
    }
   ],
   "source": [
    "sid_to_idx.get(400343)"
   ]
  },
  {
   "cell_type": "code",
   "execution_count": 277,
   "metadata": {},
   "outputs": [],
   "source": [
    "sample_station = np.random.choice(stations)"
   ]
  },
  {
   "cell_type": "code",
   "execution_count": 278,
   "metadata": {},
   "outputs": [
    {
     "data": {
      "text/plain": [
       "400761"
      ]
     },
     "execution_count": 278,
     "metadata": {},
     "output_type": "execute_result"
    }
   ],
   "source": [
    "sample_station"
   ]
  },
  {
   "cell_type": "code",
   "execution_count": 283,
   "metadata": {},
   "outputs": [
    {
     "data": {
      "text/plain": [
       "36"
      ]
     },
     "execution_count": 283,
     "metadata": {},
     "output_type": "execute_result"
    }
   ],
   "source": [
    "# get sample station idx\n",
    "sample_station_idx = sid_to_idx.get(sample_station)\n",
    "sample_station_idx"
   ]
  },
  {
   "cell_type": "code",
   "execution_count": 280,
   "metadata": {},
   "outputs": [],
   "source": [
    "df_sample_station = df_train.loc[df_train[\"Station ID\"] == sample_station]"
   ]
  },
  {
   "cell_type": "code",
   "execution_count": 282,
   "metadata": {
    "scrolled": true
   },
   "outputs": [
    {
     "data": {
      "text/html": [
       "<div>\n",
       "<style scoped>\n",
       "    .dataframe tbody tr th:only-of-type {\n",
       "        vertical-align: middle;\n",
       "    }\n",
       "\n",
       "    .dataframe tbody tr th {\n",
       "        vertical-align: top;\n",
       "    }\n",
       "\n",
       "    .dataframe thead th {\n",
       "        text-align: right;\n",
       "    }\n",
       "</style>\n",
       "<table border=\"1\" class=\"dataframe\">\n",
       "  <thead>\n",
       "    <tr style=\"text-align: right;\">\n",
       "      <th></th>\n",
       "      <th>Station ID</th>\n",
       "      <th>datetime</th>\n",
       "      <th>Occupancy</th>\n",
       "      <th>Flow</th>\n",
       "      <th>Speed</th>\n",
       "      <th>Date</th>\n",
       "      <th>Time</th>\n",
       "      <th>idx</th>\n",
       "    </tr>\n",
       "  </thead>\n",
       "  <tbody>\n",
       "    <tr>\n",
       "      <th>2386654</th>\n",
       "      <td>400761</td>\n",
       "      <td>2017-12-29 23:50:00</td>\n",
       "      <td>2.9</td>\n",
       "      <td>166.0</td>\n",
       "      <td>69.9</td>\n",
       "      <td>12/29/2017</td>\n",
       "      <td>23:50</td>\n",
       "      <td>203006</td>\n",
       "    </tr>\n",
       "    <tr>\n",
       "      <th>2386655</th>\n",
       "      <td>400761</td>\n",
       "      <td>2017-12-29 23:55:00</td>\n",
       "      <td>3.3</td>\n",
       "      <td>185.0</td>\n",
       "      <td>69.3</td>\n",
       "      <td>12/29/2017</td>\n",
       "      <td>23:55</td>\n",
       "      <td>203007</td>\n",
       "    </tr>\n",
       "  </tbody>\n",
       "</table>\n",
       "</div>"
      ],
      "text/plain": [
       "         Station ID             datetime  Occupancy   Flow  Speed        Date  \\\n",
       "2386654      400761  2017-12-29 23:50:00        2.9  166.0   69.9  12/29/2017   \n",
       "2386655      400761  2017-12-29 23:55:00        3.3  185.0   69.3  12/29/2017   \n",
       "\n",
       "          Time     idx  \n",
       "2386654  23:50  203006  \n",
       "2386655  23:55  203007  "
      ]
     },
     "execution_count": 282,
     "metadata": {},
     "output_type": "execute_result"
    }
   ],
   "source": [
    "df_sample_station.tail(2)"
   ]
  },
  {
   "cell_type": "code",
   "execution_count": 284,
   "metadata": {},
   "outputs": [],
   "source": [
    "# initialize prediction dictionary\n",
    "pred_dict = dict()\n",
    "for var_name in var_names:\n",
    "    pred_dict[var_name] = []"
   ]
  },
  {
   "cell_type": "code",
   "execution_count": 295,
   "metadata": {},
   "outputs": [],
   "source": [
    "# formulate predictions of speed, flow and occupancy for the sample station\n",
    "for var_name in var_names:\n",
    "    var_series = df_sample_station[var_name].values\n",
    "    len_series = len(var_series)\n",
    "    # initialize s1, s2, and y\n",
    "    s1 = np.mean(var_series[:10])\n",
    "    s2 = s1\n",
    "    y = [0.] * len_series\n",
    "    # get the best alpha\n",
    "    var_best_alpha = best_alphas_df.loc[best_alphas_df[\"Station ID\"] == sample_station][var_name].values[0]\n",
    "    beta = 1. - var_best_alpha\n",
    "    \n",
    "    for t in range(11, len_series - 1):\n",
    "        s1 = var_best_alpha * var_series[t] + beta * s1\n",
    "        s2 = var_best_alpha * s1 + beta * s2\n",
    "        y[t+1] = 2 * s1 - s2 + alpha / beta * (s1 - s2)\n",
    "    \n",
    "    # save the predictions to a dictionary\n",
    "    pred_dict[var_name].extend(y)"
   ]
  },
  {
   "cell_type": "code",
   "execution_count": 318,
   "metadata": {
    "scrolled": true
   },
   "outputs": [
    {
     "data": {
      "image/png": "[encoded data removed]",
      "text/plain": [
       "<Figure size 720x576 with 1 Axes>"
      ]
     },
     "metadata": {},
     "output_type": "display_data"
    }
   ],
   "source": [
    "plot_var = 'Occupancy'\n",
    "sample_station_var = df_sample_station[plot_var].values\n",
    "u.plot_time_series(sample_station_var[21500:21788], pred_dict[plot_var][21500:21788], X_label=plot_var, Y_label='pred')"
   ]
  },
  {
   "cell_type": "markdown",
   "metadata": {},
   "source": [
    "### Glue the code above together!"
   ]
  },
  {
   "cell_type": "code",
   "execution_count": 762,
   "metadata": {},
   "outputs": [
    {
     "name": "stdout",
     "output_type": "stream",
     "text": [
      "Start time series prediction (DES) at station 408907...\n",
      "    Start predicting variable Speed...\n",
      "    End predicting variable Speed.\n",
      "    Start predicting variable Flow...\n",
      "    End predicting variable Flow.\n",
      "    Start predicting variable Occupancy...\n",
      "    End predicting variable Occupancy.\n",
      "End prediction at station 408907.\n",
      "Start time series prediction (DES) at station 400951...\n",
      "    Start predicting variable Speed...\n",
      "    End predicting variable Speed.\n",
      "    Start predicting variable Flow...\n",
      "    End predicting variable Flow.\n",
      "    Start predicting variable Occupancy...\n",
      "    End predicting variable Occupancy.\n",
      "End prediction at station 400951.\n",
      "Start time series prediction (DES) at station 400057...\n",
      "    Start predicting variable Speed...\n",
      "    End predicting variable Speed.\n",
      "    Start predicting variable Flow...\n",
      "    End predicting variable Flow.\n",
      "    Start predicting variable Occupancy...\n",
      "    End predicting variable Occupancy.\n",
      "End prediction at station 400057.\n",
      "Start time series prediction (DES) at station 400147...\n",
      "    Start predicting variable Speed...\n",
      "    End predicting variable Speed.\n",
      "    Start predicting variable Flow...\n",
      "    End predicting variable Flow.\n",
      "    Start predicting variable Occupancy...\n",
      "    End predicting variable Occupancy.\n",
      "End prediction at station 400147.\n",
      "Start time series prediction (DES) at station 400343...\n",
      "    Start predicting variable Speed...\n",
      "    End predicting variable Speed.\n",
      "    Start predicting variable Flow...\n",
      "    End predicting variable Flow.\n",
      "    Start predicting variable Occupancy...\n",
      "    End predicting variable Occupancy.\n",
      "End prediction at station 400343.\n",
      "Start time series prediction (DES) at station 401560...\n",
      "    Start predicting variable Speed...\n",
      "    End predicting variable Speed.\n",
      "    Start predicting variable Flow...\n",
      "    End predicting variable Flow.\n",
      "    Start predicting variable Occupancy...\n",
      "    End predicting variable Occupancy.\n",
      "End prediction at station 401560.\n",
      "Start time series prediction (DES) at station 400045...\n",
      "    Start predicting variable Speed...\n",
      "    End predicting variable Speed.\n",
      "    Start predicting variable Flow...\n",
      "    End predicting variable Flow.\n",
      "    Start predicting variable Occupancy...\n",
      "    End predicting variable Occupancy.\n",
      "End prediction at station 400045.\n",
      "Start time series prediction (DES) at station 400122...\n",
      "    Start predicting variable Speed...\n",
      "    End predicting variable Speed.\n",
      "    Start predicting variable Flow...\n",
      "    End predicting variable Flow.\n",
      "    Start predicting variable Occupancy...\n",
      "    End predicting variable Occupancy.\n",
      "End prediction at station 400122.\n",
      "Start time series prediction (DES) at station 401541...\n",
      "    Start predicting variable Speed...\n",
      "    End predicting variable Speed.\n",
      "    Start predicting variable Flow...\n",
      "    End predicting variable Flow.\n",
      "    Start predicting variable Occupancy...\n",
      "    End predicting variable Occupancy.\n",
      "End prediction at station 401541.\n",
      "Start time series prediction (DES) at station 402281...\n",
      "    Start predicting variable Speed...\n",
      "    End predicting variable Speed.\n",
      "    Start predicting variable Flow...\n",
      "    End predicting variable Flow.\n",
      "    Start predicting variable Occupancy...\n",
      "    End predicting variable Occupancy.\n",
      "End prediction at station 402281.\n",
      "Start time series prediction (DES) at station 402283...\n",
      "    Start predicting variable Speed...\n",
      "    End predicting variable Speed.\n",
      "    Start predicting variable Flow...\n",
      "    End predicting variable Flow.\n",
      "    Start predicting variable Occupancy...\n",
      "    End predicting variable Occupancy.\n",
      "End prediction at station 402283.\n",
      "Start time series prediction (DES) at station 402285...\n",
      "    Start predicting variable Speed...\n",
      "    End predicting variable Speed.\n",
      "    Start predicting variable Flow...\n",
      "    End predicting variable Flow.\n",
      "    Start predicting variable Occupancy...\n",
      "    End predicting variable Occupancy.\n",
      "End prediction at station 402285.\n",
      "Start time series prediction (DES) at station 402286...\n",
      "    Start predicting variable Speed...\n",
      "    End predicting variable Speed.\n",
      "    Start predicting variable Flow...\n",
      "    End predicting variable Flow.\n",
      "    Start predicting variable Occupancy...\n",
      "    End predicting variable Occupancy.\n",
      "End prediction at station 402286.\n",
      "Start time series prediction (DES) at station 400088...\n",
      "    Start predicting variable Speed...\n",
      "    End predicting variable Speed.\n",
      "    Start predicting variable Flow...\n",
      "    End predicting variable Flow.\n",
      "    Start predicting variable Occupancy...\n",
      "    End predicting variable Occupancy.\n",
      "End prediction at station 400088.\n",
      "Start time series prediction (DES) at station 402288...\n",
      "    Start predicting variable Speed...\n",
      "    End predicting variable Speed.\n",
      "    Start predicting variable Flow...\n",
      "    End predicting variable Flow.\n",
      "    Start predicting variable Occupancy...\n",
      "    End predicting variable Occupancy.\n",
      "End prediction at station 402288.\n",
      "Start time series prediction (DES) at station 413026...\n",
      "    Start predicting variable Speed...\n",
      "    End predicting variable Speed.\n",
      "    Start predicting variable Flow...\n",
      "    End predicting variable Flow.\n",
      "    Start predicting variable Occupancy...\n",
      "    End predicting variable Occupancy.\n",
      "End prediction at station 413026.\n",
      "Start time series prediction (DES) at station 401464...\n",
      "    Start predicting variable Speed...\n",
      "    End predicting variable Speed.\n",
      "    Start predicting variable Flow...\n",
      "    End predicting variable Flow.\n",
      "    Start predicting variable Occupancy...\n",
      "    End predicting variable Occupancy.\n",
      "End prediction at station 401464.\n",
      "Start time series prediction (DES) at station 401489...\n",
      "    Start predicting variable Speed...\n",
      "    End predicting variable Speed.\n",
      "    Start predicting variable Flow...\n",
      "    End predicting variable Flow.\n",
      "    Start predicting variable Occupancy...\n",
      "    End predicting variable Occupancy.\n",
      "End prediction at station 401489.\n",
      "Start time series prediction (DES) at station 401538...\n",
      "    Start predicting variable Speed...\n",
      "    End predicting variable Speed.\n",
      "    Start predicting variable Flow...\n",
      "    End predicting variable Flow.\n",
      "    Start predicting variable Occupancy...\n",
      "    End predicting variable Occupancy.\n",
      "End prediction at station 401538.\n",
      "Start time series prediction (DES) at station 402290...\n",
      "    Start predicting variable Speed...\n",
      "    End predicting variable Speed.\n",
      "    Start predicting variable Flow...\n",
      "    End predicting variable Flow.\n",
      "    Start predicting variable Occupancy...\n",
      "    End predicting variable Occupancy.\n",
      "End prediction at station 402290.\n",
      "Start time series prediction (DES) at station 402292...\n",
      "    Start predicting variable Speed...\n",
      "    End predicting variable Speed.\n",
      "    Start predicting variable Flow...\n",
      "    End predicting variable Flow.\n",
      "    Start predicting variable Occupancy...\n",
      "    End predicting variable Occupancy.\n",
      "End prediction at station 402292.\n",
      "Start time series prediction (DES) at station 401643...\n",
      "    Start predicting variable Speed...\n",
      "    End predicting variable Speed.\n",
      "    Start predicting variable Flow...\n",
      "    End predicting variable Flow.\n",
      "    Start predicting variable Occupancy...\n",
      "    End predicting variable Occupancy.\n",
      "End prediction at station 401643.\n",
      "Start time series prediction (DES) at station 402800...\n",
      "    Start predicting variable Speed...\n",
      "    End predicting variable Speed.\n",
      "    Start predicting variable Flow...\n",
      "    End predicting variable Flow.\n",
      "    Start predicting variable Occupancy...\n",
      "    End predicting variable Occupancy.\n",
      "End prediction at station 402800.\n",
      "Start time series prediction (DES) at station 402828...\n",
      "    Start predicting variable Speed...\n",
      "    End predicting variable Speed.\n",
      "    Start predicting variable Flow...\n",
      "    End predicting variable Flow.\n",
      "    Start predicting variable Occupancy...\n",
      "    End predicting variable Occupancy.\n",
      "End prediction at station 402828.\n",
      "Start time series prediction (DES) at station 407219...\n",
      "    Start predicting variable Speed...\n",
      "    End predicting variable Speed.\n",
      "    Start predicting variable Flow...\n",
      "    End predicting variable Flow.\n",
      "    Start predicting variable Occupancy...\n",
      "    End predicting variable Occupancy.\n",
      "End prediction at station 407219.\n",
      "Start time series prediction (DES) at station 402789...\n",
      "    Start predicting variable Speed...\n",
      "    End predicting variable Speed.\n",
      "    Start predicting variable Flow...\n",
      "    End predicting variable Flow.\n",
      "    Start predicting variable Occupancy...\n",
      "    End predicting variable Occupancy.\n",
      "End prediction at station 402789.\n",
      "Start time series prediction (DES) at station 408755...\n",
      "    Start predicting variable Speed...\n"
     ]
    },
    {
     "name": "stdout",
     "output_type": "stream",
     "text": [
      "    End predicting variable Speed.\n",
      "    Start predicting variable Flow...\n",
      "    End predicting variable Flow.\n",
      "    Start predicting variable Occupancy...\n",
      "    End predicting variable Occupancy.\n",
      "End prediction at station 408755.\n",
      "Start time series prediction (DES) at station 402802...\n",
      "    Start predicting variable Speed...\n",
      "    End predicting variable Speed.\n",
      "    Start predicting variable Flow...\n",
      "    End predicting variable Flow.\n",
      "    Start predicting variable Occupancy...\n",
      "    End predicting variable Occupancy.\n",
      "End prediction at station 402802.\n",
      "Start time series prediction (DES) at station 408756...\n",
      "    Start predicting variable Speed...\n",
      "    End predicting variable Speed.\n",
      "    Start predicting variable Flow...\n",
      "    End predicting variable Flow.\n",
      "    Start predicting variable Occupancy...\n",
      "    End predicting variable Occupancy.\n",
      "End prediction at station 408756.\n",
      "Start time series prediction (DES) at station 400189...\n",
      "    Start predicting variable Speed...\n",
      "    End predicting variable Speed.\n",
      "    Start predicting variable Flow...\n",
      "    End predicting variable Flow.\n",
      "    Start predicting variable Occupancy...\n",
      "    End predicting variable Occupancy.\n",
      "End prediction at station 400189.\n",
      "Start time series prediction (DES) at station 400309...\n",
      "    Start predicting variable Speed...\n",
      "    End predicting variable Speed.\n",
      "    Start predicting variable Flow...\n",
      "    End predicting variable Flow.\n",
      "    Start predicting variable Occupancy...\n",
      "    End predicting variable Occupancy.\n",
      "End prediction at station 400309.\n",
      "Start time series prediction (DES) at station 400417...\n",
      "    Start predicting variable Speed...\n",
      "    End predicting variable Speed.\n",
      "    Start predicting variable Flow...\n",
      "    End predicting variable Flow.\n",
      "    Start predicting variable Occupancy...\n",
      "    End predicting variable Occupancy.\n",
      "End prediction at station 400417.\n",
      "Start time series prediction (DES) at station 400249...\n",
      "    Start predicting variable Speed...\n",
      "    End predicting variable Speed.\n",
      "    Start predicting variable Flow...\n",
      "    End predicting variable Flow.\n",
      "    Start predicting variable Occupancy...\n",
      "    End predicting variable Occupancy.\n",
      "End prediction at station 400249.\n",
      "Start time series prediction (DES) at station 401639...\n",
      "    Start predicting variable Speed...\n",
      "    End predicting variable Speed.\n",
      "    Start predicting variable Flow...\n",
      "    End predicting variable Flow.\n",
      "    Start predicting variable Occupancy...\n",
      "    End predicting variable Occupancy.\n",
      "End prediction at station 401639.\n",
      "Start time series prediction (DES) at station 400662...\n",
      "    Start predicting variable Speed...\n",
      "    End predicting variable Speed.\n",
      "    Start predicting variable Flow...\n",
      "    End predicting variable Flow.\n",
      "    Start predicting variable Occupancy...\n",
      "    End predicting variable Occupancy.\n",
      "End prediction at station 400662.\n",
      "Start time series prediction (DES) at station 400141...\n",
      "    Start predicting variable Speed...\n",
      "    End predicting variable Speed.\n",
      "    Start predicting variable Flow...\n",
      "    End predicting variable Flow.\n",
      "    Start predicting variable Occupancy...\n",
      "    End predicting variable Occupancy.\n",
      "End prediction at station 400141.\n",
      "Start time series prediction (DES) at station 400761...\n",
      "    Start predicting variable Speed...\n",
      "    End predicting variable Speed.\n",
      "    Start predicting variable Flow...\n",
      "    End predicting variable Flow.\n",
      "    Start predicting variable Occupancy...\n",
      "    End predicting variable Occupancy.\n",
      "End prediction at station 400761.\n",
      "Start time series prediction (DES) at station 400490...\n",
      "    Start predicting variable Speed...\n",
      "    End predicting variable Speed.\n",
      "    Start predicting variable Flow...\n",
      "    End predicting variable Flow.\n",
      "    Start predicting variable Occupancy...\n",
      "    End predicting variable Occupancy.\n",
      "End prediction at station 400490.\n",
      "Start time series prediction (DES) at station 401888...\n",
      "    Start predicting variable Speed...\n",
      "    End predicting variable Speed.\n",
      "    Start predicting variable Flow...\n",
      "    End predicting variable Flow.\n",
      "    Start predicting variable Occupancy...\n",
      "    End predicting variable Occupancy.\n",
      "End prediction at station 401888.\n",
      "Start time series prediction (DES) at station 400137...\n",
      "    Start predicting variable Speed...\n",
      "    End predicting variable Speed.\n",
      "    Start predicting variable Flow...\n",
      "    End predicting variable Flow.\n",
      "    Start predicting variable Occupancy...\n",
      "    End predicting variable Occupancy.\n",
      "End prediction at station 400137.\n",
      "Start time series prediction (DES) at station 400716...\n",
      "    Start predicting variable Speed...\n",
      "    End predicting variable Speed.\n",
      "    Start predicting variable Flow...\n",
      "    End predicting variable Flow.\n",
      "    Start predicting variable Occupancy...\n",
      "    End predicting variable Occupancy.\n",
      "End prediction at station 400716.\n",
      "Start time series prediction (DES) at station 401545...\n",
      "    Start predicting variable Speed...\n",
      "    End predicting variable Speed.\n",
      "    Start predicting variable Flow...\n",
      "    End predicting variable Flow.\n",
      "    Start predicting variable Occupancy...\n",
      "    End predicting variable Occupancy.\n",
      "End prediction at station 401545.\n",
      "Start time series prediction (DES) at station 401011...\n",
      "    Start predicting variable Speed...\n",
      "    End predicting variable Speed.\n",
      "    Start predicting variable Flow...\n",
      "    End predicting variable Flow.\n",
      "    Start predicting variable Occupancy...\n",
      "    End predicting variable Occupancy.\n",
      "End prediction at station 401011.\n",
      "Start time series prediction (DES) at station 400674...\n",
      "    Start predicting variable Speed...\n",
      "    End predicting variable Speed.\n",
      "    Start predicting variable Flow...\n",
      "    End predicting variable Flow.\n",
      "    Start predicting variable Occupancy...\n",
      "    End predicting variable Occupancy.\n",
      "End prediction at station 400674.\n",
      "Start time series prediction (DES) at station 400539...\n",
      "    Start predicting variable Speed...\n",
      "    End predicting variable Speed.\n",
      "    Start predicting variable Flow...\n",
      "    End predicting variable Flow.\n",
      "    Start predicting variable Occupancy...\n",
      "    End predicting variable Occupancy.\n",
      "End prediction at station 400539.\n",
      "Start time series prediction (DES) at station 400534...\n",
      "    Start predicting variable Speed...\n",
      "    End predicting variable Speed.\n",
      "    Start predicting variable Flow...\n",
      "    End predicting variable Flow.\n",
      "    Start predicting variable Occupancy...\n",
      "    End predicting variable Occupancy.\n",
      "End prediction at station 400534.\n",
      "Start time series prediction (DES) at station 401062...\n",
      "    Start predicting variable Speed...\n",
      "    End predicting variable Speed.\n",
      "    Start predicting variable Flow...\n",
      "    End predicting variable Flow.\n",
      "    Start predicting variable Occupancy...\n",
      "    End predicting variable Occupancy.\n",
      "End prediction at station 401062.\n",
      "Start time series prediction (DES) at station 401529...\n",
      "    Start predicting variable Speed...\n",
      "    End predicting variable Speed.\n",
      "    Start predicting variable Flow...\n",
      "    End predicting variable Flow.\n",
      "    Start predicting variable Occupancy...\n",
      "    End predicting variable Occupancy.\n",
      "End prediction at station 401529.\n",
      "Start time series prediction (DES) at station 401613...\n",
      "    Start predicting variable Speed...\n",
      "    End predicting variable Speed.\n",
      "    Start predicting variable Flow...\n",
      "    End predicting variable Flow.\n",
      "    Start predicting variable Occupancy...\n",
      "    End predicting variable Occupancy.\n",
      "End prediction at station 401613.\n",
      "Start time series prediction (DES) at station 400536...\n",
      "    Start predicting variable Speed...\n",
      "    End predicting variable Speed.\n",
      "    Start predicting variable Flow...\n",
      "    End predicting variable Flow.\n",
      "    Start predicting variable Occupancy...\n",
      "    End predicting variable Occupancy.\n",
      "End prediction at station 400536.\n",
      "Start time series prediction (DES) at station 400488...\n",
      "    Start predicting variable Speed...\n",
      "    End predicting variable Speed.\n",
      "    Start predicting variable Flow...\n",
      "    End predicting variable Flow.\n",
      "    Start predicting variable Occupancy...\n",
      "    End predicting variable Occupancy.\n",
      "End prediction at station 400488.\n",
      "Start time series prediction (DES) at station 401561...\n",
      "    Start predicting variable Speed...\n",
      "    End predicting variable Speed.\n",
      "    Start predicting variable Flow...\n",
      "    End predicting variable Flow.\n",
      "    Start predicting variable Occupancy...\n",
      "    End predicting variable Occupancy.\n",
      "End prediction at station 401561.\n",
      "Start time series prediction (DES) at station 400611...\n",
      "    Start predicting variable Speed...\n",
      "    End predicting variable Speed.\n",
      "    Start predicting variable Flow...\n"
     ]
    },
    {
     "name": "stdout",
     "output_type": "stream",
     "text": [
      "    End predicting variable Flow.\n",
      "    Start predicting variable Occupancy...\n",
      "    End predicting variable Occupancy.\n",
      "End prediction at station 400611.\n",
      "Start time series prediction (DES) at station 400928...\n",
      "    Start predicting variable Speed...\n",
      "    End predicting variable Speed.\n",
      "    Start predicting variable Flow...\n",
      "    End predicting variable Flow.\n",
      "    Start predicting variable Occupancy...\n",
      "    End predicting variable Occupancy.\n",
      "End prediction at station 400928.\n",
      "Start time series prediction (DES) at station 400284...\n",
      "    Start predicting variable Speed...\n",
      "    End predicting variable Speed.\n",
      "    Start predicting variable Flow...\n",
      "    End predicting variable Flow.\n",
      "    Start predicting variable Occupancy...\n",
      "    End predicting variable Occupancy.\n",
      "End prediction at station 400284.\n",
      "Start time series prediction (DES) at station 400041...\n",
      "    Start predicting variable Speed...\n",
      "    End predicting variable Speed.\n",
      "    Start predicting variable Flow...\n",
      "    End predicting variable Flow.\n",
      "    Start predicting variable Occupancy...\n",
      "    End predicting variable Occupancy.\n",
      "End prediction at station 400041.\n",
      "Start time series prediction (DES) at station 408133...\n",
      "    Start predicting variable Speed...\n",
      "    End predicting variable Speed.\n",
      "    Start predicting variable Flow...\n",
      "    End predicting variable Flow.\n",
      "    Start predicting variable Occupancy...\n",
      "    End predicting variable Occupancy.\n",
      "End prediction at station 408133.\n",
      "Start time series prediction (DES) at station 408135...\n",
      "    Start predicting variable Speed...\n",
      "    End predicting variable Speed.\n",
      "    Start predicting variable Flow...\n",
      "    End predicting variable Flow.\n",
      "    Start predicting variable Occupancy...\n",
      "    End predicting variable Occupancy.\n",
      "End prediction at station 408135.\n",
      "Start time series prediction (DES) at station 417665...\n",
      "    Start predicting variable Speed...\n",
      "    End predicting variable Speed.\n",
      "    Start predicting variable Flow...\n",
      "    End predicting variable Flow.\n",
      "    Start predicting variable Occupancy...\n",
      "    End predicting variable Occupancy.\n",
      "End prediction at station 417665.\n",
      "Start time series prediction (DES) at station 412637...\n",
      "    Start predicting variable Speed...\n",
      "    End predicting variable Speed.\n",
      "    Start predicting variable Flow...\n",
      "    End predicting variable Flow.\n",
      "    Start predicting variable Occupancy...\n",
      "    End predicting variable Occupancy.\n",
      "End prediction at station 412637.\n",
      "Start time series prediction (DES) at station 417666...\n",
      "    Start predicting variable Speed...\n",
      "    End predicting variable Speed.\n",
      "    Start predicting variable Flow...\n",
      "    End predicting variable Flow.\n",
      "    Start predicting variable Occupancy...\n",
      "    End predicting variable Occupancy.\n",
      "End prediction at station 417666.\n",
      "Start time series prediction (DES) at station 408134...\n",
      "    Start predicting variable Speed...\n",
      "    End predicting variable Speed.\n",
      "    Start predicting variable Flow...\n",
      "    End predicting variable Flow.\n",
      "    Start predicting variable Occupancy...\n",
      "    End predicting variable Occupancy.\n",
      "End prediction at station 408134.\n",
      "Start time series prediction (DES) at station 400685...\n",
      "    Start predicting variable Speed...\n",
      "    End predicting variable Speed.\n",
      "    Start predicting variable Flow...\n",
      "    End predicting variable Flow.\n",
      "    Start predicting variable Occupancy...\n",
      "    End predicting variable Occupancy.\n",
      "End prediction at station 400685.\n",
      "Start time series prediction (DES) at station 401003...\n",
      "    Start predicting variable Speed...\n",
      "    End predicting variable Speed.\n",
      "    Start predicting variable Flow...\n",
      "    End predicting variable Flow.\n",
      "    Start predicting variable Occupancy...\n",
      "    End predicting variable Occupancy.\n",
      "End prediction at station 401003.\n",
      "Start time series prediction (DES) at station 400898...\n",
      "    Start predicting variable Speed...\n",
      "    End predicting variable Speed.\n",
      "    Start predicting variable Flow...\n",
      "    End predicting variable Flow.\n",
      "    Start predicting variable Occupancy...\n",
      "    End predicting variable Occupancy.\n",
      "End prediction at station 400898.\n",
      "Start time series prediction (DES) at station 400275...\n",
      "    Start predicting variable Speed...\n",
      "    End predicting variable Speed.\n",
      "    Start predicting variable Flow...\n",
      "    End predicting variable Flow.\n",
      "    Start predicting variable Occupancy...\n",
      "    End predicting variable Occupancy.\n",
      "End prediction at station 400275.\n",
      "Start time series prediction (DES) at station 400939...\n",
      "    Start predicting variable Speed...\n",
      "    End predicting variable Speed.\n",
      "    Start predicting variable Flow...\n",
      "    End predicting variable Flow.\n",
      "    Start predicting variable Occupancy...\n",
      "    End predicting variable Occupancy.\n",
      "End prediction at station 400939.\n",
      "Start time series prediction (DES) at station 400180...\n",
      "    Start predicting variable Speed...\n",
      "    End predicting variable Speed.\n",
      "    Start predicting variable Flow...\n",
      "    End predicting variable Flow.\n",
      "    Start predicting variable Occupancy...\n",
      "    End predicting variable Occupancy.\n",
      "End prediction at station 400180.\n",
      "Start time series prediction (DES) at station 400529...\n",
      "    Start predicting variable Speed...\n",
      "    End predicting variable Speed.\n",
      "    Start predicting variable Flow...\n",
      "    End predicting variable Flow.\n",
      "    Start predicting variable Occupancy...\n",
      "    End predicting variable Occupancy.\n",
      "End prediction at station 400529.\n",
      "Start time series prediction (DES) at station 400990...\n",
      "    Start predicting variable Speed...\n",
      "    End predicting variable Speed.\n",
      "    Start predicting variable Flow...\n",
      "    End predicting variable Flow.\n",
      "    Start predicting variable Occupancy...\n",
      "    End predicting variable Occupancy.\n",
      "End prediction at station 400990.\n",
      "Start time series prediction (DES) at station 400515...\n",
      "    Start predicting variable Speed...\n",
      "    End predicting variable Speed.\n",
      "    Start predicting variable Flow...\n",
      "    End predicting variable Flow.\n",
      "    Start predicting variable Occupancy...\n",
      "    End predicting variable Occupancy.\n",
      "End prediction at station 400515.\n",
      "Start time series prediction (DES) at station 400252...\n",
      "    Start predicting variable Speed...\n",
      "    End predicting variable Speed.\n",
      "    Start predicting variable Flow...\n",
      "    End predicting variable Flow.\n",
      "    Start predicting variable Occupancy...\n",
      "    End predicting variable Occupancy.\n",
      "End prediction at station 400252.\n",
      "Start time series prediction (DES) at station 400788...\n",
      "    Start predicting variable Speed...\n",
      "    End predicting variable Speed.\n",
      "    Start predicting variable Flow...\n",
      "    End predicting variable Flow.\n",
      "    Start predicting variable Occupancy...\n",
      "    End predicting variable Occupancy.\n",
      "End prediction at station 400788.\n",
      "Start time series prediction (DES) at station 401517...\n",
      "    Start predicting variable Speed...\n",
      "    End predicting variable Speed.\n",
      "    Start predicting variable Flow...\n",
      "    End predicting variable Flow.\n",
      "    Start predicting variable Occupancy...\n",
      "    End predicting variable Occupancy.\n",
      "End prediction at station 401517.\n",
      "Start time series prediction (DES) at station 401871...\n",
      "    Start predicting variable Speed...\n",
      "    End predicting variable Speed.\n",
      "    Start predicting variable Flow...\n",
      "    End predicting variable Flow.\n",
      "    Start predicting variable Occupancy...\n",
      "    End predicting variable Occupancy.\n",
      "End prediction at station 401871.\n",
      "Start time series prediction (DES) at station 400574...\n",
      "    Start predicting variable Speed...\n",
      "    End predicting variable Speed.\n",
      "    Start predicting variable Flow...\n",
      "    End predicting variable Flow.\n",
      "    Start predicting variable Occupancy...\n",
      "    End predicting variable Occupancy.\n",
      "End prediction at station 400574.\n",
      "Start time series prediction (DES) at station 401629...\n",
      "    Start predicting variable Speed...\n",
      "    End predicting variable Speed.\n",
      "    Start predicting variable Flow...\n",
      "    End predicting variable Flow.\n",
      "    Start predicting variable Occupancy...\n",
      "    End predicting variable Occupancy.\n",
      "End prediction at station 401629.\n",
      "Start time series prediction (DES) at station 400422...\n",
      "    Start predicting variable Speed...\n",
      "    End predicting variable Speed.\n",
      "    Start predicting variable Flow...\n",
      "    End predicting variable Flow.\n",
      "    Start predicting variable Occupancy...\n",
      "    End predicting variable Occupancy.\n",
      "End prediction at station 400422.\n",
      "Start time series prediction (DES) at station 400333...\n",
      "    Start predicting variable Speed...\n",
      "    End predicting variable Speed.\n",
      "    Start predicting variable Flow...\n",
      "    End predicting variable Flow.\n",
      "    Start predicting variable Occupancy...\n",
      "    End predicting variable Occupancy.\n",
      "End prediction at station 400333.\n",
      "Start time series prediction (DES) at station 410363...\n",
      "    Start predicting variable Speed...\n"
     ]
    },
    {
     "name": "stdout",
     "output_type": "stream",
     "text": [
      "    End predicting variable Speed.\n",
      "    Start predicting variable Flow...\n",
      "    End predicting variable Flow.\n",
      "    Start predicting variable Occupancy...\n",
      "    End predicting variable Occupancy.\n",
      "End prediction at station 410363.\n",
      "Start time series prediction (DES) at station 400360...\n",
      "    Start predicting variable Speed...\n",
      "    End predicting variable Speed.\n",
      "    Start predicting variable Flow...\n",
      "    End predicting variable Flow.\n",
      "    Start predicting variable Occupancy...\n",
      "    End predicting variable Occupancy.\n",
      "End prediction at station 400360.\n",
      "Start time series prediction (DES) at station 400955...\n",
      "    Start predicting variable Speed...\n",
      "    End predicting variable Speed.\n",
      "    Start predicting variable Flow...\n",
      "    End predicting variable Flow.\n",
      "    Start predicting variable Occupancy...\n",
      "    End predicting variable Occupancy.\n",
      "End prediction at station 400955.\n",
      "Start time series prediction (DES) at station 400495...\n",
      "    Start predicting variable Speed...\n",
      "    End predicting variable Speed.\n",
      "    Start predicting variable Flow...\n",
      "    End predicting variable Flow.\n",
      "    Start predicting variable Occupancy...\n",
      "    End predicting variable Occupancy.\n",
      "End prediction at station 400495.\n",
      "Start time series prediction (DES) at station 400608...\n",
      "    Start predicting variable Speed...\n",
      "    End predicting variable Speed.\n",
      "    Start predicting variable Flow...\n",
      "    End predicting variable Flow.\n",
      "    Start predicting variable Occupancy...\n",
      "    End predicting variable Occupancy.\n",
      "End prediction at station 400608.\n",
      "Start time series prediction (DES) at station 400949...\n",
      "    Start predicting variable Speed...\n",
      "    End predicting variable Speed.\n",
      "    Start predicting variable Flow...\n",
      "    End predicting variable Flow.\n",
      "    Start predicting variable Occupancy...\n",
      "    End predicting variable Occupancy.\n",
      "End prediction at station 400949.\n",
      "Start time series prediction (DES) at station 400678...\n",
      "    Start predicting variable Speed...\n",
      "    End predicting variable Speed.\n",
      "    Start predicting variable Flow...\n",
      "    End predicting variable Flow.\n",
      "    Start predicting variable Occupancy...\n",
      "    End predicting variable Occupancy.\n",
      "End prediction at station 400678.\n",
      "Start time series prediction (DES) at station 400341...\n",
      "    Start predicting variable Speed...\n",
      "    End predicting variable Speed.\n",
      "    Start predicting variable Flow...\n",
      "    End predicting variable Flow.\n",
      "    Start predicting variable Occupancy...\n",
      "    End predicting variable Occupancy.\n",
      "End prediction at station 400341.\n",
      "Start time series prediction (DES) at station 400607...\n",
      "    Start predicting variable Speed...\n",
      "    End predicting variable Speed.\n",
      "    Start predicting variable Flow...\n",
      "    End predicting variable Flow.\n",
      "    Start predicting variable Occupancy...\n",
      "    End predicting variable Occupancy.\n",
      "End prediction at station 400607.\n",
      "Start time series prediction (DES) at station 400094...\n",
      "    Start predicting variable Speed...\n",
      "    End predicting variable Speed.\n",
      "    Start predicting variable Flow...\n",
      "    End predicting variable Flow.\n",
      "    Start predicting variable Occupancy...\n",
      "    End predicting variable Occupancy.\n",
      "End prediction at station 400094.\n",
      "Start time series prediction (DES) at station 400682...\n",
      "    Start predicting variable Speed...\n",
      "    End predicting variable Speed.\n",
      "    Start predicting variable Flow...\n",
      "    End predicting variable Flow.\n",
      "    Start predicting variable Occupancy...\n",
      "    End predicting variable Occupancy.\n",
      "End prediction at station 400682.\n",
      "Start time series prediction (DES) at station 408138...\n",
      "    Start predicting variable Speed...\n",
      "    End predicting variable Speed.\n",
      "    Start predicting variable Flow...\n",
      "    End predicting variable Flow.\n",
      "    Start predicting variable Occupancy...\n",
      "    End predicting variable Occupancy.\n",
      "End prediction at station 408138.\n",
      "Start time series prediction (DES) at station 400980...\n",
      "    Start predicting variable Speed...\n",
      "    End predicting variable Speed.\n",
      "    Start predicting variable Flow...\n",
      "    End predicting variable Flow.\n",
      "    Start predicting variable Occupancy...\n",
      "    End predicting variable Occupancy.\n",
      "End prediction at station 400980.\n",
      "Start time series prediction (DES) at station 401333...\n",
      "    Start predicting variable Speed...\n",
      "    End predicting variable Speed.\n",
      "    Start predicting variable Flow...\n",
      "    End predicting variable Flow.\n",
      "    Start predicting variable Occupancy...\n",
      "    End predicting variable Occupancy.\n",
      "End prediction at station 401333.\n",
      "Start time series prediction (DES) at station 404746...\n",
      "    Start predicting variable Speed...\n",
      "    End predicting variable Speed.\n",
      "    Start predicting variable Flow...\n",
      "    End predicting variable Flow.\n",
      "    Start predicting variable Occupancy...\n",
      "    End predicting variable Occupancy.\n",
      "End prediction at station 404746.\n",
      "Start time series prediction (DES) at station 401142...\n",
      "    Start predicting variable Speed...\n",
      "    End predicting variable Speed.\n",
      "    Start predicting variable Flow...\n",
      "    End predicting variable Flow.\n",
      "    Start predicting variable Occupancy...\n",
      "    End predicting variable Occupancy.\n",
      "End prediction at station 401142.\n",
      "Start time series prediction (DES) at station 400218...\n",
      "    Start predicting variable Speed...\n",
      "    End predicting variable Speed.\n",
      "    Start predicting variable Flow...\n",
      "    End predicting variable Flow.\n",
      "    Start predicting variable Occupancy...\n",
      "    End predicting variable Occupancy.\n",
      "End prediction at station 400218.\n",
      "Start time series prediction (DES) at station 400983...\n",
      "    Start predicting variable Speed...\n",
      "    End predicting variable Speed.\n",
      "    Start predicting variable Flow...\n",
      "    End predicting variable Flow.\n",
      "    Start predicting variable Occupancy...\n",
      "    End predicting variable Occupancy.\n",
      "End prediction at station 400983.\n",
      "Start time series prediction (DES) at station 400765...\n",
      "    Start predicting variable Speed...\n",
      "    End predicting variable Speed.\n",
      "    Start predicting variable Flow...\n",
      "    End predicting variable Flow.\n",
      "    Start predicting variable Occupancy...\n",
      "    End predicting variable Occupancy.\n",
      "End prediction at station 400765.\n",
      "Start time series prediction (DES) at station 400844...\n",
      "    Start predicting variable Speed...\n",
      "    End predicting variable Speed.\n",
      "    Start predicting variable Flow...\n",
      "    End predicting variable Flow.\n",
      "    Start predicting variable Occupancy...\n",
      "    End predicting variable Occupancy.\n",
      "End prediction at station 400844.\n",
      "Start time series prediction (DES) at station 400923...\n",
      "    Start predicting variable Speed...\n",
      "    End predicting variable Speed.\n",
      "    Start predicting variable Flow...\n",
      "    End predicting variable Flow.\n",
      "    Start predicting variable Occupancy...\n",
      "    End predicting variable Occupancy.\n",
      "End prediction at station 400923.\n",
      "Start time series prediction (DES) at station 401143...\n",
      "    Start predicting variable Speed...\n",
      "    End predicting variable Speed.\n",
      "    Start predicting variable Flow...\n",
      "    End predicting variable Flow.\n",
      "    Start predicting variable Occupancy...\n",
      "    End predicting variable Occupancy.\n",
      "End prediction at station 401143.\n",
      "Start time series prediction (DES) at station 401471...\n",
      "    Start predicting variable Speed...\n",
      "    End predicting variable Speed.\n",
      "    Start predicting variable Flow...\n",
      "    End predicting variable Flow.\n",
      "    Start predicting variable Occupancy...\n",
      "    End predicting variable Occupancy.\n",
      "End prediction at station 401471.\n"
     ]
    }
   ],
   "source": [
    "# initialization\n",
    "# initialize prediction dictionary\n",
    "pred_dict_train = dict()\n",
    "for var_name in var_names:\n",
    "    pred_dict_train[var_name] = []\n",
    "\n",
    "for station in stations:\n",
    "    print(\"Start time series prediction (DES) at station \" + str(station) + \"...\")\n",
    "    df_train_station = df_train.loc[df_train[\"Station ID\"] == station]\n",
    "    \n",
    "    # formulate predictions of speed, flow and occupancy for the station\n",
    "    for var_name in var_names:\n",
    "        print(\"    Start predicting variable \" + var_name + \"...\")\n",
    "        var_series = df_train_station[var_name].values\n",
    "        len_series = len(var_series)\n",
    "        # initialize s1, s2, and y\n",
    "        s1 = np.mean(var_series[:10])\n",
    "        s2 = s1\n",
    "        y = [0.] * len_series\n",
    "        # get the best alpha\n",
    "        var_best_alpha = best_alphas_df.loc[best_alphas_df[\"Station ID\"] == station][var_name].values[0]\n",
    "        beta = 1. - var_best_alpha\n",
    "\n",
    "        for t in range(11, len_series - 1):\n",
    "            s1 = var_best_alpha * var_series[t] + beta * s1\n",
    "            s2 = var_best_alpha * s1 + beta * s2\n",
    "            y[t+1] = 2 * s1 - s2 + alpha / beta * (s1 - s2)\n",
    "\n",
    "        # save the predictions to a dictionary\n",
    "        pred_dict_train[var_name].extend(y)\n",
    "        print(\"    End predicting variable \" + var_name + \".\")\n",
    "    print(\"End prediction at station \" + str(station) + \".\")"
   ]
  },
  {
   "cell_type": "code",
   "execution_count": 763,
   "metadata": {},
   "outputs": [],
   "source": [
    "pred_speed_train = pred_dict_train['Speed']\n",
    "pred_flow_train = pred_dict_train['Flow']\n",
    "pred_occ_train = pred_dict_train['Occupancy']"
   ]
  },
  {
   "cell_type": "code",
   "execution_count": 765,
   "metadata": {},
   "outputs": [
    {
     "data": {
      "text/plain": [
       "2467584"
      ]
     },
     "execution_count": 765,
     "metadata": {},
     "output_type": "execute_result"
    }
   ],
   "source": [
    "len(pred_speed_train)"
   ]
  },
  {
   "cell_type": "code",
   "execution_count": 766,
   "metadata": {},
   "outputs": [
    {
     "data": {
      "text/plain": [
       "2467584"
      ]
     },
     "execution_count": 766,
     "metadata": {},
     "output_type": "execute_result"
    }
   ],
   "source": [
    "len(df_train.index)"
   ]
  },
  {
   "cell_type": "code",
   "execution_count": 767,
   "metadata": {},
   "outputs": [
    {
     "data": {
      "text/html": [
       "<div>\n",
       "<style scoped>\n",
       "    .dataframe tbody tr th:only-of-type {\n",
       "        vertical-align: middle;\n",
       "    }\n",
       "\n",
       "    .dataframe tbody tr th {\n",
       "        vertical-align: top;\n",
       "    }\n",
       "\n",
       "    .dataframe thead th {\n",
       "        text-align: right;\n",
       "    }\n",
       "</style>\n",
       "<table border=\"1\" class=\"dataframe\">\n",
       "  <thead>\n",
       "    <tr style=\"text-align: right;\">\n",
       "      <th></th>\n",
       "      <th>Station ID</th>\n",
       "      <th>datetime</th>\n",
       "      <th>Occupancy</th>\n",
       "      <th>Flow</th>\n",
       "      <th>Speed</th>\n",
       "      <th>Date</th>\n",
       "      <th>Time</th>\n",
       "      <th>Pred Speed</th>\n",
       "      <th>Pred Flow</th>\n",
       "      <th>Pred Occupancy</th>\n",
       "    </tr>\n",
       "  </thead>\n",
       "  <tbody>\n",
       "    <tr>\n",
       "      <th>0</th>\n",
       "      <td>408907</td>\n",
       "      <td>2017-04-30 00:00:00</td>\n",
       "      <td>0.6</td>\n",
       "      <td>26.0</td>\n",
       "      <td>68.4</td>\n",
       "      <td>04/30/2017</td>\n",
       "      <td>00:00</td>\n",
       "      <td>0.0</td>\n",
       "      <td>0.0</td>\n",
       "      <td>0.0</td>\n",
       "    </tr>\n",
       "    <tr>\n",
       "      <th>1</th>\n",
       "      <td>408907</td>\n",
       "      <td>2017-04-30 00:05:00</td>\n",
       "      <td>1.1</td>\n",
       "      <td>42.0</td>\n",
       "      <td>67.5</td>\n",
       "      <td>04/30/2017</td>\n",
       "      <td>00:05</td>\n",
       "      <td>0.0</td>\n",
       "      <td>0.0</td>\n",
       "      <td>0.0</td>\n",
       "    </tr>\n",
       "    <tr>\n",
       "      <th>2</th>\n",
       "      <td>408907</td>\n",
       "      <td>2017-04-30 00:10:00</td>\n",
       "      <td>1.0</td>\n",
       "      <td>41.0</td>\n",
       "      <td>68.1</td>\n",
       "      <td>04/30/2017</td>\n",
       "      <td>00:10</td>\n",
       "      <td>0.0</td>\n",
       "      <td>0.0</td>\n",
       "      <td>0.0</td>\n",
       "    </tr>\n",
       "  </tbody>\n",
       "</table>\n",
       "</div>"
      ],
      "text/plain": [
       "   Station ID             datetime  Occupancy  Flow  Speed        Date   Time  \\\n",
       "0      408907  2017-04-30 00:00:00        0.6  26.0   68.4  04/30/2017  00:00   \n",
       "1      408907  2017-04-30 00:05:00        1.1  42.0   67.5  04/30/2017  00:05   \n",
       "2      408907  2017-04-30 00:10:00        1.0  41.0   68.1  04/30/2017  00:10   \n",
       "\n",
       "   Pred Speed  Pred Flow  Pred Occupancy  \n",
       "0         0.0        0.0             0.0  \n",
       "1         0.0        0.0             0.0  \n",
       "2         0.0        0.0             0.0  "
      ]
     },
     "execution_count": 767,
     "metadata": {},
     "output_type": "execute_result"
    }
   ],
   "source": [
    "df_train.head(3)"
   ]
  },
  {
   "cell_type": "code",
   "execution_count": 768,
   "metadata": {},
   "outputs": [],
   "source": [
    "for var_name in var_names:\n",
    "    df_train[\"Pred \" + var_name] = pred_dict_train[var_name]"
   ]
  },
  {
   "cell_type": "code",
   "execution_count": 769,
   "metadata": {},
   "outputs": [
    {
     "data": {
      "text/html": [
       "<div>\n",
       "<style scoped>\n",
       "    .dataframe tbody tr th:only-of-type {\n",
       "        vertical-align: middle;\n",
       "    }\n",
       "\n",
       "    .dataframe tbody tr th {\n",
       "        vertical-align: top;\n",
       "    }\n",
       "\n",
       "    .dataframe thead th {\n",
       "        text-align: right;\n",
       "    }\n",
       "</style>\n",
       "<table border=\"1\" class=\"dataframe\">\n",
       "  <thead>\n",
       "    <tr style=\"text-align: right;\">\n",
       "      <th></th>\n",
       "      <th>Station ID</th>\n",
       "      <th>datetime</th>\n",
       "      <th>Occupancy</th>\n",
       "      <th>Flow</th>\n",
       "      <th>Speed</th>\n",
       "      <th>Date</th>\n",
       "      <th>Time</th>\n",
       "      <th>Pred Speed</th>\n",
       "      <th>Pred Flow</th>\n",
       "      <th>Pred Occupancy</th>\n",
       "    </tr>\n",
       "  </thead>\n",
       "  <tbody>\n",
       "    <tr>\n",
       "      <th>1676</th>\n",
       "      <td>408907</td>\n",
       "      <td>2017-05-06 19:40:00</td>\n",
       "      <td>3.5</td>\n",
       "      <td>151.0</td>\n",
       "      <td>68.0</td>\n",
       "      <td>05/06/2017</td>\n",
       "      <td>19:40</td>\n",
       "      <td>66.114305</td>\n",
       "      <td>95.881423</td>\n",
       "      <td>2.543943</td>\n",
       "    </tr>\n",
       "    <tr>\n",
       "      <th>1677</th>\n",
       "      <td>408907</td>\n",
       "      <td>2017-05-06 19:45:00</td>\n",
       "      <td>3.7</td>\n",
       "      <td>162.0</td>\n",
       "      <td>68.3</td>\n",
       "      <td>05/06/2017</td>\n",
       "      <td>19:45</td>\n",
       "      <td>68.042863</td>\n",
       "      <td>105.796562</td>\n",
       "      <td>3.418121</td>\n",
       "    </tr>\n",
       "    <tr>\n",
       "      <th>1678</th>\n",
       "      <td>408907</td>\n",
       "      <td>2017-05-06 19:50:00</td>\n",
       "      <td>3.8</td>\n",
       "      <td>163.0</td>\n",
       "      <td>67.9</td>\n",
       "      <td>05/06/2017</td>\n",
       "      <td>19:50</td>\n",
       "      <td>68.664106</td>\n",
       "      <td>120.139040</td>\n",
       "      <td>3.897696</td>\n",
       "    </tr>\n",
       "    <tr>\n",
       "      <th>1679</th>\n",
       "      <td>408907</td>\n",
       "      <td>2017-05-06 19:55:00</td>\n",
       "      <td>3.3</td>\n",
       "      <td>143.0</td>\n",
       "      <td>67.6</td>\n",
       "      <td>05/06/2017</td>\n",
       "      <td>19:55</td>\n",
       "      <td>67.867707</td>\n",
       "      <td>131.548914</td>\n",
       "      <td>4.081295</td>\n",
       "    </tr>\n",
       "    <tr>\n",
       "      <th>1680</th>\n",
       "      <td>408907</td>\n",
       "      <td>2017-05-06 20:00:00</td>\n",
       "      <td>3.2</td>\n",
       "      <td>139.0</td>\n",
       "      <td>69.5</td>\n",
       "      <td>05/06/2017</td>\n",
       "      <td>20:00</td>\n",
       "      <td>67.329746</td>\n",
       "      <td>128.855685</td>\n",
       "      <td>3.395762</td>\n",
       "    </tr>\n",
       "  </tbody>\n",
       "</table>\n",
       "</div>"
      ],
      "text/plain": [
       "      Station ID             datetime  Occupancy   Flow  Speed        Date  \\\n",
       "1676      408907  2017-05-06 19:40:00        3.5  151.0   68.0  05/06/2017   \n",
       "1677      408907  2017-05-06 19:45:00        3.7  162.0   68.3  05/06/2017   \n",
       "1678      408907  2017-05-06 19:50:00        3.8  163.0   67.9  05/06/2017   \n",
       "1679      408907  2017-05-06 19:55:00        3.3  143.0   67.6  05/06/2017   \n",
       "1680      408907  2017-05-06 20:00:00        3.2  139.0   69.5  05/06/2017   \n",
       "\n",
       "       Time  Pred Speed   Pred Flow  Pred Occupancy  \n",
       "1676  19:40   66.114305   95.881423        2.543943  \n",
       "1677  19:45   68.042863  105.796562        3.418121  \n",
       "1678  19:50   68.664106  120.139040        3.897696  \n",
       "1679  19:55   67.867707  131.548914        4.081295  \n",
       "1680  20:00   67.329746  128.855685        3.395762  "
      ]
     },
     "execution_count": 769,
     "metadata": {},
     "output_type": "execute_result"
    }
   ],
   "source": [
    "df_train.iloc[1100:1105]"
   ]
  },
  {
   "cell_type": "code",
   "execution_count": 316,
   "metadata": {},
   "outputs": [],
   "source": [
    "df_train = df_train.drop([\"idx\"], axis=1)"
   ]
  },
  {
   "cell_type": "code",
   "execution_count": 770,
   "metadata": {},
   "outputs": [],
   "source": [
    "# save the final results of DES forecasting\n",
    "df_train.to_csv(base_path + \"post_DES_data.csv\", index=False)"
   ]
  },
  {
   "cell_type": "markdown",
   "metadata": {},
   "source": [
    "# SVM Module"
   ]
  },
  {
   "cell_type": "code",
   "execution_count": 413,
   "metadata": {},
   "outputs": [],
   "source": [
    "import datetime as dt"
   ]
  },
  {
   "cell_type": "markdown",
   "metadata": {},
   "source": [
    "There are two stages: 1. Feature vector generation (negative & positive); 2. SVM training."
   ]
  },
  {
   "cell_type": "markdown",
   "metadata": {},
   "source": [
    "## 1. Feature generation"
   ]
  },
  {
   "cell_type": "markdown",
   "metadata": {},
   "source": [
    "The difference between positive and negative features is only time.  Hence we need to construct two different vectors of time: negative times and positive times."
   ]
  },
  {
   "cell_type": "markdown",
   "metadata": {},
   "source": [
    "We can construct a list of road segments, which are tuples with the first item being the upstream station B, and the second item being the downstream E."
   ]
  },
  {
   "cell_type": "code",
   "execution_count": 320,
   "metadata": {},
   "outputs": [],
   "source": [
    "road_segments = list()\n",
    "for i in range(len(stations) - 1):\n",
    "    road_segments.append((stations[i], stations[i+1]))"
   ]
  },
  {
   "cell_type": "code",
   "execution_count": 322,
   "metadata": {},
   "outputs": [
    {
     "data": {
      "text/plain": [
       "101"
      ]
     },
     "execution_count": 322,
     "metadata": {},
     "output_type": "execute_result"
    }
   ],
   "source": [
    "len(road_segments)"
   ]
  },
  {
   "cell_type": "markdown",
   "metadata": {},
   "source": [
    "### 1.1 Construction of negative times"
   ]
  },
  {
   "cell_type": "markdown",
   "metadata": {},
   "source": [
    "The authors used *all* the instances generated from *all* detectors in *a day* **without** incidents as the negative input.  The day was randomly selected from the training dataset."
   ]
  },
  {
   "cell_type": "code",
   "execution_count": 372,
   "metadata": {},
   "outputs": [
    {
     "data": {
      "text/html": [
       "<div>\n",
       "<style scoped>\n",
       "    .dataframe tbody tr th:only-of-type {\n",
       "        vertical-align: middle;\n",
       "    }\n",
       "\n",
       "    .dataframe tbody tr th {\n",
       "        vertical-align: top;\n",
       "    }\n",
       "\n",
       "    .dataframe thead th {\n",
       "        text-align: right;\n",
       "    }\n",
       "</style>\n",
       "<table border=\"1\" class=\"dataframe\">\n",
       "  <thead>\n",
       "    <tr style=\"text-align: right;\">\n",
       "      <th></th>\n",
       "      <th>ID</th>\n",
       "      <th>Date</th>\n",
       "      <th>Time</th>\n",
       "      <th>Duration</th>\n",
       "      <th>Upstream</th>\n",
       "      <th>Downstream</th>\n",
       "    </tr>\n",
       "  </thead>\n",
       "  <tbody>\n",
       "    <tr>\n",
       "      <th>1</th>\n",
       "      <td>16917196</td>\n",
       "      <td>01/01/2017</td>\n",
       "      <td>02:14</td>\n",
       "      <td>14</td>\n",
       "      <td>400765</td>\n",
       "      <td>400844</td>\n",
       "    </tr>\n",
       "    <tr>\n",
       "      <th>2</th>\n",
       "      <td>16917233</td>\n",
       "      <td>01/01/2017</td>\n",
       "      <td>02:44</td>\n",
       "      <td>6</td>\n",
       "      <td>400309</td>\n",
       "      <td>400417</td>\n",
       "    </tr>\n",
       "    <tr>\n",
       "      <th>4</th>\n",
       "      <td>16917615</td>\n",
       "      <td>01/01/2017</td>\n",
       "      <td>09:25</td>\n",
       "      <td>12</td>\n",
       "      <td>408134</td>\n",
       "      <td>400685</td>\n",
       "    </tr>\n",
       "  </tbody>\n",
       "</table>\n",
       "</div>"
      ],
      "text/plain": [
       "         ID        Date   Time  Duration Upstream Downstream\n",
       "1  16917196  01/01/2017  02:14        14   400765     400844\n",
       "2  16917233  01/01/2017  02:44         6   400309     400417\n",
       "4  16917615  01/01/2017  09:25        12   408134     400685"
      ]
     },
     "execution_count": 372,
     "metadata": {},
     "output_type": "execute_result"
    }
   ],
   "source": [
    "valid_incidents.head(3)"
   ]
  },
  {
   "cell_type": "code",
   "execution_count": 374,
   "metadata": {},
   "outputs": [],
   "source": [
    "incident_dates = valid_incidents[\"Date\"].unique()\n",
    "neg_date_train = np.random.choice(list(set(dates_train).difference(set(incident_dates))))"
   ]
  },
  {
   "cell_type": "code",
   "execution_count": 375,
   "metadata": {},
   "outputs": [
    {
     "data": {
      "text/plain": [
       "datetime.date(2017, 7, 23)"
      ]
     },
     "execution_count": 375,
     "metadata": {},
     "output_type": "execute_result"
    }
   ],
   "source": [
    "neg_date_train"
   ]
  },
  {
   "cell_type": "code",
   "execution_count": 376,
   "metadata": {},
   "outputs": [],
   "source": [
    "neg_date_train_str = neg_date_train.strftime(\"%m/%d/%Y\")"
   ]
  },
  {
   "cell_type": "markdown",
   "metadata": {},
   "source": [
    "In our sample: we assume the first ten time slots were used to initialize daily traffic.  Therefore, we exclude '00:00' to '00:45'.  Moreover, since extra 4 timeslots are needed to construct a vector for an upstream detector station, an additional 4 time slots are trimmed from the dates.  In total, 14 time slots are excluded, and the time we choose fall between '01:10' and '23:55' inclusively."
   ]
  },
  {
   "cell_type": "markdown",
   "metadata": {},
   "source": [
    "*TODO* Is there a selection bias? What can we do to mitigate the effect of ignoring the pattern in over one hour?"
   ]
  },
  {
   "cell_type": "code",
   "execution_count": 640,
   "metadata": {},
   "outputs": [],
   "source": [
    "sample_times = df_train[\"Time\"].unique().tolist()"
   ]
  },
  {
   "cell_type": "code",
   "execution_count": 641,
   "metadata": {},
   "outputs": [
    {
     "data": {
      "text/plain": [
       "288"
      ]
     },
     "execution_count": 641,
     "metadata": {},
     "output_type": "execute_result"
    }
   ],
   "source": [
    "len(sample_times)"
   ]
  },
  {
   "cell_type": "code",
   "execution_count": 643,
   "metadata": {},
   "outputs": [
    {
     "name": "stdout",
     "output_type": "stream",
     "text": [
      "['00:00', '00:05', '00:10', '00:15', '00:20', '00:25', '00:30', '00:35', '00:40', '00:45', '00:50', '00:55', '01:00', '01:05']\n"
     ]
    }
   ],
   "source": [
    "print(sample_times[0:14])"
   ]
  },
  {
   "cell_type": "code",
   "execution_count": 435,
   "metadata": {},
   "outputs": [],
   "source": [
    "sample_times = sample_times[14:].tolist()"
   ]
  },
  {
   "cell_type": "code",
   "execution_count": 636,
   "metadata": {},
   "outputs": [
    {
     "data": {
      "text/plain": [
       "['01:10', '01:15', '01:20']"
      ]
     },
     "execution_count": 636,
     "metadata": {},
     "output_type": "execute_result"
    }
   ],
   "source": [
    "sample_times[0:3]"
   ]
  },
  {
   "cell_type": "code",
   "execution_count": 644,
   "metadata": {},
   "outputs": [],
   "source": [
    "neg_times = sample_times[14:]"
   ]
  },
  {
   "cell_type": "code",
   "execution_count": 645,
   "metadata": {},
   "outputs": [
    {
     "data": {
      "text/plain": [
       "['01:10', '01:15', '01:20']"
      ]
     },
     "execution_count": 645,
     "metadata": {},
     "output_type": "execute_result"
    }
   ],
   "source": [
    "neg_times[0:3]"
   ]
  },
  {
   "cell_type": "markdown",
   "metadata": {},
   "source": [
    "Working time is defined as the time when a TSA model has forecasts."
   ]
  },
  {
   "cell_type": "code",
   "execution_count": 648,
   "metadata": {},
   "outputs": [],
   "source": [
    "working_time = sample_times[10:]"
   ]
  },
  {
   "cell_type": "code",
   "execution_count": 649,
   "metadata": {},
   "outputs": [
    {
     "data": {
      "text/plain": [
       "['00:50', '00:55', '01:00']"
      ]
     },
     "execution_count": 649,
     "metadata": {},
     "output_type": "execute_result"
    }
   ],
   "source": [
    "working_time[0:3]"
   ]
  },
  {
   "cell_type": "markdown",
   "metadata": {},
   "source": [
    "### 1.2 Construction of positive times"
   ]
  },
  {
   "cell_type": "markdown",
   "metadata": {},
   "source": [
    "The authors used *all* instances *during the incident time* in the *training dataset* as positive instances."
   ]
  },
  {
   "cell_type": "markdown",
   "metadata": {},
   "source": [
    "To get the positive times we need a particular road segment."
   ]
  },
  {
   "cell_type": "code",
   "execution_count": 355,
   "metadata": {},
   "outputs": [],
   "source": [
    "num_segments = len(road_segments)\n",
    "sample_segment = road_segments[np.random.choice(num_segments)]"
   ]
  },
  {
   "cell_type": "code",
   "execution_count": 359,
   "metadata": {},
   "outputs": [
    {
     "data": {
      "text/plain": [
       "(408907, 400951)"
      ]
     },
     "execution_count": 359,
     "metadata": {},
     "output_type": "execute_result"
    }
   ],
   "source": [
    "sample_segment"
   ]
  },
  {
   "cell_type": "code",
   "execution_count": 360,
   "metadata": {},
   "outputs": [],
   "source": [
    "B, E = sample_segment"
   ]
  },
  {
   "cell_type": "code",
   "execution_count": 378,
   "metadata": {},
   "outputs": [
    {
     "data": {
      "text/html": [
       "<div>\n",
       "<style scoped>\n",
       "    .dataframe tbody tr th:only-of-type {\n",
       "        vertical-align: middle;\n",
       "    }\n",
       "\n",
       "    .dataframe tbody tr th {\n",
       "        vertical-align: top;\n",
       "    }\n",
       "\n",
       "    .dataframe thead th {\n",
       "        text-align: right;\n",
       "    }\n",
       "</style>\n",
       "<table border=\"1\" class=\"dataframe\">\n",
       "  <thead>\n",
       "    <tr style=\"text-align: right;\">\n",
       "      <th></th>\n",
       "      <th>ID</th>\n",
       "      <th>Date</th>\n",
       "      <th>Time</th>\n",
       "      <th>Duration</th>\n",
       "      <th>Upstream</th>\n",
       "      <th>Downstream</th>\n",
       "    </tr>\n",
       "  </thead>\n",
       "  <tbody>\n",
       "    <tr>\n",
       "      <th>1</th>\n",
       "      <td>16917196</td>\n",
       "      <td>01/01/2017</td>\n",
       "      <td>02:14</td>\n",
       "      <td>14</td>\n",
       "      <td>400765</td>\n",
       "      <td>400844</td>\n",
       "    </tr>\n",
       "    <tr>\n",
       "      <th>2</th>\n",
       "      <td>16917233</td>\n",
       "      <td>01/01/2017</td>\n",
       "      <td>02:44</td>\n",
       "      <td>6</td>\n",
       "      <td>400309</td>\n",
       "      <td>400417</td>\n",
       "    </tr>\n",
       "    <tr>\n",
       "      <th>4</th>\n",
       "      <td>16917615</td>\n",
       "      <td>01/01/2017</td>\n",
       "      <td>09:25</td>\n",
       "      <td>12</td>\n",
       "      <td>408134</td>\n",
       "      <td>400685</td>\n",
       "    </tr>\n",
       "  </tbody>\n",
       "</table>\n",
       "</div>"
      ],
      "text/plain": [
       "         ID        Date   Time  Duration Upstream Downstream\n",
       "1  16917196  01/01/2017  02:14        14   400765     400844\n",
       "2  16917233  01/01/2017  02:44         6   400309     400417\n",
       "4  16917615  01/01/2017  09:25        12   408134     400685"
      ]
     },
     "execution_count": 378,
     "metadata": {},
     "output_type": "execute_result"
    }
   ],
   "source": [
    "valid_incidents.head(3)"
   ]
  },
  {
   "cell_type": "code",
   "execution_count": 394,
   "metadata": {},
   "outputs": [],
   "source": [
    "# get all the date time tuples when there was an incident\n",
    "valid_incidents_train = valid_incidents.loc[valid_incidents[\"Date\"].isin(dates_train_str)]\n",
    "df_segment = valid_incidents_train.loc[valid_incidents_train[\"Upstream\"] == str(B)]"
   ]
  },
  {
   "cell_type": "code",
   "execution_count": 395,
   "metadata": {},
   "outputs": [
    {
     "data": {
      "text/html": [
       "<div>\n",
       "<style scoped>\n",
       "    .dataframe tbody tr th:only-of-type {\n",
       "        vertical-align: middle;\n",
       "    }\n",
       "\n",
       "    .dataframe tbody tr th {\n",
       "        vertical-align: top;\n",
       "    }\n",
       "\n",
       "    .dataframe thead th {\n",
       "        text-align: right;\n",
       "    }\n",
       "</style>\n",
       "<table border=\"1\" class=\"dataframe\">\n",
       "  <thead>\n",
       "    <tr style=\"text-align: right;\">\n",
       "      <th></th>\n",
       "      <th>ID</th>\n",
       "      <th>Date</th>\n",
       "      <th>Time</th>\n",
       "      <th>Duration</th>\n",
       "      <th>Upstream</th>\n",
       "      <th>Downstream</th>\n",
       "    </tr>\n",
       "  </thead>\n",
       "  <tbody>\n",
       "    <tr>\n",
       "      <th>2438</th>\n",
       "      <td>17200907</td>\n",
       "      <td>05/15/2017</td>\n",
       "      <td>13:49</td>\n",
       "      <td>26</td>\n",
       "      <td>408907</td>\n",
       "      <td>400951</td>\n",
       "    </tr>\n",
       "    <tr>\n",
       "      <th>2502</th>\n",
       "      <td>17208476</td>\n",
       "      <td>05/19/2017</td>\n",
       "      <td>05:27</td>\n",
       "      <td>22</td>\n",
       "      <td>408907</td>\n",
       "      <td>400951</td>\n",
       "    </tr>\n",
       "    <tr>\n",
       "      <th>5334</th>\n",
       "      <td>17538271</td>\n",
       "      <td>10/19/2017</td>\n",
       "      <td>07:13</td>\n",
       "      <td>156</td>\n",
       "      <td>408907</td>\n",
       "      <td>400951</td>\n",
       "    </tr>\n",
       "    <tr>\n",
       "      <th>6390</th>\n",
       "      <td>17650637</td>\n",
       "      <td>12/11/2017</td>\n",
       "      <td>09:49</td>\n",
       "      <td>5</td>\n",
       "      <td>408907</td>\n",
       "      <td>400951</td>\n",
       "    </tr>\n",
       "    <tr>\n",
       "      <th>6577</th>\n",
       "      <td>17670362</td>\n",
       "      <td>12/20/2017</td>\n",
       "      <td>12:37</td>\n",
       "      <td>7</td>\n",
       "      <td>408907</td>\n",
       "      <td>400951</td>\n",
       "    </tr>\n",
       "  </tbody>\n",
       "</table>\n",
       "</div>"
      ],
      "text/plain": [
       "            ID        Date   Time  Duration Upstream Downstream\n",
       "2438  17200907  05/15/2017  13:49        26   408907     400951\n",
       "2502  17208476  05/19/2017  05:27        22   408907     400951\n",
       "5334  17538271  10/19/2017  07:13       156   408907     400951\n",
       "6390  17650637  12/11/2017  09:49         5   408907     400951\n",
       "6577  17670362  12/20/2017  12:37         7   408907     400951"
      ]
     },
     "execution_count": 395,
     "metadata": {},
     "output_type": "execute_result"
    }
   ],
   "source": [
    "df_segment"
   ]
  },
  {
   "cell_type": "code",
   "execution_count": 396,
   "metadata": {},
   "outputs": [],
   "source": [
    "segment_dates = df_segment[\"Date\"].values\n",
    "segment_times = df_segment[\"Time\"].values\n",
    "segment_duration = df_segment[\"Duration\"].values"
   ]
  },
  {
   "cell_type": "code",
   "execution_count": 400,
   "metadata": {},
   "outputs": [],
   "source": [
    "num_segment_incidents = len(segment_dates)"
   ]
  },
  {
   "cell_type": "code",
   "execution_count": 401,
   "metadata": {},
   "outputs": [
    {
     "data": {
      "text/plain": [
       "5"
      ]
     },
     "execution_count": 401,
     "metadata": {},
     "output_type": "execute_result"
    }
   ],
   "source": [
    "num_segment_incidents"
   ]
  },
  {
   "cell_type": "code",
   "execution_count": 397,
   "metadata": {},
   "outputs": [
    {
     "data": {
      "text/plain": [
       "array(['05/15/2017', '05/19/2017', '10/19/2017', '12/11/2017',\n",
       "       '12/20/2017'], dtype=object)"
      ]
     },
     "execution_count": 397,
     "metadata": {},
     "output_type": "execute_result"
    }
   ],
   "source": [
    "segment_dates"
   ]
  },
  {
   "cell_type": "code",
   "execution_count": 398,
   "metadata": {
    "scrolled": true
   },
   "outputs": [
    {
     "data": {
      "text/plain": [
       "array(['13:49', '05:27', '07:13', '09:49', '12:37'], dtype=object)"
      ]
     },
     "execution_count": 398,
     "metadata": {},
     "output_type": "execute_result"
    }
   ],
   "source": [
    "segment_times"
   ]
  },
  {
   "cell_type": "code",
   "execution_count": 421,
   "metadata": {},
   "outputs": [],
   "source": [
    "segment_duration = segment_duration.tolist()"
   ]
  },
  {
   "cell_type": "code",
   "execution_count": 408,
   "metadata": {},
   "outputs": [],
   "source": [
    "def floor_datetime(dt_object):\n",
    "    minute = dt_object.minute\n",
    "    diff = minute % 5\n",
    "    \n",
    "    return dt_object.replace(minute=minute-diff)"
   ]
  },
  {
   "cell_type": "code",
   "execution_count": 414,
   "metadata": {},
   "outputs": [],
   "source": [
    "def ceil_datetime(dt_object):\n",
    "    minute = dt_object.minute\n",
    "    diff = minute % 5\n",
    "    \n",
    "    if diff != 0:\n",
    "        return dt_object + dt.timedelta(minutes=5-diff)\n",
    "    else:\n",
    "        return dt_object"
   ]
  },
  {
   "cell_type": "code",
   "execution_count": 409,
   "metadata": {},
   "outputs": [],
   "source": [
    "dummy_date = pd.Timestamp(segment_dates[0] + ' ' + segment_times[0] + ':00')"
   ]
  },
  {
   "cell_type": "code",
   "execution_count": 410,
   "metadata": {},
   "outputs": [],
   "source": [
    "dummy_date_floor = floor_datetime(dummy_date)"
   ]
  },
  {
   "cell_type": "code",
   "execution_count": 415,
   "metadata": {},
   "outputs": [],
   "source": [
    "dummy_date_ceil = ceil_datetime(dummy_date)"
   ]
  },
  {
   "cell_type": "code",
   "execution_count": 411,
   "metadata": {},
   "outputs": [
    {
     "data": {
      "text/plain": [
       "Timestamp('2017-05-15 13:49:00')"
      ]
     },
     "execution_count": 411,
     "metadata": {},
     "output_type": "execute_result"
    }
   ],
   "source": [
    "dummy_date"
   ]
  },
  {
   "cell_type": "code",
   "execution_count": 426,
   "metadata": {},
   "outputs": [],
   "source": [
    "pos_times = set()\n",
    "for i in range(num_segment_incidents):\n",
    "    start_dt = pd.Timestamp(segment_dates[i] + ' ' + segment_times[i] + ':00')\n",
    "    end_dt = start_dt + dt.timedelta(minutes=segment_duration[i])\n",
    "    rounded_start_dt = ceil_datetime(start_dt)\n",
    "    rounded_end_dt = floor_datetime(end_dt)\n",
    "    next_dt = rounded_start_dt\n",
    "    \n",
    "    while next_dt <= rounded_end_dt:\n",
    "        # note we should add a new object to pos_times\n",
    "        pos_times.add(next_dt)\n",
    "        next_dt += dt.timedelta(minutes=5)\n",
    "\n",
    "pos_times = sorted(pos_times)\n",
    "pos_times = list(map(lambda x: ( x.strftime('%m/%d/%Y'), x.strftime('%H:%M') ), pos_times))"
   ]
  },
  {
   "cell_type": "code",
   "execution_count": 446,
   "metadata": {},
   "outputs": [],
   "source": [
    "pos_times = [dt_tuple for dt_tuple in pos_times if dt_tuple[1] in sample_times]"
   ]
  },
  {
   "cell_type": "code",
   "execution_count": 447,
   "metadata": {},
   "outputs": [
    {
     "data": {
      "text/plain": [
       "[('05/15/2017', '13:50'), ('05/15/2017', '13:55'), ('05/15/2017', '14:00')]"
      ]
     },
     "execution_count": 447,
     "metadata": {},
     "output_type": "execute_result"
    }
   ],
   "source": [
    "pos_times[0:3]"
   ]
  },
  {
   "cell_type": "markdown",
   "metadata": {},
   "source": [
    "### 1.3 Feature vector generation"
   ]
  },
  {
   "cell_type": "markdown",
   "metadata": {},
   "source": [
    "So far we've finished the generation of timestamps for negative and positive instances.  How can we construct a feature vector using the above timestamps?"
   ]
  },
  {
   "cell_type": "markdown",
   "metadata": {},
   "source": [
    "Try to construct a feature vector at one time, for one station first, say, B:"
   ]
  },
  {
   "cell_type": "code",
   "execution_count": 449,
   "metadata": {},
   "outputs": [],
   "source": [
    "feature_B_t = []\n",
    "# construct list of time with four time lags\n",
    "d_B, t_B = neg_times[np.random.choice(len(neg_times))]\n",
    "B_lags = []"
   ]
  },
  {
   "cell_type": "code",
   "execution_count": 450,
   "metadata": {},
   "outputs": [],
   "source": [
    "dt_B = pd.Timestamp(d_B + ' ' + t_B + ':00')\n",
    "for i in range(5):\n",
    "    B_lags.append(dt_B - dt.timedelta(minutes=i*5))"
   ]
  },
  {
   "cell_type": "code",
   "execution_count": 452,
   "metadata": {},
   "outputs": [],
   "source": [
    "B_lags = list(map(lambda x: (x.strftime('%m/%d/%Y'), x.strftime('%H:%M')) , B_lags))"
   ]
  },
  {
   "cell_type": "code",
   "execution_count": 456,
   "metadata": {},
   "outputs": [],
   "source": [
    "for dt_lag in B_lags:\n",
    "    d_lag, t_lag = dt_lag\n",
    "    df_dt_lag = df_train.loc[(df_train[\"Station ID\"] == B) & (df_train[\"Date\"] == d_lag) & (df_train[\"Time\"] == t_lag)]\n",
    "    \n",
    "    speed_B_t = df_dt_lag[\"Speed\"].values[0]\n",
    "    flow_B_t = df_dt_lag[\"Flow\"].values[0]\n",
    "    occ_B_t = df_dt_lag[\"Occupancy\"].values[0]\n",
    "    \n",
    "    speed_pred_B_t = df_dt_lag[\"Pred Speed\"].values[0]\n",
    "    flow_pred_B_t = df_dt_lag[\"Pred Flow\"].values[0]\n",
    "    occ_pred_B_t = df_dt_lag[\"Pred Occupancy\"].values[0]\n",
    "    \n",
    "    feature_B_t.extend([speed_B_t, flow_B_t, occ_B_t, speed_pred_B_t, flow_pred_B_t, occ_pred_B_t, speed_B_t - speed_pred_B_t, flow_B_t - flow_pred_B_t, occ_B_t - occ_pred_B_t])"
   ]
  },
  {
   "cell_type": "code",
   "execution_count": 458,
   "metadata": {},
   "outputs": [
    {
     "data": {
      "text/plain": [
       "45"
      ]
     },
     "execution_count": 458,
     "metadata": {},
     "output_type": "execute_result"
    }
   ],
   "source": [
    "len(feature_B_t)"
   ]
  },
  {
   "cell_type": "markdown",
   "metadata": {},
   "source": [
    "Now construct all negative feature vectors for the sample road segment $s_{BE}$:"
   ]
  },
  {
   "cell_type": "code",
   "execution_count": 466,
   "metadata": {
    "scrolled": true
   },
   "outputs": [
    {
     "name": "stdout",
     "output_type": "stream",
     "text": [
      "Start constructing feature vectors for road segment: 408907, 400951...\n",
      "Total number of vectors: 274\n",
      "    Date and time: ('07/23/2017', '01:10')\n",
      "        ...Finished construction of upstream features.\n",
      "        ...Finished construction of downstream features.\n",
      "    ...[1/274] Feature vector at date and time ('07/23/2017', '01:10') is done.\n",
      "    Date and time: ('07/23/2017', '01:15')\n",
      "        ...Finished construction of upstream features.\n",
      "        ...Finished construction of downstream features.\n",
      "    ...[2/274] Feature vector at date and time ('07/23/2017', '01:15') is done.\n",
      "    Date and time: ('07/23/2017', '01:20')\n",
      "        ...Finished construction of upstream features.\n",
      "        ...Finished construction of downstream features.\n",
      "    ...[3/274] Feature vector at date and time ('07/23/2017', '01:20') is done.\n",
      "    Date and time: ('07/23/2017', '01:25')\n",
      "        ...Finished construction of upstream features.\n",
      "        ...Finished construction of downstream features.\n",
      "    ...[4/274] Feature vector at date and time ('07/23/2017', '01:25') is done.\n",
      "    Date and time: ('07/23/2017', '01:30')\n",
      "        ...Finished construction of upstream features.\n",
      "        ...Finished construction of downstream features.\n",
      "    ...[5/274] Feature vector at date and time ('07/23/2017', '01:30') is done.\n",
      "    Date and time: ('07/23/2017', '01:35')\n",
      "        ...Finished construction of upstream features.\n",
      "        ...Finished construction of downstream features.\n",
      "    ...[6/274] Feature vector at date and time ('07/23/2017', '01:35') is done.\n",
      "    Date and time: ('07/23/2017', '01:40')\n",
      "        ...Finished construction of upstream features.\n",
      "        ...Finished construction of downstream features.\n",
      "    ...[7/274] Feature vector at date and time ('07/23/2017', '01:40') is done.\n",
      "    Date and time: ('07/23/2017', '01:45')\n",
      "        ...Finished construction of upstream features.\n",
      "        ...Finished construction of downstream features.\n",
      "    ...[8/274] Feature vector at date and time ('07/23/2017', '01:45') is done.\n",
      "    Date and time: ('07/23/2017', '01:50')\n",
      "        ...Finished construction of upstream features.\n",
      "        ...Finished construction of downstream features.\n",
      "    ...[9/274] Feature vector at date and time ('07/23/2017', '01:50') is done.\n",
      "    Date and time: ('07/23/2017', '01:55')\n",
      "        ...Finished construction of upstream features.\n",
      "        ...Finished construction of downstream features.\n",
      "    ...[10/274] Feature vector at date and time ('07/23/2017', '01:55') is done.\n",
      "    Date and time: ('07/23/2017', '02:00')\n",
      "        ...Finished construction of upstream features.\n",
      "        ...Finished construction of downstream features.\n",
      "    ...[11/274] Feature vector at date and time ('07/23/2017', '02:00') is done.\n",
      "    Date and time: ('07/23/2017', '02:05')\n",
      "        ...Finished construction of upstream features.\n",
      "        ...Finished construction of downstream features.\n",
      "    ...[12/274] Feature vector at date and time ('07/23/2017', '02:05') is done.\n",
      "    Date and time: ('07/23/2017', '02:10')\n",
      "        ...Finished construction of upstream features.\n",
      "        ...Finished construction of downstream features.\n",
      "    ...[13/274] Feature vector at date and time ('07/23/2017', '02:10') is done.\n",
      "    Date and time: ('07/23/2017', '02:15')\n",
      "        ...Finished construction of upstream features.\n",
      "        ...Finished construction of downstream features.\n",
      "    ...[14/274] Feature vector at date and time ('07/23/2017', '02:15') is done.\n",
      "    Date and time: ('07/23/2017', '02:20')\n",
      "        ...Finished construction of upstream features.\n",
      "        ...Finished construction of downstream features.\n",
      "    ...[15/274] Feature vector at date and time ('07/23/2017', '02:20') is done.\n",
      "    Date and time: ('07/23/2017', '02:25')\n",
      "        ...Finished construction of upstream features.\n",
      "        ...Finished construction of downstream features.\n",
      "    ...[16/274] Feature vector at date and time ('07/23/2017', '02:25') is done.\n",
      "    Date and time: ('07/23/2017', '02:30')\n",
      "        ...Finished construction of upstream features.\n",
      "        ...Finished construction of downstream features.\n",
      "    ...[17/274] Feature vector at date and time ('07/23/2017', '02:30') is done.\n",
      "    Date and time: ('07/23/2017', '02:35')\n",
      "        ...Finished construction of upstream features.\n",
      "        ...Finished construction of downstream features.\n",
      "    ...[18/274] Feature vector at date and time ('07/23/2017', '02:35') is done.\n",
      "    Date and time: ('07/23/2017', '02:40')\n",
      "        ...Finished construction of upstream features.\n",
      "        ...Finished construction of downstream features.\n",
      "    ...[19/274] Feature vector at date and time ('07/23/2017', '02:40') is done.\n",
      "    Date and time: ('07/23/2017', '02:45')\n",
      "        ...Finished construction of upstream features.\n",
      "        ...Finished construction of downstream features.\n",
      "    ...[20/274] Feature vector at date and time ('07/23/2017', '02:45') is done.\n",
      "    Date and time: ('07/23/2017', '02:50')\n",
      "        ...Finished construction of upstream features.\n",
      "        ...Finished construction of downstream features.\n",
      "    ...[21/274] Feature vector at date and time ('07/23/2017', '02:50') is done.\n",
      "    Date and time: ('07/23/2017', '02:55')\n",
      "        ...Finished construction of upstream features.\n",
      "        ...Finished construction of downstream features.\n",
      "    ...[22/274] Feature vector at date and time ('07/23/2017', '02:55') is done.\n",
      "    Date and time: ('07/23/2017', '03:00')\n",
      "        ...Finished construction of upstream features.\n",
      "        ...Finished construction of downstream features.\n",
      "    ...[23/274] Feature vector at date and time ('07/23/2017', '03:00') is done.\n",
      "    Date and time: ('07/23/2017', '03:05')\n",
      "        ...Finished construction of upstream features.\n",
      "        ...Finished construction of downstream features.\n",
      "    ...[24/274] Feature vector at date and time ('07/23/2017', '03:05') is done.\n",
      "    Date and time: ('07/23/2017', '03:10')\n",
      "        ...Finished construction of upstream features.\n",
      "        ...Finished construction of downstream features.\n",
      "    ...[25/274] Feature vector at date and time ('07/23/2017', '03:10') is done.\n",
      "    Date and time: ('07/23/2017', '03:15')\n",
      "        ...Finished construction of upstream features.\n",
      "        ...Finished construction of downstream features.\n",
      "    ...[26/274] Feature vector at date and time ('07/23/2017', '03:15') is done.\n",
      "    Date and time: ('07/23/2017', '03:20')\n",
      "        ...Finished construction of upstream features.\n",
      "        ...Finished construction of downstream features.\n",
      "    ...[27/274] Feature vector at date and time ('07/23/2017', '03:20') is done.\n",
      "    Date and time: ('07/23/2017', '03:25')\n",
      "        ...Finished construction of upstream features.\n",
      "        ...Finished construction of downstream features.\n",
      "    ...[28/274] Feature vector at date and time ('07/23/2017', '03:25') is done.\n",
      "    Date and time: ('07/23/2017', '03:30')\n",
      "        ...Finished construction of upstream features.\n",
      "        ...Finished construction of downstream features.\n",
      "    ...[29/274] Feature vector at date and time ('07/23/2017', '03:30') is done.\n",
      "    Date and time: ('07/23/2017', '03:35')\n",
      "        ...Finished construction of upstream features.\n",
      "        ...Finished construction of downstream features.\n",
      "    ...[30/274] Feature vector at date and time ('07/23/2017', '03:35') is done.\n",
      "    Date and time: ('07/23/2017', '03:40')\n",
      "        ...Finished construction of upstream features.\n",
      "        ...Finished construction of downstream features.\n",
      "    ...[31/274] Feature vector at date and time ('07/23/2017', '03:40') is done.\n",
      "    Date and time: ('07/23/2017', '03:45')\n",
      "        ...Finished construction of upstream features.\n",
      "        ...Finished construction of downstream features.\n",
      "    ...[32/274] Feature vector at date and time ('07/23/2017', '03:45') is done.\n",
      "    Date and time: ('07/23/2017', '03:50')\n",
      "        ...Finished construction of upstream features.\n",
      "        ...Finished construction of downstream features.\n",
      "    ...[33/274] Feature vector at date and time ('07/23/2017', '03:50') is done.\n",
      "    Date and time: ('07/23/2017', '03:55')\n",
      "        ...Finished construction of upstream features.\n",
      "        ...Finished construction of downstream features.\n",
      "    ...[34/274] Feature vector at date and time ('07/23/2017', '03:55') is done.\n",
      "    Date and time: ('07/23/2017', '04:00')\n",
      "        ...Finished construction of upstream features.\n"
     ]
    },
    {
     "name": "stdout",
     "output_type": "stream",
     "text": [
      "        ...Finished construction of downstream features.\n",
      "    ...[35/274] Feature vector at date and time ('07/23/2017', '04:00') is done.\n",
      "    Date and time: ('07/23/2017', '04:05')\n",
      "        ...Finished construction of upstream features.\n",
      "        ...Finished construction of downstream features.\n",
      "    ...[36/274] Feature vector at date and time ('07/23/2017', '04:05') is done.\n",
      "    Date and time: ('07/23/2017', '04:10')\n",
      "        ...Finished construction of upstream features.\n",
      "        ...Finished construction of downstream features.\n",
      "    ...[37/274] Feature vector at date and time ('07/23/2017', '04:10') is done.\n",
      "    Date and time: ('07/23/2017', '04:15')\n",
      "        ...Finished construction of upstream features.\n",
      "        ...Finished construction of downstream features.\n",
      "    ...[38/274] Feature vector at date and time ('07/23/2017', '04:15') is done.\n",
      "    Date and time: ('07/23/2017', '04:20')\n",
      "        ...Finished construction of upstream features.\n",
      "        ...Finished construction of downstream features.\n",
      "    ...[39/274] Feature vector at date and time ('07/23/2017', '04:20') is done.\n",
      "    Date and time: ('07/23/2017', '04:25')\n",
      "        ...Finished construction of upstream features.\n",
      "        ...Finished construction of downstream features.\n",
      "    ...[40/274] Feature vector at date and time ('07/23/2017', '04:25') is done.\n",
      "    Date and time: ('07/23/2017', '04:30')\n",
      "        ...Finished construction of upstream features.\n",
      "        ...Finished construction of downstream features.\n",
      "    ...[41/274] Feature vector at date and time ('07/23/2017', '04:30') is done.\n",
      "    Date and time: ('07/23/2017', '04:35')\n",
      "        ...Finished construction of upstream features.\n",
      "        ...Finished construction of downstream features.\n",
      "    ...[42/274] Feature vector at date and time ('07/23/2017', '04:35') is done.\n",
      "    Date and time: ('07/23/2017', '04:40')\n",
      "        ...Finished construction of upstream features.\n",
      "        ...Finished construction of downstream features.\n",
      "    ...[43/274] Feature vector at date and time ('07/23/2017', '04:40') is done.\n",
      "    Date and time: ('07/23/2017', '04:45')\n",
      "        ...Finished construction of upstream features.\n",
      "        ...Finished construction of downstream features.\n",
      "    ...[44/274] Feature vector at date and time ('07/23/2017', '04:45') is done.\n",
      "    Date and time: ('07/23/2017', '04:50')\n",
      "        ...Finished construction of upstream features.\n",
      "        ...Finished construction of downstream features.\n",
      "    ...[45/274] Feature vector at date and time ('07/23/2017', '04:50') is done.\n",
      "    Date and time: ('07/23/2017', '04:55')\n",
      "        ...Finished construction of upstream features.\n",
      "        ...Finished construction of downstream features.\n",
      "    ...[46/274] Feature vector at date and time ('07/23/2017', '04:55') is done.\n",
      "    Date and time: ('07/23/2017', '05:00')\n",
      "        ...Finished construction of upstream features.\n",
      "        ...Finished construction of downstream features.\n",
      "    ...[47/274] Feature vector at date and time ('07/23/2017', '05:00') is done.\n",
      "    Date and time: ('07/23/2017', '05:05')\n",
      "        ...Finished construction of upstream features.\n",
      "        ...Finished construction of downstream features.\n",
      "    ...[48/274] Feature vector at date and time ('07/23/2017', '05:05') is done.\n",
      "    Date and time: ('07/23/2017', '05:10')\n",
      "        ...Finished construction of upstream features.\n",
      "        ...Finished construction of downstream features.\n",
      "    ...[49/274] Feature vector at date and time ('07/23/2017', '05:10') is done.\n",
      "    Date and time: ('07/23/2017', '05:15')\n",
      "        ...Finished construction of upstream features.\n",
      "        ...Finished construction of downstream features.\n",
      "    ...[50/274] Feature vector at date and time ('07/23/2017', '05:15') is done.\n",
      "    Date and time: ('07/23/2017', '05:20')\n",
      "        ...Finished construction of upstream features.\n",
      "        ...Finished construction of downstream features.\n",
      "    ...[51/274] Feature vector at date and time ('07/23/2017', '05:20') is done.\n",
      "    Date and time: ('07/23/2017', '05:25')\n",
      "        ...Finished construction of upstream features.\n",
      "        ...Finished construction of downstream features.\n",
      "    ...[52/274] Feature vector at date and time ('07/23/2017', '05:25') is done.\n",
      "    Date and time: ('07/23/2017', '05:30')\n",
      "        ...Finished construction of upstream features.\n",
      "        ...Finished construction of downstream features.\n",
      "    ...[53/274] Feature vector at date and time ('07/23/2017', '05:30') is done.\n",
      "    Date and time: ('07/23/2017', '05:35')\n",
      "        ...Finished construction of upstream features.\n",
      "        ...Finished construction of downstream features.\n",
      "    ...[54/274] Feature vector at date and time ('07/23/2017', '05:35') is done.\n",
      "    Date and time: ('07/23/2017', '05:40')\n",
      "        ...Finished construction of upstream features.\n",
      "        ...Finished construction of downstream features.\n",
      "    ...[55/274] Feature vector at date and time ('07/23/2017', '05:40') is done.\n",
      "    Date and time: ('07/23/2017', '05:45')\n",
      "        ...Finished construction of upstream features.\n",
      "        ...Finished construction of downstream features.\n",
      "    ...[56/274] Feature vector at date and time ('07/23/2017', '05:45') is done.\n",
      "    Date and time: ('07/23/2017', '05:50')\n",
      "        ...Finished construction of upstream features.\n",
      "        ...Finished construction of downstream features.\n",
      "    ...[57/274] Feature vector at date and time ('07/23/2017', '05:50') is done.\n",
      "    Date and time: ('07/23/2017', '05:55')\n",
      "        ...Finished construction of upstream features.\n",
      "        ...Finished construction of downstream features.\n",
      "    ...[58/274] Feature vector at date and time ('07/23/2017', '05:55') is done.\n",
      "    Date and time: ('07/23/2017', '06:00')\n",
      "        ...Finished construction of upstream features.\n",
      "        ...Finished construction of downstream features.\n",
      "    ...[59/274] Feature vector at date and time ('07/23/2017', '06:00') is done.\n",
      "    Date and time: ('07/23/2017', '06:05')\n",
      "        ...Finished construction of upstream features.\n",
      "        ...Finished construction of downstream features.\n",
      "    ...[60/274] Feature vector at date and time ('07/23/2017', '06:05') is done.\n",
      "    Date and time: ('07/23/2017', '06:10')\n",
      "        ...Finished construction of upstream features.\n",
      "        ...Finished construction of downstream features.\n",
      "    ...[61/274] Feature vector at date and time ('07/23/2017', '06:10') is done.\n",
      "    Date and time: ('07/23/2017', '06:15')\n",
      "        ...Finished construction of upstream features.\n",
      "        ...Finished construction of downstream features.\n",
      "    ...[62/274] Feature vector at date and time ('07/23/2017', '06:15') is done.\n",
      "    Date and time: ('07/23/2017', '06:20')\n",
      "        ...Finished construction of upstream features.\n",
      "        ...Finished construction of downstream features.\n",
      "    ...[63/274] Feature vector at date and time ('07/23/2017', '06:20') is done.\n",
      "    Date and time: ('07/23/2017', '06:25')\n",
      "        ...Finished construction of upstream features.\n",
      "        ...Finished construction of downstream features.\n",
      "    ...[64/274] Feature vector at date and time ('07/23/2017', '06:25') is done.\n",
      "    Date and time: ('07/23/2017', '06:30')\n",
      "        ...Finished construction of upstream features.\n",
      "        ...Finished construction of downstream features.\n",
      "    ...[65/274] Feature vector at date and time ('07/23/2017', '06:30') is done.\n",
      "    Date and time: ('07/23/2017', '06:35')\n",
      "        ...Finished construction of upstream features.\n",
      "        ...Finished construction of downstream features.\n",
      "    ...[66/274] Feature vector at date and time ('07/23/2017', '06:35') is done.\n",
      "    Date and time: ('07/23/2017', '06:40')\n",
      "        ...Finished construction of upstream features.\n",
      "        ...Finished construction of downstream features.\n",
      "    ...[67/274] Feature vector at date and time ('07/23/2017', '06:40') is done.\n",
      "    Date and time: ('07/23/2017', '06:45')\n",
      "        ...Finished construction of upstream features.\n",
      "        ...Finished construction of downstream features.\n",
      "    ...[68/274] Feature vector at date and time ('07/23/2017', '06:45') is done.\n",
      "    Date and time: ('07/23/2017', '06:50')\n",
      "        ...Finished construction of upstream features.\n",
      "        ...Finished construction of downstream features.\n",
      "    ...[69/274] Feature vector at date and time ('07/23/2017', '06:50') is done.\n",
      "    Date and time: ('07/23/2017', '06:55')\n"
     ]
    },
    {
     "name": "stdout",
     "output_type": "stream",
     "text": [
      "        ...Finished construction of upstream features.\n",
      "        ...Finished construction of downstream features.\n",
      "    ...[70/274] Feature vector at date and time ('07/23/2017', '06:55') is done.\n",
      "    Date and time: ('07/23/2017', '07:00')\n",
      "        ...Finished construction of upstream features.\n",
      "        ...Finished construction of downstream features.\n",
      "    ...[71/274] Feature vector at date and time ('07/23/2017', '07:00') is done.\n",
      "    Date and time: ('07/23/2017', '07:05')\n",
      "        ...Finished construction of upstream features.\n",
      "        ...Finished construction of downstream features.\n",
      "    ...[72/274] Feature vector at date and time ('07/23/2017', '07:05') is done.\n",
      "    Date and time: ('07/23/2017', '07:10')\n",
      "        ...Finished construction of upstream features.\n",
      "        ...Finished construction of downstream features.\n",
      "    ...[73/274] Feature vector at date and time ('07/23/2017', '07:10') is done.\n",
      "    Date and time: ('07/23/2017', '07:15')\n",
      "        ...Finished construction of upstream features.\n",
      "        ...Finished construction of downstream features.\n",
      "    ...[74/274] Feature vector at date and time ('07/23/2017', '07:15') is done.\n",
      "    Date and time: ('07/23/2017', '07:20')\n",
      "        ...Finished construction of upstream features.\n",
      "        ...Finished construction of downstream features.\n",
      "    ...[75/274] Feature vector at date and time ('07/23/2017', '07:20') is done.\n",
      "    Date and time: ('07/23/2017', '07:25')\n",
      "        ...Finished construction of upstream features.\n",
      "        ...Finished construction of downstream features.\n",
      "    ...[76/274] Feature vector at date and time ('07/23/2017', '07:25') is done.\n",
      "    Date and time: ('07/23/2017', '07:30')\n",
      "        ...Finished construction of upstream features.\n",
      "        ...Finished construction of downstream features.\n",
      "    ...[77/274] Feature vector at date and time ('07/23/2017', '07:30') is done.\n",
      "    Date and time: ('07/23/2017', '07:35')\n",
      "        ...Finished construction of upstream features.\n",
      "        ...Finished construction of downstream features.\n",
      "    ...[78/274] Feature vector at date and time ('07/23/2017', '07:35') is done.\n",
      "    Date and time: ('07/23/2017', '07:40')\n",
      "        ...Finished construction of upstream features.\n",
      "        ...Finished construction of downstream features.\n",
      "    ...[79/274] Feature vector at date and time ('07/23/2017', '07:40') is done.\n",
      "    Date and time: ('07/23/2017', '07:45')\n",
      "        ...Finished construction of upstream features.\n",
      "        ...Finished construction of downstream features.\n",
      "    ...[80/274] Feature vector at date and time ('07/23/2017', '07:45') is done.\n",
      "    Date and time: ('07/23/2017', '07:50')\n",
      "        ...Finished construction of upstream features.\n",
      "        ...Finished construction of downstream features.\n",
      "    ...[81/274] Feature vector at date and time ('07/23/2017', '07:50') is done.\n",
      "    Date and time: ('07/23/2017', '07:55')\n",
      "        ...Finished construction of upstream features.\n",
      "        ...Finished construction of downstream features.\n",
      "    ...[82/274] Feature vector at date and time ('07/23/2017', '07:55') is done.\n",
      "    Date and time: ('07/23/2017', '08:00')\n",
      "        ...Finished construction of upstream features.\n",
      "        ...Finished construction of downstream features.\n",
      "    ...[83/274] Feature vector at date and time ('07/23/2017', '08:00') is done.\n",
      "    Date and time: ('07/23/2017', '08:05')\n",
      "        ...Finished construction of upstream features.\n",
      "        ...Finished construction of downstream features.\n",
      "    ...[84/274] Feature vector at date and time ('07/23/2017', '08:05') is done.\n",
      "    Date and time: ('07/23/2017', '08:10')\n",
      "        ...Finished construction of upstream features.\n",
      "        ...Finished construction of downstream features.\n",
      "    ...[85/274] Feature vector at date and time ('07/23/2017', '08:10') is done.\n",
      "    Date and time: ('07/23/2017', '08:15')\n",
      "        ...Finished construction of upstream features.\n",
      "        ...Finished construction of downstream features.\n",
      "    ...[86/274] Feature vector at date and time ('07/23/2017', '08:15') is done.\n",
      "    Date and time: ('07/23/2017', '08:20')\n",
      "        ...Finished construction of upstream features.\n",
      "        ...Finished construction of downstream features.\n",
      "    ...[87/274] Feature vector at date and time ('07/23/2017', '08:20') is done.\n",
      "    Date and time: ('07/23/2017', '08:25')\n",
      "        ...Finished construction of upstream features.\n",
      "        ...Finished construction of downstream features.\n",
      "    ...[88/274] Feature vector at date and time ('07/23/2017', '08:25') is done.\n",
      "    Date and time: ('07/23/2017', '08:30')\n",
      "        ...Finished construction of upstream features.\n",
      "        ...Finished construction of downstream features.\n",
      "    ...[89/274] Feature vector at date and time ('07/23/2017', '08:30') is done.\n",
      "    Date and time: ('07/23/2017', '08:35')\n",
      "        ...Finished construction of upstream features.\n",
      "        ...Finished construction of downstream features.\n",
      "    ...[90/274] Feature vector at date and time ('07/23/2017', '08:35') is done.\n",
      "    Date and time: ('07/23/2017', '08:40')\n",
      "        ...Finished construction of upstream features.\n",
      "        ...Finished construction of downstream features.\n",
      "    ...[91/274] Feature vector at date and time ('07/23/2017', '08:40') is done.\n",
      "    Date and time: ('07/23/2017', '08:45')\n",
      "        ...Finished construction of upstream features.\n",
      "        ...Finished construction of downstream features.\n",
      "    ...[92/274] Feature vector at date and time ('07/23/2017', '08:45') is done.\n",
      "    Date and time: ('07/23/2017', '08:50')\n",
      "        ...Finished construction of upstream features.\n",
      "        ...Finished construction of downstream features.\n",
      "    ...[93/274] Feature vector at date and time ('07/23/2017', '08:50') is done.\n",
      "    Date and time: ('07/23/2017', '08:55')\n",
      "        ...Finished construction of upstream features.\n",
      "        ...Finished construction of downstream features.\n",
      "    ...[94/274] Feature vector at date and time ('07/23/2017', '08:55') is done.\n",
      "    Date and time: ('07/23/2017', '09:00')\n",
      "        ...Finished construction of upstream features.\n",
      "        ...Finished construction of downstream features.\n",
      "    ...[95/274] Feature vector at date and time ('07/23/2017', '09:00') is done.\n",
      "    Date and time: ('07/23/2017', '09:05')\n",
      "        ...Finished construction of upstream features.\n",
      "        ...Finished construction of downstream features.\n",
      "    ...[96/274] Feature vector at date and time ('07/23/2017', '09:05') is done.\n",
      "    Date and time: ('07/23/2017', '09:10')\n",
      "        ...Finished construction of upstream features.\n",
      "        ...Finished construction of downstream features.\n",
      "    ...[97/274] Feature vector at date and time ('07/23/2017', '09:10') is done.\n",
      "    Date and time: ('07/23/2017', '09:15')\n",
      "        ...Finished construction of upstream features.\n",
      "        ...Finished construction of downstream features.\n",
      "    ...[98/274] Feature vector at date and time ('07/23/2017', '09:15') is done.\n",
      "    Date and time: ('07/23/2017', '09:20')\n",
      "        ...Finished construction of upstream features.\n",
      "        ...Finished construction of downstream features.\n",
      "    ...[99/274] Feature vector at date and time ('07/23/2017', '09:20') is done.\n",
      "    Date and time: ('07/23/2017', '09:25')\n",
      "        ...Finished construction of upstream features.\n",
      "        ...Finished construction of downstream features.\n",
      "    ...[100/274] Feature vector at date and time ('07/23/2017', '09:25') is done.\n",
      "    Date and time: ('07/23/2017', '09:30')\n",
      "        ...Finished construction of upstream features.\n",
      "        ...Finished construction of downstream features.\n",
      "    ...[101/274] Feature vector at date and time ('07/23/2017', '09:30') is done.\n",
      "    Date and time: ('07/23/2017', '09:35')\n",
      "        ...Finished construction of upstream features.\n",
      "        ...Finished construction of downstream features.\n",
      "    ...[102/274] Feature vector at date and time ('07/23/2017', '09:35') is done.\n",
      "    Date and time: ('07/23/2017', '09:40')\n",
      "        ...Finished construction of upstream features.\n",
      "        ...Finished construction of downstream features.\n",
      "    ...[103/274] Feature vector at date and time ('07/23/2017', '09:40') is done.\n",
      "    Date and time: ('07/23/2017', '09:45')\n",
      "        ...Finished construction of upstream features.\n",
      "        ...Finished construction of downstream features.\n",
      "    ...[104/274] Feature vector at date and time ('07/23/2017', '09:45') is done.\n",
      "    Date and time: ('07/23/2017', '09:50')\n"
     ]
    },
    {
     "name": "stdout",
     "output_type": "stream",
     "text": [
      "        ...Finished construction of upstream features.\n",
      "        ...Finished construction of downstream features.\n",
      "    ...[105/274] Feature vector at date and time ('07/23/2017', '09:50') is done.\n",
      "    Date and time: ('07/23/2017', '09:55')\n",
      "        ...Finished construction of upstream features.\n",
      "        ...Finished construction of downstream features.\n",
      "    ...[106/274] Feature vector at date and time ('07/23/2017', '09:55') is done.\n",
      "    Date and time: ('07/23/2017', '10:00')\n",
      "        ...Finished construction of upstream features.\n",
      "        ...Finished construction of downstream features.\n",
      "    ...[107/274] Feature vector at date and time ('07/23/2017', '10:00') is done.\n",
      "    Date and time: ('07/23/2017', '10:05')\n",
      "        ...Finished construction of upstream features.\n",
      "        ...Finished construction of downstream features.\n",
      "    ...[108/274] Feature vector at date and time ('07/23/2017', '10:05') is done.\n",
      "    Date and time: ('07/23/2017', '10:10')\n",
      "        ...Finished construction of upstream features.\n",
      "        ...Finished construction of downstream features.\n",
      "    ...[109/274] Feature vector at date and time ('07/23/2017', '10:10') is done.\n",
      "    Date and time: ('07/23/2017', '10:15')\n",
      "        ...Finished construction of upstream features.\n",
      "        ...Finished construction of downstream features.\n",
      "    ...[110/274] Feature vector at date and time ('07/23/2017', '10:15') is done.\n",
      "    Date and time: ('07/23/2017', '10:20')\n",
      "        ...Finished construction of upstream features.\n",
      "        ...Finished construction of downstream features.\n",
      "    ...[111/274] Feature vector at date and time ('07/23/2017', '10:20') is done.\n",
      "    Date and time: ('07/23/2017', '10:25')\n",
      "        ...Finished construction of upstream features.\n",
      "        ...Finished construction of downstream features.\n",
      "    ...[112/274] Feature vector at date and time ('07/23/2017', '10:25') is done.\n",
      "    Date and time: ('07/23/2017', '10:30')\n",
      "        ...Finished construction of upstream features.\n",
      "        ...Finished construction of downstream features.\n",
      "    ...[113/274] Feature vector at date and time ('07/23/2017', '10:30') is done.\n",
      "    Date and time: ('07/23/2017', '10:35')\n",
      "        ...Finished construction of upstream features.\n",
      "        ...Finished construction of downstream features.\n",
      "    ...[114/274] Feature vector at date and time ('07/23/2017', '10:35') is done.\n",
      "    Date and time: ('07/23/2017', '10:40')\n",
      "        ...Finished construction of upstream features.\n",
      "        ...Finished construction of downstream features.\n",
      "    ...[115/274] Feature vector at date and time ('07/23/2017', '10:40') is done.\n",
      "    Date and time: ('07/23/2017', '10:45')\n",
      "        ...Finished construction of upstream features.\n",
      "        ...Finished construction of downstream features.\n",
      "    ...[116/274] Feature vector at date and time ('07/23/2017', '10:45') is done.\n",
      "    Date and time: ('07/23/2017', '10:50')\n",
      "        ...Finished construction of upstream features.\n",
      "        ...Finished construction of downstream features.\n",
      "    ...[117/274] Feature vector at date and time ('07/23/2017', '10:50') is done.\n",
      "    Date and time: ('07/23/2017', '10:55')\n",
      "        ...Finished construction of upstream features.\n",
      "        ...Finished construction of downstream features.\n",
      "    ...[118/274] Feature vector at date and time ('07/23/2017', '10:55') is done.\n",
      "    Date and time: ('07/23/2017', '11:00')\n",
      "        ...Finished construction of upstream features.\n",
      "        ...Finished construction of downstream features.\n",
      "    ...[119/274] Feature vector at date and time ('07/23/2017', '11:00') is done.\n",
      "    Date and time: ('07/23/2017', '11:05')\n",
      "        ...Finished construction of upstream features.\n",
      "        ...Finished construction of downstream features.\n",
      "    ...[120/274] Feature vector at date and time ('07/23/2017', '11:05') is done.\n",
      "    Date and time: ('07/23/2017', '11:10')\n",
      "        ...Finished construction of upstream features.\n",
      "        ...Finished construction of downstream features.\n",
      "    ...[121/274] Feature vector at date and time ('07/23/2017', '11:10') is done.\n",
      "    Date and time: ('07/23/2017', '11:15')\n",
      "        ...Finished construction of upstream features.\n",
      "        ...Finished construction of downstream features.\n",
      "    ...[122/274] Feature vector at date and time ('07/23/2017', '11:15') is done.\n",
      "    Date and time: ('07/23/2017', '11:20')\n",
      "        ...Finished construction of upstream features.\n",
      "        ...Finished construction of downstream features.\n",
      "    ...[123/274] Feature vector at date and time ('07/23/2017', '11:20') is done.\n",
      "    Date and time: ('07/23/2017', '11:25')\n",
      "        ...Finished construction of upstream features.\n",
      "        ...Finished construction of downstream features.\n",
      "    ...[124/274] Feature vector at date and time ('07/23/2017', '11:25') is done.\n",
      "    Date and time: ('07/23/2017', '11:30')\n",
      "        ...Finished construction of upstream features.\n",
      "        ...Finished construction of downstream features.\n",
      "    ...[125/274] Feature vector at date and time ('07/23/2017', '11:30') is done.\n",
      "    Date and time: ('07/23/2017', '11:35')\n",
      "        ...Finished construction of upstream features.\n",
      "        ...Finished construction of downstream features.\n",
      "    ...[126/274] Feature vector at date and time ('07/23/2017', '11:35') is done.\n",
      "    Date and time: ('07/23/2017', '11:40')\n",
      "        ...Finished construction of upstream features.\n",
      "        ...Finished construction of downstream features.\n",
      "    ...[127/274] Feature vector at date and time ('07/23/2017', '11:40') is done.\n",
      "    Date and time: ('07/23/2017', '11:45')\n",
      "        ...Finished construction of upstream features.\n",
      "        ...Finished construction of downstream features.\n",
      "    ...[128/274] Feature vector at date and time ('07/23/2017', '11:45') is done.\n",
      "    Date and time: ('07/23/2017', '11:50')\n",
      "        ...Finished construction of upstream features.\n",
      "        ...Finished construction of downstream features.\n",
      "    ...[129/274] Feature vector at date and time ('07/23/2017', '11:50') is done.\n",
      "    Date and time: ('07/23/2017', '11:55')\n",
      "        ...Finished construction of upstream features.\n",
      "        ...Finished construction of downstream features.\n",
      "    ...[130/274] Feature vector at date and time ('07/23/2017', '11:55') is done.\n",
      "    Date and time: ('07/23/2017', '12:00')\n",
      "        ...Finished construction of upstream features.\n",
      "        ...Finished construction of downstream features.\n",
      "    ...[131/274] Feature vector at date and time ('07/23/2017', '12:00') is done.\n",
      "    Date and time: ('07/23/2017', '12:05')\n",
      "        ...Finished construction of upstream features.\n",
      "        ...Finished construction of downstream features.\n",
      "    ...[132/274] Feature vector at date and time ('07/23/2017', '12:05') is done.\n",
      "    Date and time: ('07/23/2017', '12:10')\n",
      "        ...Finished construction of upstream features.\n",
      "        ...Finished construction of downstream features.\n",
      "    ...[133/274] Feature vector at date and time ('07/23/2017', '12:10') is done.\n",
      "    Date and time: ('07/23/2017', '12:15')\n",
      "        ...Finished construction of upstream features.\n",
      "        ...Finished construction of downstream features.\n",
      "    ...[134/274] Feature vector at date and time ('07/23/2017', '12:15') is done.\n",
      "    Date and time: ('07/23/2017', '12:20')\n",
      "        ...Finished construction of upstream features.\n",
      "        ...Finished construction of downstream features.\n",
      "    ...[135/274] Feature vector at date and time ('07/23/2017', '12:20') is done.\n",
      "    Date and time: ('07/23/2017', '12:25')\n",
      "        ...Finished construction of upstream features.\n",
      "        ...Finished construction of downstream features.\n",
      "    ...[136/274] Feature vector at date and time ('07/23/2017', '12:25') is done.\n",
      "    Date and time: ('07/23/2017', '12:30')\n",
      "        ...Finished construction of upstream features.\n",
      "        ...Finished construction of downstream features.\n",
      "    ...[137/274] Feature vector at date and time ('07/23/2017', '12:30') is done.\n",
      "    Date and time: ('07/23/2017', '12:35')\n",
      "        ...Finished construction of upstream features.\n",
      "        ...Finished construction of downstream features.\n",
      "    ...[138/274] Feature vector at date and time ('07/23/2017', '12:35') is done.\n",
      "    Date and time: ('07/23/2017', '12:40')\n",
      "        ...Finished construction of upstream features.\n",
      "        ...Finished construction of downstream features.\n",
      "    ...[139/274] Feature vector at date and time ('07/23/2017', '12:40') is done.\n",
      "    Date and time: ('07/23/2017', '12:45')\n"
     ]
    },
    {
     "name": "stdout",
     "output_type": "stream",
     "text": [
      "        ...Finished construction of upstream features.\n",
      "        ...Finished construction of downstream features.\n",
      "    ...[140/274] Feature vector at date and time ('07/23/2017', '12:45') is done.\n",
      "    Date and time: ('07/23/2017', '12:50')\n",
      "        ...Finished construction of upstream features.\n",
      "        ...Finished construction of downstream features.\n",
      "    ...[141/274] Feature vector at date and time ('07/23/2017', '12:50') is done.\n",
      "    Date and time: ('07/23/2017', '12:55')\n",
      "        ...Finished construction of upstream features.\n",
      "        ...Finished construction of downstream features.\n",
      "    ...[142/274] Feature vector at date and time ('07/23/2017', '12:55') is done.\n",
      "    Date and time: ('07/23/2017', '13:00')\n",
      "        ...Finished construction of upstream features.\n",
      "        ...Finished construction of downstream features.\n",
      "    ...[143/274] Feature vector at date and time ('07/23/2017', '13:00') is done.\n",
      "    Date and time: ('07/23/2017', '13:05')\n",
      "        ...Finished construction of upstream features.\n",
      "        ...Finished construction of downstream features.\n",
      "    ...[144/274] Feature vector at date and time ('07/23/2017', '13:05') is done.\n",
      "    Date and time: ('07/23/2017', '13:10')\n",
      "        ...Finished construction of upstream features.\n",
      "        ...Finished construction of downstream features.\n",
      "    ...[145/274] Feature vector at date and time ('07/23/2017', '13:10') is done.\n",
      "    Date and time: ('07/23/2017', '13:15')\n",
      "        ...Finished construction of upstream features.\n",
      "        ...Finished construction of downstream features.\n",
      "    ...[146/274] Feature vector at date and time ('07/23/2017', '13:15') is done.\n",
      "    Date and time: ('07/23/2017', '13:20')\n",
      "        ...Finished construction of upstream features.\n",
      "        ...Finished construction of downstream features.\n",
      "    ...[147/274] Feature vector at date and time ('07/23/2017', '13:20') is done.\n",
      "    Date and time: ('07/23/2017', '13:25')\n",
      "        ...Finished construction of upstream features.\n",
      "        ...Finished construction of downstream features.\n",
      "    ...[148/274] Feature vector at date and time ('07/23/2017', '13:25') is done.\n",
      "    Date and time: ('07/23/2017', '13:30')\n",
      "        ...Finished construction of upstream features.\n",
      "        ...Finished construction of downstream features.\n",
      "    ...[149/274] Feature vector at date and time ('07/23/2017', '13:30') is done.\n",
      "    Date and time: ('07/23/2017', '13:35')\n",
      "        ...Finished construction of upstream features.\n",
      "        ...Finished construction of downstream features.\n",
      "    ...[150/274] Feature vector at date and time ('07/23/2017', '13:35') is done.\n",
      "    Date and time: ('07/23/2017', '13:40')\n",
      "        ...Finished construction of upstream features.\n",
      "        ...Finished construction of downstream features.\n",
      "    ...[151/274] Feature vector at date and time ('07/23/2017', '13:40') is done.\n",
      "    Date and time: ('07/23/2017', '13:45')\n",
      "        ...Finished construction of upstream features.\n",
      "        ...Finished construction of downstream features.\n",
      "    ...[152/274] Feature vector at date and time ('07/23/2017', '13:45') is done.\n",
      "    Date and time: ('07/23/2017', '13:50')\n",
      "        ...Finished construction of upstream features.\n",
      "        ...Finished construction of downstream features.\n",
      "    ...[153/274] Feature vector at date and time ('07/23/2017', '13:50') is done.\n",
      "    Date and time: ('07/23/2017', '13:55')\n",
      "        ...Finished construction of upstream features.\n",
      "        ...Finished construction of downstream features.\n",
      "    ...[154/274] Feature vector at date and time ('07/23/2017', '13:55') is done.\n",
      "    Date and time: ('07/23/2017', '14:00')\n",
      "        ...Finished construction of upstream features.\n",
      "        ...Finished construction of downstream features.\n",
      "    ...[155/274] Feature vector at date and time ('07/23/2017', '14:00') is done.\n",
      "    Date and time: ('07/23/2017', '14:05')\n",
      "        ...Finished construction of upstream features.\n",
      "        ...Finished construction of downstream features.\n",
      "    ...[156/274] Feature vector at date and time ('07/23/2017', '14:05') is done.\n",
      "    Date and time: ('07/23/2017', '14:10')\n",
      "        ...Finished construction of upstream features.\n",
      "        ...Finished construction of downstream features.\n",
      "    ...[157/274] Feature vector at date and time ('07/23/2017', '14:10') is done.\n",
      "    Date and time: ('07/23/2017', '14:15')\n",
      "        ...Finished construction of upstream features.\n",
      "        ...Finished construction of downstream features.\n",
      "    ...[158/274] Feature vector at date and time ('07/23/2017', '14:15') is done.\n",
      "    Date and time: ('07/23/2017', '14:20')\n",
      "        ...Finished construction of upstream features.\n",
      "        ...Finished construction of downstream features.\n",
      "    ...[159/274] Feature vector at date and time ('07/23/2017', '14:20') is done.\n",
      "    Date and time: ('07/23/2017', '14:25')\n",
      "        ...Finished construction of upstream features.\n",
      "        ...Finished construction of downstream features.\n",
      "    ...[160/274] Feature vector at date and time ('07/23/2017', '14:25') is done.\n",
      "    Date and time: ('07/23/2017', '14:30')\n",
      "        ...Finished construction of upstream features.\n",
      "        ...Finished construction of downstream features.\n",
      "    ...[161/274] Feature vector at date and time ('07/23/2017', '14:30') is done.\n",
      "    Date and time: ('07/23/2017', '14:35')\n",
      "        ...Finished construction of upstream features.\n",
      "        ...Finished construction of downstream features.\n",
      "    ...[162/274] Feature vector at date and time ('07/23/2017', '14:35') is done.\n",
      "    Date and time: ('07/23/2017', '14:40')\n",
      "        ...Finished construction of upstream features.\n",
      "        ...Finished construction of downstream features.\n",
      "    ...[163/274] Feature vector at date and time ('07/23/2017', '14:40') is done.\n",
      "    Date and time: ('07/23/2017', '14:45')\n",
      "        ...Finished construction of upstream features.\n",
      "        ...Finished construction of downstream features.\n",
      "    ...[164/274] Feature vector at date and time ('07/23/2017', '14:45') is done.\n",
      "    Date and time: ('07/23/2017', '14:50')\n",
      "        ...Finished construction of upstream features.\n",
      "        ...Finished construction of downstream features.\n",
      "    ...[165/274] Feature vector at date and time ('07/23/2017', '14:50') is done.\n",
      "    Date and time: ('07/23/2017', '14:55')\n",
      "        ...Finished construction of upstream features.\n",
      "        ...Finished construction of downstream features.\n",
      "    ...[166/274] Feature vector at date and time ('07/23/2017', '14:55') is done.\n",
      "    Date and time: ('07/23/2017', '15:00')\n",
      "        ...Finished construction of upstream features.\n",
      "        ...Finished construction of downstream features.\n",
      "    ...[167/274] Feature vector at date and time ('07/23/2017', '15:00') is done.\n",
      "    Date and time: ('07/23/2017', '15:05')\n",
      "        ...Finished construction of upstream features.\n",
      "        ...Finished construction of downstream features.\n",
      "    ...[168/274] Feature vector at date and time ('07/23/2017', '15:05') is done.\n",
      "    Date and time: ('07/23/2017', '15:10')\n",
      "        ...Finished construction of upstream features.\n",
      "        ...Finished construction of downstream features.\n",
      "    ...[169/274] Feature vector at date and time ('07/23/2017', '15:10') is done.\n",
      "    Date and time: ('07/23/2017', '15:15')\n",
      "        ...Finished construction of upstream features.\n",
      "        ...Finished construction of downstream features.\n",
      "    ...[170/274] Feature vector at date and time ('07/23/2017', '15:15') is done.\n",
      "    Date and time: ('07/23/2017', '15:20')\n",
      "        ...Finished construction of upstream features.\n",
      "        ...Finished construction of downstream features.\n",
      "    ...[171/274] Feature vector at date and time ('07/23/2017', '15:20') is done.\n",
      "    Date and time: ('07/23/2017', '15:25')\n",
      "        ...Finished construction of upstream features.\n",
      "        ...Finished construction of downstream features.\n",
      "    ...[172/274] Feature vector at date and time ('07/23/2017', '15:25') is done.\n",
      "    Date and time: ('07/23/2017', '15:30')\n",
      "        ...Finished construction of upstream features.\n",
      "        ...Finished construction of downstream features.\n",
      "    ...[173/274] Feature vector at date and time ('07/23/2017', '15:30') is done.\n",
      "    Date and time: ('07/23/2017', '15:35')\n",
      "        ...Finished construction of upstream features.\n",
      "        ...Finished construction of downstream features.\n",
      "    ...[174/274] Feature vector at date and time ('07/23/2017', '15:35') is done.\n",
      "    Date and time: ('07/23/2017', '15:40')\n"
     ]
    },
    {
     "name": "stdout",
     "output_type": "stream",
     "text": [
      "        ...Finished construction of upstream features.\n",
      "        ...Finished construction of downstream features.\n",
      "    ...[175/274] Feature vector at date and time ('07/23/2017', '15:40') is done.\n",
      "    Date and time: ('07/23/2017', '15:45')\n",
      "        ...Finished construction of upstream features.\n",
      "        ...Finished construction of downstream features.\n",
      "    ...[176/274] Feature vector at date and time ('07/23/2017', '15:45') is done.\n",
      "    Date and time: ('07/23/2017', '15:50')\n",
      "        ...Finished construction of upstream features.\n",
      "        ...Finished construction of downstream features.\n",
      "    ...[177/274] Feature vector at date and time ('07/23/2017', '15:50') is done.\n",
      "    Date and time: ('07/23/2017', '15:55')\n",
      "        ...Finished construction of upstream features.\n",
      "        ...Finished construction of downstream features.\n",
      "    ...[178/274] Feature vector at date and time ('07/23/2017', '15:55') is done.\n",
      "    Date and time: ('07/23/2017', '16:00')\n",
      "        ...Finished construction of upstream features.\n",
      "        ...Finished construction of downstream features.\n",
      "    ...[179/274] Feature vector at date and time ('07/23/2017', '16:00') is done.\n",
      "    Date and time: ('07/23/2017', '16:05')\n",
      "        ...Finished construction of upstream features.\n",
      "        ...Finished construction of downstream features.\n",
      "    ...[180/274] Feature vector at date and time ('07/23/2017', '16:05') is done.\n",
      "    Date and time: ('07/23/2017', '16:10')\n",
      "        ...Finished construction of upstream features.\n",
      "        ...Finished construction of downstream features.\n",
      "    ...[181/274] Feature vector at date and time ('07/23/2017', '16:10') is done.\n",
      "    Date and time: ('07/23/2017', '16:15')\n",
      "        ...Finished construction of upstream features.\n",
      "        ...Finished construction of downstream features.\n",
      "    ...[182/274] Feature vector at date and time ('07/23/2017', '16:15') is done.\n",
      "    Date and time: ('07/23/2017', '16:20')\n",
      "        ...Finished construction of upstream features.\n",
      "        ...Finished construction of downstream features.\n",
      "    ...[183/274] Feature vector at date and time ('07/23/2017', '16:20') is done.\n",
      "    Date and time: ('07/23/2017', '16:25')\n",
      "        ...Finished construction of upstream features.\n",
      "        ...Finished construction of downstream features.\n",
      "    ...[184/274] Feature vector at date and time ('07/23/2017', '16:25') is done.\n",
      "    Date and time: ('07/23/2017', '16:30')\n",
      "        ...Finished construction of upstream features.\n",
      "        ...Finished construction of downstream features.\n",
      "    ...[185/274] Feature vector at date and time ('07/23/2017', '16:30') is done.\n",
      "    Date and time: ('07/23/2017', '16:35')\n",
      "        ...Finished construction of upstream features.\n",
      "        ...Finished construction of downstream features.\n",
      "    ...[186/274] Feature vector at date and time ('07/23/2017', '16:35') is done.\n",
      "    Date and time: ('07/23/2017', '16:40')\n",
      "        ...Finished construction of upstream features.\n",
      "        ...Finished construction of downstream features.\n",
      "    ...[187/274] Feature vector at date and time ('07/23/2017', '16:40') is done.\n",
      "    Date and time: ('07/23/2017', '16:45')\n",
      "        ...Finished construction of upstream features.\n",
      "        ...Finished construction of downstream features.\n",
      "    ...[188/274] Feature vector at date and time ('07/23/2017', '16:45') is done.\n",
      "    Date and time: ('07/23/2017', '16:50')\n",
      "        ...Finished construction of upstream features.\n",
      "        ...Finished construction of downstream features.\n",
      "    ...[189/274] Feature vector at date and time ('07/23/2017', '16:50') is done.\n",
      "    Date and time: ('07/23/2017', '16:55')\n",
      "        ...Finished construction of upstream features.\n",
      "        ...Finished construction of downstream features.\n",
      "    ...[190/274] Feature vector at date and time ('07/23/2017', '16:55') is done.\n",
      "    Date and time: ('07/23/2017', '17:00')\n",
      "        ...Finished construction of upstream features.\n",
      "        ...Finished construction of downstream features.\n",
      "    ...[191/274] Feature vector at date and time ('07/23/2017', '17:00') is done.\n",
      "    Date and time: ('07/23/2017', '17:05')\n",
      "        ...Finished construction of upstream features.\n",
      "        ...Finished construction of downstream features.\n",
      "    ...[192/274] Feature vector at date and time ('07/23/2017', '17:05') is done.\n",
      "    Date and time: ('07/23/2017', '17:10')\n",
      "        ...Finished construction of upstream features.\n",
      "        ...Finished construction of downstream features.\n",
      "    ...[193/274] Feature vector at date and time ('07/23/2017', '17:10') is done.\n",
      "    Date and time: ('07/23/2017', '17:15')\n",
      "        ...Finished construction of upstream features.\n",
      "        ...Finished construction of downstream features.\n",
      "    ...[194/274] Feature vector at date and time ('07/23/2017', '17:15') is done.\n",
      "    Date and time: ('07/23/2017', '17:20')\n",
      "        ...Finished construction of upstream features.\n",
      "        ...Finished construction of downstream features.\n",
      "    ...[195/274] Feature vector at date and time ('07/23/2017', '17:20') is done.\n",
      "    Date and time: ('07/23/2017', '17:25')\n",
      "        ...Finished construction of upstream features.\n",
      "        ...Finished construction of downstream features.\n",
      "    ...[196/274] Feature vector at date and time ('07/23/2017', '17:25') is done.\n",
      "    Date and time: ('07/23/2017', '17:30')\n",
      "        ...Finished construction of upstream features.\n",
      "        ...Finished construction of downstream features.\n",
      "    ...[197/274] Feature vector at date and time ('07/23/2017', '17:30') is done.\n",
      "    Date and time: ('07/23/2017', '17:35')\n",
      "        ...Finished construction of upstream features.\n",
      "        ...Finished construction of downstream features.\n",
      "    ...[198/274] Feature vector at date and time ('07/23/2017', '17:35') is done.\n",
      "    Date and time: ('07/23/2017', '17:40')\n",
      "        ...Finished construction of upstream features.\n",
      "        ...Finished construction of downstream features.\n",
      "    ...[199/274] Feature vector at date and time ('07/23/2017', '17:40') is done.\n",
      "    Date and time: ('07/23/2017', '17:45')\n",
      "        ...Finished construction of upstream features.\n",
      "        ...Finished construction of downstream features.\n",
      "    ...[200/274] Feature vector at date and time ('07/23/2017', '17:45') is done.\n",
      "    Date and time: ('07/23/2017', '17:50')\n",
      "        ...Finished construction of upstream features.\n",
      "        ...Finished construction of downstream features.\n",
      "    ...[201/274] Feature vector at date and time ('07/23/2017', '17:50') is done.\n",
      "    Date and time: ('07/23/2017', '17:55')\n",
      "        ...Finished construction of upstream features.\n",
      "        ...Finished construction of downstream features.\n",
      "    ...[202/274] Feature vector at date and time ('07/23/2017', '17:55') is done.\n",
      "    Date and time: ('07/23/2017', '18:00')\n",
      "        ...Finished construction of upstream features.\n",
      "        ...Finished construction of downstream features.\n",
      "    ...[203/274] Feature vector at date and time ('07/23/2017', '18:00') is done.\n",
      "    Date and time: ('07/23/2017', '18:05')\n",
      "        ...Finished construction of upstream features.\n",
      "        ...Finished construction of downstream features.\n",
      "    ...[204/274] Feature vector at date and time ('07/23/2017', '18:05') is done.\n",
      "    Date and time: ('07/23/2017', '18:10')\n",
      "        ...Finished construction of upstream features.\n",
      "        ...Finished construction of downstream features.\n",
      "    ...[205/274] Feature vector at date and time ('07/23/2017', '18:10') is done.\n",
      "    Date and time: ('07/23/2017', '18:15')\n",
      "        ...Finished construction of upstream features.\n",
      "        ...Finished construction of downstream features.\n",
      "    ...[206/274] Feature vector at date and time ('07/23/2017', '18:15') is done.\n",
      "    Date and time: ('07/23/2017', '18:20')\n",
      "        ...Finished construction of upstream features.\n",
      "        ...Finished construction of downstream features.\n",
      "    ...[207/274] Feature vector at date and time ('07/23/2017', '18:20') is done.\n",
      "    Date and time: ('07/23/2017', '18:25')\n",
      "        ...Finished construction of upstream features.\n",
      "        ...Finished construction of downstream features.\n",
      "    ...[208/274] Feature vector at date and time ('07/23/2017', '18:25') is done.\n",
      "    Date and time: ('07/23/2017', '18:30')\n",
      "        ...Finished construction of upstream features.\n",
      "        ...Finished construction of downstream features.\n",
      "    ...[209/274] Feature vector at date and time ('07/23/2017', '18:30') is done.\n",
      "    Date and time: ('07/23/2017', '18:35')\n"
     ]
    },
    {
     "name": "stdout",
     "output_type": "stream",
     "text": [
      "        ...Finished construction of upstream features.\n",
      "        ...Finished construction of downstream features.\n",
      "    ...[210/274] Feature vector at date and time ('07/23/2017', '18:35') is done.\n",
      "    Date and time: ('07/23/2017', '18:40')\n",
      "        ...Finished construction of upstream features.\n",
      "        ...Finished construction of downstream features.\n",
      "    ...[211/274] Feature vector at date and time ('07/23/2017', '18:40') is done.\n",
      "    Date and time: ('07/23/2017', '18:45')\n",
      "        ...Finished construction of upstream features.\n",
      "        ...Finished construction of downstream features.\n",
      "    ...[212/274] Feature vector at date and time ('07/23/2017', '18:45') is done.\n",
      "    Date and time: ('07/23/2017', '18:50')\n",
      "        ...Finished construction of upstream features.\n",
      "        ...Finished construction of downstream features.\n",
      "    ...[213/274] Feature vector at date and time ('07/23/2017', '18:50') is done.\n",
      "    Date and time: ('07/23/2017', '18:55')\n",
      "        ...Finished construction of upstream features.\n",
      "        ...Finished construction of downstream features.\n",
      "    ...[214/274] Feature vector at date and time ('07/23/2017', '18:55') is done.\n",
      "    Date and time: ('07/23/2017', '19:00')\n",
      "        ...Finished construction of upstream features.\n",
      "        ...Finished construction of downstream features.\n",
      "    ...[215/274] Feature vector at date and time ('07/23/2017', '19:00') is done.\n",
      "    Date and time: ('07/23/2017', '19:05')\n",
      "        ...Finished construction of upstream features.\n",
      "        ...Finished construction of downstream features.\n",
      "    ...[216/274] Feature vector at date and time ('07/23/2017', '19:05') is done.\n",
      "    Date and time: ('07/23/2017', '19:10')\n",
      "        ...Finished construction of upstream features.\n",
      "        ...Finished construction of downstream features.\n",
      "    ...[217/274] Feature vector at date and time ('07/23/2017', '19:10') is done.\n",
      "    Date and time: ('07/23/2017', '19:15')\n",
      "        ...Finished construction of upstream features.\n",
      "        ...Finished construction of downstream features.\n",
      "    ...[218/274] Feature vector at date and time ('07/23/2017', '19:15') is done.\n",
      "    Date and time: ('07/23/2017', '19:20')\n",
      "        ...Finished construction of upstream features.\n",
      "        ...Finished construction of downstream features.\n",
      "    ...[219/274] Feature vector at date and time ('07/23/2017', '19:20') is done.\n",
      "    Date and time: ('07/23/2017', '19:25')\n",
      "        ...Finished construction of upstream features.\n",
      "        ...Finished construction of downstream features.\n",
      "    ...[220/274] Feature vector at date and time ('07/23/2017', '19:25') is done.\n",
      "    Date and time: ('07/23/2017', '19:30')\n",
      "        ...Finished construction of upstream features.\n",
      "        ...Finished construction of downstream features.\n",
      "    ...[221/274] Feature vector at date and time ('07/23/2017', '19:30') is done.\n",
      "    Date and time: ('07/23/2017', '19:35')\n",
      "        ...Finished construction of upstream features.\n",
      "        ...Finished construction of downstream features.\n",
      "    ...[222/274] Feature vector at date and time ('07/23/2017', '19:35') is done.\n",
      "    Date and time: ('07/23/2017', '19:40')\n",
      "        ...Finished construction of upstream features.\n",
      "        ...Finished construction of downstream features.\n",
      "    ...[223/274] Feature vector at date and time ('07/23/2017', '19:40') is done.\n",
      "    Date and time: ('07/23/2017', '19:45')\n",
      "        ...Finished construction of upstream features.\n",
      "        ...Finished construction of downstream features.\n",
      "    ...[224/274] Feature vector at date and time ('07/23/2017', '19:45') is done.\n",
      "    Date and time: ('07/23/2017', '19:50')\n",
      "        ...Finished construction of upstream features.\n",
      "        ...Finished construction of downstream features.\n",
      "    ...[225/274] Feature vector at date and time ('07/23/2017', '19:50') is done.\n",
      "    Date and time: ('07/23/2017', '19:55')\n",
      "        ...Finished construction of upstream features.\n",
      "        ...Finished construction of downstream features.\n",
      "    ...[226/274] Feature vector at date and time ('07/23/2017', '19:55') is done.\n",
      "    Date and time: ('07/23/2017', '20:00')\n",
      "        ...Finished construction of upstream features.\n",
      "        ...Finished construction of downstream features.\n",
      "    ...[227/274] Feature vector at date and time ('07/23/2017', '20:00') is done.\n",
      "    Date and time: ('07/23/2017', '20:05')\n",
      "        ...Finished construction of upstream features.\n",
      "        ...Finished construction of downstream features.\n",
      "    ...[228/274] Feature vector at date and time ('07/23/2017', '20:05') is done.\n",
      "    Date and time: ('07/23/2017', '20:10')\n",
      "        ...Finished construction of upstream features.\n",
      "        ...Finished construction of downstream features.\n",
      "    ...[229/274] Feature vector at date and time ('07/23/2017', '20:10') is done.\n",
      "    Date and time: ('07/23/2017', '20:15')\n",
      "        ...Finished construction of upstream features.\n",
      "        ...Finished construction of downstream features.\n",
      "    ...[230/274] Feature vector at date and time ('07/23/2017', '20:15') is done.\n",
      "    Date and time: ('07/23/2017', '20:20')\n",
      "        ...Finished construction of upstream features.\n",
      "        ...Finished construction of downstream features.\n",
      "    ...[231/274] Feature vector at date and time ('07/23/2017', '20:20') is done.\n",
      "    Date and time: ('07/23/2017', '20:25')\n",
      "        ...Finished construction of upstream features.\n",
      "        ...Finished construction of downstream features.\n",
      "    ...[232/274] Feature vector at date and time ('07/23/2017', '20:25') is done.\n",
      "    Date and time: ('07/23/2017', '20:30')\n",
      "        ...Finished construction of upstream features.\n",
      "        ...Finished construction of downstream features.\n",
      "    ...[233/274] Feature vector at date and time ('07/23/2017', '20:30') is done.\n",
      "    Date and time: ('07/23/2017', '20:35')\n",
      "        ...Finished construction of upstream features.\n",
      "        ...Finished construction of downstream features.\n",
      "    ...[234/274] Feature vector at date and time ('07/23/2017', '20:35') is done.\n",
      "    Date and time: ('07/23/2017', '20:40')\n",
      "        ...Finished construction of upstream features.\n",
      "        ...Finished construction of downstream features.\n",
      "    ...[235/274] Feature vector at date and time ('07/23/2017', '20:40') is done.\n",
      "    Date and time: ('07/23/2017', '20:45')\n",
      "        ...Finished construction of upstream features.\n",
      "        ...Finished construction of downstream features.\n",
      "    ...[236/274] Feature vector at date and time ('07/23/2017', '20:45') is done.\n",
      "    Date and time: ('07/23/2017', '20:50')\n",
      "        ...Finished construction of upstream features.\n",
      "        ...Finished construction of downstream features.\n",
      "    ...[237/274] Feature vector at date and time ('07/23/2017', '20:50') is done.\n",
      "    Date and time: ('07/23/2017', '20:55')\n",
      "        ...Finished construction of upstream features.\n",
      "        ...Finished construction of downstream features.\n",
      "    ...[238/274] Feature vector at date and time ('07/23/2017', '20:55') is done.\n",
      "    Date and time: ('07/23/2017', '21:00')\n",
      "        ...Finished construction of upstream features.\n",
      "        ...Finished construction of downstream features.\n",
      "    ...[239/274] Feature vector at date and time ('07/23/2017', '21:00') is done.\n",
      "    Date and time: ('07/23/2017', '21:05')\n",
      "        ...Finished construction of upstream features.\n",
      "        ...Finished construction of downstream features.\n",
      "    ...[240/274] Feature vector at date and time ('07/23/2017', '21:05') is done.\n",
      "    Date and time: ('07/23/2017', '21:10')\n",
      "        ...Finished construction of upstream features.\n",
      "        ...Finished construction of downstream features.\n",
      "    ...[241/274] Feature vector at date and time ('07/23/2017', '21:10') is done.\n",
      "    Date and time: ('07/23/2017', '21:15')\n",
      "        ...Finished construction of upstream features.\n",
      "        ...Finished construction of downstream features.\n",
      "    ...[242/274] Feature vector at date and time ('07/23/2017', '21:15') is done.\n",
      "    Date and time: ('07/23/2017', '21:20')\n",
      "        ...Finished construction of upstream features.\n",
      "        ...Finished construction of downstream features.\n",
      "    ...[243/274] Feature vector at date and time ('07/23/2017', '21:20') is done.\n",
      "    Date and time: ('07/23/2017', '21:25')\n",
      "        ...Finished construction of upstream features.\n",
      "        ...Finished construction of downstream features.\n",
      "    ...[244/274] Feature vector at date and time ('07/23/2017', '21:25') is done.\n",
      "    Date and time: ('07/23/2017', '21:30')\n"
     ]
    },
    {
     "name": "stdout",
     "output_type": "stream",
     "text": [
      "        ...Finished construction of upstream features.\n",
      "        ...Finished construction of downstream features.\n",
      "    ...[245/274] Feature vector at date and time ('07/23/2017', '21:30') is done.\n",
      "    Date and time: ('07/23/2017', '21:35')\n",
      "        ...Finished construction of upstream features.\n",
      "        ...Finished construction of downstream features.\n",
      "    ...[246/274] Feature vector at date and time ('07/23/2017', '21:35') is done.\n",
      "    Date and time: ('07/23/2017', '21:40')\n",
      "        ...Finished construction of upstream features.\n",
      "        ...Finished construction of downstream features.\n",
      "    ...[247/274] Feature vector at date and time ('07/23/2017', '21:40') is done.\n",
      "    Date and time: ('07/23/2017', '21:45')\n",
      "        ...Finished construction of upstream features.\n",
      "        ...Finished construction of downstream features.\n",
      "    ...[248/274] Feature vector at date and time ('07/23/2017', '21:45') is done.\n",
      "    Date and time: ('07/23/2017', '21:50')\n",
      "        ...Finished construction of upstream features.\n",
      "        ...Finished construction of downstream features.\n",
      "    ...[249/274] Feature vector at date and time ('07/23/2017', '21:50') is done.\n",
      "    Date and time: ('07/23/2017', '21:55')\n",
      "        ...Finished construction of upstream features.\n",
      "        ...Finished construction of downstream features.\n",
      "    ...[250/274] Feature vector at date and time ('07/23/2017', '21:55') is done.\n",
      "    Date and time: ('07/23/2017', '22:00')\n",
      "        ...Finished construction of upstream features.\n",
      "        ...Finished construction of downstream features.\n",
      "    ...[251/274] Feature vector at date and time ('07/23/2017', '22:00') is done.\n",
      "    Date and time: ('07/23/2017', '22:05')\n",
      "        ...Finished construction of upstream features.\n",
      "        ...Finished construction of downstream features.\n",
      "    ...[252/274] Feature vector at date and time ('07/23/2017', '22:05') is done.\n",
      "    Date and time: ('07/23/2017', '22:10')\n",
      "        ...Finished construction of upstream features.\n",
      "        ...Finished construction of downstream features.\n",
      "    ...[253/274] Feature vector at date and time ('07/23/2017', '22:10') is done.\n",
      "    Date and time: ('07/23/2017', '22:15')\n",
      "        ...Finished construction of upstream features.\n",
      "        ...Finished construction of downstream features.\n",
      "    ...[254/274] Feature vector at date and time ('07/23/2017', '22:15') is done.\n",
      "    Date and time: ('07/23/2017', '22:20')\n",
      "        ...Finished construction of upstream features.\n",
      "        ...Finished construction of downstream features.\n",
      "    ...[255/274] Feature vector at date and time ('07/23/2017', '22:20') is done.\n",
      "    Date and time: ('07/23/2017', '22:25')\n",
      "        ...Finished construction of upstream features.\n",
      "        ...Finished construction of downstream features.\n",
      "    ...[256/274] Feature vector at date and time ('07/23/2017', '22:25') is done.\n",
      "    Date and time: ('07/23/2017', '22:30')\n",
      "        ...Finished construction of upstream features.\n",
      "        ...Finished construction of downstream features.\n",
      "    ...[257/274] Feature vector at date and time ('07/23/2017', '22:30') is done.\n",
      "    Date and time: ('07/23/2017', '22:35')\n",
      "        ...Finished construction of upstream features.\n",
      "        ...Finished construction of downstream features.\n",
      "    ...[258/274] Feature vector at date and time ('07/23/2017', '22:35') is done.\n",
      "    Date and time: ('07/23/2017', '22:40')\n",
      "        ...Finished construction of upstream features.\n",
      "        ...Finished construction of downstream features.\n",
      "    ...[259/274] Feature vector at date and time ('07/23/2017', '22:40') is done.\n",
      "    Date and time: ('07/23/2017', '22:45')\n",
      "        ...Finished construction of upstream features.\n",
      "        ...Finished construction of downstream features.\n",
      "    ...[260/274] Feature vector at date and time ('07/23/2017', '22:45') is done.\n",
      "    Date and time: ('07/23/2017', '22:50')\n",
      "        ...Finished construction of upstream features.\n",
      "        ...Finished construction of downstream features.\n",
      "    ...[261/274] Feature vector at date and time ('07/23/2017', '22:50') is done.\n",
      "    Date and time: ('07/23/2017', '22:55')\n",
      "        ...Finished construction of upstream features.\n",
      "        ...Finished construction of downstream features.\n",
      "    ...[262/274] Feature vector at date and time ('07/23/2017', '22:55') is done.\n",
      "    Date and time: ('07/23/2017', '23:00')\n",
      "        ...Finished construction of upstream features.\n",
      "        ...Finished construction of downstream features.\n",
      "    ...[263/274] Feature vector at date and time ('07/23/2017', '23:00') is done.\n",
      "    Date and time: ('07/23/2017', '23:05')\n",
      "        ...Finished construction of upstream features.\n",
      "        ...Finished construction of downstream features.\n",
      "    ...[264/274] Feature vector at date and time ('07/23/2017', '23:05') is done.\n",
      "    Date and time: ('07/23/2017', '23:10')\n",
      "        ...Finished construction of upstream features.\n",
      "        ...Finished construction of downstream features.\n",
      "    ...[265/274] Feature vector at date and time ('07/23/2017', '23:10') is done.\n",
      "    Date and time: ('07/23/2017', '23:15')\n",
      "        ...Finished construction of upstream features.\n",
      "        ...Finished construction of downstream features.\n",
      "    ...[266/274] Feature vector at date and time ('07/23/2017', '23:15') is done.\n",
      "    Date and time: ('07/23/2017', '23:20')\n",
      "        ...Finished construction of upstream features.\n",
      "        ...Finished construction of downstream features.\n",
      "    ...[267/274] Feature vector at date and time ('07/23/2017', '23:20') is done.\n",
      "    Date and time: ('07/23/2017', '23:25')\n",
      "        ...Finished construction of upstream features.\n",
      "        ...Finished construction of downstream features.\n",
      "    ...[268/274] Feature vector at date and time ('07/23/2017', '23:25') is done.\n",
      "    Date and time: ('07/23/2017', '23:30')\n",
      "        ...Finished construction of upstream features.\n",
      "        ...Finished construction of downstream features.\n",
      "    ...[269/274] Feature vector at date and time ('07/23/2017', '23:30') is done.\n",
      "    Date and time: ('07/23/2017', '23:35')\n",
      "        ...Finished construction of upstream features.\n",
      "        ...Finished construction of downstream features.\n",
      "    ...[270/274] Feature vector at date and time ('07/23/2017', '23:35') is done.\n",
      "    Date and time: ('07/23/2017', '23:40')\n",
      "        ...Finished construction of upstream features.\n",
      "        ...Finished construction of downstream features.\n",
      "    ...[271/274] Feature vector at date and time ('07/23/2017', '23:40') is done.\n",
      "    Date and time: ('07/23/2017', '23:45')\n",
      "        ...Finished construction of upstream features.\n",
      "        ...Finished construction of downstream features.\n",
      "    ...[272/274] Feature vector at date and time ('07/23/2017', '23:45') is done.\n",
      "    Date and time: ('07/23/2017', '23:50')\n",
      "        ...Finished construction of upstream features.\n",
      "        ...Finished construction of downstream features.\n",
      "    ...[273/274] Feature vector at date and time ('07/23/2017', '23:50') is done.\n",
      "    Date and time: ('07/23/2017', '23:55')\n",
      "        ...Finished construction of upstream features.\n",
      "        ...Finished construction of downstream features.\n",
      "    ...[274/274] Feature vector at date and time ('07/23/2017', '23:55') is done.\n",
      "...Completed construction of feature vectors for road segment 408907, 400951.\n"
     ]
    }
   ],
   "source": [
    "X_neg = []\n",
    "B, E = sample_segment\n",
    "print(\"Start constructing feature vectors for road segment: \" + str(B) + \", \" + str(E) + \"...\")\n",
    "progress_count = 0\n",
    "total_count = len(neg_times)\n",
    "print(\"Total number of vectors: \" + str(total_count))\n",
    "\n",
    "for dt_neg in neg_times:\n",
    "    print(\"    Date and time: \" + str(dt_neg))\n",
    "    d_neg, t_neg = dt_neg\n",
    "    feature_t = []\n",
    "    dt_neg_timestamp = pd.Timestamp(d_neg + ' ' + t_neg + ':00')\n",
    "    \n",
    "    # upstream features\n",
    "    B_lags = []\n",
    "    for i in range(5):\n",
    "        B_lags.append(dt_neg_timestamp - dt.timedelta(minutes=i*5))\n",
    "    B_lags = list(map(lambda x: (x.strftime('%m/%d/%Y'), x.strftime('%H:%M')) , B_lags))\n",
    "    for dt_lag in B_lags:\n",
    "        d_lag, t_lag = dt_lag\n",
    "        df_dt_lag = df_train.loc[(df_train[\"Station ID\"] == B) & (df_train[\"Date\"] == d_lag) & (df_train[\"Time\"] == t_lag)]\n",
    "\n",
    "        speed_B_t = df_dt_lag[\"Speed\"].values[0]\n",
    "        flow_B_t = df_dt_lag[\"Flow\"].values[0]\n",
    "        occ_B_t = df_dt_lag[\"Occupancy\"].values[0]\n",
    "\n",
    "        speed_pred_B_t = df_dt_lag[\"Pred Speed\"].values[0]\n",
    "        flow_pred_B_t = df_dt_lag[\"Pred Flow\"].values[0]\n",
    "        occ_pred_B_t = df_dt_lag[\"Pred Occupancy\"].values[0]\n",
    "\n",
    "        feature_t.extend([speed_B_t, flow_B_t, occ_B_t, speed_pred_B_t, flow_pred_B_t, occ_pred_B_t, speed_B_t - speed_pred_B_t, flow_B_t - flow_pred_B_t, occ_B_t - occ_pred_B_t])\n",
    "    print(\"        ...Finished construction of upstream features.\")\n",
    "    # downstream features\n",
    "    E_lags = B_lags[0:3]\n",
    "    for dt_lag in E_lags:\n",
    "        d_lag, t_lag = dt_lag\n",
    "        df_dt_lag = df_train.loc[(df_train[\"Station ID\"] == E) & (df_train[\"Date\"] == d_lag) & (df_train[\"Time\"] == t_lag)]\n",
    "\n",
    "        speed_E_t = df_dt_lag[\"Speed\"].values[0]\n",
    "        flow_E_t = df_dt_lag[\"Flow\"].values[0]\n",
    "        occ_E_t = df_dt_lag[\"Occupancy\"].values[0]\n",
    "\n",
    "        speed_pred_E_t = df_dt_lag[\"Pred Speed\"].values[0]\n",
    "        flow_pred_E_t = df_dt_lag[\"Pred Flow\"].values[0]\n",
    "        occ_pred_E_t = df_dt_lag[\"Pred Occupancy\"].values[0]\n",
    "\n",
    "        feature_t.extend([speed_E_t, flow_E_t, occ_E_t, speed_pred_E_t, flow_pred_E_t, occ_pred_E_t, speed_E_t - speed_pred_E_t, flow_E_t - flow_pred_E_t, occ_E_t - occ_pred_E_t])\n",
    "    print(\"        ...Finished construction of downstream features.\")\n",
    "    X_neg.append(feature_t)\n",
    "    progress_count += 1\n",
    "    print(\"    ...[\" + str(progress_count) + \"/\" + str(total_count) +\"] Feature vector at date and time \" + str(dt_neg) + \" is done.\")\n",
    "\n",
    "print(\"...Completed construction of feature vectors for road segment \" + str(B) + \", \" + str(E) + \".\")"
   ]
  },
  {
   "cell_type": "markdown",
   "metadata": {},
   "source": [
    "Construct all positive feature vectors for the road segment:"
   ]
  },
  {
   "cell_type": "code",
   "execution_count": 493,
   "metadata": {
    "scrolled": true
   },
   "outputs": [
    {
     "name": "stdout",
     "output_type": "stream",
     "text": [
      "Start constructing positive feature vectors for road segment: 408907, 400951...\n",
      "Total number of vectors: 43\n",
      "    Date and time: ('05/15/2017', '13:50')\n",
      "        ...Finished construction of upstream features.\n",
      "        ...Finished construction of downstream features.\n",
      "    ...[1/43] Feature vector at date and time ('05/15/2017', '13:50') is done.\n",
      "    Date and time: ('05/15/2017', '13:55')\n",
      "        ...Finished construction of upstream features.\n",
      "        ...Finished construction of downstream features.\n",
      "    ...[2/43] Feature vector at date and time ('05/15/2017', '13:55') is done.\n",
      "    Date and time: ('05/15/2017', '14:00')\n",
      "        ...Finished construction of upstream features.\n",
      "        ...Finished construction of downstream features.\n",
      "    ...[3/43] Feature vector at date and time ('05/15/2017', '14:00') is done.\n",
      "    Date and time: ('05/15/2017', '14:05')\n",
      "        ...Finished construction of upstream features.\n",
      "        ...Finished construction of downstream features.\n",
      "    ...[4/43] Feature vector at date and time ('05/15/2017', '14:05') is done.\n",
      "    Date and time: ('05/15/2017', '14:10')\n",
      "        ...Finished construction of upstream features.\n",
      "        ...Finished construction of downstream features.\n",
      "    ...[5/43] Feature vector at date and time ('05/15/2017', '14:10') is done.\n",
      "    Date and time: ('05/15/2017', '14:15')\n",
      "        ...Finished construction of upstream features.\n",
      "        ...Finished construction of downstream features.\n",
      "    ...[6/43] Feature vector at date and time ('05/15/2017', '14:15') is done.\n",
      "    Date and time: ('05/19/2017', '05:30')\n",
      "        ...Finished construction of upstream features.\n",
      "        ...Finished construction of downstream features.\n",
      "    ...[7/43] Feature vector at date and time ('05/19/2017', '05:30') is done.\n",
      "    Date and time: ('05/19/2017', '05:35')\n",
      "        ...Finished construction of upstream features.\n",
      "        ...Finished construction of downstream features.\n",
      "    ...[8/43] Feature vector at date and time ('05/19/2017', '05:35') is done.\n",
      "    Date and time: ('05/19/2017', '05:40')\n",
      "        ...Finished construction of upstream features.\n",
      "        ...Finished construction of downstream features.\n",
      "    ...[9/43] Feature vector at date and time ('05/19/2017', '05:40') is done.\n",
      "    Date and time: ('05/19/2017', '05:45')\n",
      "        ...Finished construction of upstream features.\n",
      "        ...Finished construction of downstream features.\n",
      "    ...[10/43] Feature vector at date and time ('05/19/2017', '05:45') is done.\n",
      "    Date and time: ('10/19/2017', '07:15')\n",
      "        ...Finished construction of upstream features.\n",
      "        ...Finished construction of downstream features.\n",
      "    ...[11/43] Feature vector at date and time ('10/19/2017', '07:15') is done.\n",
      "    Date and time: ('10/19/2017', '07:20')\n",
      "        ...Finished construction of upstream features.\n",
      "        ...Finished construction of downstream features.\n",
      "    ...[12/43] Feature vector at date and time ('10/19/2017', '07:20') is done.\n",
      "    Date and time: ('10/19/2017', '07:25')\n",
      "        ...Finished construction of upstream features.\n",
      "        ...Finished construction of downstream features.\n",
      "    ...[13/43] Feature vector at date and time ('10/19/2017', '07:25') is done.\n",
      "    Date and time: ('10/19/2017', '07:30')\n",
      "        ...Finished construction of upstream features.\n",
      "        ...Finished construction of downstream features.\n",
      "    ...[14/43] Feature vector at date and time ('10/19/2017', '07:30') is done.\n",
      "    Date and time: ('10/19/2017', '07:35')\n",
      "        ...Finished construction of upstream features.\n",
      "        ...Finished construction of downstream features.\n",
      "    ...[15/43] Feature vector at date and time ('10/19/2017', '07:35') is done.\n",
      "    Date and time: ('10/19/2017', '07:40')\n",
      "        ...Finished construction of upstream features.\n",
      "        ...Finished construction of downstream features.\n",
      "    ...[16/43] Feature vector at date and time ('10/19/2017', '07:40') is done.\n",
      "    Date and time: ('10/19/2017', '07:45')\n",
      "        ...Finished construction of upstream features.\n",
      "        ...Finished construction of downstream features.\n",
      "    ...[17/43] Feature vector at date and time ('10/19/2017', '07:45') is done.\n",
      "    Date and time: ('10/19/2017', '07:50')\n",
      "        ...Finished construction of upstream features.\n",
      "        ...Finished construction of downstream features.\n",
      "    ...[18/43] Feature vector at date and time ('10/19/2017', '07:50') is done.\n",
      "    Date and time: ('10/19/2017', '07:55')\n",
      "        ...Finished construction of upstream features.\n",
      "        ...Finished construction of downstream features.\n",
      "    ...[19/43] Feature vector at date and time ('10/19/2017', '07:55') is done.\n",
      "    Date and time: ('10/19/2017', '08:00')\n",
      "        ...Finished construction of upstream features.\n",
      "        ...Finished construction of downstream features.\n",
      "    ...[20/43] Feature vector at date and time ('10/19/2017', '08:00') is done.\n",
      "    Date and time: ('10/19/2017', '08:05')\n",
      "        ...Finished construction of upstream features.\n",
      "        ...Finished construction of downstream features.\n",
      "    ...[21/43] Feature vector at date and time ('10/19/2017', '08:05') is done.\n",
      "    Date and time: ('10/19/2017', '08:10')\n",
      "        ...Finished construction of upstream features.\n",
      "        ...Finished construction of downstream features.\n",
      "    ...[22/43] Feature vector at date and time ('10/19/2017', '08:10') is done.\n",
      "    Date and time: ('10/19/2017', '08:15')\n",
      "        ...Finished construction of upstream features.\n",
      "        ...Finished construction of downstream features.\n",
      "    ...[23/43] Feature vector at date and time ('10/19/2017', '08:15') is done.\n",
      "    Date and time: ('10/19/2017', '08:20')\n",
      "        ...Finished construction of upstream features.\n",
      "        ...Finished construction of downstream features.\n",
      "    ...[24/43] Feature vector at date and time ('10/19/2017', '08:20') is done.\n",
      "    Date and time: ('10/19/2017', '08:25')\n",
      "        ...Finished construction of upstream features.\n",
      "        ...Finished construction of downstream features.\n",
      "    ...[25/43] Feature vector at date and time ('10/19/2017', '08:25') is done.\n",
      "    Date and time: ('10/19/2017', '08:30')\n",
      "        ...Finished construction of upstream features.\n",
      "        ...Finished construction of downstream features.\n",
      "    ...[26/43] Feature vector at date and time ('10/19/2017', '08:30') is done.\n",
      "    Date and time: ('10/19/2017', '08:35')\n",
      "        ...Finished construction of upstream features.\n",
      "        ...Finished construction of downstream features.\n",
      "    ...[27/43] Feature vector at date and time ('10/19/2017', '08:35') is done.\n",
      "    Date and time: ('10/19/2017', '08:40')\n",
      "        ...Finished construction of upstream features.\n",
      "        ...Finished construction of downstream features.\n",
      "    ...[28/43] Feature vector at date and time ('10/19/2017', '08:40') is done.\n",
      "    Date and time: ('10/19/2017', '08:45')\n",
      "        ...Finished construction of upstream features.\n",
      "        ...Finished construction of downstream features.\n",
      "    ...[29/43] Feature vector at date and time ('10/19/2017', '08:45') is done.\n",
      "    Date and time: ('10/19/2017', '08:50')\n",
      "        ...Finished construction of upstream features.\n",
      "        ...Finished construction of downstream features.\n",
      "    ...[30/43] Feature vector at date and time ('10/19/2017', '08:50') is done.\n",
      "    Date and time: ('10/19/2017', '08:55')\n",
      "        ...Finished construction of upstream features.\n",
      "        ...Finished construction of downstream features.\n",
      "    ...[31/43] Feature vector at date and time ('10/19/2017', '08:55') is done.\n",
      "    Date and time: ('10/19/2017', '09:00')\n",
      "        ...Finished construction of upstream features.\n",
      "        ...Finished construction of downstream features.\n",
      "    ...[32/43] Feature vector at date and time ('10/19/2017', '09:00') is done.\n",
      "    Date and time: ('10/19/2017', '09:05')\n",
      "        ...Finished construction of upstream features.\n",
      "        ...Finished construction of downstream features.\n",
      "    ...[33/43] Feature vector at date and time ('10/19/2017', '09:05') is done.\n",
      "    Date and time: ('10/19/2017', '09:10')\n",
      "        ...Finished construction of upstream features.\n",
      "        ...Finished construction of downstream features.\n",
      "    ...[34/43] Feature vector at date and time ('10/19/2017', '09:10') is done.\n",
      "    Date and time: ('10/19/2017', '09:15')\n",
      "        ...Finished construction of upstream features.\n",
      "        ...Finished construction of downstream features.\n",
      "    ...[35/43] Feature vector at date and time ('10/19/2017', '09:15') is done.\n",
      "    Date and time: ('10/19/2017', '09:20')\n"
     ]
    },
    {
     "name": "stdout",
     "output_type": "stream",
     "text": [
      "        ...Finished construction of upstream features.\n",
      "        ...Finished construction of downstream features.\n",
      "    ...[36/43] Feature vector at date and time ('10/19/2017', '09:20') is done.\n",
      "    Date and time: ('10/19/2017', '09:25')\n",
      "        ...Finished construction of upstream features.\n",
      "        ...Finished construction of downstream features.\n",
      "    ...[37/43] Feature vector at date and time ('10/19/2017', '09:25') is done.\n",
      "    Date and time: ('10/19/2017', '09:30')\n",
      "        ...Finished construction of upstream features.\n",
      "        ...Finished construction of downstream features.\n",
      "    ...[38/43] Feature vector at date and time ('10/19/2017', '09:30') is done.\n",
      "    Date and time: ('10/19/2017', '09:35')\n",
      "        ...Finished construction of upstream features.\n",
      "        ...Finished construction of downstream features.\n",
      "    ...[39/43] Feature vector at date and time ('10/19/2017', '09:35') is done.\n",
      "    Date and time: ('10/19/2017', '09:40')\n",
      "        ...Finished construction of upstream features.\n",
      "        ...Finished construction of downstream features.\n",
      "    ...[40/43] Feature vector at date and time ('10/19/2017', '09:40') is done.\n",
      "    Date and time: ('10/19/2017', '09:45')\n",
      "        ...Finished construction of upstream features.\n",
      "        ...Finished construction of downstream features.\n",
      "    ...[41/43] Feature vector at date and time ('10/19/2017', '09:45') is done.\n",
      "    Date and time: ('12/11/2017', '09:50')\n",
      "        ...Finished construction of upstream features.\n",
      "        ...Finished construction of downstream features.\n",
      "    ...[42/43] Feature vector at date and time ('12/11/2017', '09:50') is done.\n",
      "    Date and time: ('12/20/2017', '12:40')\n",
      "        ...Finished construction of upstream features.\n",
      "        ...Finished construction of downstream features.\n",
      "    ...[43/43] Feature vector at date and time ('12/20/2017', '12:40') is done.\n",
      "...Completed construction of feature vectors for road segment 408907, 400951.\n"
     ]
    }
   ],
   "source": [
    "X_pos = []\n",
    "B, E = sample_segment\n",
    "print(\"Start constructing positive feature vectors for road segment: \" + str(B) + \", \" + str(E) + \"...\")\n",
    "progress_count = 0\n",
    "total_count = len(pos_times)\n",
    "print(\"Total number of vectors: \" + str(total_count))\n",
    "\n",
    "for dt_pos in pos_times:\n",
    "    print(\"    Date and time: \" + str(dt_pos))\n",
    "    d_pos, t_pos = dt_pos\n",
    "    feature_t = []\n",
    "    dt_pos_timestamp = pd.Timestamp(d_pos + ' ' + t_pos + ':00')\n",
    "    \n",
    "    # upstream and downstream time lags\n",
    "    B_lags = []\n",
    "    for i in range(5):\n",
    "        B_lags.append(dt_pos_timestamp - dt.timedelta(minutes=i*5))\n",
    "    B_lags = list(map(lambda x: (x.strftime('%m/%d/%Y'), x.strftime('%H:%M')) , B_lags))\n",
    "    E_lags = B_lags[0:3]\n",
    "    \n",
    "    # upstream features\n",
    "    for dt_lag in B_lags:\n",
    "        d_lag, t_lag = dt_lag\n",
    "        df_dt_lag = df_train.loc[(df_train[\"Station ID\"] == B) & (df_train[\"Date\"] == d_lag) & (df_train[\"Time\"] == t_lag)]\n",
    "\n",
    "        speed_B_t = df_dt_lag[\"Speed\"].values[0]\n",
    "        flow_B_t = df_dt_lag[\"Flow\"].values[0]\n",
    "        occ_B_t = df_dt_lag[\"Occupancy\"].values[0]\n",
    "\n",
    "        speed_pred_B_t = df_dt_lag[\"Pred Speed\"].values[0]\n",
    "        flow_pred_B_t = df_dt_lag[\"Pred Flow\"].values[0]\n",
    "        occ_pred_B_t = df_dt_lag[\"Pred Occupancy\"].values[0]\n",
    "\n",
    "        feature_t.extend([speed_B_t, flow_B_t, occ_B_t, speed_pred_B_t, flow_pred_B_t, occ_pred_B_t, speed_B_t - speed_pred_B_t, flow_B_t - flow_pred_B_t, occ_B_t - occ_pred_B_t])\n",
    "    print(\"        ...Finished construction of upstream features.\")\n",
    "    \n",
    "    # downstream features\n",
    "    for dt_lag in E_lags:\n",
    "        d_lag, t_lag = dt_lag\n",
    "        df_dt_lag = df_train.loc[(df_train[\"Station ID\"] == E) & (df_train[\"Date\"] == d_lag) & (df_train[\"Time\"] == t_lag)]\n",
    "\n",
    "        speed_E_t = df_dt_lag[\"Speed\"].values[0]\n",
    "        flow_E_t = df_dt_lag[\"Flow\"].values[0]\n",
    "        occ_E_t = df_dt_lag[\"Occupancy\"].values[0]\n",
    "\n",
    "        speed_pred_E_t = df_dt_lag[\"Pred Speed\"].values[0]\n",
    "        flow_pred_E_t = df_dt_lag[\"Pred Flow\"].values[0]\n",
    "        occ_pred_E_t = df_dt_lag[\"Pred Occupancy\"].values[0]\n",
    "\n",
    "        feature_t.extend([speed_E_t, flow_E_t, occ_E_t, speed_pred_E_t, flow_pred_E_t, occ_pred_E_t, speed_E_t - speed_pred_E_t, flow_E_t - flow_pred_E_t, occ_E_t - occ_pred_E_t])\n",
    "    print(\"        ...Finished construction of downstream features.\")\n",
    "    X_pos.append(feature_t)\n",
    "    progress_count += 1\n",
    "    print(\"    ...[\" + str(progress_count) + \"/\" + str(total_count) +\"] Feature vector at date and time \" + str(dt_pos) + \" is done.\")\n",
    "\n",
    "print(\"...Completed construction of feature vectors for road segment \" + str(B) + \", \" + str(E) + \".\")"
   ]
  },
  {
   "cell_type": "code",
   "execution_count": 516,
   "metadata": {},
   "outputs": [],
   "source": [
    "def print_random_feature_vector(X):\n",
    "    sample = X[np.random.choice(len(X))]\n",
    "    sample = [round(x, 1) for x in sample]\n",
    "    count = 0\n",
    "    while count < len(sample):\n",
    "        print(sample[count:count + 9])\n",
    "        count += 9"
   ]
  },
  {
   "cell_type": "code",
   "execution_count": 523,
   "metadata": {
    "scrolled": false
   },
   "outputs": [
    {
     "name": "stdout",
     "output_type": "stream",
     "text": [
      "[45.8, 318.0, 12.9, 65.2, 435.0, 7.7, -19.4, -117.0, 5.2]\n",
      "[53.0, 339.0, 9.4, 61.8, 457.7, 10.6, -8.8, -118.7, -1.2]\n",
      "[49.7, 341.0, 12.4, 66.2, 415.3, 6.9, -16.5, -74.3, 5.5]\n",
      "[56.7, 364.0, 9.6, 65.2, 436.4, 7.8, -8.5, -72.4, 1.8]\n",
      "[54.8, 336.0, 9.1, 65.0, 440.3, 7.8, -10.2, -104.3, 1.3]\n",
      "[22.9, 473.0, 32.0, 65.3, 433.2, 7.7, -42.4, 39.8, 24.3]\n",
      "[28.9, 535.0, 22.8, 61.7, 457.3, 10.6, -32.8, 77.7, 12.2]\n",
      "[30.7, 548.0, 25.9, 66.2, 412.0, 6.9, -35.5, 136.0, 19.0]\n"
     ]
    }
   ],
   "source": [
    "print_random_feature_vector(X_pos)"
   ]
  },
  {
   "cell_type": "code",
   "execution_count": 524,
   "metadata": {
    "scrolled": true
   },
   "outputs": [
    {
     "name": "stdout",
     "output_type": "stream",
     "text": [
      "[67.8, 228.0, 5.3, 65.6, 405.3, 6.6, 2.2, -177.3, -1.3]\n",
      "[68.0, 239.0, 5.5, 65.2, 400.4, 6.1, 2.8, -161.4, -0.6]\n",
      "[67.6, 236.0, 5.4, 64.8, 416.4, 6.8, 2.8, -180.4, -1.4]\n",
      "[67.4, 223.0, 5.2, 66.0, 418.1, 6.7, 1.4, -195.1, -1.5]\n",
      "[67.7, 221.0, 5.1, 65.8, 420.1, 7.1, 1.9, -199.1, -2.0]\n",
      "[66.0, 355.0, 6.1, 65.6, 403.7, 6.6, 0.4, -48.7, -0.5]\n",
      "[66.2, 403.0, 6.8, 65.2, 398.2, 6.1, 1.0, 4.8, 0.7]\n",
      "[65.7, 361.0, 6.2, 64.7, 415.0, 6.8, 1.0, -54.0, -0.6]\n"
     ]
    }
   ],
   "source": [
    "print_random_feature_vector(X_neg)"
   ]
  },
  {
   "cell_type": "markdown",
   "metadata": {},
   "source": [
    "### 1.4 Construction and total number of pos/neg instances (overlap with section 1.2)"
   ]
  },
  {
   "cell_type": "markdown",
   "metadata": {},
   "source": [
    "We might be interested in the pos/neg ratio of instances used to train SVM.  In the paper, the authors used 2,026 positive instances, and (approximately) 5,642 negative instances; so the ratio is about 3:7.  Keeping this in mind helps us know how much our experiment deviates from the original paper.  To achieve this, it's better to construct pos_times for *each* road segments first, and then count the total number of pos_times.  Total number of negative instances can be easily calculated by taking the product of (288 - 14) and number of road segments, which is 101."
   ]
  },
  {
   "cell_type": "code",
   "execution_count": 528,
   "metadata": {},
   "outputs": [],
   "source": [
    "num_neg_instances = len(neg_times) * len(road_segments)"
   ]
  },
  {
   "cell_type": "code",
   "execution_count": 529,
   "metadata": {},
   "outputs": [
    {
     "data": {
      "text/plain": [
       "27674"
      ]
     },
     "execution_count": 529,
     "metadata": {},
     "output_type": "execute_result"
    }
   ],
   "source": [
    "num_neg_instances"
   ]
  },
  {
   "cell_type": "markdown",
   "metadata": {},
   "source": [
    "Note that it would be great if we have preprocessed data like this, for all days (test and train):\n",
    "```\n",
    "    Upstream       Downstream        Date        Time\n",
    "    \n",
    "    B_1            E_1               date_11     time_11\n",
    "    B_1            E_1               date_12     time_12\n",
    "    ...\n",
    "    B_n            E_n               date_n1     time_n1\n",
    "    ...\n",
    "```"
   ]
  },
  {
   "cell_type": "markdown",
   "metadata": {},
   "source": [
    "To achieve this, use dataframe `valid_incidents` instead of `valid_incidents_train`."
   ]
  },
  {
   "cell_type": "code",
   "execution_count": 539,
   "metadata": {},
   "outputs": [],
   "source": [
    "valid_incidents_upstream = valid_incidents[\"Upstream\"].values.tolist()"
   ]
  },
  {
   "cell_type": "code",
   "execution_count": 546,
   "metadata": {
    "scrolled": true
   },
   "outputs": [
    {
     "data": {
      "text/plain": [
       "5234"
      ]
     },
     "execution_count": 546,
     "metadata": {},
     "output_type": "execute_result"
    }
   ],
   "source": [
    "len(valid_incidents_upstream)"
   ]
  },
  {
   "cell_type": "markdown",
   "metadata": {},
   "source": [
    "The following code is executed only once.  It is supposed to be in the data preprocessing section."
   ]
  },
  {
   "cell_type": "code",
   "execution_count": 537,
   "metadata": {},
   "outputs": [
    {
     "name": "stdout",
     "output_type": "stream",
     "text": [
      "Preprocessing segment (408907, 400951)...\n",
      "    Number of incidents on this segment: 27\n",
      "...Finished preprocessing segment (408907, 400951).\n",
      "Preprocessing segment (400951, 400057)...\n",
      "    Number of incidents on this segment: 122\n",
      "...Finished preprocessing segment (400951, 400057).\n",
      "Preprocessing segment (400057, 400147)...\n",
      "    Number of incidents on this segment: 74\n",
      "...Finished preprocessing segment (400057, 400147).\n",
      "Preprocessing segment (400147, 400343)...\n",
      "    Number of incidents on this segment: 100\n",
      "...Finished preprocessing segment (400147, 400343).\n",
      "Preprocessing segment (400343, 401560)...\n",
      "    Number of incidents on this segment: 71\n",
      "...Finished preprocessing segment (400343, 401560).\n",
      "Preprocessing segment (401560, 400045)...\n",
      "    Number of incidents on this segment: 76\n",
      "...Finished preprocessing segment (401560, 400045).\n",
      "Preprocessing segment (400045, 400122)...\n",
      "    Number of incidents on this segment: 47\n",
      "...Finished preprocessing segment (400045, 400122).\n",
      "Preprocessing segment (400122, 401541)...\n",
      "    Number of incidents on this segment: 20\n",
      "...Finished preprocessing segment (400122, 401541).\n",
      "Preprocessing segment (401541, 402281)...\n",
      "    Number of incidents on this segment: 69\n",
      "...Finished preprocessing segment (401541, 402281).\n",
      "Preprocessing segment (402281, 402283)...\n",
      "    Number of incidents on this segment: 0\n",
      "...Finished preprocessing segment (402281, 402283).\n",
      "Preprocessing segment (402283, 402285)...\n",
      "    Number of incidents on this segment: 37\n",
      "...Finished preprocessing segment (402283, 402285).\n",
      "Preprocessing segment (402285, 402286)...\n",
      "    Number of incidents on this segment: 0\n",
      "...Finished preprocessing segment (402285, 402286).\n",
      "Preprocessing segment (402286, 400088)...\n",
      "    Number of incidents on this segment: 64\n",
      "...Finished preprocessing segment (402286, 400088).\n",
      "Preprocessing segment (400088, 402288)...\n",
      "    Number of incidents on this segment: 9\n",
      "...Finished preprocessing segment (400088, 402288).\n",
      "Preprocessing segment (402288, 413026)...\n",
      "    Number of incidents on this segment: 36\n",
      "...Finished preprocessing segment (402288, 413026).\n",
      "Preprocessing segment (413026, 401464)...\n",
      "    Number of incidents on this segment: 0\n",
      "...Finished preprocessing segment (413026, 401464).\n",
      "Preprocessing segment (401464, 401489)...\n",
      "    Number of incidents on this segment: 9\n",
      "...Finished preprocessing segment (401464, 401489).\n",
      "Preprocessing segment (401489, 401538)...\n",
      "    Number of incidents on this segment: 11\n",
      "...Finished preprocessing segment (401489, 401538).\n",
      "Preprocessing segment (401538, 402290)...\n",
      "    Number of incidents on this segment: 37\n",
      "...Finished preprocessing segment (401538, 402290).\n",
      "Preprocessing segment (402290, 402292)...\n",
      "    Number of incidents on this segment: 0\n",
      "...Finished preprocessing segment (402290, 402292).\n",
      "Preprocessing segment (402292, 401643)...\n",
      "    Number of incidents on this segment: 122\n",
      "...Finished preprocessing segment (402292, 401643).\n",
      "Preprocessing segment (401643, 402800)...\n",
      "    Number of incidents on this segment: 52\n",
      "...Finished preprocessing segment (401643, 402800).\n",
      "Preprocessing segment (402800, 402828)...\n",
      "    Number of incidents on this segment: 0\n",
      "...Finished preprocessing segment (402800, 402828).\n",
      "Preprocessing segment (402828, 407219)...\n",
      "    Number of incidents on this segment: 116\n",
      "...Finished preprocessing segment (402828, 407219).\n",
      "Preprocessing segment (407219, 402789)...\n",
      "    Number of incidents on this segment: 0\n",
      "...Finished preprocessing segment (407219, 402789).\n",
      "Preprocessing segment (402789, 408755)...\n",
      "    Number of incidents on this segment: 42\n",
      "...Finished preprocessing segment (402789, 408755).\n",
      "Preprocessing segment (408755, 402802)...\n",
      "    Number of incidents on this segment: 0\n",
      "...Finished preprocessing segment (408755, 402802).\n",
      "Preprocessing segment (402802, 408756)...\n",
      "    Number of incidents on this segment: 0\n",
      "...Finished preprocessing segment (402802, 408756).\n",
      "Preprocessing segment (408756, 400189)...\n",
      "    Number of incidents on this segment: 59\n",
      "...Finished preprocessing segment (408756, 400189).\n",
      "Preprocessing segment (400189, 400309)...\n",
      "    Number of incidents on this segment: 30\n",
      "...Finished preprocessing segment (400189, 400309).\n",
      "Preprocessing segment (400309, 400417)...\n",
      "    Number of incidents on this segment: 29\n",
      "...Finished preprocessing segment (400309, 400417).\n",
      "Preprocessing segment (400417, 400249)...\n",
      "    Number of incidents on this segment: 75\n",
      "...Finished preprocessing segment (400417, 400249).\n",
      "Preprocessing segment (400249, 401639)...\n",
      "    Number of incidents on this segment: 57\n",
      "...Finished preprocessing segment (400249, 401639).\n",
      "Preprocessing segment (401639, 400662)...\n",
      "    Number of incidents on this segment: 57\n",
      "...Finished preprocessing segment (401639, 400662).\n",
      "Preprocessing segment (400662, 400141)...\n",
      "    Number of incidents on this segment: 21\n",
      "...Finished preprocessing segment (400662, 400141).\n",
      "Preprocessing segment (400141, 400761)...\n",
      "    Number of incidents on this segment: 36\n",
      "...Finished preprocessing segment (400141, 400761).\n",
      "Preprocessing segment (400761, 400490)...\n",
      "    Number of incidents on this segment: 30\n",
      "...Finished preprocessing segment (400761, 400490).\n",
      "Preprocessing segment (400490, 401888)...\n",
      "    Number of incidents on this segment: 13\n",
      "...Finished preprocessing segment (400490, 401888).\n",
      "Preprocessing segment (401888, 400137)...\n",
      "    Number of incidents on this segment: 50\n",
      "...Finished preprocessing segment (401888, 400137).\n",
      "Preprocessing segment (400137, 400716)...\n",
      "    Number of incidents on this segment: 36\n",
      "...Finished preprocessing segment (400137, 400716).\n",
      "Preprocessing segment (400716, 401545)...\n",
      "    Number of incidents on this segment: 16\n",
      "...Finished preprocessing segment (400716, 401545).\n",
      "Preprocessing segment (401545, 401011)...\n",
      "    Number of incidents on this segment: 99\n",
      "...Finished preprocessing segment (401545, 401011).\n",
      "Preprocessing segment (401011, 400674)...\n",
      "    Number of incidents on this segment: 38\n",
      "...Finished preprocessing segment (401011, 400674).\n",
      "Preprocessing segment (400674, 400539)...\n",
      "    Number of incidents on this segment: 34\n",
      "...Finished preprocessing segment (400674, 400539).\n",
      "Preprocessing segment (400539, 400534)...\n",
      "    Number of incidents on this segment: 71\n",
      "...Finished preprocessing segment (400539, 400534).\n",
      "Preprocessing segment (400534, 401062)...\n",
      "    Number of incidents on this segment: 25\n",
      "...Finished preprocessing segment (400534, 401062).\n",
      "Preprocessing segment (401062, 401529)...\n",
      "    Number of incidents on this segment: 1\n",
      "...Finished preprocessing segment (401062, 401529).\n",
      "Preprocessing segment (401529, 401613)...\n",
      "    Number of incidents on this segment: 0\n",
      "...Finished preprocessing segment (401529, 401613).\n",
      "Preprocessing segment (401613, 400536)...\n",
      "    Number of incidents on this segment: 74\n",
      "...Finished preprocessing segment (401613, 400536).\n",
      "Preprocessing segment (400536, 400488)...\n",
      "    Number of incidents on this segment: 186\n",
      "...Finished preprocessing segment (400536, 400488).\n",
      "Preprocessing segment (400488, 401561)...\n",
      "    Number of incidents on this segment: 68\n",
      "...Finished preprocessing segment (400488, 401561).\n",
      "Preprocessing segment (401561, 400611)...\n",
      "    Number of incidents on this segment: 0\n",
      "...Finished preprocessing segment (401561, 400611).\n",
      "Preprocessing segment (400611, 400928)...\n",
      "    Number of incidents on this segment: 28\n",
      "...Finished preprocessing segment (400611, 400928).\n",
      "Preprocessing segment (400928, 400284)...\n",
      "    Number of incidents on this segment: 136\n",
      "...Finished preprocessing segment (400928, 400284).\n",
      "Preprocessing segment (400284, 400041)...\n",
      "    Number of incidents on this segment: 17\n",
      "...Finished preprocessing segment (400284, 400041).\n",
      "Preprocessing segment (400041, 408133)...\n",
      "    Number of incidents on this segment: 35\n",
      "...Finished preprocessing segment (400041, 408133).\n",
      "Preprocessing segment (408133, 408135)...\n",
      "    Number of incidents on this segment: 0\n",
      "...Finished preprocessing segment (408133, 408135).\n",
      "Preprocessing segment (408135, 417665)...\n",
      "    Number of incidents on this segment: 83\n",
      "...Finished preprocessing segment (408135, 417665).\n",
      "Preprocessing segment (417665, 412637)...\n",
      "    Number of incidents on this segment: 5\n",
      "...Finished preprocessing segment (417665, 412637).\n",
      "Preprocessing segment (412637, 417666)...\n",
      "    Number of incidents on this segment: 17\n",
      "...Finished preprocessing segment (412637, 417666).\n",
      "Preprocessing segment (417666, 408134)...\n",
      "    Number of incidents on this segment: 53\n"
     ]
    },
    {
     "name": "stdout",
     "output_type": "stream",
     "text": [
      "...Finished preprocessing segment (417666, 408134).\n",
      "Preprocessing segment (408134, 400685)...\n",
      "    Number of incidents on this segment: 90\n",
      "...Finished preprocessing segment (408134, 400685).\n",
      "Preprocessing segment (400685, 401003)...\n",
      "    Number of incidents on this segment: 0\n",
      "...Finished preprocessing segment (400685, 401003).\n",
      "Preprocessing segment (401003, 400898)...\n",
      "    Number of incidents on this segment: 33\n",
      "...Finished preprocessing segment (401003, 400898).\n",
      "Preprocessing segment (400898, 400275)...\n",
      "    Number of incidents on this segment: 134\n",
      "...Finished preprocessing segment (400898, 400275).\n",
      "Preprocessing segment (400275, 400939)...\n",
      "    Number of incidents on this segment: 60\n",
      "...Finished preprocessing segment (400275, 400939).\n",
      "Preprocessing segment (400939, 400180)...\n",
      "    Number of incidents on this segment: 0\n",
      "...Finished preprocessing segment (400939, 400180).\n",
      "Preprocessing segment (400180, 400529)...\n",
      "    Number of incidents on this segment: 1\n",
      "...Finished preprocessing segment (400180, 400529).\n",
      "Preprocessing segment (400529, 400990)...\n",
      "    Number of incidents on this segment: 0\n",
      "...Finished preprocessing segment (400529, 400990).\n",
      "Preprocessing segment (400990, 400515)...\n",
      "    Number of incidents on this segment: 6\n",
      "...Finished preprocessing segment (400990, 400515).\n",
      "Preprocessing segment (400515, 400252)...\n",
      "    Number of incidents on this segment: 216\n",
      "...Finished preprocessing segment (400515, 400252).\n",
      "Preprocessing segment (400252, 400788)...\n",
      "    Number of incidents on this segment: 124\n",
      "...Finished preprocessing segment (400252, 400788).\n",
      "Preprocessing segment (400788, 401517)...\n",
      "    Number of incidents on this segment: 55\n",
      "...Finished preprocessing segment (400788, 401517).\n",
      "Preprocessing segment (401517, 401871)...\n",
      "    Number of incidents on this segment: 4\n",
      "...Finished preprocessing segment (401517, 401871).\n",
      "Preprocessing segment (401871, 400574)...\n",
      "    Number of incidents on this segment: 116\n",
      "...Finished preprocessing segment (401871, 400574).\n",
      "Preprocessing segment (400574, 401629)...\n",
      "    Number of incidents on this segment: 58\n",
      "...Finished preprocessing segment (400574, 401629).\n",
      "Preprocessing segment (401629, 400422)...\n",
      "    Number of incidents on this segment: 102\n",
      "...Finished preprocessing segment (401629, 400422).\n",
      "Preprocessing segment (400422, 400333)...\n",
      "    Number of incidents on this segment: 0\n",
      "...Finished preprocessing segment (400422, 400333).\n",
      "Preprocessing segment (400333, 410363)...\n",
      "    Number of incidents on this segment: 40\n",
      "...Finished preprocessing segment (400333, 410363).\n",
      "Preprocessing segment (410363, 400360)...\n",
      "    Number of incidents on this segment: 75\n",
      "...Finished preprocessing segment (410363, 400360).\n",
      "Preprocessing segment (400360, 400955)...\n",
      "    Number of incidents on this segment: 51\n",
      "...Finished preprocessing segment (400360, 400955).\n",
      "Preprocessing segment (400955, 400495)...\n",
      "    Number of incidents on this segment: 118\n",
      "...Finished preprocessing segment (400955, 400495).\n",
      "Preprocessing segment (400495, 400608)...\n",
      "    Number of incidents on this segment: 1\n",
      "...Finished preprocessing segment (400495, 400608).\n",
      "Preprocessing segment (400608, 400949)...\n",
      "    Number of incidents on this segment: 141\n",
      "...Finished preprocessing segment (400608, 400949).\n",
      "Preprocessing segment (400949, 400678)...\n",
      "    Number of incidents on this segment: 237\n",
      "...Finished preprocessing segment (400949, 400678).\n",
      "Preprocessing segment (400678, 400341)...\n",
      "    Number of incidents on this segment: 0\n",
      "...Finished preprocessing segment (400678, 400341).\n",
      "Preprocessing segment (400341, 400607)...\n",
      "    Number of incidents on this segment: 162\n",
      "...Finished preprocessing segment (400341, 400607).\n",
      "Preprocessing segment (400607, 400094)...\n",
      "    Number of incidents on this segment: 129\n",
      "...Finished preprocessing segment (400607, 400094).\n",
      "Preprocessing segment (400094, 400682)...\n",
      "    Number of incidents on this segment: 0\n",
      "...Finished preprocessing segment (400094, 400682).\n",
      "Preprocessing segment (400682, 408138)...\n",
      "    Number of incidents on this segment: 214\n",
      "...Finished preprocessing segment (400682, 408138).\n",
      "Preprocessing segment (408138, 400980)...\n",
      "    Number of incidents on this segment: 62\n",
      "...Finished preprocessing segment (408138, 400980).\n",
      "Preprocessing segment (400980, 401333)...\n",
      "    Number of incidents on this segment: 187\n",
      "...Finished preprocessing segment (400980, 401333).\n",
      "Preprocessing segment (401333, 404746)...\n",
      "    Number of incidents on this segment: 0\n",
      "...Finished preprocessing segment (401333, 404746).\n",
      "Preprocessing segment (404746, 401142)...\n",
      "    Number of incidents on this segment: 0\n",
      "...Finished preprocessing segment (404746, 401142).\n",
      "Preprocessing segment (401142, 400218)...\n",
      "    Number of incidents on this segment: 17\n",
      "...Finished preprocessing segment (401142, 400218).\n",
      "Preprocessing segment (400218, 400983)...\n",
      "    Number of incidents on this segment: 74\n",
      "...Finished preprocessing segment (400218, 400983).\n",
      "Preprocessing segment (400983, 400765)...\n",
      "    Number of incidents on this segment: 1\n",
      "...Finished preprocessing segment (400983, 400765).\n",
      "Preprocessing segment (400765, 400844)...\n",
      "    Number of incidents on this segment: 82\n",
      "...Finished preprocessing segment (400765, 400844).\n",
      "Preprocessing segment (400844, 400923)...\n",
      "    Number of incidents on this segment: 7\n",
      "...Finished preprocessing segment (400844, 400923).\n",
      "Preprocessing segment (400923, 401143)...\n",
      "    Number of incidents on this segment: 0\n",
      "...Finished preprocessing segment (400923, 401143).\n",
      "Preprocessing segment (401143, 401471)...\n",
      "    Number of incidents on this segment: 0\n",
      "...Finished preprocessing segment (401143, 401471).\n",
      "Total number of incidents processed: 5217\n"
     ]
    }
   ],
   "source": [
    "preprocess_segment_B = []\n",
    "preprocess_segment_E = []\n",
    "preprocess_segment_dates = []\n",
    "preprocess_segment_times = []\n",
    "count_incidents = 0\n",
    "for i, seg in enumerate(road_segments):\n",
    "    print(\"Preprocessing segment \" + str(seg) + \"...\")\n",
    "    \n",
    "    B, E = seg\n",
    "    df_seg = valid_incidents.loc[valid_incidents[\"Upstream\"] == str(B)]\n",
    "    seg_dates = df_seg[\"Date\"].values.tolist()\n",
    "    seg_times = df_seg[\"Time\"].values.tolist()\n",
    "    seg_duration = df_seg[\"Duration\"].values.tolist()\n",
    "    num_seg_incidents = len(seg_dates)\n",
    "    print(\"    Number of incidents on this segment: \" + str(num_seg_incidents))\n",
    "    count_incidents += num_seg_incidents\n",
    "    \n",
    "    seg_pos_times = set()\n",
    "    for i in range(num_seg_incidents):\n",
    "        start_dt = pd.Timestamp(seg_dates[i] + ' ' + seg_times[i] + ':00')\n",
    "        end_dt = start_dt + dt.timedelta(minutes=seg_duration[i])\n",
    "        rounded_start_dt = ceil_datetime(start_dt)\n",
    "        rounded_end_dt = floor_datetime(end_dt)\n",
    "        next_dt = rounded_start_dt\n",
    "\n",
    "        while next_dt <= rounded_end_dt:\n",
    "            # note we should add a new object to pos_times\n",
    "            seg_pos_times.add(next_dt)\n",
    "            next_dt += dt.timedelta(minutes=5)\n",
    "    \n",
    "    seg_pos_times = sorted(seg_pos_times)\n",
    "    seg_pos_times = list(map(lambda x: ( x.strftime('%m/%d/%Y'), x.strftime('%H:%M') ), seg_pos_times))\n",
    "    \n",
    "    for seg_pos_dt in seg_pos_times:\n",
    "        seg_pos_d, seg_pos_t = seg_pos_dt\n",
    "        preprocess_segment_B.append(B)\n",
    "        preprocess_segment_E.append(E)\n",
    "        preprocess_segment_dates.append(seg_pos_d)\n",
    "        preprocess_segment_times.append(seg_pos_t)\n",
    "    \n",
    "    print(\"...Finished preprocessing segment \" + str(seg) + \".\")\n",
    "\n",
    "print(\"Total number of incidents processed: \" + str(count_incidents))"
   ]
  },
  {
   "cell_type": "code",
   "execution_count": 552,
   "metadata": {},
   "outputs": [],
   "source": [
    "segment_dt_df = pd.DataFrame({\n",
    "    'Upstream': preprocess_segment_B,\n",
    "    'Downstream': preprocess_segment_E,\n",
    "    'Date': preprocess_segment_dates,\n",
    "    'Time': preprocess_segment_times\n",
    "})"
   ]
  },
  {
   "cell_type": "code",
   "execution_count": 555,
   "metadata": {},
   "outputs": [],
   "source": [
    "segment_dt_df.to_csv(base_path + \"svm_pos_instances.csv\", index=False)"
   ]
  },
  {
   "cell_type": "code",
   "execution_count": 650,
   "metadata": {},
   "outputs": [],
   "source": [
    "svm_pos_instances = segment_dt_df"
   ]
  },
  {
   "cell_type": "markdown",
   "metadata": {},
   "source": [
    "After we have such a dataframe, we can count the total number of negative instances rather easily."
   ]
  },
  {
   "cell_type": "code",
   "execution_count": 651,
   "metadata": {},
   "outputs": [],
   "source": [
    "svm_pos_instances_train_df = svm_pos_instances.loc[(svm_pos_instances[\"Date\"].isin(dates_train_str)) & (svm_pos_instances[\"Time\"].isin(neg_times))]"
   ]
  },
  {
   "cell_type": "code",
   "execution_count": 652,
   "metadata": {},
   "outputs": [],
   "source": [
    "num_pos_instances = len(svm_pos_instances_train_df[\"Date\"].values)"
   ]
  },
  {
   "cell_type": "code",
   "execution_count": 653,
   "metadata": {},
   "outputs": [
    {
     "data": {
      "text/plain": [
       "10910"
      ]
     },
     "execution_count": 653,
     "metadata": {},
     "output_type": "execute_result"
    }
   ],
   "source": [
    "num_pos_instances"
   ]
  },
  {
   "cell_type": "code",
   "execution_count": 654,
   "metadata": {
    "scrolled": true
   },
   "outputs": [
    {
     "data": {
      "text/plain": [
       "0.39423285394232854"
      ]
     },
     "execution_count": 654,
     "metadata": {},
     "output_type": "execute_result"
    }
   ],
   "source": [
    "1. * num_pos_instances / num_neg_instances"
   ]
  },
  {
   "cell_type": "code",
   "execution_count": 655,
   "metadata": {},
   "outputs": [
    {
     "data": {
      "text/plain": [
       "0.35909252038284295"
      ]
     },
     "execution_count": 655,
     "metadata": {},
     "output_type": "execute_result"
    }
   ],
   "source": [
    "1. * 2026 / 5642"
   ]
  },
  {
   "cell_type": "markdown",
   "metadata": {},
   "source": [
    "### 1.5 Finally, \"glue\" everything together"
   ]
  },
  {
   "cell_type": "markdown",
   "metadata": {},
   "source": [
    "In the end, we will have:\n",
    "1. All negative instances for all road segments\n",
    "2. All positive instances for all road segments"
   ]
  },
  {
   "cell_type": "code",
   "execution_count": 575,
   "metadata": {},
   "outputs": [
    {
     "data": {
      "text/plain": [
       "['01:10', '01:15', '01:20']"
      ]
     },
     "execution_count": 575,
     "metadata": {},
     "output_type": "execute_result"
    }
   ],
   "source": [
    "neg_times[0:3]"
   ]
  },
  {
   "cell_type": "code",
   "execution_count": 568,
   "metadata": {},
   "outputs": [],
   "source": [
    "incident_dates = svm_pos_instances[\"Date\"].unique()"
   ]
  },
  {
   "cell_type": "code",
   "execution_count": 571,
   "metadata": {},
   "outputs": [],
   "source": [
    "neg_date_train = np.random.choice(list(set(dates_train).difference(set(incident_dates))))\n",
    "neg_date_train_str = neg_date_train.strftime(\"%m/%d/%Y\")"
   ]
  },
  {
   "cell_type": "code",
   "execution_count": 572,
   "metadata": {},
   "outputs": [
    {
     "data": {
      "text/plain": [
       "'09/25/2017'"
      ]
     },
     "execution_count": 572,
     "metadata": {},
     "output_type": "execute_result"
    }
   ],
   "source": [
    "neg_date_train_str"
   ]
  },
  {
   "cell_type": "markdown",
   "metadata": {},
   "source": [
    "#### 1.5.1 Negative instances"
   ]
  },
  {
   "cell_type": "code",
   "execution_count": 587,
   "metadata": {},
   "outputs": [],
   "source": [
    "def progress_seg(i, num_seg):\n",
    "    return \"(\" + str(i) + \"/\" + str(num_seg) + \")\""
   ]
  },
  {
   "cell_type": "code",
   "execution_count": 771,
   "metadata": {
    "scrolled": true
   },
   "outputs": [
    {
     "name": "stdout",
     "output_type": "stream",
     "text": [
      "Date: 09/25/2017\n",
      "(1/101)Start constructing feature vectors for road segment: 408907, 400951...\n",
      "Total number of vectors: 274\n",
      "    ...[100/274] Feature vector at date and time 09/25/2017 09:25 is done.\n",
      "    ...[200/274] Feature vector at date and time 09/25/2017 17:45 is done.\n",
      "...Completed construction of feature vectors for road segment 408907, 400951.\n",
      "...Adding vectors to X_neg...\n",
      "...Feature vectors added to X_neg.\n",
      "(2/101)Start constructing feature vectors for road segment: 400951, 400057...\n",
      "Total number of vectors: 274\n",
      "    ...[100/274] Feature vector at date and time 09/25/2017 09:25 is done.\n",
      "    ...[200/274] Feature vector at date and time 09/25/2017 17:45 is done.\n",
      "...Completed construction of feature vectors for road segment 400951, 400057.\n",
      "...Adding vectors to X_neg...\n",
      "...Feature vectors added to X_neg.\n",
      "(3/101)Start constructing feature vectors for road segment: 400057, 400147...\n",
      "Total number of vectors: 274\n",
      "    ...[100/274] Feature vector at date and time 09/25/2017 09:25 is done.\n",
      "    ...[200/274] Feature vector at date and time 09/25/2017 17:45 is done.\n",
      "...Completed construction of feature vectors for road segment 400057, 400147.\n",
      "...Adding vectors to X_neg...\n",
      "...Feature vectors added to X_neg.\n",
      "(4/101)Start constructing feature vectors for road segment: 400147, 400343...\n",
      "Total number of vectors: 274\n",
      "    ...[100/274] Feature vector at date and time 09/25/2017 09:25 is done.\n",
      "    ...[200/274] Feature vector at date and time 09/25/2017 17:45 is done.\n",
      "...Completed construction of feature vectors for road segment 400147, 400343.\n",
      "...Adding vectors to X_neg...\n",
      "...Feature vectors added to X_neg.\n",
      "(5/101)Start constructing feature vectors for road segment: 400343, 401560...\n",
      "Total number of vectors: 274\n",
      "    ...[100/274] Feature vector at date and time 09/25/2017 09:25 is done.\n",
      "    ...[200/274] Feature vector at date and time 09/25/2017 17:45 is done.\n",
      "...Completed construction of feature vectors for road segment 400343, 401560.\n",
      "...Adding vectors to X_neg...\n",
      "...Feature vectors added to X_neg.\n",
      "(6/101)Start constructing feature vectors for road segment: 401560, 400045...\n",
      "Total number of vectors: 274\n",
      "    ...[100/274] Feature vector at date and time 09/25/2017 09:25 is done.\n",
      "    ...[200/274] Feature vector at date and time 09/25/2017 17:45 is done.\n",
      "...Completed construction of feature vectors for road segment 401560, 400045.\n",
      "...Adding vectors to X_neg...\n",
      "...Feature vectors added to X_neg.\n",
      "(7/101)Start constructing feature vectors for road segment: 400045, 400122...\n",
      "Total number of vectors: 274\n",
      "    ...[100/274] Feature vector at date and time 09/25/2017 09:25 is done.\n",
      "    ...[200/274] Feature vector at date and time 09/25/2017 17:45 is done.\n",
      "...Completed construction of feature vectors for road segment 400045, 400122.\n",
      "...Adding vectors to X_neg...\n",
      "...Feature vectors added to X_neg.\n",
      "(8/101)Start constructing feature vectors for road segment: 400122, 401541...\n",
      "Total number of vectors: 274\n",
      "    ...[100/274] Feature vector at date and time 09/25/2017 09:25 is done.\n",
      "    ...[200/274] Feature vector at date and time 09/25/2017 17:45 is done.\n",
      "...Completed construction of feature vectors for road segment 400122, 401541.\n",
      "...Adding vectors to X_neg...\n",
      "...Feature vectors added to X_neg.\n",
      "(9/101)Start constructing feature vectors for road segment: 401541, 402281...\n",
      "Total number of vectors: 274\n",
      "    ...[100/274] Feature vector at date and time 09/25/2017 09:25 is done.\n",
      "    ...[200/274] Feature vector at date and time 09/25/2017 17:45 is done.\n",
      "...Completed construction of feature vectors for road segment 401541, 402281.\n",
      "...Adding vectors to X_neg...\n",
      "...Feature vectors added to X_neg.\n",
      "(10/101)Start constructing feature vectors for road segment: 402281, 402283...\n",
      "Total number of vectors: 274\n",
      "    ...[100/274] Feature vector at date and time 09/25/2017 09:25 is done.\n",
      "    ...[200/274] Feature vector at date and time 09/25/2017 17:45 is done.\n",
      "...Completed construction of feature vectors for road segment 402281, 402283.\n",
      "...Adding vectors to X_neg...\n",
      "...Feature vectors added to X_neg.\n",
      "(11/101)Start constructing feature vectors for road segment: 402283, 402285...\n",
      "Total number of vectors: 274\n",
      "    ...[100/274] Feature vector at date and time 09/25/2017 09:25 is done.\n",
      "    ...[200/274] Feature vector at date and time 09/25/2017 17:45 is done.\n",
      "...Completed construction of feature vectors for road segment 402283, 402285.\n",
      "...Adding vectors to X_neg...\n",
      "...Feature vectors added to X_neg.\n",
      "(12/101)Start constructing feature vectors for road segment: 402285, 402286...\n",
      "Total number of vectors: 274\n",
      "    ...[100/274] Feature vector at date and time 09/25/2017 09:25 is done.\n",
      "    ...[200/274] Feature vector at date and time 09/25/2017 17:45 is done.\n",
      "...Completed construction of feature vectors for road segment 402285, 402286.\n",
      "...Adding vectors to X_neg...\n",
      "...Feature vectors added to X_neg.\n",
      "(13/101)Start constructing feature vectors for road segment: 402286, 400088...\n",
      "Total number of vectors: 274\n",
      "    ...[100/274] Feature vector at date and time 09/25/2017 09:25 is done.\n",
      "    ...[200/274] Feature vector at date and time 09/25/2017 17:45 is done.\n",
      "...Completed construction of feature vectors for road segment 402286, 400088.\n",
      "...Adding vectors to X_neg...\n",
      "...Feature vectors added to X_neg.\n",
      "(14/101)Start constructing feature vectors for road segment: 400088, 402288...\n",
      "Total number of vectors: 274\n",
      "    ...[100/274] Feature vector at date and time 09/25/2017 09:25 is done.\n",
      "    ...[200/274] Feature vector at date and time 09/25/2017 17:45 is done.\n",
      "...Completed construction of feature vectors for road segment 400088, 402288.\n",
      "...Adding vectors to X_neg...\n",
      "...Feature vectors added to X_neg.\n",
      "(15/101)Start constructing feature vectors for road segment: 402288, 413026...\n",
      "Total number of vectors: 274\n",
      "    ...[100/274] Feature vector at date and time 09/25/2017 09:25 is done.\n",
      "    ...[200/274] Feature vector at date and time 09/25/2017 17:45 is done.\n",
      "...Completed construction of feature vectors for road segment 402288, 413026.\n",
      "...Adding vectors to X_neg...\n",
      "...Feature vectors added to X_neg.\n",
      "(16/101)Start constructing feature vectors for road segment: 413026, 401464...\n",
      "Total number of vectors: 274\n",
      "    ...[100/274] Feature vector at date and time 09/25/2017 09:25 is done.\n",
      "    ...[200/274] Feature vector at date and time 09/25/2017 17:45 is done.\n",
      "...Completed construction of feature vectors for road segment 413026, 401464.\n",
      "...Adding vectors to X_neg...\n",
      "...Feature vectors added to X_neg.\n",
      "(17/101)Start constructing feature vectors for road segment: 401464, 401489...\n",
      "Total number of vectors: 274\n",
      "    ...[100/274] Feature vector at date and time 09/25/2017 09:25 is done.\n",
      "    ...[200/274] Feature vector at date and time 09/25/2017 17:45 is done.\n",
      "...Completed construction of feature vectors for road segment 401464, 401489.\n",
      "...Adding vectors to X_neg...\n",
      "...Feature vectors added to X_neg.\n",
      "(18/101)Start constructing feature vectors for road segment: 401489, 401538...\n",
      "Total number of vectors: 274\n",
      "    ...[100/274] Feature vector at date and time 09/25/2017 09:25 is done.\n",
      "    ...[200/274] Feature vector at date and time 09/25/2017 17:45 is done.\n",
      "...Completed construction of feature vectors for road segment 401489, 401538.\n",
      "...Adding vectors to X_neg...\n",
      "...Feature vectors added to X_neg.\n",
      "(19/101)Start constructing feature vectors for road segment: 401538, 402290...\n",
      "Total number of vectors: 274\n",
      "    ...[100/274] Feature vector at date and time 09/25/2017 09:25 is done.\n",
      "    ...[200/274] Feature vector at date and time 09/25/2017 17:45 is done.\n",
      "...Completed construction of feature vectors for road segment 401538, 402290.\n",
      "...Adding vectors to X_neg...\n",
      "...Feature vectors added to X_neg.\n",
      "(20/101)Start constructing feature vectors for road segment: 402290, 402292...\n",
      "Total number of vectors: 274\n",
      "    ...[100/274] Feature vector at date and time 09/25/2017 09:25 is done.\n",
      "    ...[200/274] Feature vector at date and time 09/25/2017 17:45 is done.\n",
      "...Completed construction of feature vectors for road segment 402290, 402292.\n",
      "...Adding vectors to X_neg...\n",
      "...Feature vectors added to X_neg.\n",
      "(21/101)Start constructing feature vectors for road segment: 402292, 401643...\n",
      "Total number of vectors: 274\n",
      "    ...[100/274] Feature vector at date and time 09/25/2017 09:25 is done.\n"
     ]
    },
    {
     "name": "stdout",
     "output_type": "stream",
     "text": [
      "    ...[200/274] Feature vector at date and time 09/25/2017 17:45 is done.\n",
      "...Completed construction of feature vectors for road segment 402292, 401643.\n",
      "...Adding vectors to X_neg...\n",
      "...Feature vectors added to X_neg.\n",
      "(22/101)Start constructing feature vectors for road segment: 401643, 402800...\n",
      "Total number of vectors: 274\n",
      "    ...[100/274] Feature vector at date and time 09/25/2017 09:25 is done.\n",
      "    ...[200/274] Feature vector at date and time 09/25/2017 17:45 is done.\n",
      "...Completed construction of feature vectors for road segment 401643, 402800.\n",
      "...Adding vectors to X_neg...\n",
      "...Feature vectors added to X_neg.\n",
      "(23/101)Start constructing feature vectors for road segment: 402800, 402828...\n",
      "Total number of vectors: 274\n",
      "    ...[100/274] Feature vector at date and time 09/25/2017 09:25 is done.\n",
      "    ...[200/274] Feature vector at date and time 09/25/2017 17:45 is done.\n",
      "...Completed construction of feature vectors for road segment 402800, 402828.\n",
      "...Adding vectors to X_neg...\n",
      "...Feature vectors added to X_neg.\n",
      "(24/101)Start constructing feature vectors for road segment: 402828, 407219...\n",
      "Total number of vectors: 274\n",
      "    ...[100/274] Feature vector at date and time 09/25/2017 09:25 is done.\n",
      "    ...[200/274] Feature vector at date and time 09/25/2017 17:45 is done.\n",
      "...Completed construction of feature vectors for road segment 402828, 407219.\n",
      "...Adding vectors to X_neg...\n",
      "...Feature vectors added to X_neg.\n",
      "(25/101)Start constructing feature vectors for road segment: 407219, 402789...\n",
      "Total number of vectors: 274\n",
      "    ...[100/274] Feature vector at date and time 09/25/2017 09:25 is done.\n",
      "    ...[200/274] Feature vector at date and time 09/25/2017 17:45 is done.\n",
      "...Completed construction of feature vectors for road segment 407219, 402789.\n",
      "...Adding vectors to X_neg...\n",
      "...Feature vectors added to X_neg.\n",
      "(26/101)Start constructing feature vectors for road segment: 402789, 408755...\n",
      "Total number of vectors: 274\n",
      "    ...[100/274] Feature vector at date and time 09/25/2017 09:25 is done.\n",
      "    ...[200/274] Feature vector at date and time 09/25/2017 17:45 is done.\n",
      "...Completed construction of feature vectors for road segment 402789, 408755.\n",
      "...Adding vectors to X_neg...\n",
      "...Feature vectors added to X_neg.\n",
      "(27/101)Start constructing feature vectors for road segment: 408755, 402802...\n",
      "Total number of vectors: 274\n",
      "    ...[100/274] Feature vector at date and time 09/25/2017 09:25 is done.\n",
      "    ...[200/274] Feature vector at date and time 09/25/2017 17:45 is done.\n",
      "...Completed construction of feature vectors for road segment 408755, 402802.\n",
      "...Adding vectors to X_neg...\n",
      "...Feature vectors added to X_neg.\n",
      "(28/101)Start constructing feature vectors for road segment: 402802, 408756...\n",
      "Total number of vectors: 274\n",
      "    ...[100/274] Feature vector at date and time 09/25/2017 09:25 is done.\n",
      "    ...[200/274] Feature vector at date and time 09/25/2017 17:45 is done.\n",
      "...Completed construction of feature vectors for road segment 402802, 408756.\n",
      "...Adding vectors to X_neg...\n",
      "...Feature vectors added to X_neg.\n",
      "(29/101)Start constructing feature vectors for road segment: 408756, 400189...\n",
      "Total number of vectors: 274\n",
      "    ...[100/274] Feature vector at date and time 09/25/2017 09:25 is done.\n",
      "    ...[200/274] Feature vector at date and time 09/25/2017 17:45 is done.\n",
      "...Completed construction of feature vectors for road segment 408756, 400189.\n",
      "...Adding vectors to X_neg...\n",
      "...Feature vectors added to X_neg.\n",
      "(30/101)Start constructing feature vectors for road segment: 400189, 400309...\n",
      "Total number of vectors: 274\n",
      "    ...[100/274] Feature vector at date and time 09/25/2017 09:25 is done.\n",
      "    ...[200/274] Feature vector at date and time 09/25/2017 17:45 is done.\n",
      "...Completed construction of feature vectors for road segment 400189, 400309.\n",
      "...Adding vectors to X_neg...\n",
      "...Feature vectors added to X_neg.\n",
      "(31/101)Start constructing feature vectors for road segment: 400309, 400417...\n",
      "Total number of vectors: 274\n",
      "    ...[100/274] Feature vector at date and time 09/25/2017 09:25 is done.\n",
      "    ...[200/274] Feature vector at date and time 09/25/2017 17:45 is done.\n",
      "...Completed construction of feature vectors for road segment 400309, 400417.\n",
      "...Adding vectors to X_neg...\n",
      "...Feature vectors added to X_neg.\n",
      "(32/101)Start constructing feature vectors for road segment: 400417, 400249...\n",
      "Total number of vectors: 274\n",
      "    ...[100/274] Feature vector at date and time 09/25/2017 09:25 is done.\n",
      "    ...[200/274] Feature vector at date and time 09/25/2017 17:45 is done.\n",
      "...Completed construction of feature vectors for road segment 400417, 400249.\n",
      "...Adding vectors to X_neg...\n",
      "...Feature vectors added to X_neg.\n",
      "(33/101)Start constructing feature vectors for road segment: 400249, 401639...\n",
      "Total number of vectors: 274\n",
      "    ...[100/274] Feature vector at date and time 09/25/2017 09:25 is done.\n",
      "    ...[200/274] Feature vector at date and time 09/25/2017 17:45 is done.\n",
      "...Completed construction of feature vectors for road segment 400249, 401639.\n",
      "...Adding vectors to X_neg...\n",
      "...Feature vectors added to X_neg.\n",
      "(34/101)Start constructing feature vectors for road segment: 401639, 400662...\n",
      "Total number of vectors: 274\n",
      "    ...[100/274] Feature vector at date and time 09/25/2017 09:25 is done.\n",
      "    ...[200/274] Feature vector at date and time 09/25/2017 17:45 is done.\n",
      "...Completed construction of feature vectors for road segment 401639, 400662.\n",
      "...Adding vectors to X_neg...\n",
      "...Feature vectors added to X_neg.\n",
      "(35/101)Start constructing feature vectors for road segment: 400662, 400141...\n",
      "Total number of vectors: 274\n",
      "    ...[100/274] Feature vector at date and time 09/25/2017 09:25 is done.\n",
      "    ...[200/274] Feature vector at date and time 09/25/2017 17:45 is done.\n",
      "...Completed construction of feature vectors for road segment 400662, 400141.\n",
      "...Adding vectors to X_neg...\n",
      "...Feature vectors added to X_neg.\n",
      "(36/101)Start constructing feature vectors for road segment: 400141, 400761...\n",
      "Total number of vectors: 274\n",
      "    ...[100/274] Feature vector at date and time 09/25/2017 09:25 is done.\n",
      "    ...[200/274] Feature vector at date and time 09/25/2017 17:45 is done.\n",
      "...Completed construction of feature vectors for road segment 400141, 400761.\n",
      "...Adding vectors to X_neg...\n",
      "...Feature vectors added to X_neg.\n",
      "(37/101)Start constructing feature vectors for road segment: 400761, 400490...\n",
      "Total number of vectors: 274\n",
      "    ...[100/274] Feature vector at date and time 09/25/2017 09:25 is done.\n",
      "    ...[200/274] Feature vector at date and time 09/25/2017 17:45 is done.\n",
      "...Completed construction of feature vectors for road segment 400761, 400490.\n",
      "...Adding vectors to X_neg...\n",
      "...Feature vectors added to X_neg.\n",
      "(38/101)Start constructing feature vectors for road segment: 400490, 401888...\n",
      "Total number of vectors: 274\n",
      "    ...[100/274] Feature vector at date and time 09/25/2017 09:25 is done.\n",
      "    ...[200/274] Feature vector at date and time 09/25/2017 17:45 is done.\n",
      "...Completed construction of feature vectors for road segment 400490, 401888.\n",
      "...Adding vectors to X_neg...\n",
      "...Feature vectors added to X_neg.\n",
      "(39/101)Start constructing feature vectors for road segment: 401888, 400137...\n",
      "Total number of vectors: 274\n",
      "    ...[100/274] Feature vector at date and time 09/25/2017 09:25 is done.\n",
      "    ...[200/274] Feature vector at date and time 09/25/2017 17:45 is done.\n",
      "...Completed construction of feature vectors for road segment 401888, 400137.\n",
      "...Adding vectors to X_neg...\n",
      "...Feature vectors added to X_neg.\n",
      "(40/101)Start constructing feature vectors for road segment: 400137, 400716...\n",
      "Total number of vectors: 274\n",
      "    ...[100/274] Feature vector at date and time 09/25/2017 09:25 is done.\n",
      "    ...[200/274] Feature vector at date and time 09/25/2017 17:45 is done.\n",
      "...Completed construction of feature vectors for road segment 400137, 400716.\n",
      "...Adding vectors to X_neg...\n",
      "...Feature vectors added to X_neg.\n",
      "(41/101)Start constructing feature vectors for road segment: 400716, 401545...\n",
      "Total number of vectors: 274\n",
      "    ...[100/274] Feature vector at date and time 09/25/2017 09:25 is done.\n",
      "    ...[200/274] Feature vector at date and time 09/25/2017 17:45 is done.\n",
      "...Completed construction of feature vectors for road segment 400716, 401545.\n",
      "...Adding vectors to X_neg...\n",
      "...Feature vectors added to X_neg.\n",
      "(42/101)Start constructing feature vectors for road segment: 401545, 401011...\n",
      "Total number of vectors: 274\n"
     ]
    },
    {
     "name": "stdout",
     "output_type": "stream",
     "text": [
      "    ...[100/274] Feature vector at date and time 09/25/2017 09:25 is done.\n",
      "    ...[200/274] Feature vector at date and time 09/25/2017 17:45 is done.\n",
      "...Completed construction of feature vectors for road segment 401545, 401011.\n",
      "...Adding vectors to X_neg...\n",
      "...Feature vectors added to X_neg.\n",
      "(43/101)Start constructing feature vectors for road segment: 401011, 400674...\n",
      "Total number of vectors: 274\n",
      "    ...[100/274] Feature vector at date and time 09/25/2017 09:25 is done.\n",
      "    ...[200/274] Feature vector at date and time 09/25/2017 17:45 is done.\n",
      "...Completed construction of feature vectors for road segment 401011, 400674.\n",
      "...Adding vectors to X_neg...\n",
      "...Feature vectors added to X_neg.\n",
      "(44/101)Start constructing feature vectors for road segment: 400674, 400539...\n",
      "Total number of vectors: 274\n",
      "    ...[100/274] Feature vector at date and time 09/25/2017 09:25 is done.\n",
      "    ...[200/274] Feature vector at date and time 09/25/2017 17:45 is done.\n",
      "...Completed construction of feature vectors for road segment 400674, 400539.\n",
      "...Adding vectors to X_neg...\n",
      "...Feature vectors added to X_neg.\n",
      "(45/101)Start constructing feature vectors for road segment: 400539, 400534...\n",
      "Total number of vectors: 274\n",
      "    ...[100/274] Feature vector at date and time 09/25/2017 09:25 is done.\n",
      "    ...[200/274] Feature vector at date and time 09/25/2017 17:45 is done.\n",
      "...Completed construction of feature vectors for road segment 400539, 400534.\n",
      "...Adding vectors to X_neg...\n",
      "...Feature vectors added to X_neg.\n",
      "(46/101)Start constructing feature vectors for road segment: 400534, 401062...\n",
      "Total number of vectors: 274\n",
      "    ...[100/274] Feature vector at date and time 09/25/2017 09:25 is done.\n",
      "    ...[200/274] Feature vector at date and time 09/25/2017 17:45 is done.\n",
      "...Completed construction of feature vectors for road segment 400534, 401062.\n",
      "...Adding vectors to X_neg...\n",
      "...Feature vectors added to X_neg.\n",
      "(47/101)Start constructing feature vectors for road segment: 401062, 401529...\n",
      "Total number of vectors: 274\n",
      "    ...[100/274] Feature vector at date and time 09/25/2017 09:25 is done.\n",
      "    ...[200/274] Feature vector at date and time 09/25/2017 17:45 is done.\n",
      "...Completed construction of feature vectors for road segment 401062, 401529.\n",
      "...Adding vectors to X_neg...\n",
      "...Feature vectors added to X_neg.\n",
      "(48/101)Start constructing feature vectors for road segment: 401529, 401613...\n",
      "Total number of vectors: 274\n",
      "    ...[100/274] Feature vector at date and time 09/25/2017 09:25 is done.\n",
      "    ...[200/274] Feature vector at date and time 09/25/2017 17:45 is done.\n",
      "...Completed construction of feature vectors for road segment 401529, 401613.\n",
      "...Adding vectors to X_neg...\n",
      "...Feature vectors added to X_neg.\n",
      "(49/101)Start constructing feature vectors for road segment: 401613, 400536...\n",
      "Total number of vectors: 274\n",
      "    ...[100/274] Feature vector at date and time 09/25/2017 09:25 is done.\n",
      "    ...[200/274] Feature vector at date and time 09/25/2017 17:45 is done.\n",
      "...Completed construction of feature vectors for road segment 401613, 400536.\n",
      "...Adding vectors to X_neg...\n",
      "...Feature vectors added to X_neg.\n",
      "(50/101)Start constructing feature vectors for road segment: 400536, 400488...\n",
      "Total number of vectors: 274\n",
      "    ...[100/274] Feature vector at date and time 09/25/2017 09:25 is done.\n",
      "    ...[200/274] Feature vector at date and time 09/25/2017 17:45 is done.\n",
      "...Completed construction of feature vectors for road segment 400536, 400488.\n",
      "...Adding vectors to X_neg...\n",
      "...Feature vectors added to X_neg.\n",
      "(51/101)Start constructing feature vectors for road segment: 400488, 401561...\n",
      "Total number of vectors: 274\n",
      "    ...[100/274] Feature vector at date and time 09/25/2017 09:25 is done.\n",
      "    ...[200/274] Feature vector at date and time 09/25/2017 17:45 is done.\n",
      "...Completed construction of feature vectors for road segment 400488, 401561.\n",
      "...Adding vectors to X_neg...\n",
      "...Feature vectors added to X_neg.\n",
      "(52/101)Start constructing feature vectors for road segment: 401561, 400611...\n",
      "Total number of vectors: 274\n",
      "    ...[100/274] Feature vector at date and time 09/25/2017 09:25 is done.\n",
      "    ...[200/274] Feature vector at date and time 09/25/2017 17:45 is done.\n",
      "...Completed construction of feature vectors for road segment 401561, 400611.\n",
      "...Adding vectors to X_neg...\n",
      "...Feature vectors added to X_neg.\n",
      "(53/101)Start constructing feature vectors for road segment: 400611, 400928...\n",
      "Total number of vectors: 274\n",
      "    ...[100/274] Feature vector at date and time 09/25/2017 09:25 is done.\n",
      "    ...[200/274] Feature vector at date and time 09/25/2017 17:45 is done.\n",
      "...Completed construction of feature vectors for road segment 400611, 400928.\n",
      "...Adding vectors to X_neg...\n",
      "...Feature vectors added to X_neg.\n",
      "(54/101)Start constructing feature vectors for road segment: 400928, 400284...\n",
      "Total number of vectors: 274\n",
      "    ...[100/274] Feature vector at date and time 09/25/2017 09:25 is done.\n",
      "    ...[200/274] Feature vector at date and time 09/25/2017 17:45 is done.\n",
      "...Completed construction of feature vectors for road segment 400928, 400284.\n",
      "...Adding vectors to X_neg...\n",
      "...Feature vectors added to X_neg.\n",
      "(55/101)Start constructing feature vectors for road segment: 400284, 400041...\n",
      "Total number of vectors: 274\n",
      "    ...[100/274] Feature vector at date and time 09/25/2017 09:25 is done.\n",
      "    ...[200/274] Feature vector at date and time 09/25/2017 17:45 is done.\n",
      "...Completed construction of feature vectors for road segment 400284, 400041.\n",
      "...Adding vectors to X_neg...\n",
      "...Feature vectors added to X_neg.\n",
      "(56/101)Start constructing feature vectors for road segment: 400041, 408133...\n",
      "Total number of vectors: 274\n",
      "    ...[100/274] Feature vector at date and time 09/25/2017 09:25 is done.\n",
      "    ...[200/274] Feature vector at date and time 09/25/2017 17:45 is done.\n",
      "...Completed construction of feature vectors for road segment 400041, 408133.\n",
      "...Adding vectors to X_neg...\n",
      "...Feature vectors added to X_neg.\n",
      "(57/101)Start constructing feature vectors for road segment: 408133, 408135...\n",
      "Total number of vectors: 274\n",
      "    ...[100/274] Feature vector at date and time 09/25/2017 09:25 is done.\n",
      "    ...[200/274] Feature vector at date and time 09/25/2017 17:45 is done.\n",
      "...Completed construction of feature vectors for road segment 408133, 408135.\n",
      "...Adding vectors to X_neg...\n",
      "...Feature vectors added to X_neg.\n",
      "(58/101)Start constructing feature vectors for road segment: 408135, 417665...\n",
      "Total number of vectors: 274\n",
      "    ...[100/274] Feature vector at date and time 09/25/2017 09:25 is done.\n",
      "    ...[200/274] Feature vector at date and time 09/25/2017 17:45 is done.\n",
      "...Completed construction of feature vectors for road segment 408135, 417665.\n",
      "...Adding vectors to X_neg...\n",
      "...Feature vectors added to X_neg.\n",
      "(59/101)Start constructing feature vectors for road segment: 417665, 412637...\n",
      "Total number of vectors: 274\n",
      "    ...[100/274] Feature vector at date and time 09/25/2017 09:25 is done.\n",
      "    ...[200/274] Feature vector at date and time 09/25/2017 17:45 is done.\n",
      "...Completed construction of feature vectors for road segment 417665, 412637.\n",
      "...Adding vectors to X_neg...\n",
      "...Feature vectors added to X_neg.\n",
      "(60/101)Start constructing feature vectors for road segment: 412637, 417666...\n",
      "Total number of vectors: 274\n",
      "    ...[100/274] Feature vector at date and time 09/25/2017 09:25 is done.\n",
      "    ...[200/274] Feature vector at date and time 09/25/2017 17:45 is done.\n",
      "...Completed construction of feature vectors for road segment 412637, 417666.\n",
      "...Adding vectors to X_neg...\n",
      "...Feature vectors added to X_neg.\n",
      "(61/101)Start constructing feature vectors for road segment: 417666, 408134...\n",
      "Total number of vectors: 274\n",
      "    ...[100/274] Feature vector at date and time 09/25/2017 09:25 is done.\n",
      "    ...[200/274] Feature vector at date and time 09/25/2017 17:45 is done.\n",
      "...Completed construction of feature vectors for road segment 417666, 408134.\n",
      "...Adding vectors to X_neg...\n",
      "...Feature vectors added to X_neg.\n",
      "(62/101)Start constructing feature vectors for road segment: 408134, 400685...\n",
      "Total number of vectors: 274\n",
      "    ...[100/274] Feature vector at date and time 09/25/2017 09:25 is done.\n",
      "    ...[200/274] Feature vector at date and time 09/25/2017 17:45 is done.\n",
      "...Completed construction of feature vectors for road segment 408134, 400685.\n",
      "...Adding vectors to X_neg...\n",
      "...Feature vectors added to X_neg.\n",
      "(63/101)Start constructing feature vectors for road segment: 400685, 401003...\n",
      "Total number of vectors: 274\n"
     ]
    },
    {
     "name": "stdout",
     "output_type": "stream",
     "text": [
      "    ...[100/274] Feature vector at date and time 09/25/2017 09:25 is done.\n",
      "    ...[200/274] Feature vector at date and time 09/25/2017 17:45 is done.\n",
      "...Completed construction of feature vectors for road segment 400685, 401003.\n",
      "...Adding vectors to X_neg...\n",
      "...Feature vectors added to X_neg.\n",
      "(64/101)Start constructing feature vectors for road segment: 401003, 400898...\n",
      "Total number of vectors: 274\n",
      "    ...[100/274] Feature vector at date and time 09/25/2017 09:25 is done.\n",
      "    ...[200/274] Feature vector at date and time 09/25/2017 17:45 is done.\n",
      "...Completed construction of feature vectors for road segment 401003, 400898.\n",
      "...Adding vectors to X_neg...\n",
      "...Feature vectors added to X_neg.\n",
      "(65/101)Start constructing feature vectors for road segment: 400898, 400275...\n",
      "Total number of vectors: 274\n",
      "    ...[100/274] Feature vector at date and time 09/25/2017 09:25 is done.\n",
      "    ...[200/274] Feature vector at date and time 09/25/2017 17:45 is done.\n",
      "...Completed construction of feature vectors for road segment 400898, 400275.\n",
      "...Adding vectors to X_neg...\n",
      "...Feature vectors added to X_neg.\n",
      "(66/101)Start constructing feature vectors for road segment: 400275, 400939...\n",
      "Total number of vectors: 274\n",
      "    ...[100/274] Feature vector at date and time 09/25/2017 09:25 is done.\n",
      "    ...[200/274] Feature vector at date and time 09/25/2017 17:45 is done.\n",
      "...Completed construction of feature vectors for road segment 400275, 400939.\n",
      "...Adding vectors to X_neg...\n",
      "...Feature vectors added to X_neg.\n",
      "(67/101)Start constructing feature vectors for road segment: 400939, 400180...\n",
      "Total number of vectors: 274\n",
      "    ...[100/274] Feature vector at date and time 09/25/2017 09:25 is done.\n",
      "    ...[200/274] Feature vector at date and time 09/25/2017 17:45 is done.\n",
      "...Completed construction of feature vectors for road segment 400939, 400180.\n",
      "...Adding vectors to X_neg...\n",
      "...Feature vectors added to X_neg.\n",
      "(68/101)Start constructing feature vectors for road segment: 400180, 400529...\n",
      "Total number of vectors: 274\n",
      "    ...[100/274] Feature vector at date and time 09/25/2017 09:25 is done.\n",
      "    ...[200/274] Feature vector at date and time 09/25/2017 17:45 is done.\n",
      "...Completed construction of feature vectors for road segment 400180, 400529.\n",
      "...Adding vectors to X_neg...\n",
      "...Feature vectors added to X_neg.\n",
      "(69/101)Start constructing feature vectors for road segment: 400529, 400990...\n",
      "Total number of vectors: 274\n",
      "    ...[100/274] Feature vector at date and time 09/25/2017 09:25 is done.\n",
      "    ...[200/274] Feature vector at date and time 09/25/2017 17:45 is done.\n",
      "...Completed construction of feature vectors for road segment 400529, 400990.\n",
      "...Adding vectors to X_neg...\n",
      "...Feature vectors added to X_neg.\n",
      "(70/101)Start constructing feature vectors for road segment: 400990, 400515...\n",
      "Total number of vectors: 274\n",
      "    ...[100/274] Feature vector at date and time 09/25/2017 09:25 is done.\n",
      "    ...[200/274] Feature vector at date and time 09/25/2017 17:45 is done.\n",
      "...Completed construction of feature vectors for road segment 400990, 400515.\n",
      "...Adding vectors to X_neg...\n",
      "...Feature vectors added to X_neg.\n",
      "(71/101)Start constructing feature vectors for road segment: 400515, 400252...\n",
      "Total number of vectors: 274\n",
      "    ...[100/274] Feature vector at date and time 09/25/2017 09:25 is done.\n",
      "    ...[200/274] Feature vector at date and time 09/25/2017 17:45 is done.\n",
      "...Completed construction of feature vectors for road segment 400515, 400252.\n",
      "...Adding vectors to X_neg...\n",
      "...Feature vectors added to X_neg.\n",
      "(72/101)Start constructing feature vectors for road segment: 400252, 400788...\n",
      "Total number of vectors: 274\n",
      "    ...[100/274] Feature vector at date and time 09/25/2017 09:25 is done.\n",
      "    ...[200/274] Feature vector at date and time 09/25/2017 17:45 is done.\n",
      "...Completed construction of feature vectors for road segment 400252, 400788.\n",
      "...Adding vectors to X_neg...\n",
      "...Feature vectors added to X_neg.\n",
      "(73/101)Start constructing feature vectors for road segment: 400788, 401517...\n",
      "Total number of vectors: 274\n",
      "    ...[100/274] Feature vector at date and time 09/25/2017 09:25 is done.\n",
      "    ...[200/274] Feature vector at date and time 09/25/2017 17:45 is done.\n",
      "...Completed construction of feature vectors for road segment 400788, 401517.\n",
      "...Adding vectors to X_neg...\n",
      "...Feature vectors added to X_neg.\n",
      "(74/101)Start constructing feature vectors for road segment: 401517, 401871...\n",
      "Total number of vectors: 274\n",
      "    ...[100/274] Feature vector at date and time 09/25/2017 09:25 is done.\n",
      "    ...[200/274] Feature vector at date and time 09/25/2017 17:45 is done.\n",
      "...Completed construction of feature vectors for road segment 401517, 401871.\n",
      "...Adding vectors to X_neg...\n",
      "...Feature vectors added to X_neg.\n",
      "(75/101)Start constructing feature vectors for road segment: 401871, 400574...\n",
      "Total number of vectors: 274\n",
      "    ...[100/274] Feature vector at date and time 09/25/2017 09:25 is done.\n",
      "    ...[200/274] Feature vector at date and time 09/25/2017 17:45 is done.\n",
      "...Completed construction of feature vectors for road segment 401871, 400574.\n",
      "...Adding vectors to X_neg...\n",
      "...Feature vectors added to X_neg.\n",
      "(76/101)Start constructing feature vectors for road segment: 400574, 401629...\n",
      "Total number of vectors: 274\n",
      "    ...[100/274] Feature vector at date and time 09/25/2017 09:25 is done.\n",
      "    ...[200/274] Feature vector at date and time 09/25/2017 17:45 is done.\n",
      "...Completed construction of feature vectors for road segment 400574, 401629.\n",
      "...Adding vectors to X_neg...\n",
      "...Feature vectors added to X_neg.\n",
      "(77/101)Start constructing feature vectors for road segment: 401629, 400422...\n",
      "Total number of vectors: 274\n",
      "    ...[100/274] Feature vector at date and time 09/25/2017 09:25 is done.\n",
      "    ...[200/274] Feature vector at date and time 09/25/2017 17:45 is done.\n",
      "...Completed construction of feature vectors for road segment 401629, 400422.\n",
      "...Adding vectors to X_neg...\n",
      "...Feature vectors added to X_neg.\n",
      "(78/101)Start constructing feature vectors for road segment: 400422, 400333...\n",
      "Total number of vectors: 274\n",
      "    ...[100/274] Feature vector at date and time 09/25/2017 09:25 is done.\n",
      "    ...[200/274] Feature vector at date and time 09/25/2017 17:45 is done.\n",
      "...Completed construction of feature vectors for road segment 400422, 400333.\n",
      "...Adding vectors to X_neg...\n",
      "...Feature vectors added to X_neg.\n",
      "(79/101)Start constructing feature vectors for road segment: 400333, 410363...\n",
      "Total number of vectors: 274\n",
      "    ...[100/274] Feature vector at date and time 09/25/2017 09:25 is done.\n",
      "    ...[200/274] Feature vector at date and time 09/25/2017 17:45 is done.\n",
      "...Completed construction of feature vectors for road segment 400333, 410363.\n",
      "...Adding vectors to X_neg...\n",
      "...Feature vectors added to X_neg.\n",
      "(80/101)Start constructing feature vectors for road segment: 410363, 400360...\n",
      "Total number of vectors: 274\n",
      "    ...[100/274] Feature vector at date and time 09/25/2017 09:25 is done.\n",
      "    ...[200/274] Feature vector at date and time 09/25/2017 17:45 is done.\n",
      "...Completed construction of feature vectors for road segment 410363, 400360.\n",
      "...Adding vectors to X_neg...\n",
      "...Feature vectors added to X_neg.\n",
      "(81/101)Start constructing feature vectors for road segment: 400360, 400955...\n",
      "Total number of vectors: 274\n",
      "    ...[100/274] Feature vector at date and time 09/25/2017 09:25 is done.\n",
      "    ...[200/274] Feature vector at date and time 09/25/2017 17:45 is done.\n",
      "...Completed construction of feature vectors for road segment 400360, 400955.\n",
      "...Adding vectors to X_neg...\n",
      "...Feature vectors added to X_neg.\n",
      "(82/101)Start constructing feature vectors for road segment: 400955, 400495...\n",
      "Total number of vectors: 274\n",
      "    ...[100/274] Feature vector at date and time 09/25/2017 09:25 is done.\n",
      "    ...[200/274] Feature vector at date and time 09/25/2017 17:45 is done.\n",
      "...Completed construction of feature vectors for road segment 400955, 400495.\n",
      "...Adding vectors to X_neg...\n",
      "...Feature vectors added to X_neg.\n",
      "(83/101)Start constructing feature vectors for road segment: 400495, 400608...\n",
      "Total number of vectors: 274\n",
      "    ...[100/274] Feature vector at date and time 09/25/2017 09:25 is done.\n",
      "    ...[200/274] Feature vector at date and time 09/25/2017 17:45 is done.\n",
      "...Completed construction of feature vectors for road segment 400495, 400608.\n",
      "...Adding vectors to X_neg...\n",
      "...Feature vectors added to X_neg.\n",
      "(84/101)Start constructing feature vectors for road segment: 400608, 400949...\n",
      "Total number of vectors: 274\n"
     ]
    },
    {
     "name": "stdout",
     "output_type": "stream",
     "text": [
      "    ...[100/274] Feature vector at date and time 09/25/2017 09:25 is done.\n",
      "    ...[200/274] Feature vector at date and time 09/25/2017 17:45 is done.\n",
      "...Completed construction of feature vectors for road segment 400608, 400949.\n",
      "...Adding vectors to X_neg...\n",
      "...Feature vectors added to X_neg.\n",
      "(85/101)Start constructing feature vectors for road segment: 400949, 400678...\n",
      "Total number of vectors: 274\n",
      "    ...[100/274] Feature vector at date and time 09/25/2017 09:25 is done.\n",
      "    ...[200/274] Feature vector at date and time 09/25/2017 17:45 is done.\n",
      "...Completed construction of feature vectors for road segment 400949, 400678.\n",
      "...Adding vectors to X_neg...\n",
      "...Feature vectors added to X_neg.\n",
      "(86/101)Start constructing feature vectors for road segment: 400678, 400341...\n",
      "Total number of vectors: 274\n",
      "    ...[100/274] Feature vector at date and time 09/25/2017 09:25 is done.\n",
      "    ...[200/274] Feature vector at date and time 09/25/2017 17:45 is done.\n",
      "...Completed construction of feature vectors for road segment 400678, 400341.\n",
      "...Adding vectors to X_neg...\n",
      "...Feature vectors added to X_neg.\n",
      "(87/101)Start constructing feature vectors for road segment: 400341, 400607...\n",
      "Total number of vectors: 274\n",
      "    ...[100/274] Feature vector at date and time 09/25/2017 09:25 is done.\n",
      "    ...[200/274] Feature vector at date and time 09/25/2017 17:45 is done.\n",
      "...Completed construction of feature vectors for road segment 400341, 400607.\n",
      "...Adding vectors to X_neg...\n",
      "...Feature vectors added to X_neg.\n",
      "(88/101)Start constructing feature vectors for road segment: 400607, 400094...\n",
      "Total number of vectors: 274\n",
      "    ...[100/274] Feature vector at date and time 09/25/2017 09:25 is done.\n",
      "    ...[200/274] Feature vector at date and time 09/25/2017 17:45 is done.\n",
      "...Completed construction of feature vectors for road segment 400607, 400094.\n",
      "...Adding vectors to X_neg...\n",
      "...Feature vectors added to X_neg.\n",
      "(89/101)Start constructing feature vectors for road segment: 400094, 400682...\n",
      "Total number of vectors: 274\n",
      "    ...[100/274] Feature vector at date and time 09/25/2017 09:25 is done.\n",
      "    ...[200/274] Feature vector at date and time 09/25/2017 17:45 is done.\n",
      "...Completed construction of feature vectors for road segment 400094, 400682.\n",
      "...Adding vectors to X_neg...\n",
      "...Feature vectors added to X_neg.\n",
      "(90/101)Start constructing feature vectors for road segment: 400682, 408138...\n",
      "Total number of vectors: 274\n",
      "    ...[100/274] Feature vector at date and time 09/25/2017 09:25 is done.\n",
      "    ...[200/274] Feature vector at date and time 09/25/2017 17:45 is done.\n",
      "...Completed construction of feature vectors for road segment 400682, 408138.\n",
      "...Adding vectors to X_neg...\n",
      "...Feature vectors added to X_neg.\n",
      "(91/101)Start constructing feature vectors for road segment: 408138, 400980...\n",
      "Total number of vectors: 274\n",
      "    ...[100/274] Feature vector at date and time 09/25/2017 09:25 is done.\n",
      "    ...[200/274] Feature vector at date and time 09/25/2017 17:45 is done.\n",
      "...Completed construction of feature vectors for road segment 408138, 400980.\n",
      "...Adding vectors to X_neg...\n",
      "...Feature vectors added to X_neg.\n",
      "(92/101)Start constructing feature vectors for road segment: 400980, 401333...\n",
      "Total number of vectors: 274\n",
      "    ...[100/274] Feature vector at date and time 09/25/2017 09:25 is done.\n",
      "    ...[200/274] Feature vector at date and time 09/25/2017 17:45 is done.\n",
      "...Completed construction of feature vectors for road segment 400980, 401333.\n",
      "...Adding vectors to X_neg...\n",
      "...Feature vectors added to X_neg.\n",
      "(93/101)Start constructing feature vectors for road segment: 401333, 404746...\n",
      "Total number of vectors: 274\n",
      "    ...[100/274] Feature vector at date and time 09/25/2017 09:25 is done.\n",
      "    ...[200/274] Feature vector at date and time 09/25/2017 17:45 is done.\n",
      "...Completed construction of feature vectors for road segment 401333, 404746.\n",
      "...Adding vectors to X_neg...\n",
      "...Feature vectors added to X_neg.\n",
      "(94/101)Start constructing feature vectors for road segment: 404746, 401142...\n",
      "Total number of vectors: 274\n",
      "    ...[100/274] Feature vector at date and time 09/25/2017 09:25 is done.\n",
      "    ...[200/274] Feature vector at date and time 09/25/2017 17:45 is done.\n",
      "...Completed construction of feature vectors for road segment 404746, 401142.\n",
      "...Adding vectors to X_neg...\n",
      "...Feature vectors added to X_neg.\n",
      "(95/101)Start constructing feature vectors for road segment: 401142, 400218...\n",
      "Total number of vectors: 274\n",
      "    ...[100/274] Feature vector at date and time 09/25/2017 09:25 is done.\n",
      "    ...[200/274] Feature vector at date and time 09/25/2017 17:45 is done.\n",
      "...Completed construction of feature vectors for road segment 401142, 400218.\n",
      "...Adding vectors to X_neg...\n",
      "...Feature vectors added to X_neg.\n",
      "(96/101)Start constructing feature vectors for road segment: 400218, 400983...\n",
      "Total number of vectors: 274\n",
      "    ...[100/274] Feature vector at date and time 09/25/2017 09:25 is done.\n",
      "    ...[200/274] Feature vector at date and time 09/25/2017 17:45 is done.\n",
      "...Completed construction of feature vectors for road segment 400218, 400983.\n",
      "...Adding vectors to X_neg...\n",
      "...Feature vectors added to X_neg.\n",
      "(97/101)Start constructing feature vectors for road segment: 400983, 400765...\n",
      "Total number of vectors: 274\n",
      "    ...[100/274] Feature vector at date and time 09/25/2017 09:25 is done.\n",
      "    ...[200/274] Feature vector at date and time 09/25/2017 17:45 is done.\n",
      "...Completed construction of feature vectors for road segment 400983, 400765.\n",
      "...Adding vectors to X_neg...\n",
      "...Feature vectors added to X_neg.\n",
      "(98/101)Start constructing feature vectors for road segment: 400765, 400844...\n",
      "Total number of vectors: 274\n",
      "    ...[100/274] Feature vector at date and time 09/25/2017 09:25 is done.\n",
      "    ...[200/274] Feature vector at date and time 09/25/2017 17:45 is done.\n",
      "...Completed construction of feature vectors for road segment 400765, 400844.\n",
      "...Adding vectors to X_neg...\n",
      "...Feature vectors added to X_neg.\n",
      "(99/101)Start constructing feature vectors for road segment: 400844, 400923...\n",
      "Total number of vectors: 274\n",
      "    ...[100/274] Feature vector at date and time 09/25/2017 09:25 is done.\n",
      "    ...[200/274] Feature vector at date and time 09/25/2017 17:45 is done.\n",
      "...Completed construction of feature vectors for road segment 400844, 400923.\n",
      "...Adding vectors to X_neg...\n",
      "...Feature vectors added to X_neg.\n",
      "(100/101)Start constructing feature vectors for road segment: 400923, 401143...\n",
      "Total number of vectors: 274\n",
      "    ...[100/274] Feature vector at date and time 09/25/2017 09:25 is done.\n",
      "    ...[200/274] Feature vector at date and time 09/25/2017 17:45 is done.\n",
      "...Completed construction of feature vectors for road segment 400923, 401143.\n",
      "...Adding vectors to X_neg...\n",
      "...Feature vectors added to X_neg.\n",
      "(101/101)Start constructing feature vectors for road segment: 401143, 401471...\n",
      "Total number of vectors: 274\n",
      "    ...[100/274] Feature vector at date and time 09/25/2017 09:25 is done.\n",
      "    ...[200/274] Feature vector at date and time 09/25/2017 17:45 is done.\n",
      "...Completed construction of feature vectors for road segment 401143, 401471.\n",
      "...Adding vectors to X_neg...\n",
      "...Feature vectors added to X_neg.\n"
     ]
    }
   ],
   "source": [
    "X_neg = []\n",
    "num_segments = len(road_segments)\n",
    "print(\"Date: \" + neg_date_train_str)\n",
    "for i, seg in enumerate(road_segments):\n",
    "    X_neg_BE = []\n",
    "    B, E = seg\n",
    "    print(progress_seg(i+1, num_segments) + \"Start constructing feature vectors for road segment: \" + str(B) + \", \" + str(E) + \"...\")\n",
    "    progress_count = 0\n",
    "    total_count = len(neg_times)\n",
    "    print(\"Total number of vectors: \" + str(total_count))\n",
    "    df_neg_train_BE = df_train.loc[((df_train[\"Station ID\"] == B) | (df_train[\"Station ID\"] == E)) & (df_train[\"Date\"] == neg_date_train_str)]\n",
    "    \n",
    "    # neg_times has been created\n",
    "    for t_neg in neg_times:\n",
    "        feature_t = []\n",
    "        dt_neg_timestamp = pd.Timestamp(neg_date_train_str + ' ' + t_neg + ':00')\n",
    "\n",
    "        B_lags = []\n",
    "        for j in range(5):\n",
    "            B_lags.append(dt_neg_timestamp - dt.timedelta(minutes=j*5))\n",
    "        B_lags = list(map(lambda x: x.strftime('%H:%M') , B_lags))\n",
    "        E_lags = B_lags[0:3]\n",
    "        \n",
    "        # upstream features\n",
    "        for t_lag in B_lags:\n",
    "            df_dt_lag = df_neg_train_BE.loc[(df_neg_train_BE[\"Station ID\"] == B) & (df_neg_train_BE[\"Time\"] == t_lag)]\n",
    "\n",
    "            speed_B_t = df_dt_lag[\"Speed\"].values[0]\n",
    "            flow_B_t = df_dt_lag[\"Flow\"].values[0]\n",
    "            occ_B_t = df_dt_lag[\"Occupancy\"].values[0]\n",
    "\n",
    "            speed_pred_B_t = df_dt_lag[\"Pred Speed\"].values[0]\n",
    "            flow_pred_B_t = df_dt_lag[\"Pred Flow\"].values[0]\n",
    "            occ_pred_B_t = df_dt_lag[\"Pred Occupancy\"].values[0]\n",
    "\n",
    "            feature_t.extend([speed_B_t, flow_B_t, occ_B_t, speed_pred_B_t, flow_pred_B_t, occ_pred_B_t, speed_B_t - speed_pred_B_t, flow_B_t - flow_pred_B_t, occ_B_t - occ_pred_B_t])\n",
    "        \n",
    "        # downstream features\n",
    "        for t_lag in E_lags:\n",
    "            df_dt_lag = df_neg_train_BE.loc[(df_neg_train_BE[\"Station ID\"] == E) & (df_neg_train_BE[\"Time\"] == t_lag)]\n",
    "\n",
    "            speed_E_t = df_dt_lag[\"Speed\"].values[0]\n",
    "            flow_E_t = df_dt_lag[\"Flow\"].values[0]\n",
    "            occ_E_t = df_dt_lag[\"Occupancy\"].values[0]\n",
    "\n",
    "            speed_pred_E_t = df_dt_lag[\"Pred Speed\"].values[0]\n",
    "            flow_pred_E_t = df_dt_lag[\"Pred Flow\"].values[0]\n",
    "            occ_pred_E_t = df_dt_lag[\"Pred Occupancy\"].values[0]\n",
    "\n",
    "            feature_t.extend([speed_E_t, flow_E_t, occ_E_t, speed_pred_E_t, flow_pred_E_t, occ_pred_E_t, speed_E_t - speed_pred_E_t, flow_E_t - flow_pred_E_t, occ_E_t - occ_pred_E_t])\n",
    "        X_neg_BE.append(feature_t)\n",
    "        progress_count += 1\n",
    "        \n",
    "        if progress_count % 100 == 0:\n",
    "            print(\"    ...[\" + str(progress_count) + \"/\" + str(total_count) +\"] Feature vector at date and time \" + str(neg_date_train_str) + \" \" + t_neg + \" is done.\")\n",
    "\n",
    "    print(\"...Completed construction of feature vectors for road segment \" + str(B) + \", \" + str(E) + \".\")\n",
    "    print(\"...Adding vectors to X_neg...\")\n",
    "    X_neg.extend(X_neg_BE)\n",
    "    print(\"...Feature vectors added to X_neg.\")"
   ]
  },
  {
   "cell_type": "code",
   "execution_count": 772,
   "metadata": {},
   "outputs": [
    {
     "data": {
      "text/plain": [
       "27674"
      ]
     },
     "execution_count": 772,
     "metadata": {},
     "output_type": "execute_result"
    }
   ],
   "source": [
    "len(X_neg)"
   ]
  },
  {
   "cell_type": "markdown",
   "metadata": {},
   "source": [
    "#### 1.5.2 Positive instances"
   ]
  },
  {
   "cell_type": "code",
   "execution_count": 773,
   "metadata": {
    "scrolled": true
   },
   "outputs": [
    {
     "data": {
      "text/html": [
       "<div>\n",
       "<style scoped>\n",
       "    .dataframe tbody tr th:only-of-type {\n",
       "        vertical-align: middle;\n",
       "    }\n",
       "\n",
       "    .dataframe tbody tr th {\n",
       "        vertical-align: top;\n",
       "    }\n",
       "\n",
       "    .dataframe thead th {\n",
       "        text-align: right;\n",
       "    }\n",
       "</style>\n",
       "<table border=\"1\" class=\"dataframe\">\n",
       "  <thead>\n",
       "    <tr style=\"text-align: right;\">\n",
       "      <th></th>\n",
       "      <th>Upstream</th>\n",
       "      <th>Downstream</th>\n",
       "      <th>Date</th>\n",
       "      <th>Time</th>\n",
       "    </tr>\n",
       "  </thead>\n",
       "  <tbody>\n",
       "    <tr>\n",
       "      <th>73</th>\n",
       "      <td>408907</td>\n",
       "      <td>400951</td>\n",
       "      <td>05/15/2017</td>\n",
       "      <td>13:50</td>\n",
       "    </tr>\n",
       "  </tbody>\n",
       "</table>\n",
       "</div>"
      ],
      "text/plain": [
       "    Upstream  Downstream        Date   Time\n",
       "73    408907      400951  05/15/2017  13:50"
      ]
     },
     "execution_count": 773,
     "metadata": {},
     "output_type": "execute_result"
    }
   ],
   "source": [
    "svm_pos_instances_train_df.head(1)"
   ]
  },
  {
   "cell_type": "code",
   "execution_count": 774,
   "metadata": {
    "scrolled": true
   },
   "outputs": [
    {
     "name": "stdout",
     "output_type": "stream",
     "text": [
      "(1/101)Start constructing positive feature vectors for road segment: 408907, 400951...\n",
      "Total number of vectors: 43\n",
      "...Completed construction of feature vectors for road segment 408907, 400951.\n",
      "(2/101)Start constructing positive feature vectors for road segment: 400951, 400057...\n",
      "Total number of vectors: 238\n",
      "    ...[100/238] Feature vector at date and time ('07/16/2017', '03:40') is done.\n",
      "    ...[200/238] Feature vector at date and time ('12/23/2017', '19:45') is done.\n",
      "...Completed construction of feature vectors for road segment 400951, 400057.\n",
      "(3/101)Start constructing positive feature vectors for road segment: 400057, 400147...\n",
      "Total number of vectors: 143\n",
      "    ...[100/143] Feature vector at date and time ('12/11/2017', '16:15') is done.\n",
      "...Completed construction of feature vectors for road segment 400057, 400147.\n",
      "(4/101)Start constructing positive feature vectors for road segment: 400147, 400343...\n",
      "Total number of vectors: 115\n",
      "    ...[100/115] Feature vector at date and time ('10/08/2017', '21:40') is done.\n",
      "...Completed construction of feature vectors for road segment 400147, 400343.\n",
      "(5/101)Start constructing positive feature vectors for road segment: 400343, 401560...\n",
      "Total number of vectors: 55\n",
      "...Completed construction of feature vectors for road segment 400343, 401560.\n",
      "(6/101)Start constructing positive feature vectors for road segment: 401560, 400045...\n",
      "Total number of vectors: 80\n",
      "...Completed construction of feature vectors for road segment 401560, 400045.\n",
      "(7/101)Start constructing positive feature vectors for road segment: 400045, 400122...\n",
      "Total number of vectors: 119\n",
      "    ...[100/119] Feature vector at date and time ('10/20/2017', '20:40') is done.\n",
      "...Completed construction of feature vectors for road segment 400045, 400122.\n",
      "(8/101)Start constructing positive feature vectors for road segment: 400122, 401541...\n",
      "Total number of vectors: 85\n",
      "...Completed construction of feature vectors for road segment 400122, 401541.\n",
      "(9/101)Start constructing positive feature vectors for road segment: 401541, 402281...\n",
      "Total number of vectors: 108\n",
      "    ...[100/108] Feature vector at date and time ('11/05/2017', '02:10') is done.\n",
      "...Completed construction of feature vectors for road segment 401541, 402281.\n",
      "(10/101)Start constructing positive feature vectors for road segment: 402281, 402283...\n",
      "Total number of vectors: 0\n",
      "...Completed construction of feature vectors for road segment 402281, 402283.\n",
      "(11/101)Start constructing positive feature vectors for road segment: 402283, 402285...\n",
      "Total number of vectors: 34\n",
      "...Completed construction of feature vectors for road segment 402283, 402285.\n",
      "(12/101)Start constructing positive feature vectors for road segment: 402285, 402286...\n",
      "Total number of vectors: 0\n",
      "...Completed construction of feature vectors for road segment 402285, 402286.\n",
      "(13/101)Start constructing positive feature vectors for road segment: 402286, 400088...\n",
      "Total number of vectors: 113\n",
      "    ...[100/113] Feature vector at date and time ('11/07/2017', '20:15') is done.\n",
      "...Completed construction of feature vectors for road segment 402286, 400088.\n",
      "(14/101)Start constructing positive feature vectors for road segment: 400088, 402288...\n",
      "Total number of vectors: 5\n",
      "...Completed construction of feature vectors for road segment 400088, 402288.\n",
      "(15/101)Start constructing positive feature vectors for road segment: 402288, 413026...\n",
      "Total number of vectors: 121\n",
      "    ...[100/121] Feature vector at date and time ('12/20/2017', '22:05') is done.\n",
      "...Completed construction of feature vectors for road segment 402288, 413026.\n",
      "(16/101)Start constructing positive feature vectors for road segment: 413026, 401464...\n",
      "Total number of vectors: 0\n",
      "...Completed construction of feature vectors for road segment 413026, 401464.\n",
      "(17/101)Start constructing positive feature vectors for road segment: 401464, 401489...\n",
      "Total number of vectors: 15\n",
      "...Completed construction of feature vectors for road segment 401464, 401489.\n",
      "(18/101)Start constructing positive feature vectors for road segment: 401489, 401538...\n",
      "Total number of vectors: 16\n",
      "...Completed construction of feature vectors for road segment 401489, 401538.\n",
      "(19/101)Start constructing positive feature vectors for road segment: 401538, 402290...\n",
      "Total number of vectors: 53\n",
      "...Completed construction of feature vectors for road segment 401538, 402290.\n",
      "(20/101)Start constructing positive feature vectors for road segment: 402290, 402292...\n",
      "Total number of vectors: 0\n",
      "...Completed construction of feature vectors for road segment 402290, 402292.\n",
      "(21/101)Start constructing positive feature vectors for road segment: 402292, 401643...\n",
      "Total number of vectors: 227\n",
      "    ...[100/227] Feature vector at date and time ('10/19/2017', '17:30') is done.\n",
      "    ...[200/227] Feature vector at date and time ('11/18/2017', '22:05') is done.\n",
      "...Completed construction of feature vectors for road segment 402292, 401643.\n",
      "(22/101)Start constructing positive feature vectors for road segment: 401643, 402800...\n",
      "Total number of vectors: 92\n",
      "...Completed construction of feature vectors for road segment 401643, 402800.\n",
      "(23/101)Start constructing positive feature vectors for road segment: 402800, 402828...\n",
      "Total number of vectors: 0\n",
      "...Completed construction of feature vectors for road segment 402800, 402828.\n",
      "(24/101)Start constructing positive feature vectors for road segment: 402828, 407219...\n",
      "Total number of vectors: 196\n",
      "    ...[100/196] Feature vector at date and time ('09/21/2017', '19:30') is done.\n",
      "...Completed construction of feature vectors for road segment 402828, 407219.\n",
      "(25/101)Start constructing positive feature vectors for road segment: 407219, 402789...\n",
      "Total number of vectors: 0\n",
      "...Completed construction of feature vectors for road segment 407219, 402789.\n",
      "(26/101)Start constructing positive feature vectors for road segment: 402789, 408755...\n",
      "Total number of vectors: 70\n",
      "...Completed construction of feature vectors for road segment 402789, 408755.\n",
      "(27/101)Start constructing positive feature vectors for road segment: 408755, 402802...\n",
      "Total number of vectors: 0\n",
      "...Completed construction of feature vectors for road segment 408755, 402802.\n",
      "(28/101)Start constructing positive feature vectors for road segment: 402802, 408756...\n",
      "Total number of vectors: 0\n",
      "...Completed construction of feature vectors for road segment 402802, 408756.\n",
      "(29/101)Start constructing positive feature vectors for road segment: 408756, 400189...\n",
      "Total number of vectors: 77\n",
      "...Completed construction of feature vectors for road segment 408756, 400189.\n",
      "(30/101)Start constructing positive feature vectors for road segment: 400189, 400309...\n",
      "Total number of vectors: 15\n",
      "...Completed construction of feature vectors for road segment 400189, 400309.\n",
      "(31/101)Start constructing positive feature vectors for road segment: 400309, 400417...\n",
      "Total number of vectors: 64\n",
      "...Completed construction of feature vectors for road segment 400309, 400417.\n",
      "(32/101)Start constructing positive feature vectors for road segment: 400417, 400249...\n",
      "Total number of vectors: 185\n",
      "    ...[100/185] Feature vector at date and time ('10/20/2017', '16:50') is done.\n",
      "...Completed construction of feature vectors for road segment 400417, 400249.\n",
      "(33/101)Start constructing positive feature vectors for road segment: 400249, 401639...\n",
      "Total number of vectors: 143\n",
      "    ...[100/143] Feature vector at date and time ('08/20/2017', '21:50') is done.\n",
      "...Completed construction of feature vectors for road segment 400249, 401639.\n",
      "(34/101)Start constructing positive feature vectors for road segment: 401639, 400662...\n",
      "Total number of vectors: 118\n",
      "    ...[100/118] Feature vector at date and time ('11/29/2017', '11:15') is done.\n",
      "...Completed construction of feature vectors for road segment 401639, 400662.\n",
      "(35/101)Start constructing positive feature vectors for road segment: 400662, 400141...\n",
      "Total number of vectors: 52\n",
      "...Completed construction of feature vectors for road segment 400662, 400141.\n",
      "(36/101)Start constructing positive feature vectors for road segment: 400141, 400761...\n",
      "Total number of vectors: 123\n",
      "    ...[100/123] Feature vector at date and time ('11/05/2017', '05:45') is done.\n",
      "...Completed construction of feature vectors for road segment 400141, 400761.\n",
      "(37/101)Start constructing positive feature vectors for road segment: 400761, 400490...\n",
      "Total number of vectors: 8\n"
     ]
    },
    {
     "name": "stdout",
     "output_type": "stream",
     "text": [
      "...Completed construction of feature vectors for road segment 400761, 400490.\n",
      "(38/101)Start constructing positive feature vectors for road segment: 400490, 401888...\n",
      "Total number of vectors: 15\n",
      "...Completed construction of feature vectors for road segment 400490, 401888.\n",
      "(39/101)Start constructing positive feature vectors for road segment: 401888, 400137...\n",
      "Total number of vectors: 103\n",
      "    ...[100/103] Feature vector at date and time ('12/20/2017', '14:45') is done.\n",
      "...Completed construction of feature vectors for road segment 401888, 400137.\n",
      "(40/101)Start constructing positive feature vectors for road segment: 400137, 400716...\n",
      "Total number of vectors: 40\n",
      "...Completed construction of feature vectors for road segment 400137, 400716.\n",
      "(41/101)Start constructing positive feature vectors for road segment: 400716, 401545...\n",
      "Total number of vectors: 12\n",
      "...Completed construction of feature vectors for road segment 400716, 401545.\n",
      "(42/101)Start constructing positive feature vectors for road segment: 401545, 401011...\n",
      "Total number of vectors: 179\n",
      "    ...[100/179] Feature vector at date and time ('09/29/2017', '20:35') is done.\n",
      "...Completed construction of feature vectors for road segment 401545, 401011.\n",
      "(43/101)Start constructing positive feature vectors for road segment: 401011, 400674...\n",
      "Total number of vectors: 50\n",
      "...Completed construction of feature vectors for road segment 401011, 400674.\n",
      "(44/101)Start constructing positive feature vectors for road segment: 400674, 400539...\n",
      "Total number of vectors: 81\n",
      "...Completed construction of feature vectors for road segment 400674, 400539.\n",
      "(45/101)Start constructing positive feature vectors for road segment: 400539, 400534...\n",
      "Total number of vectors: 64\n",
      "...Completed construction of feature vectors for road segment 400539, 400534.\n",
      "(46/101)Start constructing positive feature vectors for road segment: 400534, 401062...\n",
      "Total number of vectors: 46\n",
      "...Completed construction of feature vectors for road segment 400534, 401062.\n",
      "(47/101)Start constructing positive feature vectors for road segment: 401062, 401529...\n",
      "Total number of vectors: 0\n",
      "...Completed construction of feature vectors for road segment 401062, 401529.\n",
      "(48/101)Start constructing positive feature vectors for road segment: 401529, 401613...\n",
      "Total number of vectors: 0\n",
      "...Completed construction of feature vectors for road segment 401529, 401613.\n",
      "(49/101)Start constructing positive feature vectors for road segment: 401613, 400536...\n",
      "Total number of vectors: 171\n",
      "    ...[100/171] Feature vector at date and time ('10/12/2017', '21:00') is done.\n",
      "...Completed construction of feature vectors for road segment 401613, 400536.\n",
      "(50/101)Start constructing positive feature vectors for road segment: 400536, 400488...\n",
      "Total number of vectors: 272\n",
      "    ...[100/272] Feature vector at date and time ('08/12/2017', '02:15') is done.\n",
      "    ...[200/272] Feature vector at date and time ('10/19/2017', '13:40') is done.\n",
      "...Completed construction of feature vectors for road segment 400536, 400488.\n",
      "(51/101)Start constructing positive feature vectors for road segment: 400488, 401561...\n",
      "Total number of vectors: 128\n",
      "    ...[100/128] Feature vector at date and time ('07/23/2017', '23:50') is done.\n",
      "...Completed construction of feature vectors for road segment 400488, 401561.\n",
      "(52/101)Start constructing positive feature vectors for road segment: 401561, 400611...\n",
      "Total number of vectors: 0\n",
      "...Completed construction of feature vectors for road segment 401561, 400611.\n",
      "(53/101)Start constructing positive feature vectors for road segment: 400611, 400928...\n",
      "Total number of vectors: 31\n",
      "...Completed construction of feature vectors for road segment 400611, 400928.\n",
      "(54/101)Start constructing positive feature vectors for road segment: 400928, 400284...\n",
      "Total number of vectors: 298\n",
      "    ...[100/298] Feature vector at date and time ('07/08/2017', '02:05') is done.\n",
      "    ...[200/298] Feature vector at date and time ('09/22/2017', '09:15') is done.\n",
      "...Completed construction of feature vectors for road segment 400928, 400284.\n",
      "(55/101)Start constructing positive feature vectors for road segment: 400284, 400041...\n",
      "Total number of vectors: 20\n",
      "...Completed construction of feature vectors for road segment 400284, 400041.\n",
      "(56/101)Start constructing positive feature vectors for road segment: 400041, 408133...\n",
      "Total number of vectors: 23\n",
      "...Completed construction of feature vectors for road segment 400041, 408133.\n",
      "(57/101)Start constructing positive feature vectors for road segment: 408133, 408135...\n",
      "Total number of vectors: 0\n",
      "...Completed construction of feature vectors for road segment 408133, 408135.\n",
      "(58/101)Start constructing positive feature vectors for road segment: 408135, 417665...\n",
      "Total number of vectors: 290\n",
      "    ...[100/290] Feature vector at date and time ('08/12/2017', '16:10') is done.\n",
      "    ...[200/290] Feature vector at date and time ('10/20/2017', '14:50') is done.\n",
      "...Completed construction of feature vectors for road segment 408135, 417665.\n",
      "(59/101)Start constructing positive feature vectors for road segment: 417665, 412637...\n",
      "Total number of vectors: 18\n",
      "...Completed construction of feature vectors for road segment 417665, 412637.\n",
      "(60/101)Start constructing positive feature vectors for road segment: 412637, 417666...\n",
      "Total number of vectors: 9\n",
      "...Completed construction of feature vectors for road segment 412637, 417666.\n",
      "(61/101)Start constructing positive feature vectors for road segment: 417666, 408134...\n",
      "Total number of vectors: 183\n",
      "    ...[100/183] Feature vector at date and time ('09/29/2017', '23:25') is done.\n",
      "...Completed construction of feature vectors for road segment 417666, 408134.\n",
      "(62/101)Start constructing positive feature vectors for road segment: 408134, 400685...\n",
      "Total number of vectors: 289\n",
      "    ...[100/289] Feature vector at date and time ('07/25/2017', '23:30') is done.\n",
      "    ...[200/289] Feature vector at date and time ('10/04/2017', '20:00') is done.\n",
      "...Completed construction of feature vectors for road segment 408134, 400685.\n",
      "(63/101)Start constructing positive feature vectors for road segment: 400685, 401003...\n",
      "Total number of vectors: 0\n",
      "...Completed construction of feature vectors for road segment 400685, 401003.\n",
      "(64/101)Start constructing positive feature vectors for road segment: 401003, 400898...\n",
      "Total number of vectors: 75\n",
      "...Completed construction of feature vectors for road segment 401003, 400898.\n",
      "(65/101)Start constructing positive feature vectors for road segment: 400898, 400275...\n",
      "Total number of vectors: 364\n",
      "    ...[100/364] Feature vector at date and time ('07/22/2017', '16:45') is done.\n",
      "    ...[200/364] Feature vector at date and time ('09/18/2017', '02:55') is done.\n",
      "    ...[300/364] Feature vector at date and time ('10/30/2017', '02:15') is done.\n",
      "...Completed construction of feature vectors for road segment 400898, 400275.\n",
      "(66/101)Start constructing positive feature vectors for road segment: 400275, 400939...\n",
      "Total number of vectors: 163\n",
      "    ...[100/163] Feature vector at date and time ('08/17/2017', '19:25') is done.\n",
      "...Completed construction of feature vectors for road segment 400275, 400939.\n",
      "(67/101)Start constructing positive feature vectors for road segment: 400939, 400180...\n",
      "Total number of vectors: 0\n",
      "...Completed construction of feature vectors for road segment 400939, 400180.\n",
      "(68/101)Start constructing positive feature vectors for road segment: 400180, 400529...\n",
      "Total number of vectors: 0\n",
      "...Completed construction of feature vectors for road segment 400180, 400529.\n",
      "(69/101)Start constructing positive feature vectors for road segment: 400529, 400990...\n",
      "Total number of vectors: 0\n",
      "...Completed construction of feature vectors for road segment 400529, 400990.\n",
      "(70/101)Start constructing positive feature vectors for road segment: 400990, 400515...\n",
      "Total number of vectors: 61\n",
      "...Completed construction of feature vectors for road segment 400990, 400515.\n",
      "(71/101)Start constructing positive feature vectors for road segment: 400515, 400252...\n",
      "Total number of vectors: 460\n",
      "    ...[100/460] Feature vector at date and time ('07/02/2017', '14:45') is done.\n",
      "    ...[200/460] Feature vector at date and time ('08/16/2017', '14:10') is done.\n",
      "    ...[300/460] Feature vector at date and time ('09/17/2017', '19:45') is done.\n"
     ]
    },
    {
     "name": "stdout",
     "output_type": "stream",
     "text": [
      "    ...[400/460] Feature vector at date and time ('10/20/2017', '13:25') is done.\n",
      "...Completed construction of feature vectors for road segment 400515, 400252.\n",
      "(72/101)Start constructing positive feature vectors for road segment: 400252, 400788...\n",
      "Total number of vectors: 588\n",
      "    ...[100/588] Feature vector at date and time ('05/30/2017', '02:50') is done.\n",
      "    ...[200/588] Feature vector at date and time ('08/27/2017', '23:15') is done.\n",
      "    ...[300/588] Feature vector at date and time ('09/21/2017', '04:30') is done.\n",
      "    ...[400/588] Feature vector at date and time ('10/16/2017', '02:15') is done.\n",
      "    ...[500/588] Feature vector at date and time ('11/02/2017', '23:30') is done.\n",
      "...Completed construction of feature vectors for road segment 400252, 400788.\n",
      "(73/101)Start constructing positive feature vectors for road segment: 400788, 401517...\n",
      "Total number of vectors: 150\n",
      "    ...[100/150] Feature vector at date and time ('09/18/2017', '13:25') is done.\n",
      "...Completed construction of feature vectors for road segment 400788, 401517.\n",
      "(74/101)Start constructing positive feature vectors for road segment: 401517, 401871...\n",
      "Total number of vectors: 4\n",
      "...Completed construction of feature vectors for road segment 401517, 401871.\n",
      "(75/101)Start constructing positive feature vectors for road segment: 401871, 400574...\n",
      "Total number of vectors: 245\n",
      "    ...[100/245] Feature vector at date and time ('08/07/2017', '01:55') is done.\n",
      "    ...[200/245] Feature vector at date and time ('09/24/2017', '06:20') is done.\n",
      "...Completed construction of feature vectors for road segment 401871, 400574.\n",
      "(76/101)Start constructing positive feature vectors for road segment: 400574, 401629...\n",
      "Total number of vectors: 318\n",
      "    ...[100/318] Feature vector at date and time ('09/02/2017', '05:10') is done.\n",
      "    ...[200/318] Feature vector at date and time ('11/05/2017', '03:00') is done.\n",
      "    ...[300/318] Feature vector at date and time ('11/16/2017', '13:40') is done.\n",
      "...Completed construction of feature vectors for road segment 400574, 401629.\n",
      "(77/101)Start constructing positive feature vectors for road segment: 401629, 400422...\n",
      "Total number of vectors: 176\n",
      "    ...[100/176] Feature vector at date and time ('09/29/2017', '09:05') is done.\n",
      "...Completed construction of feature vectors for road segment 401629, 400422.\n",
      "(78/101)Start constructing positive feature vectors for road segment: 400422, 400333...\n",
      "Total number of vectors: 0\n",
      "...Completed construction of feature vectors for road segment 400422, 400333.\n",
      "(79/101)Start constructing positive feature vectors for road segment: 400333, 410363...\n",
      "Total number of vectors: 55\n",
      "...Completed construction of feature vectors for road segment 400333, 410363.\n",
      "(80/101)Start constructing positive feature vectors for road segment: 410363, 400360...\n",
      "Total number of vectors: 198\n",
      "    ...[100/198] Feature vector at date and time ('09/13/2017', '10:25') is done.\n",
      "...Completed construction of feature vectors for road segment 410363, 400360.\n",
      "(81/101)Start constructing positive feature vectors for road segment: 400360, 400955...\n",
      "Total number of vectors: 80\n",
      "...Completed construction of feature vectors for road segment 400360, 400955.\n",
      "(82/101)Start constructing positive feature vectors for road segment: 400955, 400495...\n",
      "Total number of vectors: 170\n",
      "    ...[100/170] Feature vector at date and time ('10/30/2017', '07:05') is done.\n",
      "...Completed construction of feature vectors for road segment 400955, 400495.\n",
      "(83/101)Start constructing positive feature vectors for road segment: 400495, 400608...\n",
      "Total number of vectors: 3\n",
      "...Completed construction of feature vectors for road segment 400495, 400608.\n",
      "(84/101)Start constructing positive feature vectors for road segment: 400608, 400949...\n",
      "Total number of vectors: 300\n",
      "    ...[100/300] Feature vector at date and time ('08/05/2017', '06:45') is done.\n",
      "    ...[200/300] Feature vector at date and time ('11/02/2017', '21:40') is done.\n",
      "    ...[300/300] Feature vector at date and time ('12/23/2017', '04:35') is done.\n",
      "...Completed construction of feature vectors for road segment 400608, 400949.\n",
      "(85/101)Start constructing positive feature vectors for road segment: 400949, 400678...\n",
      "Total number of vectors: 478\n",
      "    ...[100/478] Feature vector at date and time ('07/05/2017', '16:25') is done.\n",
      "    ...[200/478] Feature vector at date and time ('08/08/2017', '18:00') is done.\n",
      "    ...[300/478] Feature vector at date and time ('09/17/2017', '22:35') is done.\n",
      "    ...[400/478] Feature vector at date and time ('10/20/2017', '14:30') is done.\n",
      "...Completed construction of feature vectors for road segment 400949, 400678.\n",
      "(86/101)Start constructing positive feature vectors for road segment: 400678, 400341...\n",
      "Total number of vectors: 0\n",
      "...Completed construction of feature vectors for road segment 400678, 400341.\n",
      "(87/101)Start constructing positive feature vectors for road segment: 400341, 400607...\n",
      "Total number of vectors: 384\n",
      "    ...[100/384] Feature vector at date and time ('05/25/2017', '22:00') is done.\n",
      "    ...[200/384] Feature vector at date and time ('07/16/2017', '19:25') is done.\n",
      "    ...[300/384] Feature vector at date and time ('09/24/2017', '19:45') is done.\n",
      "...Completed construction of feature vectors for road segment 400341, 400607.\n",
      "(88/101)Start constructing positive feature vectors for road segment: 400607, 400094...\n",
      "Total number of vectors: 400\n",
      "    ...[100/400] Feature vector at date and time ('08/17/2017', '06:25') is done.\n",
      "    ...[200/400] Feature vector at date and time ('09/25/2017', '12:10') is done.\n",
      "    ...[300/400] Feature vector at date and time ('11/18/2017', '02:10') is done.\n",
      "    ...[400/400] Feature vector at date and time ('12/29/2017', '23:55') is done.\n",
      "...Completed construction of feature vectors for road segment 400607, 400094.\n",
      "(89/101)Start constructing positive feature vectors for road segment: 400094, 400682...\n",
      "Total number of vectors: 0\n",
      "...Completed construction of feature vectors for road segment 400094, 400682.\n",
      "(90/101)Start constructing positive feature vectors for road segment: 400682, 408138...\n",
      "Total number of vectors: 448\n",
      "    ...[100/448] Feature vector at date and time ('07/21/2017', '22:10') is done.\n",
      "    ...[200/448] Feature vector at date and time ('10/04/2017', '11:05') is done.\n",
      "    ...[300/448] Feature vector at date and time ('12/15/2017', '17:40') is done.\n",
      "    ...[400/448] Feature vector at date and time ('12/20/2017', '15:25') is done.\n",
      "...Completed construction of feature vectors for road segment 400682, 408138.\n",
      "(91/101)Start constructing positive feature vectors for road segment: 408138, 400980...\n",
      "Total number of vectors: 124\n",
      "    ...[100/124] Feature vector at date and time ('11/11/2017', '01:15') is done.\n",
      "...Completed construction of feature vectors for road segment 408138, 400980.\n",
      "(92/101)Start constructing positive feature vectors for road segment: 400980, 401333...\n",
      "Total number of vectors: 242\n",
      "    ...[100/242] Feature vector at date and time ('08/20/2017', '08:30') is done.\n",
      "    ...[200/242] Feature vector at date and time ('11/05/2017', '21:00') is done.\n",
      "...Completed construction of feature vectors for road segment 400980, 401333.\n",
      "(93/101)Start constructing positive feature vectors for road segment: 401333, 404746...\n",
      "Total number of vectors: 0\n",
      "...Completed construction of feature vectors for road segment 401333, 404746.\n",
      "(94/101)Start constructing positive feature vectors for road segment: 404746, 401142...\n",
      "Total number of vectors: 0\n",
      "...Completed construction of feature vectors for road segment 404746, 401142.\n",
      "(95/101)Start constructing positive feature vectors for road segment: 401142, 400218...\n",
      "Total number of vectors: 0\n",
      "...Completed construction of feature vectors for road segment 401142, 400218.\n",
      "(96/101)Start constructing positive feature vectors for road segment: 400218, 400983...\n",
      "Total number of vectors: 184\n",
      "    ...[100/184] Feature vector at date and time ('05/28/2017', '02:25') is done.\n",
      "...Completed construction of feature vectors for road segment 400218, 400983.\n",
      "(97/101)Start constructing positive feature vectors for road segment: 400983, 400765...\n",
      "Total number of vectors: 0\n",
      "...Completed construction of feature vectors for road segment 400983, 400765.\n",
      "(98/101)Start constructing positive feature vectors for road segment: 400765, 400844...\n"
     ]
    },
    {
     "name": "stdout",
     "output_type": "stream",
     "text": [
      "Total number of vectors: 205\n",
      "    ...[100/205] Feature vector at date and time ('08/12/2017', '22:20') is done.\n",
      "    ...[200/205] Feature vector at date and time ('12/08/2017', '10:45') is done.\n",
      "...Completed construction of feature vectors for road segment 400765, 400844.\n",
      "(99/101)Start constructing positive feature vectors for road segment: 400844, 400923...\n",
      "Total number of vectors: 0\n",
      "...Completed construction of feature vectors for road segment 400844, 400923.\n",
      "(100/101)Start constructing positive feature vectors for road segment: 400923, 401143...\n",
      "Total number of vectors: 0\n",
      "...Completed construction of feature vectors for road segment 400923, 401143.\n",
      "(101/101)Start constructing positive feature vectors for road segment: 401143, 401471...\n",
      "Total number of vectors: 0\n",
      "...Completed construction of feature vectors for road segment 401143, 401471.\n"
     ]
    }
   ],
   "source": [
    "X_pos = []\n",
    "for i, seg in enumerate(road_segments):\n",
    "    B, E = seg\n",
    "    print(progress_seg(i+1, num_segments) + \"Start constructing positive feature vectors for road segment: \" + str(B) + \", \" + str(E) + \"...\")\n",
    "    progress_count = 0\n",
    "    \n",
    "    # construct segment-specific pos_times\n",
    "    pos_times = []\n",
    "    df_seg_incidents = svm_pos_instances_train_df.loc[svm_pos_instances_train_df[\"Upstream\"] == B]\n",
    "    seg_dates = df_seg_incidents[\"Date\"].values.tolist()\n",
    "    seg_times = df_seg_incidents[\"Time\"].values.tolist()\n",
    "    num_seg_instances = len(seg_dates)\n",
    "    for i in range(num_seg_instances):\n",
    "        pos_times.append(tuple([seg_dates[i], seg_times[i]]))\n",
    "    \n",
    "    # select the relevant training data for segment B, E \n",
    "    df_train_BE = df_train.loc[((df_train[\"Station ID\"] == B) | (df_train[\"Station ID\"] == E)) & (df_train[\"Time\"].isin(working_time))]\n",
    "    \n",
    "    \n",
    "    print(\"Total number of vectors: \" + str(num_seg_instances))\n",
    "    for dt_pos in pos_times:\n",
    "        d_pos, t_pos = dt_pos\n",
    "        feature_t = []\n",
    "        dt_pos_timestamp = pd.Timestamp(d_pos + ' ' + t_pos + ':00')\n",
    "\n",
    "        # upstream and downstream time lags\n",
    "        B_lags = []\n",
    "        for j in range(5):\n",
    "            B_lags.append(dt_pos_timestamp - dt.timedelta(minutes=j*5))\n",
    "        B_lags = list(map(lambda x: (x.strftime('%m/%d/%Y'), x.strftime('%H:%M')) , B_lags))\n",
    "        E_lags = B_lags[0:3]\n",
    "\n",
    "        # upstream features\n",
    "        for dt_lag in B_lags:\n",
    "            d_lag, t_lag = dt_lag\n",
    "            df_dt_lag = df_train_BE.loc[(df_train_BE[\"Station ID\"] == B) & (df_train_BE[\"Date\"] == d_lag) & (df_train_BE[\"Time\"] == t_lag)]\n",
    "            if df_dt_lag.empty:\n",
    "                print(d_lag, t_lag)\n",
    "            \n",
    "            speed_B_t = df_dt_lag[\"Speed\"].values[0]\n",
    "            flow_B_t = df_dt_lag[\"Flow\"].values[0]\n",
    "            occ_B_t = df_dt_lag[\"Occupancy\"].values[0]\n",
    "\n",
    "            speed_pred_B_t = df_dt_lag[\"Pred Speed\"].values[0]\n",
    "            flow_pred_B_t = df_dt_lag[\"Pred Flow\"].values[0]\n",
    "            occ_pred_B_t = df_dt_lag[\"Pred Occupancy\"].values[0]\n",
    "\n",
    "            feature_t.extend([speed_B_t, flow_B_t, occ_B_t, speed_pred_B_t, flow_pred_B_t, occ_pred_B_t, speed_B_t - speed_pred_B_t, flow_B_t - flow_pred_B_t, occ_B_t - occ_pred_B_t])\n",
    "\n",
    "        # downstream features\n",
    "        for dt_lag in E_lags:\n",
    "            d_lag, t_lag = dt_lag\n",
    "            df_dt_lag = df_train_BE.loc[(df_train_BE[\"Station ID\"] == E) & (df_train_BE[\"Date\"] == d_lag) & (df_train_BE[\"Time\"] == t_lag)]\n",
    "\n",
    "            speed_E_t = df_dt_lag[\"Speed\"].values[0]\n",
    "            flow_E_t = df_dt_lag[\"Flow\"].values[0]\n",
    "            occ_E_t = df_dt_lag[\"Occupancy\"].values[0]\n",
    "\n",
    "            speed_pred_E_t = df_dt_lag[\"Pred Speed\"].values[0]\n",
    "            flow_pred_E_t = df_dt_lag[\"Pred Flow\"].values[0]\n",
    "            occ_pred_E_t = df_dt_lag[\"Pred Occupancy\"].values[0]\n",
    "\n",
    "            feature_t.extend([speed_E_t, flow_E_t, occ_E_t, speed_pred_E_t, flow_pred_E_t, occ_pred_E_t, speed_E_t - speed_pred_E_t, flow_E_t - flow_pred_E_t, occ_E_t - occ_pred_E_t])\n",
    "        X_pos.append(feature_t)\n",
    "        progress_count += 1\n",
    "        if progress_count % 100 == 0:\n",
    "            print(\"    ...[\" + str(progress_count) + \"/\" + str(num_seg_instances) +\"] Feature vector at date and time \" + str(dt_pos) + \" is done.\")\n",
    "\n",
    "    print(\"...Completed construction of feature vectors for road segment \" + str(B) + \", \" + str(E) + \".\")"
   ]
  },
  {
   "cell_type": "code",
   "execution_count": 775,
   "metadata": {
    "scrolled": true
   },
   "outputs": [
    {
     "data": {
      "text/plain": [
       "10910"
      ]
     },
     "execution_count": 775,
     "metadata": {},
     "output_type": "execute_result"
    }
   ],
   "source": [
    "len(X_pos)"
   ]
  },
  {
   "cell_type": "code",
   "execution_count": 776,
   "metadata": {},
   "outputs": [
    {
     "data": {
      "text/plain": [
       "0.39423285394232854"
      ]
     },
     "execution_count": 776,
     "metadata": {},
     "output_type": "execute_result"
    }
   ],
   "source": [
    "len(X_pos) / len(X_neg)"
   ]
  },
  {
   "cell_type": "code",
   "execution_count": 777,
   "metadata": {},
   "outputs": [],
   "source": [
    "X = X_neg + X_pos"
   ]
  },
  {
   "cell_type": "code",
   "execution_count": 778,
   "metadata": {},
   "outputs": [
    {
     "data": {
      "text/plain": [
       "38584"
      ]
     },
     "execution_count": 778,
     "metadata": {},
     "output_type": "execute_result"
    }
   ],
   "source": [
    "len(X)"
   ]
  },
  {
   "cell_type": "code",
   "execution_count": 779,
   "metadata": {},
   "outputs": [],
   "source": [
    "# label data\n",
    "y_pos = [1] * len(X_pos)\n",
    "y_neg = [-1] * len(X_neg) "
   ]
  },
  {
   "cell_type": "code",
   "execution_count": 780,
   "metadata": {},
   "outputs": [],
   "source": [
    "y = y_neg + y_pos"
   ]
  },
  {
   "cell_type": "code",
   "execution_count": 781,
   "metadata": {},
   "outputs": [
    {
     "data": {
      "text/plain": [
       "38584"
      ]
     },
     "execution_count": 781,
     "metadata": {},
     "output_type": "execute_result"
    }
   ],
   "source": [
    "len(y)"
   ]
  },
  {
   "cell_type": "code",
   "execution_count": 782,
   "metadata": {},
   "outputs": [],
   "source": [
    "df_svm_train = pd.DataFrame(X)"
   ]
  },
  {
   "cell_type": "code",
   "execution_count": 783,
   "metadata": {},
   "outputs": [],
   "source": [
    "df_svm_train['Class'] = y"
   ]
  },
  {
   "cell_type": "code",
   "execution_count": 784,
   "metadata": {},
   "outputs": [
    {
     "data": {
      "text/html": [
       "<div>\n",
       "<style scoped>\n",
       "    .dataframe tbody tr th:only-of-type {\n",
       "        vertical-align: middle;\n",
       "    }\n",
       "\n",
       "    .dataframe tbody tr th {\n",
       "        vertical-align: top;\n",
       "    }\n",
       "\n",
       "    .dataframe thead th {\n",
       "        text-align: right;\n",
       "    }\n",
       "</style>\n",
       "<table border=\"1\" class=\"dataframe\">\n",
       "  <thead>\n",
       "    <tr style=\"text-align: right;\">\n",
       "      <th></th>\n",
       "      <th>0</th>\n",
       "      <th>1</th>\n",
       "      <th>2</th>\n",
       "      <th>3</th>\n",
       "      <th>4</th>\n",
       "      <th>5</th>\n",
       "      <th>6</th>\n",
       "      <th>7</th>\n",
       "      <th>8</th>\n",
       "      <th>9</th>\n",
       "      <th>...</th>\n",
       "      <th>63</th>\n",
       "      <th>64</th>\n",
       "      <th>65</th>\n",
       "      <th>66</th>\n",
       "      <th>67</th>\n",
       "      <th>68</th>\n",
       "      <th>69</th>\n",
       "      <th>70</th>\n",
       "      <th>71</th>\n",
       "      <th>Class</th>\n",
       "    </tr>\n",
       "  </thead>\n",
       "  <tbody>\n",
       "    <tr>\n",
       "      <th>0</th>\n",
       "      <td>68.3</td>\n",
       "      <td>14.0</td>\n",
       "      <td>0.4</td>\n",
       "      <td>67.160524</td>\n",
       "      <td>1.294433</td>\n",
       "      <td>0.152387</td>\n",
       "      <td>1.139476</td>\n",
       "      <td>12.705567</td>\n",
       "      <td>0.247613</td>\n",
       "      <td>67.4</td>\n",
       "      <td>...</td>\n",
       "      <td>66.6</td>\n",
       "      <td>19.0</td>\n",
       "      <td>0.3</td>\n",
       "      <td>66.402890</td>\n",
       "      <td>12.953944</td>\n",
       "      <td>0.316889</td>\n",
       "      <td>0.197110</td>\n",
       "      <td>6.046056</td>\n",
       "      <td>-0.016889</td>\n",
       "      <td>-1</td>\n",
       "    </tr>\n",
       "    <tr>\n",
       "      <th>1</th>\n",
       "      <td>68.3</td>\n",
       "      <td>13.0</td>\n",
       "      <td>0.4</td>\n",
       "      <td>68.674621</td>\n",
       "      <td>3.625839</td>\n",
       "      <td>0.404994</td>\n",
       "      <td>-0.374621</td>\n",
       "      <td>9.374161</td>\n",
       "      <td>-0.004994</td>\n",
       "      <td>68.3</td>\n",
       "      <td>...</td>\n",
       "      <td>67.9</td>\n",
       "      <td>13.0</td>\n",
       "      <td>0.2</td>\n",
       "      <td>66.319485</td>\n",
       "      <td>8.337982</td>\n",
       "      <td>0.167010</td>\n",
       "      <td>1.580515</td>\n",
       "      <td>4.662018</td>\n",
       "      <td>0.032990</td>\n",
       "      <td>-1</td>\n",
       "    </tr>\n",
       "    <tr>\n",
       "      <th>2</th>\n",
       "      <td>70.2</td>\n",
       "      <td>8.0</td>\n",
       "      <td>0.2</td>\n",
       "      <td>68.599123</td>\n",
       "      <td>4.970940</td>\n",
       "      <td>0.460612</td>\n",
       "      <td>1.600877</td>\n",
       "      <td>3.029060</td>\n",
       "      <td>-0.260612</td>\n",
       "      <td>68.3</td>\n",
       "      <td>...</td>\n",
       "      <td>66.9</td>\n",
       "      <td>28.0</td>\n",
       "      <td>0.6</td>\n",
       "      <td>68.645477</td>\n",
       "      <td>2.405858</td>\n",
       "      <td>0.039876</td>\n",
       "      <td>-1.745477</td>\n",
       "      <td>25.594142</td>\n",
       "      <td>0.560124</td>\n",
       "      <td>-1</td>\n",
       "    </tr>\n",
       "    <tr>\n",
       "      <th>3</th>\n",
       "      <td>69.2</td>\n",
       "      <td>9.0</td>\n",
       "      <td>0.2</td>\n",
       "      <td>71.555810</td>\n",
       "      <td>3.342046</td>\n",
       "      <td>0.196685</td>\n",
       "      <td>-2.355810</td>\n",
       "      <td>5.657954</td>\n",
       "      <td>0.003315</td>\n",
       "      <td>70.2</td>\n",
       "      <td>...</td>\n",
       "      <td>68.0</td>\n",
       "      <td>23.0</td>\n",
       "      <td>0.4</td>\n",
       "      <td>66.715177</td>\n",
       "      <td>8.061144</td>\n",
       "      <td>0.573797</td>\n",
       "      <td>1.284823</td>\n",
       "      <td>14.938856</td>\n",
       "      <td>-0.173797</td>\n",
       "      <td>-1</td>\n",
       "    </tr>\n",
       "    <tr>\n",
       "      <th>4</th>\n",
       "      <td>68.8</td>\n",
       "      <td>7.0</td>\n",
       "      <td>0.2</td>\n",
       "      <td>69.443883</td>\n",
       "      <td>3.052742</td>\n",
       "      <td>0.138050</td>\n",
       "      <td>-0.643883</td>\n",
       "      <td>3.947258</td>\n",
       "      <td>0.061950</td>\n",
       "      <td>69.2</td>\n",
       "      <td>...</td>\n",
       "      <td>67.5</td>\n",
       "      <td>15.0</td>\n",
       "      <td>0.3</td>\n",
       "      <td>68.530609</td>\n",
       "      <td>9.514672</td>\n",
       "      <td>0.442586</td>\n",
       "      <td>-1.030609</td>\n",
       "      <td>5.485328</td>\n",
       "      <td>-0.142586</td>\n",
       "      <td>-1</td>\n",
       "    </tr>\n",
       "  </tbody>\n",
       "</table>\n",
       "<p>5 rows × 73 columns</p>\n",
       "</div>"
      ],
      "text/plain": [
       "      0     1    2          3         4         5         6          7  \\\n",
       "0  68.3  14.0  0.4  67.160524  1.294433  0.152387  1.139476  12.705567   \n",
       "1  68.3  13.0  0.4  68.674621  3.625839  0.404994 -0.374621   9.374161   \n",
       "2  70.2   8.0  0.2  68.599123  4.970940  0.460612  1.600877   3.029060   \n",
       "3  69.2   9.0  0.2  71.555810  3.342046  0.196685 -2.355810   5.657954   \n",
       "4  68.8   7.0  0.2  69.443883  3.052742  0.138050 -0.643883   3.947258   \n",
       "\n",
       "          8     9  ...      63    64   65         66         67        68  \\\n",
       "0  0.247613  67.4  ...    66.6  19.0  0.3  66.402890  12.953944  0.316889   \n",
       "1 -0.004994  68.3  ...    67.9  13.0  0.2  66.319485   8.337982  0.167010   \n",
       "2 -0.260612  68.3  ...    66.9  28.0  0.6  68.645477   2.405858  0.039876   \n",
       "3  0.003315  70.2  ...    68.0  23.0  0.4  66.715177   8.061144  0.573797   \n",
       "4  0.061950  69.2  ...    67.5  15.0  0.3  68.530609   9.514672  0.442586   \n",
       "\n",
       "         69         70        71  Class  \n",
       "0  0.197110   6.046056 -0.016889     -1  \n",
       "1  1.580515   4.662018  0.032990     -1  \n",
       "2 -1.745477  25.594142  0.560124     -1  \n",
       "3  1.284823  14.938856 -0.173797     -1  \n",
       "4 -1.030609   5.485328 -0.142586     -1  \n",
       "\n",
       "[5 rows x 73 columns]"
      ]
     },
     "execution_count": 784,
     "metadata": {},
     "output_type": "execute_result"
    }
   ],
   "source": [
    "df_svm_train.head()"
   ]
  },
  {
   "cell_type": "code",
   "execution_count": 785,
   "metadata": {},
   "outputs": [],
   "source": [
    "df_X_train = df_svm_train.drop('Class', axis=1)\n",
    "df_y_train = df_svm_train['Class']"
   ]
  },
  {
   "cell_type": "code",
   "execution_count": 786,
   "metadata": {},
   "outputs": [],
   "source": [
    "df_svm_train.to_csv(base_path + \"svm_train.csv\", index=False)"
   ]
  },
  {
   "cell_type": "code",
   "execution_count": 827,
   "metadata": {},
   "outputs": [
    {
     "name": "stdout",
     "output_type": "stream",
     "text": [
      "[67.0, 134.0, 2.7, 66.6, 162.1, 3.1, 0.4, -28.1, -0.4]\n",
      "[66.6, 160.0, 3.2, 67.7, 183.2, 3.8, -1.1, -23.2, -0.6]\n",
      "[67.1, 192.0, 3.8, 66.6, 184.7, 4.1, 0.5, 7.3, -0.3]\n",
      "[66.4, 205.0, 4.2, 66.4, 174.7, 3.8, 0.0, 30.3, 0.4]\n",
      "[66.3, 190.0, 3.8, 65.1, 175.6, 3.9, 1.2, 14.4, -0.1]\n",
      "[67.2, 163.0, 3.4, 69.2, 182.4, 0.7, -2.0, -19.4, 2.7]\n",
      "[67.8, 161.0, 3.4, 67.6, 230.6, 1.7, 0.2, -69.6, 1.7]\n",
      "[66.5, 229.0, 4.8, 66.8, 236.2, 1.8, -0.3, -7.2, 3.0]\n"
     ]
    }
   ],
   "source": [
    "print_random_feature_vector(X_pos)"
   ]
  },
  {
   "cell_type": "code",
   "execution_count": 829,
   "metadata": {},
   "outputs": [
    {
     "name": "stdout",
     "output_type": "stream",
     "text": [
      "[58.0, 402.0, 8.0, 57.1, 391.1, 8.3, 0.9, 10.9, -0.3]\n",
      "[57.4, 401.0, 8.0, 55.4, 387.4, 8.8, 2.0, 13.6, -0.8]\n",
      "[56.2, 378.0, 8.3, 56.3, 400.5, 9.2, -0.1, -22.5, -0.9]\n",
      "[56.6, 417.0, 9.6, 58.6, 388.7, 8.1, -2.0, 28.3, 1.5]\n",
      "[58.6, 405.0, 8.0, 56.4, 381.7, 8.3, 2.2, 23.3, -0.3]\n",
      "[62.6, 446.0, 6.9, 62.8, 480.9, 7.2, -0.2, -34.9, -0.3]\n",
      "[63.5, 478.0, 7.0, 62.6, 490.3, 7.5, 0.9, -12.3, -0.5]\n",
      "[63.4, 506.0, 7.6, 63.1, 486.2, 7.4, 0.3, 19.8, 0.2]\n"
     ]
    }
   ],
   "source": [
    "print_random_feature_vector(X_neg)"
   ]
  },
  {
   "cell_type": "markdown",
   "metadata": {},
   "source": [
    "## 2. SVM Training"
   ]
  },
  {
   "cell_type": "code",
   "execution_count": 787,
   "metadata": {},
   "outputs": [],
   "source": [
    "from sklearn.model_selection import GridSearchCV\n",
    "from sklearn.svm import SVC\n",
    "from sklearn.metrics import accuracy_score"
   ]
  },
  {
   "cell_type": "code",
   "execution_count": 788,
   "metadata": {},
   "outputs": [],
   "source": [
    "Cs = [.001, .01, .1, 1, 10]\n",
    "gammas = [.001, .01, .1, 1, 10]\n",
    "param_grid = {\n",
    "    'C': Cs,\n",
    "    'gamma': gammas\n",
    "}\n",
    "grid_search = GridSearchCV(SVC(kernel='rbf'), param_grid, cv=5)"
   ]
  },
  {
   "cell_type": "code",
   "execution_count": null,
   "metadata": {},
   "outputs": [],
   "source": [
    "# Too expensive to execute.  Try a smaller sample.\n",
    "grid_search.fit(df_X_train, df_y_train)"
   ]
  },
  {
   "cell_type": "code",
   "execution_count": 790,
   "metadata": {},
   "outputs": [
    {
     "data": {
      "text/plain": [
       "38584"
      ]
     },
     "execution_count": 790,
     "metadata": {},
     "output_type": "execute_result"
    }
   ],
   "source": [
    "num_instances"
   ]
  },
  {
   "cell_type": "code",
   "execution_count": 962,
   "metadata": {},
   "outputs": [],
   "source": [
    "# pick approximately 12000 instances for training\n",
    "num_instances = len(df_y_train.index)\n",
    "y = df_y_train.values\n",
    "prob_true = 1. * 10000 / num_instances\n",
    "train_mask = np.random.choice([True, False], size=num_instances, p=[prob_true, 1. - prob_true])"
   ]
  },
  {
   "cell_type": "code",
   "execution_count": 963,
   "metadata": {},
   "outputs": [],
   "source": [
    "df_reduced_X_train = df_X_train.iloc[train_mask]\n",
    "df_reduced_y_train = df_y_train.iloc[train_mask]"
   ]
  },
  {
   "cell_type": "code",
   "execution_count": 964,
   "metadata": {},
   "outputs": [
    {
     "data": {
      "text/plain": [
       "(9866, 9866)"
      ]
     },
     "execution_count": 964,
     "metadata": {},
     "output_type": "execute_result"
    }
   ],
   "source": [
    "len(df_reduced_X_train.index), len(df_reduced_y_train)"
   ]
  },
  {
   "cell_type": "code",
   "execution_count": 965,
   "metadata": {},
   "outputs": [
    {
     "data": {
      "text/plain": [
       "2860"
      ]
     },
     "execution_count": 965,
     "metadata": {},
     "output_type": "execute_result"
    }
   ],
   "source": [
    "reduced_y = df_reduced_y_train.values\n",
    "len(reduced_y[reduced_y == 1])"
   ]
  },
  {
   "cell_type": "code",
   "execution_count": 966,
   "metadata": {},
   "outputs": [
    {
     "data": {
      "text/plain": [
       "7006"
      ]
     },
     "execution_count": 966,
     "metadata": {},
     "output_type": "execute_result"
    }
   ],
   "source": [
    "len(reduced_y[reduced_y == -1])"
   ]
  },
  {
   "cell_type": "code",
   "execution_count": 968,
   "metadata": {},
   "outputs": [],
   "source": [
    "# rescale the attributes\n",
    "from sklearn import preprocessing"
   ]
  },
  {
   "cell_type": "code",
   "execution_count": 969,
   "metadata": {},
   "outputs": [],
   "source": [
    "df_reduced_X_train_scaled = preprocessing.scale(df_reduced_X_train)"
   ]
  },
  {
   "cell_type": "code",
   "execution_count": 1003,
   "metadata": {},
   "outputs": [],
   "source": [
    "Cs = list(range(-3, 16, 2))\n",
    "Cs = [2. ** i for i in Cs]\n",
    "gammas = list(range(-15, 4, 2))\n",
    "gammas = [2. ** i for i in gammas]\n",
    "param_grid = {\n",
    "    'C': Cs,\n",
    "    'gamma': gammas\n",
    "}"
   ]
  },
  {
   "cell_type": "code",
   "execution_count": 1006,
   "metadata": {},
   "outputs": [
    {
     "data": {
      "text/plain": [
       "GridSearchCV(cv=5, error_score='raise-deprecating',\n",
       "       estimator=SVC(C=1.0, cache_size=200, class_weight=None, coef0=0.0,\n",
       "  decision_function_shape='ovr', degree=3, gamma='auto_deprecated',\n",
       "  kernel='rbf', max_iter=-1, probability=False, random_state=None,\n",
       "  shrinking=True, tol=0.001, verbose=False),\n",
       "       fit_params=None, iid='warn', n_jobs=None,\n",
       "       param_grid={'C': [0.125, 0.5, 2.0, 8.0, 32.0, 128.0, 512.0, 2048.0, 8192.0, 32768.0], 'gamma': [3.0517578125e-05, 0.0001220703125, 0.00048828125, 0.001953125, 0.0078125, 0.03125, 0.125, 0.5, 2.0, 8.0]},\n",
       "       pre_dispatch='2*n_jobs', refit=True, return_train_score=True,\n",
       "       scoring='accuracy', verbose=0)"
      ]
     },
     "execution_count": 1006,
     "metadata": {},
     "output_type": "execute_result"
    }
   ],
   "source": [
    "svm_clf = GridSearchCV(SVC(kernel='rbf'), param_grid, scoring='accuracy', cv=5, return_train_score=True)\n",
    "svm_clf.fit(df_reduced_X_train_scaled, df_reduced_y_train)"
   ]
  },
  {
   "cell_type": "code",
   "execution_count": 1007,
   "metadata": {},
   "outputs": [
    {
     "data": {
      "text/plain": [
       "{'C': 2.0, 'gamma': 0.00048828125}"
      ]
     },
     "execution_count": 1007,
     "metadata": {},
     "output_type": "execute_result"
    }
   ],
   "source": [
    "svm_clf.best_params_"
   ]
  },
  {
   "cell_type": "code",
   "execution_count": 1008,
   "metadata": {},
   "outputs": [],
   "source": [
    "y_pred_train = svm_clf.predict(df_reduced_X_train_scaled)"
   ]
  },
  {
   "cell_type": "code",
   "execution_count": 802,
   "metadata": {},
   "outputs": [],
   "source": [
    "svm_reduced_train_acc = 1. * sum(np.array(reduced_y) == np.array(y_pred_train)) / len(reduced_y)"
   ]
  },
  {
   "cell_type": "code",
   "execution_count": 959,
   "metadata": {},
   "outputs": [
    {
     "data": {
      "text/html": [
       "<div>\n",
       "<style scoped>\n",
       "    .dataframe tbody tr th:only-of-type {\n",
       "        vertical-align: middle;\n",
       "    }\n",
       "\n",
       "    .dataframe tbody tr th {\n",
       "        vertical-align: top;\n",
       "    }\n",
       "\n",
       "    .dataframe thead th {\n",
       "        text-align: right;\n",
       "    }\n",
       "</style>\n",
       "<table border=\"1\" class=\"dataframe\">\n",
       "  <thead>\n",
       "    <tr style=\"text-align: right;\">\n",
       "      <th></th>\n",
       "      <th>0</th>\n",
       "      <th>1</th>\n",
       "      <th>2</th>\n",
       "      <th>3</th>\n",
       "      <th>4</th>\n",
       "      <th>5</th>\n",
       "      <th>6</th>\n",
       "      <th>7</th>\n",
       "      <th>8</th>\n",
       "      <th>9</th>\n",
       "      <th>...</th>\n",
       "      <th>62</th>\n",
       "      <th>63</th>\n",
       "      <th>64</th>\n",
       "      <th>65</th>\n",
       "      <th>66</th>\n",
       "      <th>67</th>\n",
       "      <th>68</th>\n",
       "      <th>69</th>\n",
       "      <th>70</th>\n",
       "      <th>71</th>\n",
       "    </tr>\n",
       "  </thead>\n",
       "  <tbody>\n",
       "    <tr>\n",
       "      <th>1</th>\n",
       "      <td>68.3</td>\n",
       "      <td>13.0</td>\n",
       "      <td>0.4</td>\n",
       "      <td>68.674621</td>\n",
       "      <td>3.625839</td>\n",
       "      <td>0.404994</td>\n",
       "      <td>-0.374621</td>\n",
       "      <td>9.374161</td>\n",
       "      <td>-0.004994</td>\n",
       "      <td>68.3</td>\n",
       "      <td>...</td>\n",
       "      <td>0.560124</td>\n",
       "      <td>67.9</td>\n",
       "      <td>13.0</td>\n",
       "      <td>0.2</td>\n",
       "      <td>66.319485</td>\n",
       "      <td>8.337982</td>\n",
       "      <td>0.167010</td>\n",
       "      <td>1.580515</td>\n",
       "      <td>4.662018</td>\n",
       "      <td>0.032990</td>\n",
       "    </tr>\n",
       "    <tr>\n",
       "      <th>5</th>\n",
       "      <td>69.4</td>\n",
       "      <td>5.0</td>\n",
       "      <td>0.3</td>\n",
       "      <td>68.495527</td>\n",
       "      <td>1.983529</td>\n",
       "      <td>0.141895</td>\n",
       "      <td>0.904473</td>\n",
       "      <td>3.016471</td>\n",
       "      <td>0.158105</td>\n",
       "      <td>68.8</td>\n",
       "      <td>...</td>\n",
       "      <td>-0.070226</td>\n",
       "      <td>67.3</td>\n",
       "      <td>23.0</td>\n",
       "      <td>0.4</td>\n",
       "      <td>67.521970</td>\n",
       "      <td>6.296564</td>\n",
       "      <td>0.271473</td>\n",
       "      <td>-0.221970</td>\n",
       "      <td>16.703436</td>\n",
       "      <td>0.128527</td>\n",
       "    </tr>\n",
       "  </tbody>\n",
       "</table>\n",
       "<p>2 rows × 72 columns</p>\n",
       "</div>"
      ],
      "text/plain": [
       "     0     1    2          3         4         5         6         7   \\\n",
       "1  68.3  13.0  0.4  68.674621  3.625839  0.404994 -0.374621  9.374161   \n",
       "5  69.4   5.0  0.3  68.495527  1.983529  0.141895  0.904473  3.016471   \n",
       "\n",
       "         8     9     ...           62    63    64   65         66        67  \\\n",
       "1 -0.004994  68.3    ...     0.560124  67.9  13.0  0.2  66.319485  8.337982   \n",
       "5  0.158105  68.8    ...    -0.070226  67.3  23.0  0.4  67.521970  6.296564   \n",
       "\n",
       "         68        69         70        71  \n",
       "1  0.167010  1.580515   4.662018  0.032990  \n",
       "5  0.271473 -0.221970  16.703436  0.128527  \n",
       "\n",
       "[2 rows x 72 columns]"
      ]
     },
     "execution_count": 959,
     "metadata": {},
     "output_type": "execute_result"
    }
   ],
   "source": [
    "df_reduced_X_train.head(2)"
   ]
  },
  {
   "cell_type": "code",
   "execution_count": 960,
   "metadata": {},
   "outputs": [
    {
     "data": {
      "text/html": [
       "<div>\n",
       "<style scoped>\n",
       "    .dataframe tbody tr th:only-of-type {\n",
       "        vertical-align: middle;\n",
       "    }\n",
       "\n",
       "    .dataframe tbody tr th {\n",
       "        vertical-align: top;\n",
       "    }\n",
       "\n",
       "    .dataframe thead th {\n",
       "        text-align: right;\n",
       "    }\n",
       "</style>\n",
       "<table border=\"1\" class=\"dataframe\">\n",
       "  <thead>\n",
       "    <tr style=\"text-align: right;\">\n",
       "      <th></th>\n",
       "      <th>0</th>\n",
       "      <th>1</th>\n",
       "      <th>2</th>\n",
       "      <th>3</th>\n",
       "      <th>4</th>\n",
       "      <th>5</th>\n",
       "      <th>6</th>\n",
       "      <th>7</th>\n",
       "      <th>8</th>\n",
       "      <th>9</th>\n",
       "      <th>...</th>\n",
       "      <th>62</th>\n",
       "      <th>63</th>\n",
       "      <th>64</th>\n",
       "      <th>65</th>\n",
       "      <th>66</th>\n",
       "      <th>67</th>\n",
       "      <th>68</th>\n",
       "      <th>69</th>\n",
       "      <th>70</th>\n",
       "      <th>71</th>\n",
       "    </tr>\n",
       "  </thead>\n",
       "  <tbody>\n",
       "    <tr>\n",
       "      <th>38576</th>\n",
       "      <td>63.7</td>\n",
       "      <td>236.0</td>\n",
       "      <td>4.6</td>\n",
       "      <td>61.716533</td>\n",
       "      <td>233.610415</td>\n",
       "      <td>4.533767</td>\n",
       "      <td>1.983467</td>\n",
       "      <td>2.389585</td>\n",
       "      <td>0.066233</td>\n",
       "      <td>62.8</td>\n",
       "      <td>...</td>\n",
       "      <td>3.340223</td>\n",
       "      <td>44.0</td>\n",
       "      <td>90.0</td>\n",
       "      <td>5.5</td>\n",
       "      <td>47.435974</td>\n",
       "      <td>97.201329</td>\n",
       "      <td>0.751121</td>\n",
       "      <td>-3.435974</td>\n",
       "      <td>-7.201329</td>\n",
       "      <td>4.748879</td>\n",
       "    </tr>\n",
       "    <tr>\n",
       "      <th>38580</th>\n",
       "      <td>57.8</td>\n",
       "      <td>263.0</td>\n",
       "      <td>5.9</td>\n",
       "      <td>57.666859</td>\n",
       "      <td>245.989056</td>\n",
       "      <td>6.675289</td>\n",
       "      <td>0.133141</td>\n",
       "      <td>17.010944</td>\n",
       "      <td>-0.775289</td>\n",
       "      <td>58.4</td>\n",
       "      <td>...</td>\n",
       "      <td>-4.506151</td>\n",
       "      <td>63.0</td>\n",
       "      <td>178.0</td>\n",
       "      <td>8.4</td>\n",
       "      <td>56.823298</td>\n",
       "      <td>141.772847</td>\n",
       "      <td>10.240644</td>\n",
       "      <td>6.176702</td>\n",
       "      <td>36.227153</td>\n",
       "      <td>-1.840644</td>\n",
       "    </tr>\n",
       "  </tbody>\n",
       "</table>\n",
       "<p>2 rows × 72 columns</p>\n",
       "</div>"
      ],
      "text/plain": [
       "         0      1    2          3           4         5         6          7   \\\n",
       "38576  63.7  236.0  4.6  61.716533  233.610415  4.533767  1.983467   2.389585   \n",
       "38580  57.8  263.0  5.9  57.666859  245.989056  6.675289  0.133141  17.010944   \n",
       "\n",
       "             8     9     ...           62    63     64   65         66  \\\n",
       "38576  0.066233  62.8    ...     3.340223  44.0   90.0  5.5  47.435974   \n",
       "38580 -0.775289  58.4    ...    -4.506151  63.0  178.0  8.4  56.823298   \n",
       "\n",
       "               67         68        69         70        71  \n",
       "38576   97.201329   0.751121 -3.435974  -7.201329  4.748879  \n",
       "38580  141.772847  10.240644  6.176702  36.227153 -1.840644  \n",
       "\n",
       "[2 rows x 72 columns]"
      ]
     },
     "execution_count": 960,
     "metadata": {},
     "output_type": "execute_result"
    }
   ],
   "source": [
    "df_reduced_X_train.tail(2)"
   ]
  },
  {
   "cell_type": "code",
   "execution_count": 1009,
   "metadata": {
    "scrolled": false
   },
   "outputs": [
    {
     "data": {
      "text/plain": [
       "0.7145753091425097"
      ]
     },
     "execution_count": 1009,
     "metadata": {},
     "output_type": "execute_result"
    }
   ],
   "source": [
    "accuracy_score(reduced_y, y_pred_train)"
   ]
  },
  {
   "cell_type": "code",
   "execution_count": 991,
   "metadata": {},
   "outputs": [
    {
     "data": {
      "text/plain": [
       "0.7203092059030218"
      ]
     },
     "execution_count": 991,
     "metadata": {},
     "output_type": "execute_result"
    }
   ],
   "source": [
    "svm_reduced_train_acc"
   ]
  },
  {
   "cell_type": "code",
   "execution_count": 1011,
   "metadata": {},
   "outputs": [
    {
     "data": {
      "text/plain": [
       "(9866, 72)"
      ]
     },
     "execution_count": 1011,
     "metadata": {},
     "output_type": "execute_result"
    }
   ],
   "source": [
    "len(y_pred_train), len(y_pred_train[y_pred_train == 1])"
   ]
  },
  {
   "cell_type": "code",
   "execution_count": 1012,
   "metadata": {},
   "outputs": [
    {
     "data": {
      "text/plain": [
       "(9866, 2860)"
      ]
     },
     "execution_count": 1012,
     "metadata": {},
     "output_type": "execute_result"
    }
   ],
   "source": [
    "len(reduced_y), len(reduced_y[reduced_y == 1])"
   ]
  },
  {
   "cell_type": "code",
   "execution_count": 979,
   "metadata": {},
   "outputs": [
    {
     "data": {
      "text/plain": [
       "0.7103182647476181"
      ]
     },
     "execution_count": 979,
     "metadata": {},
     "output_type": "execute_result"
    }
   ],
   "source": [
    "svm_clf.best_score_"
   ]
  },
  {
   "cell_type": "code",
   "execution_count": 1013,
   "metadata": {},
   "outputs": [
    {
     "data": {
      "text/plain": [
       "{'C': 2.0, 'gamma': 0.00048828125}"
      ]
     },
     "execution_count": 1013,
     "metadata": {},
     "output_type": "execute_result"
    }
   ],
   "source": [
    "svm_clf.best_params_"
   ]
  },
  {
   "cell_type": "code",
   "execution_count": 1015,
   "metadata": {},
   "outputs": [
    {
     "data": {
      "text/plain": [
       "0.00048828125"
      ]
     },
     "execution_count": 1015,
     "metadata": {},
     "output_type": "execute_result"
    }
   ],
   "source": [
    "gammas[2]"
   ]
  },
  {
   "cell_type": "code",
   "execution_count": 1026,
   "metadata": {},
   "outputs": [],
   "source": [
    "df_X_all = df_X_train.append(df_svm_X_test)"
   ]
  },
  {
   "cell_type": "code",
   "execution_count": 1027,
   "metadata": {},
   "outputs": [],
   "source": [
    "df_X_all_scaled = preprocessing.scale(df_X_all)"
   ]
  },
  {
   "cell_type": "code",
   "execution_count": 1033,
   "metadata": {},
   "outputs": [],
   "source": [
    "X_all_scaled = df_X_all_scaled"
   ]
  },
  {
   "cell_type": "code",
   "execution_count": 1034,
   "metadata": {},
   "outputs": [],
   "source": [
    "X_all_train_scaled = X_all_scaled[:len(df_X_train.index)]"
   ]
  },
  {
   "cell_type": "code",
   "execution_count": 1035,
   "metadata": {},
   "outputs": [],
   "source": [
    "X_all_test_scaled = X_all_scaled[len(df_X_train.index):]"
   ]
  },
  {
   "cell_type": "code",
   "execution_count": 1036,
   "metadata": {},
   "outputs": [
    {
     "data": {
      "text/plain": [
       "38584"
      ]
     },
     "execution_count": 1036,
     "metadata": {},
     "output_type": "execute_result"
    }
   ],
   "source": [
    "len(X_all_train_scaled)"
   ]
  },
  {
   "cell_type": "code",
   "execution_count": 1037,
   "metadata": {},
   "outputs": [
    {
     "data": {
      "text/plain": [
       "3874360"
      ]
     },
     "execution_count": 1037,
     "metadata": {},
     "output_type": "execute_result"
    }
   ],
   "source": [
    "len(X_all_test_scaled)"
   ]
  },
  {
   "cell_type": "code",
   "execution_count": 1038,
   "metadata": {},
   "outputs": [],
   "source": [
    "svm_clf_all = SVC(C=2.0, gamma=0.00048828125, kernel='rbf')"
   ]
  },
  {
   "cell_type": "code",
   "execution_count": 1039,
   "metadata": {},
   "outputs": [
    {
     "data": {
      "text/plain": [
       "SVC(C=2.0, cache_size=200, class_weight=None, coef0=0.0,\n",
       "  decision_function_shape='ovr', degree=3, gamma=0.00048828125,\n",
       "  kernel='rbf', max_iter=-1, probability=False, random_state=None,\n",
       "  shrinking=True, tol=0.001, verbose=False)"
      ]
     },
     "execution_count": 1039,
     "metadata": {},
     "output_type": "execute_result"
    }
   ],
   "source": [
    "svm_clf_all.fit(X_all_train_scaled, df_y_train)"
   ]
  },
  {
   "cell_type": "code",
   "execution_count": 1042,
   "metadata": {},
   "outputs": [],
   "source": [
    "y_pred_train = svm_clf_all.predict(X_all_train_scaled)"
   ]
  },
  {
   "cell_type": "code",
   "execution_count": 1044,
   "metadata": {},
   "outputs": [
    {
     "data": {
      "text/plain": [
       "0.7258967447646693"
      ]
     },
     "execution_count": 1044,
     "metadata": {},
     "output_type": "execute_result"
    }
   ],
   "source": [
    "accuracy_score(df_y_train, y_pred_train)"
   ]
  },
  {
   "cell_type": "code",
   "execution_count": 1047,
   "metadata": {},
   "outputs": [
    {
     "data": {
      "text/plain": [
       "10910"
      ]
     },
     "execution_count": 1047,
     "metadata": {},
     "output_type": "execute_result"
    }
   ],
   "source": [
    "len(df_y_train[df_y_train == 1])"
   ]
  },
  {
   "cell_type": "code",
   "execution_count": 1046,
   "metadata": {},
   "outputs": [
    {
     "data": {
      "text/plain": [
       "574"
      ]
     },
     "execution_count": 1046,
     "metadata": {},
     "output_type": "execute_result"
    }
   ],
   "source": [
    "len(y_pred_train[y_pred_train == 1])"
   ]
  },
  {
   "cell_type": "markdown",
   "metadata": {},
   "source": [
    "Save the trained SVM model:"
   ]
  },
  {
   "cell_type": "code",
   "execution_count": 805,
   "metadata": {},
   "outputs": [],
   "source": [
    "import pickle"
   ]
  },
  {
   "cell_type": "code",
   "execution_count": 806,
   "metadata": {},
   "outputs": [],
   "source": [
    "pickle.dump(svm_clf, open(base_path + \"svm_clf.sav\", \"wb\"))"
   ]
  },
  {
   "cell_type": "code",
   "execution_count": 741,
   "metadata": {},
   "outputs": [],
   "source": [
    "svm_clf2 = pickle.load(open(base_path + \"svm_clf.sav\", \"rb\"))"
   ]
  },
  {
   "cell_type": "code",
   "execution_count": 742,
   "metadata": {},
   "outputs": [
    {
     "data": {
      "text/plain": [
       "GridSearchCV(cv=5, error_score='raise-deprecating',\n",
       "       estimator=SVC(C=1.0, cache_size=200, class_weight=None, coef0=0.0,\n",
       "  decision_function_shape='ovr', degree=3, gamma='auto_deprecated',\n",
       "  kernel='rbf', max_iter=-1, probability=False, random_state=None,\n",
       "  shrinking=True, tol=0.001, verbose=False),\n",
       "       fit_params=None, iid='warn', n_jobs=None,\n",
       "       param_grid={'C': [0.01, 0.1, 1, 10, 100], 'gamma': [0.01, 0.1, 1, 10, 100]},\n",
       "       pre_dispatch='2*n_jobs', refit=True, return_train_score='warn',\n",
       "       scoring='accuracy', verbose=0)"
      ]
     },
     "execution_count": 742,
     "metadata": {},
     "output_type": "execute_result"
    }
   ],
   "source": [
    "svm_clf2"
   ]
  },
  {
   "cell_type": "markdown",
   "metadata": {},
   "source": [
    "# Test"
   ]
  },
  {
   "cell_type": "markdown",
   "metadata": {},
   "source": [
    "## 1. TSA-DES forecasting"
   ]
  },
  {
   "cell_type": "code",
   "execution_count": 807,
   "metadata": {},
   "outputs": [
    {
     "data": {
      "text/html": [
       "<div>\n",
       "<style scoped>\n",
       "    .dataframe tbody tr th:only-of-type {\n",
       "        vertical-align: middle;\n",
       "    }\n",
       "\n",
       "    .dataframe tbody tr th {\n",
       "        vertical-align: top;\n",
       "    }\n",
       "\n",
       "    .dataframe thead th {\n",
       "        text-align: right;\n",
       "    }\n",
       "</style>\n",
       "<table border=\"1\" class=\"dataframe\">\n",
       "  <thead>\n",
       "    <tr style=\"text-align: right;\">\n",
       "      <th></th>\n",
       "      <th>Station ID</th>\n",
       "      <th>datetime</th>\n",
       "      <th>Occupancy</th>\n",
       "      <th>Flow</th>\n",
       "      <th>Speed</th>\n",
       "      <th>Date</th>\n",
       "      <th>Time</th>\n",
       "      <th>idx</th>\n",
       "    </tr>\n",
       "  </thead>\n",
       "  <tbody>\n",
       "    <tr>\n",
       "      <th>864</th>\n",
       "      <td>408907</td>\n",
       "      <td>2017-05-03 00:00:00</td>\n",
       "      <td>0.7</td>\n",
       "      <td>27.0</td>\n",
       "      <td>67.3</td>\n",
       "      <td>05/03/2017</td>\n",
       "      <td>00:00</td>\n",
       "      <td>34259</td>\n",
       "    </tr>\n",
       "    <tr>\n",
       "      <th>865</th>\n",
       "      <td>408907</td>\n",
       "      <td>2017-05-03 00:05:00</td>\n",
       "      <td>0.8</td>\n",
       "      <td>32.0</td>\n",
       "      <td>68.5</td>\n",
       "      <td>05/03/2017</td>\n",
       "      <td>00:05</td>\n",
       "      <td>34260</td>\n",
       "    </tr>\n",
       "    <tr>\n",
       "      <th>866</th>\n",
       "      <td>408907</td>\n",
       "      <td>2017-05-03 00:10:00</td>\n",
       "      <td>0.4</td>\n",
       "      <td>13.0</td>\n",
       "      <td>67.7</td>\n",
       "      <td>05/03/2017</td>\n",
       "      <td>00:10</td>\n",
       "      <td>34261</td>\n",
       "    </tr>\n",
       "    <tr>\n",
       "      <th>867</th>\n",
       "      <td>408907</td>\n",
       "      <td>2017-05-03 00:15:00</td>\n",
       "      <td>0.4</td>\n",
       "      <td>15.0</td>\n",
       "      <td>68.3</td>\n",
       "      <td>05/03/2017</td>\n",
       "      <td>00:15</td>\n",
       "      <td>34262</td>\n",
       "    </tr>\n",
       "    <tr>\n",
       "      <th>868</th>\n",
       "      <td>408907</td>\n",
       "      <td>2017-05-03 00:20:00</td>\n",
       "      <td>0.6</td>\n",
       "      <td>19.0</td>\n",
       "      <td>66.6</td>\n",
       "      <td>05/03/2017</td>\n",
       "      <td>00:20</td>\n",
       "      <td>34263</td>\n",
       "    </tr>\n",
       "  </tbody>\n",
       "</table>\n",
       "</div>"
      ],
      "text/plain": [
       "     Station ID             datetime  Occupancy  Flow  Speed        Date  \\\n",
       "864      408907  2017-05-03 00:00:00        0.7  27.0   67.3  05/03/2017   \n",
       "865      408907  2017-05-03 00:05:00        0.8  32.0   68.5  05/03/2017   \n",
       "866      408907  2017-05-03 00:10:00        0.4  13.0   67.7  05/03/2017   \n",
       "867      408907  2017-05-03 00:15:00        0.4  15.0   68.3  05/03/2017   \n",
       "868      408907  2017-05-03 00:20:00        0.6  19.0   66.6  05/03/2017   \n",
       "\n",
       "      Time    idx  \n",
       "864  00:00  34259  \n",
       "865  00:05  34260  \n",
       "866  00:10  34261  \n",
       "867  00:15  34262  \n",
       "868  00:20  34263  "
      ]
     },
     "execution_count": 807,
     "metadata": {},
     "output_type": "execute_result"
    }
   ],
   "source": [
    "df_test.head()"
   ]
  },
  {
   "cell_type": "code",
   "execution_count": 808,
   "metadata": {},
   "outputs": [
    {
     "data": {
      "text/html": [
       "<div>\n",
       "<style scoped>\n",
       "    .dataframe tbody tr th:only-of-type {\n",
       "        vertical-align: middle;\n",
       "    }\n",
       "\n",
       "    .dataframe tbody tr th {\n",
       "        vertical-align: top;\n",
       "    }\n",
       "\n",
       "    .dataframe thead th {\n",
       "        text-align: right;\n",
       "    }\n",
       "</style>\n",
       "<table border=\"1\" class=\"dataframe\">\n",
       "  <thead>\n",
       "    <tr style=\"text-align: right;\">\n",
       "      <th></th>\n",
       "      <th>Station ID</th>\n",
       "      <th>Speed</th>\n",
       "      <th>Flow</th>\n",
       "      <th>Occupancy</th>\n",
       "    </tr>\n",
       "  </thead>\n",
       "  <tbody>\n",
       "    <tr>\n",
       "      <th>0</th>\n",
       "      <td>408907</td>\n",
       "      <td>0.72</td>\n",
       "      <td>0.201</td>\n",
       "      <td>0.525</td>\n",
       "    </tr>\n",
       "  </tbody>\n",
       "</table>\n",
       "</div>"
      ],
      "text/plain": [
       "   Station ID  Speed   Flow  Occupancy\n",
       "0      408907   0.72  0.201      0.525"
      ]
     },
     "execution_count": 808,
     "metadata": {},
     "output_type": "execute_result"
    }
   ],
   "source": [
    "best_alphas_df.loc[best_alphas_df['Station ID'] == 408907]"
   ]
  },
  {
   "cell_type": "code",
   "execution_count": 809,
   "metadata": {},
   "outputs": [
    {
     "data": {
      "text/plain": [
       "([datetime.date(2017, 5, 3),\n",
       "  datetime.date(2017, 5, 4),\n",
       "  datetime.date(2017, 5, 8)],\n",
       " ['05/03/2017', '05/04/2017', '05/08/2017'])"
      ]
     },
     "execution_count": 809,
     "metadata": {},
     "output_type": "execute_result"
    }
   ],
   "source": [
    "dates_test[0:3], dates_test_str[0:3]"
   ]
  },
  {
   "cell_type": "code",
   "execution_count": 810,
   "metadata": {
    "scrolled": true
   },
   "outputs": [
    {
     "name": "stdout",
     "output_type": "stream",
     "text": [
      "Start time series prediction (DES) at station 408907...\n",
      "    Start predicting variable Speed...\n",
      "    End predicting variable Speed.\n",
      "    Start predicting variable Flow...\n",
      "    End predicting variable Flow.\n",
      "    Start predicting variable Occupancy...\n",
      "    End predicting variable Occupancy.\n",
      "End prediction at station 408907.\n",
      "Start time series prediction (DES) at station 400951...\n",
      "    Start predicting variable Speed...\n",
      "    End predicting variable Speed.\n",
      "    Start predicting variable Flow...\n",
      "    End predicting variable Flow.\n",
      "    Start predicting variable Occupancy...\n",
      "    End predicting variable Occupancy.\n",
      "End prediction at station 400951.\n",
      "Start time series prediction (DES) at station 400057...\n",
      "    Start predicting variable Speed...\n",
      "    End predicting variable Speed.\n",
      "    Start predicting variable Flow...\n",
      "    End predicting variable Flow.\n",
      "    Start predicting variable Occupancy...\n",
      "    End predicting variable Occupancy.\n",
      "End prediction at station 400057.\n",
      "Start time series prediction (DES) at station 400147...\n",
      "    Start predicting variable Speed...\n",
      "    End predicting variable Speed.\n",
      "    Start predicting variable Flow...\n",
      "    End predicting variable Flow.\n",
      "    Start predicting variable Occupancy...\n",
      "    End predicting variable Occupancy.\n",
      "End prediction at station 400147.\n",
      "Start time series prediction (DES) at station 400343...\n",
      "    Start predicting variable Speed...\n",
      "    End predicting variable Speed.\n",
      "    Start predicting variable Flow...\n",
      "    End predicting variable Flow.\n",
      "    Start predicting variable Occupancy...\n",
      "    End predicting variable Occupancy.\n",
      "End prediction at station 400343.\n",
      "Start time series prediction (DES) at station 401560...\n",
      "    Start predicting variable Speed...\n",
      "    End predicting variable Speed.\n",
      "    Start predicting variable Flow...\n",
      "    End predicting variable Flow.\n",
      "    Start predicting variable Occupancy...\n",
      "    End predicting variable Occupancy.\n",
      "End prediction at station 401560.\n",
      "Start time series prediction (DES) at station 400045...\n",
      "    Start predicting variable Speed...\n",
      "    End predicting variable Speed.\n",
      "    Start predicting variable Flow...\n",
      "    End predicting variable Flow.\n",
      "    Start predicting variable Occupancy...\n",
      "    End predicting variable Occupancy.\n",
      "End prediction at station 400045.\n",
      "Start time series prediction (DES) at station 400122...\n",
      "    Start predicting variable Speed...\n",
      "    End predicting variable Speed.\n",
      "    Start predicting variable Flow...\n",
      "    End predicting variable Flow.\n",
      "    Start predicting variable Occupancy...\n",
      "    End predicting variable Occupancy.\n",
      "End prediction at station 400122.\n",
      "Start time series prediction (DES) at station 401541...\n",
      "    Start predicting variable Speed...\n",
      "    End predicting variable Speed.\n",
      "    Start predicting variable Flow...\n",
      "    End predicting variable Flow.\n",
      "    Start predicting variable Occupancy...\n",
      "    End predicting variable Occupancy.\n",
      "End prediction at station 401541.\n",
      "Start time series prediction (DES) at station 402281...\n",
      "    Start predicting variable Speed...\n",
      "    End predicting variable Speed.\n",
      "    Start predicting variable Flow...\n",
      "    End predicting variable Flow.\n",
      "    Start predicting variable Occupancy...\n",
      "    End predicting variable Occupancy.\n",
      "End prediction at station 402281.\n",
      "Start time series prediction (DES) at station 402283...\n",
      "    Start predicting variable Speed...\n",
      "    End predicting variable Speed.\n",
      "    Start predicting variable Flow...\n",
      "    End predicting variable Flow.\n",
      "    Start predicting variable Occupancy...\n",
      "    End predicting variable Occupancy.\n",
      "End prediction at station 402283.\n",
      "Start time series prediction (DES) at station 402285...\n",
      "    Start predicting variable Speed...\n",
      "    End predicting variable Speed.\n",
      "    Start predicting variable Flow...\n",
      "    End predicting variable Flow.\n",
      "    Start predicting variable Occupancy...\n",
      "    End predicting variable Occupancy.\n",
      "End prediction at station 402285.\n",
      "Start time series prediction (DES) at station 402286...\n",
      "    Start predicting variable Speed...\n",
      "    End predicting variable Speed.\n",
      "    Start predicting variable Flow...\n",
      "    End predicting variable Flow.\n",
      "    Start predicting variable Occupancy...\n",
      "    End predicting variable Occupancy.\n",
      "End prediction at station 402286.\n",
      "Start time series prediction (DES) at station 400088...\n",
      "    Start predicting variable Speed...\n",
      "    End predicting variable Speed.\n",
      "    Start predicting variable Flow...\n",
      "    End predicting variable Flow.\n",
      "    Start predicting variable Occupancy...\n",
      "    End predicting variable Occupancy.\n",
      "End prediction at station 400088.\n",
      "Start time series prediction (DES) at station 402288...\n",
      "    Start predicting variable Speed...\n",
      "    End predicting variable Speed.\n",
      "    Start predicting variable Flow...\n",
      "    End predicting variable Flow.\n",
      "    Start predicting variable Occupancy...\n",
      "    End predicting variable Occupancy.\n",
      "End prediction at station 402288.\n",
      "Start time series prediction (DES) at station 413026...\n",
      "    Start predicting variable Speed...\n",
      "    End predicting variable Speed.\n",
      "    Start predicting variable Flow...\n",
      "    End predicting variable Flow.\n",
      "    Start predicting variable Occupancy...\n",
      "    End predicting variable Occupancy.\n",
      "End prediction at station 413026.\n",
      "Start time series prediction (DES) at station 401464...\n",
      "    Start predicting variable Speed...\n",
      "    End predicting variable Speed.\n",
      "    Start predicting variable Flow...\n",
      "    End predicting variable Flow.\n",
      "    Start predicting variable Occupancy...\n",
      "    End predicting variable Occupancy.\n",
      "End prediction at station 401464.\n",
      "Start time series prediction (DES) at station 401489...\n",
      "    Start predicting variable Speed...\n",
      "    End predicting variable Speed.\n",
      "    Start predicting variable Flow...\n",
      "    End predicting variable Flow.\n",
      "    Start predicting variable Occupancy...\n",
      "    End predicting variable Occupancy.\n",
      "End prediction at station 401489.\n",
      "Start time series prediction (DES) at station 401538...\n",
      "    Start predicting variable Speed...\n",
      "    End predicting variable Speed.\n",
      "    Start predicting variable Flow...\n",
      "    End predicting variable Flow.\n",
      "    Start predicting variable Occupancy...\n",
      "    End predicting variable Occupancy.\n",
      "End prediction at station 401538.\n",
      "Start time series prediction (DES) at station 402290...\n",
      "    Start predicting variable Speed...\n",
      "    End predicting variable Speed.\n",
      "    Start predicting variable Flow...\n",
      "    End predicting variable Flow.\n",
      "    Start predicting variable Occupancy...\n",
      "    End predicting variable Occupancy.\n",
      "End prediction at station 402290.\n",
      "Start time series prediction (DES) at station 402292...\n",
      "    Start predicting variable Speed...\n",
      "    End predicting variable Speed.\n",
      "    Start predicting variable Flow...\n",
      "    End predicting variable Flow.\n",
      "    Start predicting variable Occupancy...\n",
      "    End predicting variable Occupancy.\n",
      "End prediction at station 402292.\n",
      "Start time series prediction (DES) at station 401643...\n",
      "    Start predicting variable Speed...\n",
      "    End predicting variable Speed.\n",
      "    Start predicting variable Flow...\n",
      "    End predicting variable Flow.\n",
      "    Start predicting variable Occupancy...\n",
      "    End predicting variable Occupancy.\n",
      "End prediction at station 401643.\n",
      "Start time series prediction (DES) at station 402800...\n",
      "    Start predicting variable Speed...\n",
      "    End predicting variable Speed.\n",
      "    Start predicting variable Flow...\n",
      "    End predicting variable Flow.\n",
      "    Start predicting variable Occupancy...\n",
      "    End predicting variable Occupancy.\n",
      "End prediction at station 402800.\n",
      "Start time series prediction (DES) at station 402828...\n",
      "    Start predicting variable Speed...\n",
      "    End predicting variable Speed.\n",
      "    Start predicting variable Flow...\n",
      "    End predicting variable Flow.\n",
      "    Start predicting variable Occupancy...\n",
      "    End predicting variable Occupancy.\n",
      "End prediction at station 402828.\n",
      "Start time series prediction (DES) at station 407219...\n",
      "    Start predicting variable Speed...\n",
      "    End predicting variable Speed.\n",
      "    Start predicting variable Flow...\n",
      "    End predicting variable Flow.\n",
      "    Start predicting variable Occupancy...\n",
      "    End predicting variable Occupancy.\n",
      "End prediction at station 407219.\n",
      "Start time series prediction (DES) at station 402789...\n",
      "    Start predicting variable Speed...\n",
      "    End predicting variable Speed.\n",
      "    Start predicting variable Flow...\n",
      "    End predicting variable Flow.\n",
      "    Start predicting variable Occupancy...\n"
     ]
    },
    {
     "name": "stdout",
     "output_type": "stream",
     "text": [
      "    End predicting variable Occupancy.\n",
      "End prediction at station 402789.\n",
      "Start time series prediction (DES) at station 408755...\n",
      "    Start predicting variable Speed...\n",
      "    End predicting variable Speed.\n",
      "    Start predicting variable Flow...\n",
      "    End predicting variable Flow.\n",
      "    Start predicting variable Occupancy...\n",
      "    End predicting variable Occupancy.\n",
      "End prediction at station 408755.\n",
      "Start time series prediction (DES) at station 402802...\n",
      "    Start predicting variable Speed...\n",
      "    End predicting variable Speed.\n",
      "    Start predicting variable Flow...\n",
      "    End predicting variable Flow.\n",
      "    Start predicting variable Occupancy...\n",
      "    End predicting variable Occupancy.\n",
      "End prediction at station 402802.\n",
      "Start time series prediction (DES) at station 408756...\n",
      "    Start predicting variable Speed...\n",
      "    End predicting variable Speed.\n",
      "    Start predicting variable Flow...\n",
      "    End predicting variable Flow.\n",
      "    Start predicting variable Occupancy...\n",
      "    End predicting variable Occupancy.\n",
      "End prediction at station 408756.\n",
      "Start time series prediction (DES) at station 400189...\n",
      "    Start predicting variable Speed...\n",
      "    End predicting variable Speed.\n",
      "    Start predicting variable Flow...\n",
      "    End predicting variable Flow.\n",
      "    Start predicting variable Occupancy...\n",
      "    End predicting variable Occupancy.\n",
      "End prediction at station 400189.\n",
      "Start time series prediction (DES) at station 400309...\n",
      "    Start predicting variable Speed...\n",
      "    End predicting variable Speed.\n",
      "    Start predicting variable Flow...\n",
      "    End predicting variable Flow.\n",
      "    Start predicting variable Occupancy...\n",
      "    End predicting variable Occupancy.\n",
      "End prediction at station 400309.\n",
      "Start time series prediction (DES) at station 400417...\n",
      "    Start predicting variable Speed...\n",
      "    End predicting variable Speed.\n",
      "    Start predicting variable Flow...\n",
      "    End predicting variable Flow.\n",
      "    Start predicting variable Occupancy...\n",
      "    End predicting variable Occupancy.\n",
      "End prediction at station 400417.\n",
      "Start time series prediction (DES) at station 400249...\n",
      "    Start predicting variable Speed...\n",
      "    End predicting variable Speed.\n",
      "    Start predicting variable Flow...\n",
      "    End predicting variable Flow.\n",
      "    Start predicting variable Occupancy...\n",
      "    End predicting variable Occupancy.\n",
      "End prediction at station 400249.\n",
      "Start time series prediction (DES) at station 401639...\n",
      "    Start predicting variable Speed...\n",
      "    End predicting variable Speed.\n",
      "    Start predicting variable Flow...\n",
      "    End predicting variable Flow.\n",
      "    Start predicting variable Occupancy...\n",
      "    End predicting variable Occupancy.\n",
      "End prediction at station 401639.\n",
      "Start time series prediction (DES) at station 400662...\n",
      "    Start predicting variable Speed...\n",
      "    End predicting variable Speed.\n",
      "    Start predicting variable Flow...\n",
      "    End predicting variable Flow.\n",
      "    Start predicting variable Occupancy...\n",
      "    End predicting variable Occupancy.\n",
      "End prediction at station 400662.\n",
      "Start time series prediction (DES) at station 400141...\n",
      "    Start predicting variable Speed...\n",
      "    End predicting variable Speed.\n",
      "    Start predicting variable Flow...\n",
      "    End predicting variable Flow.\n",
      "    Start predicting variable Occupancy...\n",
      "    End predicting variable Occupancy.\n",
      "End prediction at station 400141.\n",
      "Start time series prediction (DES) at station 400761...\n",
      "    Start predicting variable Speed...\n",
      "    End predicting variable Speed.\n",
      "    Start predicting variable Flow...\n",
      "    End predicting variable Flow.\n",
      "    Start predicting variable Occupancy...\n",
      "    End predicting variable Occupancy.\n",
      "End prediction at station 400761.\n",
      "Start time series prediction (DES) at station 400490...\n",
      "    Start predicting variable Speed...\n",
      "    End predicting variable Speed.\n",
      "    Start predicting variable Flow...\n",
      "    End predicting variable Flow.\n",
      "    Start predicting variable Occupancy...\n",
      "    End predicting variable Occupancy.\n",
      "End prediction at station 400490.\n",
      "Start time series prediction (DES) at station 401888...\n",
      "    Start predicting variable Speed...\n",
      "    End predicting variable Speed.\n",
      "    Start predicting variable Flow...\n",
      "    End predicting variable Flow.\n",
      "    Start predicting variable Occupancy...\n",
      "    End predicting variable Occupancy.\n",
      "End prediction at station 401888.\n",
      "Start time series prediction (DES) at station 400137...\n",
      "    Start predicting variable Speed...\n",
      "    End predicting variable Speed.\n",
      "    Start predicting variable Flow...\n",
      "    End predicting variable Flow.\n",
      "    Start predicting variable Occupancy...\n",
      "    End predicting variable Occupancy.\n",
      "End prediction at station 400137.\n",
      "Start time series prediction (DES) at station 400716...\n",
      "    Start predicting variable Speed...\n",
      "    End predicting variable Speed.\n",
      "    Start predicting variable Flow...\n",
      "    End predicting variable Flow.\n",
      "    Start predicting variable Occupancy...\n",
      "    End predicting variable Occupancy.\n",
      "End prediction at station 400716.\n",
      "Start time series prediction (DES) at station 401545...\n",
      "    Start predicting variable Speed...\n",
      "    End predicting variable Speed.\n",
      "    Start predicting variable Flow...\n",
      "    End predicting variable Flow.\n",
      "    Start predicting variable Occupancy...\n",
      "    End predicting variable Occupancy.\n",
      "End prediction at station 401545.\n",
      "Start time series prediction (DES) at station 401011...\n",
      "    Start predicting variable Speed...\n",
      "    End predicting variable Speed.\n",
      "    Start predicting variable Flow...\n",
      "    End predicting variable Flow.\n",
      "    Start predicting variable Occupancy...\n",
      "    End predicting variable Occupancy.\n",
      "End prediction at station 401011.\n",
      "Start time series prediction (DES) at station 400674...\n",
      "    Start predicting variable Speed...\n",
      "    End predicting variable Speed.\n",
      "    Start predicting variable Flow...\n",
      "    End predicting variable Flow.\n",
      "    Start predicting variable Occupancy...\n",
      "    End predicting variable Occupancy.\n",
      "End prediction at station 400674.\n",
      "Start time series prediction (DES) at station 400539...\n",
      "    Start predicting variable Speed...\n",
      "    End predicting variable Speed.\n",
      "    Start predicting variable Flow...\n",
      "    End predicting variable Flow.\n",
      "    Start predicting variable Occupancy...\n",
      "    End predicting variable Occupancy.\n",
      "End prediction at station 400539.\n",
      "Start time series prediction (DES) at station 400534...\n",
      "    Start predicting variable Speed...\n",
      "    End predicting variable Speed.\n",
      "    Start predicting variable Flow...\n",
      "    End predicting variable Flow.\n",
      "    Start predicting variable Occupancy...\n",
      "    End predicting variable Occupancy.\n",
      "End prediction at station 400534.\n",
      "Start time series prediction (DES) at station 401062...\n",
      "    Start predicting variable Speed...\n",
      "    End predicting variable Speed.\n",
      "    Start predicting variable Flow...\n",
      "    End predicting variable Flow.\n",
      "    Start predicting variable Occupancy...\n",
      "    End predicting variable Occupancy.\n",
      "End prediction at station 401062.\n",
      "Start time series prediction (DES) at station 401529...\n",
      "    Start predicting variable Speed...\n",
      "    End predicting variable Speed.\n",
      "    Start predicting variable Flow...\n",
      "    End predicting variable Flow.\n",
      "    Start predicting variable Occupancy...\n",
      "    End predicting variable Occupancy.\n",
      "End prediction at station 401529.\n",
      "Start time series prediction (DES) at station 401613...\n",
      "    Start predicting variable Speed...\n",
      "    End predicting variable Speed.\n",
      "    Start predicting variable Flow...\n",
      "    End predicting variable Flow.\n",
      "    Start predicting variable Occupancy...\n",
      "    End predicting variable Occupancy.\n",
      "End prediction at station 401613.\n",
      "Start time series prediction (DES) at station 400536...\n",
      "    Start predicting variable Speed...\n",
      "    End predicting variable Speed.\n",
      "    Start predicting variable Flow...\n",
      "    End predicting variable Flow.\n",
      "    Start predicting variable Occupancy...\n",
      "    End predicting variable Occupancy.\n",
      "End prediction at station 400536.\n",
      "Start time series prediction (DES) at station 400488...\n",
      "    Start predicting variable Speed...\n",
      "    End predicting variable Speed.\n",
      "    Start predicting variable Flow...\n",
      "    End predicting variable Flow.\n",
      "    Start predicting variable Occupancy...\n",
      "    End predicting variable Occupancy.\n",
      "End prediction at station 400488.\n",
      "Start time series prediction (DES) at station 401561...\n",
      "    Start predicting variable Speed...\n",
      "    End predicting variable Speed.\n",
      "    Start predicting variable Flow...\n",
      "    End predicting variable Flow.\n",
      "    Start predicting variable Occupancy...\n",
      "    End predicting variable Occupancy.\n",
      "End prediction at station 401561.\n",
      "Start time series prediction (DES) at station 400611...\n",
      "    Start predicting variable Speed...\n",
      "    End predicting variable Speed.\n",
      "    Start predicting variable Flow...\n",
      "    End predicting variable Flow.\n",
      "    Start predicting variable Occupancy...\n"
     ]
    },
    {
     "name": "stdout",
     "output_type": "stream",
     "text": [
      "    End predicting variable Occupancy.\n",
      "End prediction at station 400611.\n",
      "Start time series prediction (DES) at station 400928...\n",
      "    Start predicting variable Speed...\n",
      "    End predicting variable Speed.\n",
      "    Start predicting variable Flow...\n",
      "    End predicting variable Flow.\n",
      "    Start predicting variable Occupancy...\n",
      "    End predicting variable Occupancy.\n",
      "End prediction at station 400928.\n",
      "Start time series prediction (DES) at station 400284...\n",
      "    Start predicting variable Speed...\n",
      "    End predicting variable Speed.\n",
      "    Start predicting variable Flow...\n",
      "    End predicting variable Flow.\n",
      "    Start predicting variable Occupancy...\n",
      "    End predicting variable Occupancy.\n",
      "End prediction at station 400284.\n",
      "Start time series prediction (DES) at station 400041...\n",
      "    Start predicting variable Speed...\n",
      "    End predicting variable Speed.\n",
      "    Start predicting variable Flow...\n",
      "    End predicting variable Flow.\n",
      "    Start predicting variable Occupancy...\n",
      "    End predicting variable Occupancy.\n",
      "End prediction at station 400041.\n",
      "Start time series prediction (DES) at station 408133...\n",
      "    Start predicting variable Speed...\n",
      "    End predicting variable Speed.\n",
      "    Start predicting variable Flow...\n",
      "    End predicting variable Flow.\n",
      "    Start predicting variable Occupancy...\n",
      "    End predicting variable Occupancy.\n",
      "End prediction at station 408133.\n",
      "Start time series prediction (DES) at station 408135...\n",
      "    Start predicting variable Speed...\n",
      "    End predicting variable Speed.\n",
      "    Start predicting variable Flow...\n",
      "    End predicting variable Flow.\n",
      "    Start predicting variable Occupancy...\n",
      "    End predicting variable Occupancy.\n",
      "End prediction at station 408135.\n",
      "Start time series prediction (DES) at station 417665...\n",
      "    Start predicting variable Speed...\n",
      "    End predicting variable Speed.\n",
      "    Start predicting variable Flow...\n",
      "    End predicting variable Flow.\n",
      "    Start predicting variable Occupancy...\n",
      "    End predicting variable Occupancy.\n",
      "End prediction at station 417665.\n",
      "Start time series prediction (DES) at station 412637...\n",
      "    Start predicting variable Speed...\n",
      "    End predicting variable Speed.\n",
      "    Start predicting variable Flow...\n",
      "    End predicting variable Flow.\n",
      "    Start predicting variable Occupancy...\n",
      "    End predicting variable Occupancy.\n",
      "End prediction at station 412637.\n",
      "Start time series prediction (DES) at station 417666...\n",
      "    Start predicting variable Speed...\n",
      "    End predicting variable Speed.\n",
      "    Start predicting variable Flow...\n",
      "    End predicting variable Flow.\n",
      "    Start predicting variable Occupancy...\n",
      "    End predicting variable Occupancy.\n",
      "End prediction at station 417666.\n",
      "Start time series prediction (DES) at station 408134...\n",
      "    Start predicting variable Speed...\n",
      "    End predicting variable Speed.\n",
      "    Start predicting variable Flow...\n",
      "    End predicting variable Flow.\n",
      "    Start predicting variable Occupancy...\n",
      "    End predicting variable Occupancy.\n",
      "End prediction at station 408134.\n",
      "Start time series prediction (DES) at station 400685...\n",
      "    Start predicting variable Speed...\n",
      "    End predicting variable Speed.\n",
      "    Start predicting variable Flow...\n",
      "    End predicting variable Flow.\n",
      "    Start predicting variable Occupancy...\n",
      "    End predicting variable Occupancy.\n",
      "End prediction at station 400685.\n",
      "Start time series prediction (DES) at station 401003...\n",
      "    Start predicting variable Speed...\n",
      "    End predicting variable Speed.\n",
      "    Start predicting variable Flow...\n",
      "    End predicting variable Flow.\n",
      "    Start predicting variable Occupancy...\n",
      "    End predicting variable Occupancy.\n",
      "End prediction at station 401003.\n",
      "Start time series prediction (DES) at station 400898...\n",
      "    Start predicting variable Speed...\n",
      "    End predicting variable Speed.\n",
      "    Start predicting variable Flow...\n",
      "    End predicting variable Flow.\n",
      "    Start predicting variable Occupancy...\n",
      "    End predicting variable Occupancy.\n",
      "End prediction at station 400898.\n",
      "Start time series prediction (DES) at station 400275...\n",
      "    Start predicting variable Speed...\n",
      "    End predicting variable Speed.\n",
      "    Start predicting variable Flow...\n",
      "    End predicting variable Flow.\n",
      "    Start predicting variable Occupancy...\n",
      "    End predicting variable Occupancy.\n",
      "End prediction at station 400275.\n",
      "Start time series prediction (DES) at station 400939...\n",
      "    Start predicting variable Speed...\n",
      "    End predicting variable Speed.\n",
      "    Start predicting variable Flow...\n",
      "    End predicting variable Flow.\n",
      "    Start predicting variable Occupancy...\n",
      "    End predicting variable Occupancy.\n",
      "End prediction at station 400939.\n",
      "Start time series prediction (DES) at station 400180...\n",
      "    Start predicting variable Speed...\n",
      "    End predicting variable Speed.\n",
      "    Start predicting variable Flow...\n",
      "    End predicting variable Flow.\n",
      "    Start predicting variable Occupancy...\n",
      "    End predicting variable Occupancy.\n",
      "End prediction at station 400180.\n",
      "Start time series prediction (DES) at station 400529...\n",
      "    Start predicting variable Speed...\n",
      "    End predicting variable Speed.\n",
      "    Start predicting variable Flow...\n",
      "    End predicting variable Flow.\n",
      "    Start predicting variable Occupancy...\n",
      "    End predicting variable Occupancy.\n",
      "End prediction at station 400529.\n",
      "Start time series prediction (DES) at station 400990...\n",
      "    Start predicting variable Speed...\n",
      "    End predicting variable Speed.\n",
      "    Start predicting variable Flow...\n",
      "    End predicting variable Flow.\n",
      "    Start predicting variable Occupancy...\n",
      "    End predicting variable Occupancy.\n",
      "End prediction at station 400990.\n",
      "Start time series prediction (DES) at station 400515...\n",
      "    Start predicting variable Speed...\n",
      "    End predicting variable Speed.\n",
      "    Start predicting variable Flow...\n",
      "    End predicting variable Flow.\n",
      "    Start predicting variable Occupancy...\n",
      "    End predicting variable Occupancy.\n",
      "End prediction at station 400515.\n",
      "Start time series prediction (DES) at station 400252...\n",
      "    Start predicting variable Speed...\n",
      "    End predicting variable Speed.\n",
      "    Start predicting variable Flow...\n",
      "    End predicting variable Flow.\n",
      "    Start predicting variable Occupancy...\n",
      "    End predicting variable Occupancy.\n",
      "End prediction at station 400252.\n",
      "Start time series prediction (DES) at station 400788...\n",
      "    Start predicting variable Speed...\n",
      "    End predicting variable Speed.\n",
      "    Start predicting variable Flow...\n",
      "    End predicting variable Flow.\n",
      "    Start predicting variable Occupancy...\n",
      "    End predicting variable Occupancy.\n",
      "End prediction at station 400788.\n",
      "Start time series prediction (DES) at station 401517...\n",
      "    Start predicting variable Speed...\n",
      "    End predicting variable Speed.\n",
      "    Start predicting variable Flow...\n",
      "    End predicting variable Flow.\n",
      "    Start predicting variable Occupancy...\n",
      "    End predicting variable Occupancy.\n",
      "End prediction at station 401517.\n",
      "Start time series prediction (DES) at station 401871...\n",
      "    Start predicting variable Speed...\n",
      "    End predicting variable Speed.\n",
      "    Start predicting variable Flow...\n",
      "    End predicting variable Flow.\n",
      "    Start predicting variable Occupancy...\n",
      "    End predicting variable Occupancy.\n",
      "End prediction at station 401871.\n",
      "Start time series prediction (DES) at station 400574...\n",
      "    Start predicting variable Speed...\n",
      "    End predicting variable Speed.\n",
      "    Start predicting variable Flow...\n",
      "    End predicting variable Flow.\n",
      "    Start predicting variable Occupancy...\n",
      "    End predicting variable Occupancy.\n",
      "End prediction at station 400574.\n",
      "Start time series prediction (DES) at station 401629...\n",
      "    Start predicting variable Speed...\n",
      "    End predicting variable Speed.\n",
      "    Start predicting variable Flow...\n",
      "    End predicting variable Flow.\n",
      "    Start predicting variable Occupancy...\n",
      "    End predicting variable Occupancy.\n",
      "End prediction at station 401629.\n",
      "Start time series prediction (DES) at station 400422...\n",
      "    Start predicting variable Speed...\n",
      "    End predicting variable Speed.\n",
      "    Start predicting variable Flow...\n",
      "    End predicting variable Flow.\n",
      "    Start predicting variable Occupancy...\n",
      "    End predicting variable Occupancy.\n",
      "End prediction at station 400422.\n",
      "Start time series prediction (DES) at station 400333...\n",
      "    Start predicting variable Speed...\n",
      "    End predicting variable Speed.\n",
      "    Start predicting variable Flow...\n",
      "    End predicting variable Flow.\n",
      "    Start predicting variable Occupancy...\n",
      "    End predicting variable Occupancy.\n",
      "End prediction at station 400333.\n",
      "Start time series prediction (DES) at station 410363...\n",
      "    Start predicting variable Speed...\n",
      "    End predicting variable Speed.\n",
      "    Start predicting variable Flow...\n",
      "    End predicting variable Flow.\n",
      "    Start predicting variable Occupancy...\n"
     ]
    },
    {
     "name": "stdout",
     "output_type": "stream",
     "text": [
      "    End predicting variable Occupancy.\n",
      "End prediction at station 410363.\n",
      "Start time series prediction (DES) at station 400360...\n",
      "    Start predicting variable Speed...\n",
      "    End predicting variable Speed.\n",
      "    Start predicting variable Flow...\n",
      "    End predicting variable Flow.\n",
      "    Start predicting variable Occupancy...\n",
      "    End predicting variable Occupancy.\n",
      "End prediction at station 400360.\n",
      "Start time series prediction (DES) at station 400955...\n",
      "    Start predicting variable Speed...\n",
      "    End predicting variable Speed.\n",
      "    Start predicting variable Flow...\n",
      "    End predicting variable Flow.\n",
      "    Start predicting variable Occupancy...\n",
      "    End predicting variable Occupancy.\n",
      "End prediction at station 400955.\n",
      "Start time series prediction (DES) at station 400495...\n",
      "    Start predicting variable Speed...\n",
      "    End predicting variable Speed.\n",
      "    Start predicting variable Flow...\n",
      "    End predicting variable Flow.\n",
      "    Start predicting variable Occupancy...\n",
      "    End predicting variable Occupancy.\n",
      "End prediction at station 400495.\n",
      "Start time series prediction (DES) at station 400608...\n",
      "    Start predicting variable Speed...\n",
      "    End predicting variable Speed.\n",
      "    Start predicting variable Flow...\n",
      "    End predicting variable Flow.\n",
      "    Start predicting variable Occupancy...\n",
      "    End predicting variable Occupancy.\n",
      "End prediction at station 400608.\n",
      "Start time series prediction (DES) at station 400949...\n",
      "    Start predicting variable Speed...\n",
      "    End predicting variable Speed.\n",
      "    Start predicting variable Flow...\n",
      "    End predicting variable Flow.\n",
      "    Start predicting variable Occupancy...\n",
      "    End predicting variable Occupancy.\n",
      "End prediction at station 400949.\n",
      "Start time series prediction (DES) at station 400678...\n",
      "    Start predicting variable Speed...\n",
      "    End predicting variable Speed.\n",
      "    Start predicting variable Flow...\n",
      "    End predicting variable Flow.\n",
      "    Start predicting variable Occupancy...\n",
      "    End predicting variable Occupancy.\n",
      "End prediction at station 400678.\n",
      "Start time series prediction (DES) at station 400341...\n",
      "    Start predicting variable Speed...\n",
      "    End predicting variable Speed.\n",
      "    Start predicting variable Flow...\n",
      "    End predicting variable Flow.\n",
      "    Start predicting variable Occupancy...\n",
      "    End predicting variable Occupancy.\n",
      "End prediction at station 400341.\n",
      "Start time series prediction (DES) at station 400607...\n",
      "    Start predicting variable Speed...\n",
      "    End predicting variable Speed.\n",
      "    Start predicting variable Flow...\n",
      "    End predicting variable Flow.\n",
      "    Start predicting variable Occupancy...\n",
      "    End predicting variable Occupancy.\n",
      "End prediction at station 400607.\n",
      "Start time series prediction (DES) at station 400094...\n",
      "    Start predicting variable Speed...\n",
      "    End predicting variable Speed.\n",
      "    Start predicting variable Flow...\n",
      "    End predicting variable Flow.\n",
      "    Start predicting variable Occupancy...\n",
      "    End predicting variable Occupancy.\n",
      "End prediction at station 400094.\n",
      "Start time series prediction (DES) at station 400682...\n",
      "    Start predicting variable Speed...\n",
      "    End predicting variable Speed.\n",
      "    Start predicting variable Flow...\n",
      "    End predicting variable Flow.\n",
      "    Start predicting variable Occupancy...\n",
      "    End predicting variable Occupancy.\n",
      "End prediction at station 400682.\n",
      "Start time series prediction (DES) at station 408138...\n",
      "    Start predicting variable Speed...\n",
      "    End predicting variable Speed.\n",
      "    Start predicting variable Flow...\n",
      "    End predicting variable Flow.\n",
      "    Start predicting variable Occupancy...\n",
      "    End predicting variable Occupancy.\n",
      "End prediction at station 408138.\n",
      "Start time series prediction (DES) at station 400980...\n",
      "    Start predicting variable Speed...\n",
      "    End predicting variable Speed.\n",
      "    Start predicting variable Flow...\n",
      "    End predicting variable Flow.\n",
      "    Start predicting variable Occupancy...\n",
      "    End predicting variable Occupancy.\n",
      "End prediction at station 400980.\n",
      "Start time series prediction (DES) at station 401333...\n",
      "    Start predicting variable Speed...\n",
      "    End predicting variable Speed.\n",
      "    Start predicting variable Flow...\n",
      "    End predicting variable Flow.\n",
      "    Start predicting variable Occupancy...\n",
      "    End predicting variable Occupancy.\n",
      "End prediction at station 401333.\n",
      "Start time series prediction (DES) at station 404746...\n",
      "    Start predicting variable Speed...\n",
      "    End predicting variable Speed.\n",
      "    Start predicting variable Flow...\n",
      "    End predicting variable Flow.\n",
      "    Start predicting variable Occupancy...\n",
      "    End predicting variable Occupancy.\n",
      "End prediction at station 404746.\n",
      "Start time series prediction (DES) at station 401142...\n",
      "    Start predicting variable Speed...\n",
      "    End predicting variable Speed.\n",
      "    Start predicting variable Flow...\n",
      "    End predicting variable Flow.\n",
      "    Start predicting variable Occupancy...\n",
      "    End predicting variable Occupancy.\n",
      "End prediction at station 401142.\n",
      "Start time series prediction (DES) at station 400218...\n",
      "    Start predicting variable Speed...\n",
      "    End predicting variable Speed.\n",
      "    Start predicting variable Flow...\n",
      "    End predicting variable Flow.\n",
      "    Start predicting variable Occupancy...\n",
      "    End predicting variable Occupancy.\n",
      "End prediction at station 400218.\n",
      "Start time series prediction (DES) at station 400983...\n",
      "    Start predicting variable Speed...\n",
      "    End predicting variable Speed.\n",
      "    Start predicting variable Flow...\n",
      "    End predicting variable Flow.\n",
      "    Start predicting variable Occupancy...\n",
      "    End predicting variable Occupancy.\n",
      "End prediction at station 400983.\n",
      "Start time series prediction (DES) at station 400765...\n",
      "    Start predicting variable Speed...\n",
      "    End predicting variable Speed.\n",
      "    Start predicting variable Flow...\n",
      "    End predicting variable Flow.\n",
      "    Start predicting variable Occupancy...\n",
      "    End predicting variable Occupancy.\n",
      "End prediction at station 400765.\n",
      "Start time series prediction (DES) at station 400844...\n",
      "    Start predicting variable Speed...\n",
      "    End predicting variable Speed.\n",
      "    Start predicting variable Flow...\n",
      "    End predicting variable Flow.\n",
      "    Start predicting variable Occupancy...\n",
      "    End predicting variable Occupancy.\n",
      "End prediction at station 400844.\n",
      "Start time series prediction (DES) at station 400923...\n",
      "    Start predicting variable Speed...\n",
      "    End predicting variable Speed.\n",
      "    Start predicting variable Flow...\n",
      "    End predicting variable Flow.\n",
      "    Start predicting variable Occupancy...\n",
      "    End predicting variable Occupancy.\n",
      "End prediction at station 400923.\n",
      "Start time series prediction (DES) at station 401143...\n",
      "    Start predicting variable Speed...\n",
      "    End predicting variable Speed.\n",
      "    Start predicting variable Flow...\n",
      "    End predicting variable Flow.\n",
      "    Start predicting variable Occupancy...\n",
      "    End predicting variable Occupancy.\n",
      "End prediction at station 401143.\n",
      "Start time series prediction (DES) at station 401471...\n",
      "    Start predicting variable Speed...\n",
      "    End predicting variable Speed.\n",
      "    Start predicting variable Flow...\n",
      "    End predicting variable Flow.\n",
      "    Start predicting variable Occupancy...\n",
      "    End predicting variable Occupancy.\n",
      "End prediction at station 401471.\n"
     ]
    }
   ],
   "source": [
    "# initialization\n",
    "# initialize prediction dictionary\n",
    "pred_dict_test = dict()\n",
    "for var_name in var_names:\n",
    "    pred_dict_test[var_name] = []\n",
    "\n",
    "for station in stations:\n",
    "    print(\"Start time series prediction (DES) at station \" + str(station) + \"...\")\n",
    "    df_test_station = df_test.loc[df_test[\"Station ID\"] == station]\n",
    "    \n",
    "    # formulate predictions of speed, flow and occupancy for the station\n",
    "    for var_name in var_names:\n",
    "        print(\"    Start predicting variable \" + var_name + \"...\")\n",
    "        var_series = df_test_station[var_name].values\n",
    "        len_series = len(var_series)\n",
    "        # initialize s1, s2, and y\n",
    "        s1 = np.mean(var_series[:10])\n",
    "        s2 = s1\n",
    "        y = [0.] * len_series\n",
    "        # get the best alpha\n",
    "        var_best_alpha = best_alphas_df.loc[best_alphas_df[\"Station ID\"] == station][var_name].values[0]\n",
    "        beta = 1. - var_best_alpha\n",
    "\n",
    "        for t in range(11, len_series - 1):\n",
    "            s1 = var_best_alpha * var_series[t] + beta * s1\n",
    "            s2 = var_best_alpha * s1 + beta * s2\n",
    "            y[t+1] = 2 * s1 - s2 + alpha / beta * (s1 - s2)\n",
    "\n",
    "        # save the predictions to a dictionary\n",
    "        pred_dict_test[var_name].extend(y)\n",
    "        print(\"    End predicting variable \" + var_name + \".\")\n",
    "    print(\"End prediction at station \" + str(station) + \".\")"
   ]
  },
  {
   "cell_type": "code",
   "execution_count": 818,
   "metadata": {},
   "outputs": [],
   "source": [
    "pred_speed_test = pred_dict_test['Speed']\n",
    "pred_flow_test = pred_dict_test['Flow']\n",
    "pred_occ_test = pred_dict_test['Occupancy']"
   ]
  },
  {
   "cell_type": "code",
   "execution_count": 819,
   "metadata": {},
   "outputs": [
    {
     "data": {
      "text/plain": [
       "(4112640, 4112640)"
      ]
     },
     "execution_count": 819,
     "metadata": {},
     "output_type": "execute_result"
    }
   ],
   "source": [
    "len(pred_speed_test), len(df_test.index)"
   ]
  },
  {
   "cell_type": "code",
   "execution_count": 820,
   "metadata": {},
   "outputs": [
    {
     "name": "stderr",
     "output_type": "stream",
     "text": [
      "/usr/local/lib/python3.6/site-packages/ipykernel_launcher.py:2: SettingWithCopyWarning: \n",
      "A value is trying to be set on a copy of a slice from a DataFrame.\n",
      "Try using .loc[row_indexer,col_indexer] = value instead\n",
      "\n",
      "See the caveats in the documentation: http://pandas.pydata.org/pandas-docs/stable/indexing.html#indexing-view-versus-copy\n",
      "  \n"
     ]
    }
   ],
   "source": [
    "for var_name in var_names:\n",
    "    df_test[\"Pred \" + var_name] = pred_dict_test[var_name]"
   ]
  },
  {
   "cell_type": "markdown",
   "metadata": {},
   "source": [
    "## 2. SVM prediction"
   ]
  },
  {
   "cell_type": "code",
   "execution_count": 825,
   "metadata": {},
   "outputs": [
    {
     "data": {
      "text/html": [
       "<div>\n",
       "<style scoped>\n",
       "    .dataframe tbody tr th:only-of-type {\n",
       "        vertical-align: middle;\n",
       "    }\n",
       "\n",
       "    .dataframe tbody tr th {\n",
       "        vertical-align: top;\n",
       "    }\n",
       "\n",
       "    .dataframe thead th {\n",
       "        text-align: right;\n",
       "    }\n",
       "</style>\n",
       "<table border=\"1\" class=\"dataframe\">\n",
       "  <thead>\n",
       "    <tr style=\"text-align: right;\">\n",
       "      <th></th>\n",
       "      <th>Station ID</th>\n",
       "      <th>datetime</th>\n",
       "      <th>Occupancy</th>\n",
       "      <th>Flow</th>\n",
       "      <th>Speed</th>\n",
       "      <th>Date</th>\n",
       "      <th>Time</th>\n",
       "      <th>Pred Speed</th>\n",
       "      <th>Pred Flow</th>\n",
       "      <th>Pred Occupancy</th>\n",
       "    </tr>\n",
       "  </thead>\n",
       "  <tbody>\n",
       "    <tr>\n",
       "      <th>864</th>\n",
       "      <td>408907</td>\n",
       "      <td>2017-05-03 00:00:00</td>\n",
       "      <td>0.7</td>\n",
       "      <td>27.0</td>\n",
       "      <td>67.3</td>\n",
       "      <td>05/03/2017</td>\n",
       "      <td>00:00</td>\n",
       "      <td>0.0</td>\n",
       "      <td>0.0</td>\n",
       "      <td>0.0</td>\n",
       "    </tr>\n",
       "    <tr>\n",
       "      <th>865</th>\n",
       "      <td>408907</td>\n",
       "      <td>2017-05-03 00:05:00</td>\n",
       "      <td>0.8</td>\n",
       "      <td>32.0</td>\n",
       "      <td>68.5</td>\n",
       "      <td>05/03/2017</td>\n",
       "      <td>00:05</td>\n",
       "      <td>0.0</td>\n",
       "      <td>0.0</td>\n",
       "      <td>0.0</td>\n",
       "    </tr>\n",
       "    <tr>\n",
       "      <th>866</th>\n",
       "      <td>408907</td>\n",
       "      <td>2017-05-03 00:10:00</td>\n",
       "      <td>0.4</td>\n",
       "      <td>13.0</td>\n",
       "      <td>67.7</td>\n",
       "      <td>05/03/2017</td>\n",
       "      <td>00:10</td>\n",
       "      <td>0.0</td>\n",
       "      <td>0.0</td>\n",
       "      <td>0.0</td>\n",
       "    </tr>\n",
       "  </tbody>\n",
       "</table>\n",
       "</div>"
      ],
      "text/plain": [
       "     Station ID             datetime  Occupancy  Flow  Speed        Date  \\\n",
       "864      408907  2017-05-03 00:00:00        0.7  27.0   67.3  05/03/2017   \n",
       "865      408907  2017-05-03 00:05:00        0.8  32.0   68.5  05/03/2017   \n",
       "866      408907  2017-05-03 00:10:00        0.4  13.0   67.7  05/03/2017   \n",
       "\n",
       "      Time  Pred Speed  Pred Flow  Pred Occupancy  \n",
       "864  00:00         0.0        0.0             0.0  \n",
       "865  00:05         0.0        0.0             0.0  \n",
       "866  00:10         0.0        0.0             0.0  "
      ]
     },
     "execution_count": 825,
     "metadata": {},
     "output_type": "execute_result"
    }
   ],
   "source": [
    "df_test.head(3)"
   ]
  },
  {
   "cell_type": "code",
   "execution_count": 842,
   "metadata": {},
   "outputs": [],
   "source": [
    "for var_name in var_names:\n",
    "    df_test['Diff ' + var_name] = df_test[var_name] - df_test['Pred ' + var_name]"
   ]
  },
  {
   "cell_type": "code",
   "execution_count": 845,
   "metadata": {},
   "outputs": [
    {
     "data": {
      "text/html": [
       "<div>\n",
       "<style scoped>\n",
       "    .dataframe tbody tr th:only-of-type {\n",
       "        vertical-align: middle;\n",
       "    }\n",
       "\n",
       "    .dataframe tbody tr th {\n",
       "        vertical-align: top;\n",
       "    }\n",
       "\n",
       "    .dataframe thead th {\n",
       "        text-align: right;\n",
       "    }\n",
       "</style>\n",
       "<table border=\"1\" class=\"dataframe\">\n",
       "  <thead>\n",
       "    <tr style=\"text-align: right;\">\n",
       "      <th></th>\n",
       "      <th>Station ID</th>\n",
       "      <th>datetime</th>\n",
       "      <th>Occupancy</th>\n",
       "      <th>Flow</th>\n",
       "      <th>Speed</th>\n",
       "      <th>Date</th>\n",
       "      <th>Time</th>\n",
       "      <th>Pred Speed</th>\n",
       "      <th>Pred Flow</th>\n",
       "      <th>Pred Occupancy</th>\n",
       "      <th>Diff Speed</th>\n",
       "      <th>Diff Flow</th>\n",
       "      <th>Diff Occupancy</th>\n",
       "    </tr>\n",
       "  </thead>\n",
       "  <tbody>\n",
       "    <tr>\n",
       "      <th>6580221</th>\n",
       "      <td>401471</td>\n",
       "      <td>2017-12-30 23:45:00</td>\n",
       "      <td>3.9</td>\n",
       "      <td>198.0</td>\n",
       "      <td>60.7</td>\n",
       "      <td>12/30/2017</td>\n",
       "      <td>23:45</td>\n",
       "      <td>60.753698</td>\n",
       "      <td>180.962832</td>\n",
       "      <td>3.564841</td>\n",
       "      <td>-0.053698</td>\n",
       "      <td>17.037168</td>\n",
       "      <td>0.335159</td>\n",
       "    </tr>\n",
       "    <tr>\n",
       "      <th>6580222</th>\n",
       "      <td>401471</td>\n",
       "      <td>2017-12-30 23:50:00</td>\n",
       "      <td>4.0</td>\n",
       "      <td>206.0</td>\n",
       "      <td>60.7</td>\n",
       "      <td>12/30/2017</td>\n",
       "      <td>23:50</td>\n",
       "      <td>60.717985</td>\n",
       "      <td>183.435609</td>\n",
       "      <td>3.641550</td>\n",
       "      <td>-0.017985</td>\n",
       "      <td>22.564391</td>\n",
       "      <td>0.358450</td>\n",
       "    </tr>\n",
       "    <tr>\n",
       "      <th>6580223</th>\n",
       "      <td>401471</td>\n",
       "      <td>2017-12-30 23:55:00</td>\n",
       "      <td>4.0</td>\n",
       "      <td>210.0</td>\n",
       "      <td>60.8</td>\n",
       "      <td>12/30/2017</td>\n",
       "      <td>23:55</td>\n",
       "      <td>60.699406</td>\n",
       "      <td>189.562733</td>\n",
       "      <td>3.754580</td>\n",
       "      <td>0.100594</td>\n",
       "      <td>20.437267</td>\n",
       "      <td>0.245420</td>\n",
       "    </tr>\n",
       "  </tbody>\n",
       "</table>\n",
       "</div>"
      ],
      "text/plain": [
       "         Station ID             datetime  Occupancy   Flow  Speed        Date  \\\n",
       "6580221      401471  2017-12-30 23:45:00        3.9  198.0   60.7  12/30/2017   \n",
       "6580222      401471  2017-12-30 23:50:00        4.0  206.0   60.7  12/30/2017   \n",
       "6580223      401471  2017-12-30 23:55:00        4.0  210.0   60.8  12/30/2017   \n",
       "\n",
       "          Time  Pred Speed   Pred Flow  Pred Occupancy  Diff Speed  Diff Flow  \\\n",
       "6580221  23:45   60.753698  180.962832        3.564841   -0.053698  17.037168   \n",
       "6580222  23:50   60.717985  183.435609        3.641550   -0.017985  22.564391   \n",
       "6580223  23:55   60.699406  189.562733        3.754580    0.100594  20.437267   \n",
       "\n",
       "         Diff Occupancy  \n",
       "6580221        0.335159  \n",
       "6580222        0.358450  \n",
       "6580223        0.245420  "
      ]
     },
     "execution_count": 845,
     "metadata": {},
     "output_type": "execute_result"
    }
   ],
   "source": [
    "df_test.tail(3)"
   ]
  },
  {
   "cell_type": "code",
   "execution_count": 846,
   "metadata": {},
   "outputs": [],
   "source": [
    "df_test.to_csv(base_path + \"post_DES_data_test.csv\", index=False)"
   ]
  },
  {
   "cell_type": "markdown",
   "metadata": {},
   "source": [
    "### 2.1 Construct X, y"
   ]
  },
  {
   "cell_type": "code",
   "execution_count": 830,
   "metadata": {},
   "outputs": [],
   "source": [
    "feature_names = ['Speed', 'Flow', 'Occupancy', 'Pred Speed', 'Pred Flow', 'Pred Occupancy', 'Diff Speed', 'Diff Flow', 'Diff Occupancy']"
   ]
  },
  {
   "cell_type": "code",
   "execution_count": 833,
   "metadata": {},
   "outputs": [
    {
     "data": {
      "text/html": [
       "<div>\n",
       "<style scoped>\n",
       "    .dataframe tbody tr th:only-of-type {\n",
       "        vertical-align: middle;\n",
       "    }\n",
       "\n",
       "    .dataframe tbody tr th {\n",
       "        vertical-align: top;\n",
       "    }\n",
       "\n",
       "    .dataframe thead th {\n",
       "        text-align: right;\n",
       "    }\n",
       "</style>\n",
       "<table border=\"1\" class=\"dataframe\">\n",
       "  <thead>\n",
       "    <tr style=\"text-align: right;\">\n",
       "      <th></th>\n",
       "      <th>Upstream</th>\n",
       "      <th>Downstream</th>\n",
       "      <th>Date</th>\n",
       "      <th>Time</th>\n",
       "    </tr>\n",
       "  </thead>\n",
       "  <tbody>\n",
       "    <tr>\n",
       "      <th>0</th>\n",
       "      <td>408907</td>\n",
       "      <td>400951</td>\n",
       "      <td>01/22/2017</td>\n",
       "      <td>20:30</td>\n",
       "    </tr>\n",
       "    <tr>\n",
       "      <th>1</th>\n",
       "      <td>408907</td>\n",
       "      <td>400951</td>\n",
       "      <td>01/22/2017</td>\n",
       "      <td>20:35</td>\n",
       "    </tr>\n",
       "    <tr>\n",
       "      <th>2</th>\n",
       "      <td>408907</td>\n",
       "      <td>400951</td>\n",
       "      <td>01/22/2017</td>\n",
       "      <td>20:40</td>\n",
       "    </tr>\n",
       "  </tbody>\n",
       "</table>\n",
       "</div>"
      ],
      "text/plain": [
       "   Upstream  Downstream        Date   Time\n",
       "0    408907      400951  01/22/2017  20:30\n",
       "1    408907      400951  01/22/2017  20:35\n",
       "2    408907      400951  01/22/2017  20:40"
      ]
     },
     "execution_count": 833,
     "metadata": {},
     "output_type": "execute_result"
    }
   ],
   "source": [
    "svm_pos_instances.head(3)"
   ]
  },
  {
   "cell_type": "code",
   "execution_count": 839,
   "metadata": {},
   "outputs": [
    {
     "data": {
      "text/plain": [
       "['01:10', '01:15', '01:20']"
      ]
     },
     "execution_count": 839,
     "metadata": {},
     "output_type": "execute_result"
    }
   ],
   "source": [
    "neg_times[0:3]"
   ]
  },
  {
   "cell_type": "code",
   "execution_count": 840,
   "metadata": {},
   "outputs": [],
   "source": [
    "df_incidents_test = svm_pos_instances.loc[(svm_pos_instances[\"Date\"].isin(dates_test_str)) & (svm_pos_instances[\"Time\"].isin(neg_times))]"
   ]
  },
  {
   "cell_type": "code",
   "execution_count": 841,
   "metadata": {},
   "outputs": [
    {
     "data": {
      "text/html": [
       "<div>\n",
       "<style scoped>\n",
       "    .dataframe tbody tr th:only-of-type {\n",
       "        vertical-align: middle;\n",
       "    }\n",
       "\n",
       "    .dataframe tbody tr th {\n",
       "        vertical-align: top;\n",
       "    }\n",
       "\n",
       "    .dataframe thead th {\n",
       "        text-align: right;\n",
       "    }\n",
       "</style>\n",
       "<table border=\"1\" class=\"dataframe\">\n",
       "  <thead>\n",
       "    <tr style=\"text-align: right;\">\n",
       "      <th></th>\n",
       "      <th>Upstream</th>\n",
       "      <th>Downstream</th>\n",
       "      <th>Date</th>\n",
       "      <th>Time</th>\n",
       "    </tr>\n",
       "  </thead>\n",
       "  <tbody>\n",
       "    <tr>\n",
       "      <th>83</th>\n",
       "      <td>408907</td>\n",
       "      <td>400951</td>\n",
       "      <td>05/20/2017</td>\n",
       "      <td>23:10</td>\n",
       "    </tr>\n",
       "    <tr>\n",
       "      <th>84</th>\n",
       "      <td>408907</td>\n",
       "      <td>400951</td>\n",
       "      <td>05/20/2017</td>\n",
       "      <td>23:15</td>\n",
       "    </tr>\n",
       "    <tr>\n",
       "      <th>85</th>\n",
       "      <td>408907</td>\n",
       "      <td>400951</td>\n",
       "      <td>06/07/2017</td>\n",
       "      <td>12:55</td>\n",
       "    </tr>\n",
       "    <tr>\n",
       "      <th>86</th>\n",
       "      <td>408907</td>\n",
       "      <td>400951</td>\n",
       "      <td>06/07/2017</td>\n",
       "      <td>13:00</td>\n",
       "    </tr>\n",
       "    <tr>\n",
       "      <th>87</th>\n",
       "      <td>408907</td>\n",
       "      <td>400951</td>\n",
       "      <td>06/07/2017</td>\n",
       "      <td>13:05</td>\n",
       "    </tr>\n",
       "  </tbody>\n",
       "</table>\n",
       "</div>"
      ],
      "text/plain": [
       "    Upstream  Downstream        Date   Time\n",
       "83    408907      400951  05/20/2017  23:10\n",
       "84    408907      400951  05/20/2017  23:15\n",
       "85    408907      400951  06/07/2017  12:55\n",
       "86    408907      400951  06/07/2017  13:00\n",
       "87    408907      400951  06/07/2017  13:05"
      ]
     },
     "execution_count": 841,
     "metadata": {},
     "output_type": "execute_result"
    }
   ],
   "source": [
    "df_incidents_test.head()"
   ]
  },
  {
   "cell_type": "code",
   "execution_count": 890,
   "metadata": {
    "scrolled": true
   },
   "outputs": [
    {
     "name": "stdout",
     "output_type": "stream",
     "text": [
      "Constructing feature vector for segment (408907, 400951) ...\n",
      "    Total number of instances: 38360\n",
      "    Progress: (13700/38360)\n",
      "    Progress: (27400/38360)\n",
      "... Finished construction for segment (408907, 400951).\n",
      "Constructing feature vector for segment (400951, 400057) ...\n",
      "    Total number of instances: 38360\n",
      "    Progress: (13700/38360)\n",
      "    Progress: (27400/38360)\n",
      "... Finished construction for segment (400951, 400057).\n",
      "Constructing feature vector for segment (400057, 400147) ...\n",
      "    Total number of instances: 38360\n",
      "    Progress: (13700/38360)\n",
      "    Progress: (27400/38360)\n",
      "... Finished construction for segment (400057, 400147).\n",
      "Constructing feature vector for segment (400147, 400343) ...\n",
      "    Total number of instances: 38360\n",
      "    Progress: (13700/38360)\n",
      "    Progress: (27400/38360)\n",
      "... Finished construction for segment (400147, 400343).\n",
      "Constructing feature vector for segment (400343, 401560) ...\n",
      "    Total number of instances: 38360\n",
      "    Progress: (13700/38360)\n",
      "    Progress: (27400/38360)\n",
      "... Finished construction for segment (400343, 401560).\n",
      "Constructing feature vector for segment (401560, 400045) ...\n",
      "    Total number of instances: 38360\n",
      "    Progress: (13700/38360)\n",
      "    Progress: (27400/38360)\n",
      "... Finished construction for segment (401560, 400045).\n",
      "Constructing feature vector for segment (400045, 400122) ...\n",
      "    Total number of instances: 38360\n",
      "    Progress: (13700/38360)\n",
      "    Progress: (27400/38360)\n",
      "... Finished construction for segment (400045, 400122).\n",
      "Constructing feature vector for segment (400122, 401541) ...\n",
      "    Total number of instances: 38360\n",
      "    Progress: (13700/38360)\n",
      "    Progress: (27400/38360)\n",
      "... Finished construction for segment (400122, 401541).\n",
      "Constructing feature vector for segment (401541, 402281) ...\n",
      "    Total number of instances: 38360\n",
      "    Progress: (13700/38360)\n",
      "    Progress: (27400/38360)\n",
      "... Finished construction for segment (401541, 402281).\n",
      "Constructing feature vector for segment (402281, 402283) ...\n",
      "    Total number of instances: 38360\n",
      "    Progress: (13700/38360)\n",
      "    Progress: (27400/38360)\n",
      "... Finished construction for segment (402281, 402283).\n",
      "Constructing feature vector for segment (402283, 402285) ...\n",
      "    Total number of instances: 38360\n",
      "    Progress: (13700/38360)\n",
      "    Progress: (27400/38360)\n",
      "... Finished construction for segment (402283, 402285).\n",
      "Constructing feature vector for segment (402285, 402286) ...\n",
      "    Total number of instances: 38360\n",
      "    Progress: (13700/38360)\n",
      "    Progress: (27400/38360)\n",
      "... Finished construction for segment (402285, 402286).\n",
      "Constructing feature vector for segment (402286, 400088) ...\n",
      "    Total number of instances: 38360\n",
      "    Progress: (13700/38360)\n",
      "    Progress: (27400/38360)\n",
      "... Finished construction for segment (402286, 400088).\n",
      "Constructing feature vector for segment (400088, 402288) ...\n",
      "    Total number of instances: 38360\n",
      "    Progress: (13700/38360)\n",
      "    Progress: (27400/38360)\n",
      "... Finished construction for segment (400088, 402288).\n",
      "Constructing feature vector for segment (402288, 413026) ...\n",
      "    Total number of instances: 38360\n",
      "    Progress: (13700/38360)\n",
      "    Progress: (27400/38360)\n",
      "... Finished construction for segment (402288, 413026).\n",
      "Constructing feature vector for segment (413026, 401464) ...\n",
      "    Total number of instances: 38360\n",
      "    Progress: (13700/38360)\n",
      "    Progress: (27400/38360)\n",
      "... Finished construction for segment (413026, 401464).\n",
      "Constructing feature vector for segment (401464, 401489) ...\n",
      "    Total number of instances: 38360\n",
      "    Progress: (13700/38360)\n",
      "    Progress: (27400/38360)\n",
      "... Finished construction for segment (401464, 401489).\n",
      "Constructing feature vector for segment (401489, 401538) ...\n",
      "    Total number of instances: 38360\n",
      "    Progress: (13700/38360)\n",
      "    Progress: (27400/38360)\n",
      "... Finished construction for segment (401489, 401538).\n",
      "Constructing feature vector for segment (401538, 402290) ...\n",
      "    Total number of instances: 38360\n",
      "    Progress: (13700/38360)\n",
      "    Progress: (27400/38360)\n",
      "... Finished construction for segment (401538, 402290).\n",
      "Constructing feature vector for segment (402290, 402292) ...\n",
      "    Total number of instances: 38360\n",
      "    Progress: (13700/38360)\n",
      "    Progress: (27400/38360)\n",
      "... Finished construction for segment (402290, 402292).\n",
      "Constructing feature vector for segment (402292, 401643) ...\n",
      "    Total number of instances: 38360\n",
      "    Progress: (13700/38360)\n",
      "    Progress: (27400/38360)\n",
      "... Finished construction for segment (402292, 401643).\n",
      "Constructing feature vector for segment (401643, 402800) ...\n",
      "    Total number of instances: 38360\n",
      "    Progress: (13700/38360)\n",
      "    Progress: (27400/38360)\n",
      "... Finished construction for segment (401643, 402800).\n",
      "Constructing feature vector for segment (402800, 402828) ...\n",
      "    Total number of instances: 38360\n",
      "    Progress: (13700/38360)\n",
      "    Progress: (27400/38360)\n",
      "... Finished construction for segment (402800, 402828).\n",
      "Constructing feature vector for segment (402828, 407219) ...\n",
      "    Total number of instances: 38360\n",
      "    Progress: (13700/38360)\n",
      "    Progress: (27400/38360)\n",
      "... Finished construction for segment (402828, 407219).\n",
      "Constructing feature vector for segment (407219, 402789) ...\n",
      "    Total number of instances: 38360\n",
      "    Progress: (13700/38360)\n",
      "    Progress: (27400/38360)\n",
      "... Finished construction for segment (407219, 402789).\n",
      "Constructing feature vector for segment (402789, 408755) ...\n",
      "    Total number of instances: 38360\n",
      "    Progress: (13700/38360)\n",
      "    Progress: (27400/38360)\n",
      "... Finished construction for segment (402789, 408755).\n",
      "Constructing feature vector for segment (408755, 402802) ...\n",
      "    Total number of instances: 38360\n",
      "    Progress: (13700/38360)\n",
      "    Progress: (27400/38360)\n",
      "... Finished construction for segment (408755, 402802).\n",
      "Constructing feature vector for segment (402802, 408756) ...\n",
      "    Total number of instances: 38360\n",
      "    Progress: (13700/38360)\n",
      "    Progress: (27400/38360)\n",
      "... Finished construction for segment (402802, 408756).\n",
      "Constructing feature vector for segment (408756, 400189) ...\n",
      "    Total number of instances: 38360\n",
      "    Progress: (13700/38360)\n",
      "    Progress: (27400/38360)\n",
      "... Finished construction for segment (408756, 400189).\n",
      "Constructing feature vector for segment (400189, 400309) ...\n",
      "    Total number of instances: 38360\n",
      "    Progress: (13700/38360)\n",
      "    Progress: (27400/38360)\n",
      "... Finished construction for segment (400189, 400309).\n",
      "Constructing feature vector for segment (400309, 400417) ...\n",
      "    Total number of instances: 38360\n",
      "    Progress: (13700/38360)\n",
      "    Progress: (27400/38360)\n",
      "... Finished construction for segment (400309, 400417).\n",
      "Constructing feature vector for segment (400417, 400249) ...\n",
      "    Total number of instances: 38360\n",
      "    Progress: (13700/38360)\n",
      "    Progress: (27400/38360)\n",
      "... Finished construction for segment (400417, 400249).\n",
      "Constructing feature vector for segment (400249, 401639) ...\n",
      "    Total number of instances: 38360\n",
      "    Progress: (13700/38360)\n",
      "    Progress: (27400/38360)\n",
      "... Finished construction for segment (400249, 401639).\n",
      "Constructing feature vector for segment (401639, 400662) ...\n",
      "    Total number of instances: 38360\n",
      "    Progress: (13700/38360)\n",
      "    Progress: (27400/38360)\n",
      "... Finished construction for segment (401639, 400662).\n",
      "Constructing feature vector for segment (400662, 400141) ...\n",
      "    Total number of instances: 38360\n",
      "    Progress: (13700/38360)\n",
      "    Progress: (27400/38360)\n",
      "... Finished construction for segment (400662, 400141).\n",
      "Constructing feature vector for segment (400141, 400761) ...\n",
      "    Total number of instances: 38360\n",
      "    Progress: (13700/38360)\n",
      "    Progress: (27400/38360)\n",
      "... Finished construction for segment (400141, 400761).\n",
      "Constructing feature vector for segment (400761, 400490) ...\n",
      "    Total number of instances: 38360\n",
      "    Progress: (13700/38360)\n",
      "    Progress: (27400/38360)\n",
      "... Finished construction for segment (400761, 400490).\n",
      "Constructing feature vector for segment (400490, 401888) ...\n",
      "    Total number of instances: 38360\n",
      "    Progress: (13700/38360)\n",
      "    Progress: (27400/38360)\n",
      "... Finished construction for segment (400490, 401888).\n",
      "Constructing feature vector for segment (401888, 400137) ...\n",
      "    Total number of instances: 38360\n",
      "    Progress: (13700/38360)\n",
      "    Progress: (27400/38360)\n",
      "... Finished construction for segment (401888, 400137).\n",
      "Constructing feature vector for segment (400137, 400716) ...\n"
     ]
    },
    {
     "name": "stdout",
     "output_type": "stream",
     "text": [
      "    Total number of instances: 38360\n",
      "    Progress: (13700/38360)\n",
      "    Progress: (27400/38360)\n",
      "... Finished construction for segment (400137, 400716).\n",
      "Constructing feature vector for segment (400716, 401545) ...\n",
      "    Total number of instances: 38360\n",
      "    Progress: (13700/38360)\n",
      "    Progress: (27400/38360)\n",
      "... Finished construction for segment (400716, 401545).\n",
      "Constructing feature vector for segment (401545, 401011) ...\n",
      "    Total number of instances: 38360\n",
      "    Progress: (13700/38360)\n",
      "    Progress: (27400/38360)\n",
      "... Finished construction for segment (401545, 401011).\n",
      "Constructing feature vector for segment (401011, 400674) ...\n",
      "    Total number of instances: 38360\n",
      "    Progress: (13700/38360)\n",
      "    Progress: (27400/38360)\n",
      "... Finished construction for segment (401011, 400674).\n",
      "Constructing feature vector for segment (400674, 400539) ...\n",
      "    Total number of instances: 38360\n",
      "    Progress: (13700/38360)\n",
      "    Progress: (27400/38360)\n",
      "... Finished construction for segment (400674, 400539).\n",
      "Constructing feature vector for segment (400539, 400534) ...\n",
      "    Total number of instances: 38360\n",
      "    Progress: (13700/38360)\n",
      "    Progress: (27400/38360)\n",
      "... Finished construction for segment (400539, 400534).\n",
      "Constructing feature vector for segment (400534, 401062) ...\n",
      "    Total number of instances: 38360\n",
      "    Progress: (13700/38360)\n",
      "    Progress: (27400/38360)\n",
      "... Finished construction for segment (400534, 401062).\n",
      "Constructing feature vector for segment (401062, 401529) ...\n",
      "    Total number of instances: 38360\n",
      "    Progress: (13700/38360)\n",
      "    Progress: (27400/38360)\n",
      "... Finished construction for segment (401062, 401529).\n",
      "Constructing feature vector for segment (401529, 401613) ...\n",
      "    Total number of instances: 38360\n",
      "    Progress: (13700/38360)\n",
      "    Progress: (27400/38360)\n",
      "... Finished construction for segment (401529, 401613).\n",
      "Constructing feature vector for segment (401613, 400536) ...\n",
      "    Total number of instances: 38360\n",
      "    Progress: (13700/38360)\n",
      "    Progress: (27400/38360)\n",
      "... Finished construction for segment (401613, 400536).\n",
      "Constructing feature vector for segment (400536, 400488) ...\n",
      "    Total number of instances: 38360\n",
      "    Progress: (13700/38360)\n",
      "    Progress: (27400/38360)\n",
      "... Finished construction for segment (400536, 400488).\n",
      "Constructing feature vector for segment (400488, 401561) ...\n",
      "    Total number of instances: 38360\n",
      "    Progress: (13700/38360)\n",
      "    Progress: (27400/38360)\n",
      "... Finished construction for segment (400488, 401561).\n",
      "Constructing feature vector for segment (401561, 400611) ...\n",
      "    Total number of instances: 38360\n",
      "    Progress: (13700/38360)\n",
      "    Progress: (27400/38360)\n",
      "... Finished construction for segment (401561, 400611).\n",
      "Constructing feature vector for segment (400611, 400928) ...\n",
      "    Total number of instances: 38360\n",
      "    Progress: (13700/38360)\n",
      "    Progress: (27400/38360)\n",
      "... Finished construction for segment (400611, 400928).\n",
      "Constructing feature vector for segment (400928, 400284) ...\n",
      "    Total number of instances: 38360\n",
      "    Progress: (13700/38360)\n",
      "    Progress: (27400/38360)\n",
      "... Finished construction for segment (400928, 400284).\n",
      "Constructing feature vector for segment (400284, 400041) ...\n",
      "    Total number of instances: 38360\n",
      "    Progress: (13700/38360)\n",
      "    Progress: (27400/38360)\n",
      "... Finished construction for segment (400284, 400041).\n",
      "Constructing feature vector for segment (400041, 408133) ...\n",
      "    Total number of instances: 38360\n",
      "    Progress: (13700/38360)\n",
      "    Progress: (27400/38360)\n",
      "... Finished construction for segment (400041, 408133).\n",
      "Constructing feature vector for segment (408133, 408135) ...\n",
      "    Total number of instances: 38360\n",
      "    Progress: (13700/38360)\n",
      "    Progress: (27400/38360)\n",
      "... Finished construction for segment (408133, 408135).\n",
      "Constructing feature vector for segment (408135, 417665) ...\n",
      "    Total number of instances: 38360\n",
      "    Progress: (13700/38360)\n",
      "    Progress: (27400/38360)\n",
      "... Finished construction for segment (408135, 417665).\n",
      "Constructing feature vector for segment (417665, 412637) ...\n",
      "    Total number of instances: 38360\n",
      "    Progress: (13700/38360)\n",
      "    Progress: (27400/38360)\n",
      "... Finished construction for segment (417665, 412637).\n",
      "Constructing feature vector for segment (412637, 417666) ...\n",
      "    Total number of instances: 38360\n",
      "    Progress: (13700/38360)\n",
      "    Progress: (27400/38360)\n",
      "... Finished construction for segment (412637, 417666).\n",
      "Constructing feature vector for segment (417666, 408134) ...\n",
      "    Total number of instances: 38360\n",
      "    Progress: (13700/38360)\n",
      "    Progress: (27400/38360)\n",
      "... Finished construction for segment (417666, 408134).\n",
      "Constructing feature vector for segment (408134, 400685) ...\n",
      "    Total number of instances: 38360\n",
      "    Progress: (13700/38360)\n",
      "    Progress: (27400/38360)\n",
      "... Finished construction for segment (408134, 400685).\n",
      "Constructing feature vector for segment (400685, 401003) ...\n",
      "    Total number of instances: 38360\n",
      "    Progress: (13700/38360)\n",
      "    Progress: (27400/38360)\n",
      "... Finished construction for segment (400685, 401003).\n",
      "Constructing feature vector for segment (401003, 400898) ...\n",
      "    Total number of instances: 38360\n",
      "    Progress: (13700/38360)\n",
      "    Progress: (27400/38360)\n",
      "... Finished construction for segment (401003, 400898).\n",
      "Constructing feature vector for segment (400898, 400275) ...\n",
      "    Total number of instances: 38360\n",
      "    Progress: (13700/38360)\n",
      "    Progress: (27400/38360)\n",
      "... Finished construction for segment (400898, 400275).\n",
      "Constructing feature vector for segment (400275, 400939) ...\n",
      "    Total number of instances: 38360\n",
      "    Progress: (13700/38360)\n",
      "    Progress: (27400/38360)\n",
      "... Finished construction for segment (400275, 400939).\n",
      "Constructing feature vector for segment (400939, 400180) ...\n",
      "    Total number of instances: 38360\n",
      "    Progress: (13700/38360)\n",
      "    Progress: (27400/38360)\n",
      "... Finished construction for segment (400939, 400180).\n",
      "Constructing feature vector for segment (400180, 400529) ...\n",
      "    Total number of instances: 38360\n",
      "    Progress: (13700/38360)\n",
      "    Progress: (27400/38360)\n",
      "... Finished construction for segment (400180, 400529).\n",
      "Constructing feature vector for segment (400529, 400990) ...\n",
      "    Total number of instances: 38360\n",
      "    Progress: (13700/38360)\n",
      "    Progress: (27400/38360)\n",
      "... Finished construction for segment (400529, 400990).\n",
      "Constructing feature vector for segment (400990, 400515) ...\n",
      "    Total number of instances: 38360\n",
      "    Progress: (13700/38360)\n",
      "    Progress: (27400/38360)\n",
      "... Finished construction for segment (400990, 400515).\n",
      "Constructing feature vector for segment (400515, 400252) ...\n",
      "    Total number of instances: 38360\n",
      "    Progress: (13700/38360)\n",
      "    Progress: (27400/38360)\n",
      "... Finished construction for segment (400515, 400252).\n",
      "Constructing feature vector for segment (400252, 400788) ...\n",
      "    Total number of instances: 38360\n",
      "    Progress: (13700/38360)\n",
      "    Progress: (27400/38360)\n",
      "... Finished construction for segment (400252, 400788).\n",
      "Constructing feature vector for segment (400788, 401517) ...\n",
      "    Total number of instances: 38360\n",
      "    Progress: (13700/38360)\n",
      "    Progress: (27400/38360)\n",
      "... Finished construction for segment (400788, 401517).\n",
      "Constructing feature vector for segment (401517, 401871) ...\n",
      "    Total number of instances: 38360\n",
      "    Progress: (13700/38360)\n",
      "    Progress: (27400/38360)\n",
      "... Finished construction for segment (401517, 401871).\n",
      "Constructing feature vector for segment (401871, 400574) ...\n",
      "    Total number of instances: 38360\n",
      "    Progress: (13700/38360)\n",
      "    Progress: (27400/38360)\n",
      "... Finished construction for segment (401871, 400574).\n",
      "Constructing feature vector for segment (400574, 401629) ...\n",
      "    Total number of instances: 38360\n",
      "    Progress: (13700/38360)\n",
      "    Progress: (27400/38360)\n",
      "... Finished construction for segment (400574, 401629).\n",
      "Constructing feature vector for segment (401629, 400422) ...\n",
      "    Total number of instances: 38360\n",
      "    Progress: (13700/38360)\n",
      "    Progress: (27400/38360)\n",
      "... Finished construction for segment (401629, 400422).\n",
      "Constructing feature vector for segment (400422, 400333) ...\n",
      "    Total number of instances: 38360\n",
      "    Progress: (13700/38360)\n",
      "    Progress: (27400/38360)\n",
      "... Finished construction for segment (400422, 400333).\n",
      "Constructing feature vector for segment (400333, 410363) ...\n",
      "    Total number of instances: 38360\n"
     ]
    },
    {
     "name": "stdout",
     "output_type": "stream",
     "text": [
      "    Progress: (13700/38360)\n",
      "    Progress: (27400/38360)\n",
      "... Finished construction for segment (400333, 410363).\n",
      "Constructing feature vector for segment (410363, 400360) ...\n",
      "    Total number of instances: 38360\n",
      "    Progress: (13700/38360)\n",
      "    Progress: (27400/38360)\n",
      "... Finished construction for segment (410363, 400360).\n",
      "Constructing feature vector for segment (400360, 400955) ...\n",
      "    Total number of instances: 38360\n",
      "    Progress: (13700/38360)\n",
      "    Progress: (27400/38360)\n",
      "... Finished construction for segment (400360, 400955).\n",
      "Constructing feature vector for segment (400955, 400495) ...\n",
      "    Total number of instances: 38360\n",
      "    Progress: (13700/38360)\n",
      "    Progress: (27400/38360)\n",
      "... Finished construction for segment (400955, 400495).\n",
      "Constructing feature vector for segment (400495, 400608) ...\n",
      "    Total number of instances: 38360\n",
      "    Progress: (13700/38360)\n",
      "    Progress: (27400/38360)\n",
      "... Finished construction for segment (400495, 400608).\n",
      "Constructing feature vector for segment (400608, 400949) ...\n",
      "    Total number of instances: 38360\n",
      "    Progress: (13700/38360)\n",
      "    Progress: (27400/38360)\n",
      "... Finished construction for segment (400608, 400949).\n",
      "Constructing feature vector for segment (400949, 400678) ...\n",
      "    Total number of instances: 38360\n",
      "    Progress: (13700/38360)\n",
      "    Progress: (27400/38360)\n",
      "... Finished construction for segment (400949, 400678).\n",
      "Constructing feature vector for segment (400678, 400341) ...\n",
      "    Total number of instances: 38360\n",
      "    Progress: (13700/38360)\n",
      "    Progress: (27400/38360)\n",
      "... Finished construction for segment (400678, 400341).\n",
      "Constructing feature vector for segment (400341, 400607) ...\n",
      "    Total number of instances: 38360\n",
      "    Progress: (13700/38360)\n",
      "    Progress: (27400/38360)\n",
      "... Finished construction for segment (400341, 400607).\n",
      "Constructing feature vector for segment (400607, 400094) ...\n",
      "    Total number of instances: 38360\n",
      "    Progress: (13700/38360)\n",
      "    Progress: (27400/38360)\n",
      "... Finished construction for segment (400607, 400094).\n",
      "Constructing feature vector for segment (400094, 400682) ...\n",
      "    Total number of instances: 38360\n",
      "    Progress: (13700/38360)\n",
      "    Progress: (27400/38360)\n",
      "... Finished construction for segment (400094, 400682).\n",
      "Constructing feature vector for segment (400682, 408138) ...\n",
      "    Total number of instances: 38360\n",
      "    Progress: (13700/38360)\n",
      "    Progress: (27400/38360)\n",
      "... Finished construction for segment (400682, 408138).\n",
      "Constructing feature vector for segment (408138, 400980) ...\n",
      "    Total number of instances: 38360\n",
      "    Progress: (13700/38360)\n",
      "    Progress: (27400/38360)\n",
      "... Finished construction for segment (408138, 400980).\n",
      "Constructing feature vector for segment (400980, 401333) ...\n",
      "    Total number of instances: 38360\n",
      "    Progress: (13700/38360)\n",
      "    Progress: (27400/38360)\n",
      "... Finished construction for segment (400980, 401333).\n",
      "Constructing feature vector for segment (401333, 404746) ...\n",
      "    Total number of instances: 38360\n",
      "    Progress: (13700/38360)\n",
      "    Progress: (27400/38360)\n",
      "... Finished construction for segment (401333, 404746).\n",
      "Constructing feature vector for segment (404746, 401142) ...\n",
      "    Total number of instances: 38360\n",
      "    Progress: (13700/38360)\n",
      "    Progress: (27400/38360)\n",
      "... Finished construction for segment (404746, 401142).\n",
      "Constructing feature vector for segment (401142, 400218) ...\n",
      "    Total number of instances: 38360\n",
      "    Progress: (13700/38360)\n",
      "    Progress: (27400/38360)\n",
      "... Finished construction for segment (401142, 400218).\n",
      "Constructing feature vector for segment (400218, 400983) ...\n",
      "    Total number of instances: 38360\n",
      "    Progress: (13700/38360)\n",
      "    Progress: (27400/38360)\n",
      "... Finished construction for segment (400218, 400983).\n",
      "Constructing feature vector for segment (400983, 400765) ...\n",
      "    Total number of instances: 38360\n",
      "    Progress: (13700/38360)\n",
      "    Progress: (27400/38360)\n",
      "... Finished construction for segment (400983, 400765).\n",
      "Constructing feature vector for segment (400765, 400844) ...\n",
      "    Total number of instances: 38360\n",
      "    Progress: (13700/38360)\n",
      "    Progress: (27400/38360)\n",
      "... Finished construction for segment (400765, 400844).\n",
      "Constructing feature vector for segment (400844, 400923) ...\n",
      "    Total number of instances: 38360\n",
      "    Progress: (13700/38360)\n",
      "    Progress: (27400/38360)\n",
      "... Finished construction for segment (400844, 400923).\n",
      "Constructing feature vector for segment (400923, 401143) ...\n",
      "    Total number of instances: 38360\n",
      "    Progress: (13700/38360)\n",
      "    Progress: (27400/38360)\n",
      "... Finished construction for segment (400923, 401143).\n",
      "Constructing feature vector for segment (401143, 401471) ...\n",
      "    Total number of instances: 38360\n",
      "    Progress: (13700/38360)\n",
      "    Progress: (27400/38360)\n",
      "... Finished construction for segment (401143, 401471).\n"
     ]
    }
   ],
   "source": [
    "X_test = []\n",
    "y_test = []\n",
    "for seg_idx, seg in enumerate(road_segments):\n",
    "    print(\"[\" + str(seg_idx) + \"] \" + \"Constructing feature vector for segment \" + str(seg) + \" ...\")\n",
    "    B, E = seg\n",
    "    df_BE_test = df_test.loc[((df_test[\"Station ID\"] == B) | (df_test[\"Station ID\"] == E))]\n",
    "    df_incidents_BE_test = df_incidents_test.loc[df_incidents_test[\"Upstream\"] == B]\n",
    "    incidents_BE_date = df_incidents_BE_test[\"Date\"].values\n",
    "    incidents_BE_time = df_incidents_BE_test[\"Time\"].values\n",
    "    \n",
    "    incidents_BE_dt = set()\n",
    "    for i in range(len(df_incidents_BE_test.index)):\n",
    "        incidents_BE_dt.add(incidents_BE_date[i] + ' ' + incidents_BE_time[i])\n",
    "    \n",
    "    # change to access by indices, to make program faster\n",
    "    features_BE_dict = dict()\n",
    "    features_BE_dict[B] = dict()\n",
    "    features_BE_dict[E] = dict()\n",
    "    for feature_name in feature_names:\n",
    "        features_BE_dict[B][feature_name] = df_BE_test.loc[df_BE_test[\"Station ID\"] == B][feature_name].values.tolist()\n",
    "        features_BE_dict[E][feature_name] = df_BE_test.loc[df_BE_test[\"Station ID\"] == E][feature_name].values.tolist()\n",
    "    \n",
    "    total_count = len(dates_test_str) * len(neg_times)\n",
    "    count = 0\n",
    "    print(\"    Total number of instances: \" + str(total_count)) \n",
    "    \n",
    "    for i, d in enumerate(dates_test_str):\n",
    "        for j, t in enumerate(neg_times):\n",
    "            # construct vector Z(s_BE, dt)\n",
    "            feature_BE_t = [0.] * 72\n",
    "            base_idx = i * 288 + 14 + j\n",
    "            for k, feature_name in enumerate(feature_names):\n",
    "                # feature_k_B_t: [t-4, t-3, ..., t] -> need to be reversed and made consistent with order of SVM features. Same to E.\n",
    "                feature_k_B_t = features_BE_dict[B][feature_name][base_idx-4:base_idx+1]\n",
    "                feature_k_E_t = features_BE_dict[E][feature_name][base_idx-2:base_idx+1]\n",
    "                #feature_k_B_t = feature_k_B[base_idx-4:base_idx+1]\n",
    "                #feature_k_E_t = feature_k_E[base_idx-4:base_idx+1]\n",
    "                feature_k_B_t.reverse()\n",
    "                feature_k_E_t.reverse()\n",
    "                feature_k_BE_t = feature_k_B_t + feature_k_E_t\n",
    "                feature_BE_t[k:72:9] = feature_k_BE_t\n",
    "            X_test.append(feature_BE_t)\n",
    "            # label data\n",
    "            if d + ' ' + t in incidents_BE_dt:\n",
    "                y_test.append(1)\n",
    "            else:\n",
    "                y_test.append(-1)\n",
    "        count += 1\n",
    "        if count % 50 == 0:\n",
    "            print(\"    Progress: \" + progress_seg(count * len(neg_times), total_count))\n",
    "    print(\"... Finished construction for segment \" + str(seg) + \".\")"
   ]
  },
  {
   "cell_type": "code",
   "execution_count": 905,
   "metadata": {},
   "outputs": [],
   "source": [
    "X_test = np.array(X_test)"
   ]
  },
  {
   "cell_type": "code",
   "execution_count": 907,
   "metadata": {},
   "outputs": [],
   "source": [
    "y_test = np.array(y_test)"
   ]
  },
  {
   "cell_type": "code",
   "execution_count": 892,
   "metadata": {},
   "outputs": [
    {
     "name": "stdout",
     "output_type": "stream",
     "text": [
      "[64.5, 63.0, 1.5, 64.6, 65.2, 1.4, -0.1, -2.2, 0.1]\n",
      "[64.6, 57.0, 1.4, 64.6, 68.5, 1.4, 0.0, -11.5, 0.0]\n",
      "[64.6, 59.0, 1.4, 64.7, 70.9, 1.4, -0.1, -11.9, 0.0]\n",
      "[64.7, 59.0, 1.4, 64.5, 73.9, 1.4, 0.2, -14.9, -0.0]\n",
      "[64.6, 66.0, 1.4, 64.7, 70.5, 1.4, -0.1, -4.5, -0.0]\n",
      "[65.3, 62.0, 1.3, 66.6, 58.6, 1.2, -1.3, 3.4, 0.1]\n",
      "[65.7, 53.0, 1.2, 64.3, 59.1, 1.1, 1.4, -6.1, 0.1]\n",
      "[64.3, 51.0, 1.1, 63.7, 61.3, 1.1, 0.6, -10.3, 0.0]\n"
     ]
    }
   ],
   "source": [
    "print_random_feature_vector(X_test)"
   ]
  },
  {
   "cell_type": "code",
   "execution_count": 893,
   "metadata": {},
   "outputs": [
    {
     "data": {
      "text/plain": [
       "-3839160"
      ]
     },
     "execution_count": 893,
     "metadata": {},
     "output_type": "execute_result"
    }
   ],
   "source": [
    "sum(y_test)"
   ]
  },
  {
   "cell_type": "code",
   "execution_count": 922,
   "metadata": {},
   "outputs": [],
   "source": [
    "df_svm_X_test = pd.DataFrame(X_test)\n",
    "df_svm_X_test['Class'] = y_test\n",
    "df_svm_X_test.to_csv(base_path + \"svm_X_test.csv\")"
   ]
  },
  {
   "cell_type": "code",
   "execution_count": 918,
   "metadata": {},
   "outputs": [],
   "source": [
    "# pick approximately 10000 instances for testing\n",
    "num_instances_test = len(y_test)\n",
    "prob_true_test = 1. * 10000 / num_instances_test\n",
    "mask_test = np.random.choice([True, False], size=num_instances_test, p=[prob_true_test, 1. - prob_true_test])"
   ]
  },
  {
   "cell_type": "code",
   "execution_count": 919,
   "metadata": {},
   "outputs": [],
   "source": [
    "reduced_X_test = X_test[mask_test]\n",
    "reduced_y_test = y_test[mask_test]"
   ]
  },
  {
   "cell_type": "code",
   "execution_count": 920,
   "metadata": {
    "scrolled": true
   },
   "outputs": [
    {
     "data": {
      "text/plain": [
       "10129"
      ]
     },
     "execution_count": 920,
     "metadata": {},
     "output_type": "execute_result"
    }
   ],
   "source": [
    "len(reduced_y_test)"
   ]
  },
  {
   "cell_type": "code",
   "execution_count": 921,
   "metadata": {},
   "outputs": [
    {
     "data": {
      "text/plain": [
       "47"
      ]
     },
     "execution_count": 921,
     "metadata": {},
     "output_type": "execute_result"
    }
   ],
   "source": [
    "len(reduced_y_test[reduced_y_test == 1])"
   ]
  },
  {
   "cell_type": "code",
   "execution_count": 917,
   "metadata": {},
   "outputs": [
    {
     "data": {
      "text/plain": [
       "17600"
      ]
     },
     "execution_count": 917,
     "metadata": {},
     "output_type": "execute_result"
    }
   ],
   "source": [
    "len(y_test[y_test == 1])"
   ]
  },
  {
   "cell_type": "code",
   "execution_count": 923,
   "metadata": {},
   "outputs": [],
   "source": [
    "df_svm_X_test = df_svm_X_test.drop('Class', axis=1)"
   ]
  },
  {
   "cell_type": "code",
   "execution_count": 1048,
   "metadata": {},
   "outputs": [],
   "source": [
    "y_pred_test = svm_clf.predict(X_all_test_scaled)"
   ]
  },
  {
   "cell_type": "code",
   "execution_count": 1052,
   "metadata": {},
   "outputs": [
    {
     "data": {
      "text/plain": [
       "(3874360, 17600)"
      ]
     },
     "execution_count": 1052,
     "metadata": {},
     "output_type": "execute_result"
    }
   ],
   "source": [
    "len(y_test), len(y_test[y_test == 1])"
   ]
  },
  {
   "cell_type": "code",
   "execution_count": 1049,
   "metadata": {},
   "outputs": [
    {
     "data": {
      "text/plain": [
       "(3874360, 23935)"
      ]
     },
     "execution_count": 1049,
     "metadata": {},
     "output_type": "execute_result"
    }
   ],
   "source": [
    "len(y_pred_test), len(y_pred_test[y_pred_test == 1])"
   ]
  },
  {
   "cell_type": "code",
   "execution_count": 1050,
   "metadata": {
    "scrolled": true
   },
   "outputs": [
    {
     "data": {
      "text/plain": [
       "0.9896749398610352"
      ]
     },
     "execution_count": 1050,
     "metadata": {},
     "output_type": "execute_result"
    }
   ],
   "source": [
    "accuracy_score(y_test, y_pred_test)"
   ]
  },
  {
   "cell_type": "code",
   "execution_count": 1051,
   "metadata": {},
   "outputs": [
    {
     "data": {
      "text/plain": [
       "14140.0"
      ]
     },
     "execution_count": 1051,
     "metadata": {},
     "output_type": "execute_result"
    }
   ],
   "source": [
    "len(y_pred_test) / (288-14)"
   ]
  },
  {
   "cell_type": "markdown",
   "metadata": {},
   "source": [
    "# Evaluation Metrics"
   ]
  },
  {
   "cell_type": "code",
   "execution_count": 1085,
   "metadata": {},
   "outputs": [],
   "source": [
    "PT_threshold = 8"
   ]
  },
  {
   "cell_type": "markdown",
   "metadata": {},
   "source": [
    "## Detection rate (DR)"
   ]
  },
  {
   "cell_type": "markdown",
   "metadata": {},
   "source": [
    "$$ DR = \\frac{\\#\\ of\\ detected\\ incidents}{Total\\ \\#\\ of\\ incidents} \\times 100\\%$$"
   ]
  },
  {
   "cell_type": "code",
   "execution_count": 1086,
   "metadata": {},
   "outputs": [
    {
     "name": "stdout",
     "output_type": "stream",
     "text": [
      "PT_8\n",
      "# of detected incidents: 108\n",
      "Total # of incidents: 645\n",
      "Detection rate: 16.74\n"
     ]
    }
   ],
   "source": [
    "num_detected_incidents = 0\n",
    "total_num_incidents = 0\n",
    "for i in range(14140):\n",
    "    base_idx = i * 274\n",
    "    max_base_offset = base_idx + 274\n",
    "    start_idx = base_idx\n",
    "    end_idx = start_idx\n",
    "    while start_idx < max_base_offset:\n",
    "        while start_idx < max_base_offset and y_test[start_idx] == -1:\n",
    "            start_idx += 1\n",
    "        if start_idx == max_base_offset:\n",
    "            break\n",
    "        # an incident happens\n",
    "        # time span of the incident\n",
    "        end_idx = start_idx\n",
    "        while end_idx < max_base_offset and y_test[end_idx] == 1:\n",
    "            end_idx += 1\n",
    "        if end_idx - start_idx > PT_threshold:\n",
    "            total_num_incidents += 1\n",
    "            # the incident is detected\n",
    "            if 1 in y_pred_test[start_idx:end_idx]:\n",
    "                num_detected_incidents += 1\n",
    "        \n",
    "        start_idx = end_idx + 1\n",
    "print(\"PT_\" + str(PT_threshold))        \n",
    "print(\"# of detected incidents: \" + str(num_detected_incidents))\n",
    "print(\"Total # of incidents: \" + str(total_num_incidents))\n",
    "print(\"Detection rate: \" + str(round(num_detected_incidents / total_num_incidents * 100, 2)))"
   ]
  },
  {
   "cell_type": "markdown",
   "metadata": {},
   "source": [
    "## Mean time to detect (MTTD)"
   ]
  },
  {
   "cell_type": "markdown",
   "metadata": {},
   "source": [
    "$$ MTTD = \\frac{1}{h}\\sum_{i=1}^h (T_{detection} - T_{incident}) $$"
   ]
  },
  {
   "cell_type": "code",
   "execution_count": 1087,
   "metadata": {},
   "outputs": [
    {
     "name": "stdout",
     "output_type": "stream",
     "text": [
      "Total number of detected incidents: 108\n",
      "Total time of detection lags (min): 3075\n",
      "Mean time to detect (MTTD): 28.47\n"
     ]
    }
   ],
   "source": [
    "h = 0\n",
    "sum_ttd = 0\n",
    "for i in range(14140):\n",
    "    base_idx = i * 274\n",
    "    max_base_offset = base_idx + 274\n",
    "    start_idx = base_idx\n",
    "    end_idx = start_idx\n",
    "    while start_idx < max_base_offset:\n",
    "        while start_idx < max_base_offset and y_test[start_idx] == -1:\n",
    "            start_idx += 1\n",
    "        if start_idx == max_base_offset:\n",
    "            break\n",
    "        # an incident happens\n",
    "        # time span of the incident\n",
    "        end_idx = start_idx\n",
    "        while end_idx < max_base_offset and y_test[end_idx] == 1:\n",
    "            end_idx += 1\n",
    "        \n",
    "        if end_idx - start_idx > PT_threshold:\n",
    "            # the incident is detected\n",
    "            if 1 in y_pred_test[start_idx:end_idx]:\n",
    "                h += 1\n",
    "                incident_idx = start_idx\n",
    "                detection_idx = incident_idx\n",
    "                while y_pred_test[detection_idx] == -1:\n",
    "                    detection_idx += 1\n",
    "                sum_ttd += (detection_idx - incident_idx) * 5\n",
    "        \n",
    "        start_idx = end_idx + 1\n",
    "\n",
    "print(\"Total number of detected incidents: \" + str(h))\n",
    "print(\"Total time of detection lags (min): \" + str(sum_ttd))\n",
    "print(\"Mean time to detect (MTTD): \" + str(round(sum_ttd / h, 2)))"
   ]
  },
  {
   "cell_type": "markdown",
   "metadata": {},
   "source": [
    "## False alarm rate (FAR)"
   ]
  },
  {
   "cell_type": "markdown",
   "metadata": {},
   "source": [
    "$$ FAR = \\frac{Falsely\\ identified\\ consecutive\\ time\\ periods}{Total\\ \\#\\ of\\ detection\\ time\\ periods} \\times 100\\% $$"
   ]
  },
  {
   "cell_type": "code",
   "execution_count": 1088,
   "metadata": {},
   "outputs": [
    {
     "name": "stdout",
     "output_type": "stream",
     "text": [
      "PT_8\n",
      "Falsely identified consecutive time periods: 451\n",
      "Total # of detection time periods: 478\n",
      "False alarm rate (FAR): 94.35\n"
     ]
    }
   ],
   "source": [
    "falsely_identified_consecutive_periods = 0\n",
    "total_num_detection_periods = 0\n",
    "for i in range(14140):\n",
    "    base_idx = i * 274\n",
    "    max_base_offset = base_idx + 274\n",
    "    start_idx = base_idx\n",
    "    end_idx = start_idx\n",
    "    while start_idx < max_base_offset:\n",
    "        while start_idx < max_base_offset and y_pred_test[start_idx] == -1:\n",
    "            start_idx += 1\n",
    "        if start_idx == max_base_offset:\n",
    "            break\n",
    "        \n",
    "        # an \"incident\" is detected\n",
    "        # time span of the \"incident\"\n",
    "        end_idx = start_idx\n",
    "        while end_idx < max_base_offset and y_pred_test[end_idx] == 1:\n",
    "            end_idx += 1\n",
    "        \n",
    "        if end_idx - start_idx > PT_threshold:\n",
    "            total_num_detection_periods += 1\n",
    "            # is there a real incident in this time period?\n",
    "            if 1 not in y_test[start_idx:end_idx]:\n",
    "                falsely_identified_consecutive_periods += 1\n",
    "        \n",
    "        start_idx = end_idx + 1\n",
    "        \n",
    "print(\"PT_\" + str(PT_threshold))\n",
    "print(\"Falsely identified consecutive time periods: \" + str(falsely_identified_consecutive_periods))\n",
    "print(\"Total # of detection time periods: \" + str(total_num_detection_periods))\n",
    "print(\"False alarm rate (FAR): \" + str(round(falsely_identified_consecutive_periods / total_num_detection_periods * 100, 2)))"
   ]
  }
 ],
 "metadata": {
  "kernelspec": {
   "display_name": "Python 3",
   "language": "python",
   "name": "python3"
  },
  "language_info": {
   "codemirror_mode": {
    "name": "ipython",
    "version": 3
   },
   "file_extension": ".py",
   "mimetype": "text/x-python",
   "name": "python",
   "nbconvert_exporter": "python",
   "pygments_lexer": "ipython3",
   "version": "3.6.5"
  }
 },
 "nbformat": 4,
 "nbformat_minor": 2
}
