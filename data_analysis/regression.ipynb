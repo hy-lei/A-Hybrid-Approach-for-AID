{
 "cells": [
  {
   "cell_type": "markdown",
   "metadata": {},
   "source": [
    "# Linear Regression"
   ]
  },
  {
   "cell_type": "markdown",
   "metadata": {},
   "source": [
    "This section seeks to explore the linear relationships and statistical significance between different traffic variables."
   ]
  },
  {
   "cell_type": "markdown",
   "metadata": {},
   "source": [
    "## Speed ~ Weekday, Flow, Occupancy"
   ]
  },
  {
   "cell_type": "markdown",
   "metadata": {},
   "source": [
    "$$\n",
    "    speed_t = \\beta_0 + \\delta_1 \\cdot weekday + \\beta_1 \\cdot flow_t + \\beta_2 \\cdot occ_t + u_t,\n",
    "$$\n",
    "where $weekday$ is a dummy variable indicating whether there it is a weekday, and the variables are control variables."
   ]
  },
  {
   "cell_type": "markdown",
   "metadata": {},
   "source": [
    "Check one station, at one time first."
   ]
  },
  {
   "cell_type": "markdown",
   "metadata": {},
   "source": [
    "### Data Preparation"
   ]
  },
  {
   "cell_type": "code",
   "execution_count": 3,
   "metadata": {},
   "outputs": [],
   "source": [
    "import pandas as pd\n",
    "import numpy as np"
   ]
  },
  {
   "cell_type": "code",
   "execution_count": 4,
   "metadata": {},
   "outputs": [],
   "source": [
    "data = pd.read_csv(\"../data/I88N-processed/concat/concat.csv\")"
   ]
  },
  {
   "cell_type": "code",
   "execution_count": 5,
   "metadata": {
    "scrolled": true
   },
   "outputs": [
    {
     "data": {
      "text/html": [
       "<div>\n",
       "<style scoped>\n",
       "    .dataframe tbody tr th:only-of-type {\n",
       "        vertical-align: middle;\n",
       "    }\n",
       "\n",
       "    .dataframe tbody tr th {\n",
       "        vertical-align: top;\n",
       "    }\n",
       "\n",
       "    .dataframe thead th {\n",
       "        text-align: right;\n",
       "    }\n",
       "</style>\n",
       "<table border=\"1\" class=\"dataframe\">\n",
       "  <thead>\n",
       "    <tr style=\"text-align: right;\">\n",
       "      <th></th>\n",
       "      <th>Unnamed: 0</th>\n",
       "      <th>Station ID</th>\n",
       "      <th>datetime</th>\n",
       "      <th>Occupancy</th>\n",
       "      <th>Flow</th>\n",
       "      <th>Speed</th>\n",
       "      <th>Date</th>\n",
       "      <th>Time</th>\n",
       "      <th>idx</th>\n",
       "    </tr>\n",
       "  </thead>\n",
       "  <tbody>\n",
       "    <tr>\n",
       "      <th>0</th>\n",
       "      <td>0</td>\n",
       "      <td>408907</td>\n",
       "      <td>2017-01-01 00:00:00</td>\n",
       "      <td>2.1</td>\n",
       "      <td>95.0</td>\n",
       "      <td>68.8</td>\n",
       "      <td>2017-01-01</td>\n",
       "      <td>00:00:00</td>\n",
       "      <td>0</td>\n",
       "    </tr>\n",
       "    <tr>\n",
       "      <th>1</th>\n",
       "      <td>1</td>\n",
       "      <td>408907</td>\n",
       "      <td>2017-01-01 00:05:00</td>\n",
       "      <td>2.0</td>\n",
       "      <td>91.0</td>\n",
       "      <td>68.4</td>\n",
       "      <td>2017-01-01</td>\n",
       "      <td>00:05:00</td>\n",
       "      <td>1</td>\n",
       "    </tr>\n",
       "    <tr>\n",
       "      <th>2</th>\n",
       "      <td>2</td>\n",
       "      <td>408907</td>\n",
       "      <td>2017-01-01 00:10:00</td>\n",
       "      <td>2.0</td>\n",
       "      <td>91.0</td>\n",
       "      <td>68.4</td>\n",
       "      <td>2017-01-01</td>\n",
       "      <td>00:10:00</td>\n",
       "      <td>2</td>\n",
       "    </tr>\n",
       "  </tbody>\n",
       "</table>\n",
       "</div>"
      ],
      "text/plain": [
       "   Unnamed: 0  Station ID             datetime  Occupancy  Flow  Speed  \\\n",
       "0           0      408907  2017-01-01 00:00:00        2.1  95.0   68.8   \n",
       "1           1      408907  2017-01-01 00:05:00        2.0  91.0   68.4   \n",
       "2           2      408907  2017-01-01 00:10:00        2.0  91.0   68.4   \n",
       "\n",
       "         Date      Time  idx  \n",
       "0  2017-01-01  00:00:00    0  \n",
       "1  2017-01-01  00:05:00    1  \n",
       "2  2017-01-01  00:10:00    2  "
      ]
     },
     "execution_count": 5,
     "metadata": {},
     "output_type": "execute_result"
    }
   ],
   "source": [
    "data.head(3)"
   ]
  },
  {
   "cell_type": "code",
   "execution_count": 81,
   "metadata": {},
   "outputs": [],
   "source": [
    "station_ids = data['Station ID'].unique().tolist()"
   ]
  },
  {
   "cell_type": "code",
   "execution_count": 82,
   "metadata": {},
   "outputs": [],
   "source": [
    "station_id = station_ids[np.random.choice(101)]\n",
    "sample_data = data.loc[data['Station ID'] == station_id]\n",
    "sample_data = sample_data.loc[(sample_data['Time'] == '08:30:00') | (sample_data['Time'] == '08:30')]"
   ]
  },
  {
   "cell_type": "markdown",
   "metadata": {},
   "source": [
    "Construct the response variable and explanatory variables."
   ]
  },
  {
   "cell_type": "code",
   "execution_count": 83,
   "metadata": {},
   "outputs": [],
   "source": [
    "speed = sample_data['Speed'].values.tolist()\n",
    "flow = sample_data['Flow'].values.tolist()\n",
    "occ = sample_data['Occupancy'].values.tolist()"
   ]
  },
  {
   "cell_type": "markdown",
   "metadata": {},
   "source": [
    "Label weekday and weekend."
   ]
  },
  {
   "cell_type": "code",
   "execution_count": 84,
   "metadata": {},
   "outputs": [],
   "source": [
    "dates = sample_data['Date'].values.tolist()"
   ]
  },
  {
   "cell_type": "code",
   "execution_count": 85,
   "metadata": {},
   "outputs": [],
   "source": [
    "import datetime as dt"
   ]
  },
  {
   "cell_type": "code",
   "execution_count": 86,
   "metadata": {},
   "outputs": [],
   "source": [
    "def date_to_day(date):\n",
    "    # date: a date string in the format of \"yyyy-mm-dd\"\n",
    "    # return: an int w/t Monday being 0 and Sunday being 6.\n",
    "    if date.find('-') != -1:\n",
    "        y, m, d = date.split('-')\n",
    "    else:\n",
    "        m, d, y = date.split('/')\n",
    "    return dt.datetime(int(y), int(m), int(d)).weekday()"
   ]
  },
  {
   "cell_type": "code",
   "execution_count": 87,
   "metadata": {},
   "outputs": [],
   "source": [
    "days = list(map(date_to_day, dates))\n",
    "weekday = [0 if (day == 5 or day == 6) else 1 for day in days]"
   ]
  },
  {
   "cell_type": "markdown",
   "metadata": {},
   "source": [
    "## Regression - Model Fitting"
   ]
  },
  {
   "cell_type": "code",
   "execution_count": 88,
   "metadata": {},
   "outputs": [],
   "source": [
    "import statsmodels.api as sm"
   ]
  },
  {
   "cell_type": "code",
   "execution_count": 89,
   "metadata": {},
   "outputs": [],
   "source": [
    "X = pd.DataFrame({\n",
    "    'weekday': weekday,\n",
    "    'flow': flow,\n",
    "    'occ': occ\n",
    "})\n",
    "X = sm.add_constant(X)\n",
    "Y = pd.DataFrame({\n",
    "    'speed': speed\n",
    "})"
   ]
  },
  {
   "cell_type": "code",
   "execution_count": 90,
   "metadata": {},
   "outputs": [
    {
     "name": "stdout",
     "output_type": "stream",
     "text": [
      "                            OLS Regression Results                            \n",
      "==============================================================================\n",
      "Dep. Variable:                  speed   R-squared:                       0.894\n",
      "Model:                            OLS   Adj. R-squared:                  0.893\n",
      "Method:                 Least Squares   F-statistic:                     977.6\n",
      "Date:                Sat, 23 Mar 2019   Prob (F-statistic):          2.05e-169\n",
      "Time:                        09:01:39   Log-Likelihood:                -987.16\n",
      "No. Observations:                 353   AIC:                             1982.\n",
      "Df Residuals:                     349   BIC:                             1998.\n",
      "Df Model:                           3                                         \n",
      "Covariance Type:            nonrobust                                         \n",
      "==============================================================================\n",
      "                 coef    std err          t      P>|t|      [0.025      0.975]\n",
      "------------------------------------------------------------------------------\n",
      "const         68.4073      0.738     92.683      0.000      66.956      69.859\n",
      "weekday       -7.9133      0.721    -10.982      0.000      -9.330      -6.496\n",
      "flow           0.0326      0.003     10.304      0.000       0.026       0.039\n",
      "occ           -1.6539      0.058    -28.699      0.000      -1.767      -1.541\n",
      "==============================================================================\n",
      "Omnibus:                      187.651   Durbin-Watson:                   1.819\n",
      "Prob(Omnibus):                  0.000   Jarque-Bera (JB):             1695.705\n",
      "Skew:                           2.043   Prob(JB):                         0.00\n",
      "Kurtosis:                      12.929   Cond. No.                     1.52e+03\n",
      "==============================================================================\n",
      "\n",
      "Warnings:\n",
      "[1] Standard Errors assume that the covariance matrix of the errors is correctly specified.\n",
      "[2] The condition number is large, 1.52e+03. This might indicate that there are\n",
      "strong multicollinearity or other numerical problems.\n"
     ]
    }
   ],
   "source": [
    "model = sm.OLS(Y, X).fit()\n",
    "summary = model.summary()\n",
    "print(summary)"
   ]
  },
  {
   "cell_type": "markdown",
   "metadata": {},
   "source": [
    "## Visualization"
   ]
  },
  {
   "cell_type": "code",
   "execution_count": 91,
   "metadata": {},
   "outputs": [],
   "source": [
    "import matplotlib.pyplot as plt"
   ]
  },
  {
   "cell_type": "markdown",
   "metadata": {},
   "source": [
    "### Speed vs. Flow"
   ]
  },
  {
   "cell_type": "code",
   "execution_count": 92,
   "metadata": {},
   "outputs": [
    {
     "data": {
      "image/png": "[encoded data removed]",
      "text/plain": [
       "<Figure size 432x288 with 1 Axes>"
      ]
     },
     "metadata": {
      "needs_background": "light"
     },
     "output_type": "display_data"
    }
   ],
   "source": [
    "plt.scatter(X['flow'], Y['speed'])\n",
    "plt.title('Speed vs. Flow', fontsize=20)\n",
    "plt.xlabel('Flow', fontsize=14)\n",
    "plt.ylabel('Speed', fontsize=14)\n",
    "plt.show()"
   ]
  },
  {
   "cell_type": "markdown",
   "metadata": {},
   "source": [
    "### Speed vs. Occupancy"
   ]
  },
  {
   "cell_type": "code",
   "execution_count": 93,
   "metadata": {},
   "outputs": [
    {
     "data": {
      "image/png": "[encoded data removed]",
      "text/plain": [
       "<Figure size 432x288 with 1 Axes>"
      ]
     },
     "metadata": {
      "needs_background": "light"
     },
     "output_type": "display_data"
    }
   ],
   "source": [
    "plt.scatter(X['occ'], Y['speed'], color='red')\n",
    "plt.title('Speed vs. Occupancy', fontsize=20)\n",
    "plt.xlabel('Occupancy', fontsize=14)\n",
    "plt.ylabel('Speed (mph)', fontsize=14)\n",
    "plt.show()"
   ]
  },
  {
   "cell_type": "markdown",
   "metadata": {},
   "source": [
    "### Speed vs. Weekday"
   ]
  },
  {
   "cell_type": "code",
   "execution_count": 94,
   "metadata": {},
   "outputs": [
    {
     "data": {
      "image/png": "[encoded data removed]",
      "text/plain": [
       "<Figure size 432x288 with 1 Axes>"
      ]
     },
     "metadata": {
      "needs_background": "light"
     },
     "output_type": "display_data"
    }
   ],
   "source": [
    "plt.scatter(X['weekday'], Y['speed'], color='green')\n",
    "plt.title('Speed vs. Weekday', fontsize=20)\n",
    "plt.xlabel('Weekday', fontsize=14)\n",
    "plt.ylabel('Speed', fontsize=14)\n",
    "plt.show()"
   ]
  },
  {
   "cell_type": "code",
   "execution_count": 95,
   "metadata": {},
   "outputs": [
    {
     "data": {
      "text/plain": [
       "(104, 249)"
      ]
     },
     "execution_count": 95,
     "metadata": {},
     "output_type": "execute_result"
    }
   ],
   "source": [
    "sum(X['weekday'] == 0), sum(X['weekday'] == 1)"
   ]
  },
  {
   "cell_type": "markdown",
   "metadata": {},
   "source": [
    "### Flow vs. Weekday"
   ]
  },
  {
   "cell_type": "code",
   "execution_count": 96,
   "metadata": {
    "scrolled": true
   },
   "outputs": [
    {
     "data": {
      "image/png": "[encoded data removed]",
      "text/plain": [
       "<Figure size 432x288 with 1 Axes>"
      ]
     },
     "metadata": {
      "needs_background": "light"
     },
     "output_type": "display_data"
    }
   ],
   "source": [
    "plt.scatter(X['weekday'], X['flow'], color='purple')\n",
    "plt.title('Flow vs. Weekday', fontsize=20)\n",
    "plt.xlabel('Weekday', fontsize=14)\n",
    "plt.ylabel('Flow', fontsize=14)\n",
    "plt.show()"
   ]
  },
  {
   "cell_type": "markdown",
   "metadata": {},
   "source": [
    "### Occupancy vs. Weekday"
   ]
  },
  {
   "cell_type": "code",
   "execution_count": 97,
   "metadata": {
    "scrolled": true
   },
   "outputs": [
    {
     "data": {
      "image/png": "[encoded data removed]",
      "text/plain": [
       "<Figure size 432x288 with 1 Axes>"
      ]
     },
     "metadata": {
      "needs_background": "light"
     },
     "output_type": "display_data"
    }
   ],
   "source": [
    "plt.scatter(X['weekday'], X['occ'], color='cyan')\n",
    "plt.title('Occupancy vs. Weekday', fontsize=20)\n",
    "plt.xlabel('Weekday', fontsize=14)\n",
    "plt.ylabel('Occupancy', fontsize=14)\n",
    "plt.show()"
   ]
  },
  {
   "cell_type": "markdown",
   "metadata": {},
   "source": [
    "### Histogram: Approximating Distribution"
   ]
  },
  {
   "cell_type": "code",
   "execution_count": 98,
   "metadata": {},
   "outputs": [],
   "source": [
    "weekend_Y = Y.loc[X['weekday'] == 0]\n",
    "weekend_speed = weekend_Y['speed'].values"
   ]
  },
  {
   "cell_type": "code",
   "execution_count": 99,
   "metadata": {},
   "outputs": [],
   "source": [
    "weekday_Y = Y.loc[X['weekday'] == 1]\n",
    "weekday_speed = weekday_Y['speed'].values"
   ]
  },
  {
   "cell_type": "code",
   "execution_count": 100,
   "metadata": {},
   "outputs": [
    {
     "data": {
      "image/png": "[encoded data removed]",
      "text/plain": [
       "<Figure size 432x288 with 1 Axes>"
      ]
     },
     "metadata": {
      "needs_background": "light"
     },
     "output_type": "display_data"
    }
   ],
   "source": [
    "# plot histogram for weekends\n",
    "plt.hist(weekend_speed, bins=50)\n",
    "plt.title(r'Distribution of Speed at Weekends', fontsize=14)\n",
    "plt.xlabel(r'speed (mph)', fontsize=12)\n",
    "plt.ylabel(r'number of days', fontsize=12)\n",
    "plt.show()"
   ]
  },
  {
   "cell_type": "code",
   "execution_count": 101,
   "metadata": {},
   "outputs": [
    {
     "data": {
      "image/png": "[encoded data removed]",
      "text/plain": [
       "<Figure size 432x288 with 1 Axes>"
      ]
     },
     "metadata": {
      "needs_background": "light"
     },
     "output_type": "display_data"
    }
   ],
   "source": [
    "# plot histogram for weekdays\n",
    "plt.hist(weekday_speed, bins=50)\n",
    "plt.title(r'Distribution of Speed at Weekdays', fontsize=14)\n",
    "plt.xlabel(r'speed (mph)', fontsize=12)\n",
    "plt.ylabel(r'number of days', fontsize=12)\n",
    "plt.show()"
   ]
  },
  {
   "cell_type": "markdown",
   "metadata": {},
   "source": [
    "# Speed ~ Weekday"
   ]
  },
  {
   "cell_type": "code",
   "execution_count": 102,
   "metadata": {},
   "outputs": [],
   "source": [
    "X_2 = X[['const', 'weekday']]"
   ]
  },
  {
   "cell_type": "code",
   "execution_count": 103,
   "metadata": {},
   "outputs": [
    {
     "name": "stdout",
     "output_type": "stream",
     "text": [
      "                            OLS Regression Results                            \n",
      "==============================================================================\n",
      "Dep. Variable:                  speed   R-squared:                       0.607\n",
      "Model:                            OLS   Adj. R-squared:                  0.606\n",
      "Method:                 Least Squares   F-statistic:                     543.1\n",
      "Date:                Sat, 23 Mar 2019   Prob (F-statistic):           2.97e-73\n",
      "Time:                        09:01:41   Log-Likelihood:                -1217.7\n",
      "No. Observations:                 353   AIC:                             2439.\n",
      "Df Residuals:                     351   BIC:                             2447.\n",
      "Df Model:                           1                                         \n",
      "Covariance Type:            nonrobust                                         \n",
      "==============================================================================\n",
      "                 coef    std err          t      P>|t|      [0.025      0.975]\n",
      "------------------------------------------------------------------------------\n",
      "const         66.7279      0.749     89.067      0.000      65.254      68.201\n",
      "weekday      -20.7873      0.892    -23.304      0.000     -22.542     -19.033\n",
      "==============================================================================\n",
      "Omnibus:                        9.044   Durbin-Watson:                   1.469\n",
      "Prob(Omnibus):                  0.011   Jarque-Bera (JB):               13.485\n",
      "Skew:                           0.166   Prob(JB):                      0.00118\n",
      "Kurtosis:                       3.898   Cond. No.                         3.45\n",
      "==============================================================================\n",
      "\n",
      "Warnings:\n",
      "[1] Standard Errors assume that the covariance matrix of the errors is correctly specified.\n"
     ]
    }
   ],
   "source": [
    "model_2 = sm.OLS(Y, X_2).fit()\n",
    "summary_2 = model_2.summary()\n",
    "print(summary_2)"
   ]
  },
  {
   "cell_type": "code",
   "execution_count": 104,
   "metadata": {},
   "outputs": [],
   "source": [
    "X_2_pred = model_2.predict(X_2)"
   ]
  },
  {
   "cell_type": "code",
   "execution_count": 105,
   "metadata": {},
   "outputs": [
    {
     "data": {
      "image/png": "[encoded data removed]",
      "text/plain": [
       "<Figure size 432x288 with 1 Axes>"
      ]
     },
     "metadata": {
      "needs_background": "light"
     },
     "output_type": "display_data"
    }
   ],
   "source": [
    "plt.scatter(X_2['weekday'], Y['speed'], color='blue')\n",
    "plt.scatter(X_2['weekday'], X_2_pred.values, color='red')\n",
    "plt.title('Speed vs. Weekday', fontsize=20)\n",
    "plt.xlabel('Weekday', fontsize=14)\n",
    "plt.ylabel('Speed', fontsize=14)\n",
    "plt.show()"
   ]
  },
  {
   "cell_type": "markdown",
   "metadata": {},
   "source": [
    "$\\textit{Remark}$.  The above regression is in fact equivalent to grouping and taking the means of each group."
   ]
  }
 ],
 "metadata": {
  "kernelspec": {
   "display_name": "Python 3",
   "language": "python",
   "name": "python3"
  },
  "language_info": {
   "codemirror_mode": {
    "name": "ipython",
    "version": 3
   },
   "file_extension": ".py",
   "mimetype": "text/x-python",
   "name": "python",
   "nbconvert_exporter": "python",
   "pygments_lexer": "ipython3",
   "version": "3.7.1"
  }
 },
 "nbformat": 4,
 "nbformat_minor": 2
}
