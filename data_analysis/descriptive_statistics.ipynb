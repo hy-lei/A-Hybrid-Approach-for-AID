{
 "cells": [
  {
   "cell_type": "markdown",
   "metadata": {},
   "source": [
    "# Descriptive Statistics"
   ]
  },
  {
   "cell_type": "markdown",
   "metadata": {},
   "source": [
    "This workbook is used to generate descriptive statistics for each detector station during June (the dataset we used to train our models)."
   ]
  },
  {
   "cell_type": "code",
   "execution_count": 1,
   "metadata": {},
   "outputs": [],
   "source": [
    "import numpy as np\n",
    "import pandas as pd\n",
    "import matplotlib.pyplot as plt\n",
    "%matplotlib inline"
   ]
  },
  {
   "cell_type": "code",
   "execution_count": 2,
   "metadata": {},
   "outputs": [],
   "source": [
    "raw_data = pd.read_csv('../data/I88N-processed/concat_no_holes/concat.csv')"
   ]
  },
  {
   "cell_type": "code",
   "execution_count": 3,
   "metadata": {},
   "outputs": [
    {
     "data": {
      "text/html": [
       "<div>\n",
       "<style scoped>\n",
       "    .dataframe tbody tr th:only-of-type {\n",
       "        vertical-align: middle;\n",
       "    }\n",
       "\n",
       "    .dataframe tbody tr th {\n",
       "        vertical-align: top;\n",
       "    }\n",
       "\n",
       "    .dataframe thead th {\n",
       "        text-align: right;\n",
       "    }\n",
       "</style>\n",
       "<table border=\"1\" class=\"dataframe\">\n",
       "  <thead>\n",
       "    <tr style=\"text-align: right;\">\n",
       "      <th></th>\n",
       "      <th>Station ID</th>\n",
       "      <th>datetime</th>\n",
       "      <th>Occupancy</th>\n",
       "      <th>Flow</th>\n",
       "      <th>Speed</th>\n",
       "      <th>Date</th>\n",
       "      <th>Time</th>\n",
       "      <th>idx</th>\n",
       "    </tr>\n",
       "  </thead>\n",
       "  <tbody>\n",
       "    <tr>\n",
       "      <th>0</th>\n",
       "      <td>408907</td>\n",
       "      <td>2017-04-30 00:00:00</td>\n",
       "      <td>0.6</td>\n",
       "      <td>26.0</td>\n",
       "      <td>68.4</td>\n",
       "      <td>04/30/2017</td>\n",
       "      <td>00:00</td>\n",
       "      <td>33395</td>\n",
       "    </tr>\n",
       "    <tr>\n",
       "      <th>1</th>\n",
       "      <td>408907</td>\n",
       "      <td>2017-04-30 00:05:00</td>\n",
       "      <td>1.1</td>\n",
       "      <td>42.0</td>\n",
       "      <td>67.5</td>\n",
       "      <td>04/30/2017</td>\n",
       "      <td>00:05</td>\n",
       "      <td>33396</td>\n",
       "    </tr>\n",
       "    <tr>\n",
       "      <th>2</th>\n",
       "      <td>408907</td>\n",
       "      <td>2017-04-30 00:10:00</td>\n",
       "      <td>1.0</td>\n",
       "      <td>41.0</td>\n",
       "      <td>68.1</td>\n",
       "      <td>04/30/2017</td>\n",
       "      <td>00:10</td>\n",
       "      <td>33397</td>\n",
       "    </tr>\n",
       "  </tbody>\n",
       "</table>\n",
       "</div>"
      ],
      "text/plain": [
       "   Station ID             datetime  Occupancy  Flow  Speed        Date   Time  \\\n",
       "0      408907  2017-04-30 00:00:00        0.6  26.0   68.4  04/30/2017  00:00   \n",
       "1      408907  2017-04-30 00:05:00        1.1  42.0   67.5  04/30/2017  00:05   \n",
       "2      408907  2017-04-30 00:10:00        1.0  41.0   68.1  04/30/2017  00:10   \n",
       "\n",
       "     idx  \n",
       "0  33395  \n",
       "1  33396  \n",
       "2  33397  "
      ]
     },
     "execution_count": 3,
     "metadata": {},
     "output_type": "execute_result"
    }
   ],
   "source": [
    "raw_data.head(3)"
   ]
  },
  {
   "cell_type": "code",
   "execution_count": 4,
   "metadata": {},
   "outputs": [],
   "source": [
    "# select the ones in June\n",
    "raw_data.drop(columns=['idx'], inplace=True)"
   ]
  },
  {
   "cell_type": "code",
   "execution_count": 5,
   "metadata": {},
   "outputs": [
    {
     "data": {
      "text/html": [
       "<div>\n",
       "<style scoped>\n",
       "    .dataframe tbody tr th:only-of-type {\n",
       "        vertical-align: middle;\n",
       "    }\n",
       "\n",
       "    .dataframe tbody tr th {\n",
       "        vertical-align: top;\n",
       "    }\n",
       "\n",
       "    .dataframe thead th {\n",
       "        text-align: right;\n",
       "    }\n",
       "</style>\n",
       "<table border=\"1\" class=\"dataframe\">\n",
       "  <thead>\n",
       "    <tr style=\"text-align: right;\">\n",
       "      <th></th>\n",
       "      <th>Station ID</th>\n",
       "      <th>datetime</th>\n",
       "      <th>Occupancy</th>\n",
       "      <th>Flow</th>\n",
       "      <th>Speed</th>\n",
       "      <th>Date</th>\n",
       "      <th>Time</th>\n",
       "    </tr>\n",
       "  </thead>\n",
       "  <tbody>\n",
       "    <tr>\n",
       "      <th>0</th>\n",
       "      <td>408907</td>\n",
       "      <td>2017-04-30 00:00:00</td>\n",
       "      <td>0.6</td>\n",
       "      <td>26.0</td>\n",
       "      <td>68.4</td>\n",
       "      <td>04/30/2017</td>\n",
       "      <td>00:00</td>\n",
       "    </tr>\n",
       "  </tbody>\n",
       "</table>\n",
       "</div>"
      ],
      "text/plain": [
       "   Station ID             datetime  Occupancy  Flow  Speed        Date   Time\n",
       "0      408907  2017-04-30 00:00:00        0.6  26.0   68.4  04/30/2017  00:00"
      ]
     },
     "execution_count": 5,
     "metadata": {},
     "output_type": "execute_result"
    }
   ],
   "source": [
    "raw_data.head(1)"
   ]
  },
  {
   "cell_type": "code",
   "execution_count": 6,
   "metadata": {},
   "outputs": [],
   "source": [
    "raw_data = raw_data.loc[(raw_data['Date'] >= \"06/01/2017\") & (raw_data['Date'] <= \"06/30/2017\")\n",
    "                       & (raw_data['Date'] != \"06/15/2017\")]"
   ]
  },
  {
   "cell_type": "code",
   "execution_count": 7,
   "metadata": {},
   "outputs": [],
   "source": [
    "stations = raw_data['Station ID'].unique().tolist()\n",
    "var_names = ['occ', 'speed', 'flow']\n",
    "var_column_names = ['Occupancy', 'Speed', 'Flow']\n",
    "mean_sd_dict = dict()\n",
    "for var in var_names:\n",
    "    mean_sd_dict[var + \"_mean\"] = []\n",
    "    mean_sd_dict[var + \"_sd\"] = []\n",
    "mean_sd_dict['station'] = stations\n",
    "\n",
    "for i, s in enumerate(stations):\n",
    "    s_df = raw_data[raw_data['Station ID'] == s]\n",
    "    for j, var in enumerate(var_names):\n",
    "        var_values = s_df[var_column_names[j]].values\n",
    "        mean_sd_dict[var + \"_mean\"].append(np.mean(var_values))\n",
    "        mean_sd_dict[var + \"_sd\"].append(np.std(var_values))"
   ]
  },
  {
   "cell_type": "code",
   "execution_count": 8,
   "metadata": {},
   "outputs": [],
   "source": [
    "mean_sd_df = pd.DataFrame(mean_sd_dict)"
   ]
  },
  {
   "cell_type": "code",
   "execution_count": 9,
   "metadata": {},
   "outputs": [],
   "source": [
    "mean_sd_df.set_index('station', inplace=True)"
   ]
  },
  {
   "cell_type": "code",
   "execution_count": 10,
   "metadata": {},
   "outputs": [],
   "source": [
    "mean_sd_df.to_csv('../data/descriptive_stats/mean_sd_june.csv')"
   ]
  },
  {
   "cell_type": "markdown",
   "metadata": {},
   "source": [
    "## Visualize the distribution of mean and standard deviation"
   ]
  },
  {
   "cell_type": "code",
   "execution_count": 11,
   "metadata": {},
   "outputs": [
    {
     "data": {
      "text/html": [
       "<div>\n",
       "<style scoped>\n",
       "    .dataframe tbody tr th:only-of-type {\n",
       "        vertical-align: middle;\n",
       "    }\n",
       "\n",
       "    .dataframe tbody tr th {\n",
       "        vertical-align: top;\n",
       "    }\n",
       "\n",
       "    .dataframe thead th {\n",
       "        text-align: right;\n",
       "    }\n",
       "</style>\n",
       "<table border=\"1\" class=\"dataframe\">\n",
       "  <thead>\n",
       "    <tr style=\"text-align: right;\">\n",
       "      <th></th>\n",
       "      <th>occ_mean</th>\n",
       "      <th>occ_sd</th>\n",
       "      <th>speed_mean</th>\n",
       "      <th>speed_sd</th>\n",
       "      <th>flow_mean</th>\n",
       "      <th>flow_sd</th>\n",
       "    </tr>\n",
       "    <tr>\n",
       "      <th>station</th>\n",
       "      <th></th>\n",
       "      <th></th>\n",
       "      <th></th>\n",
       "      <th></th>\n",
       "      <th></th>\n",
       "      <th></th>\n",
       "    </tr>\n",
       "  </thead>\n",
       "  <tbody>\n",
       "    <tr>\n",
       "      <th>408907</th>\n",
       "      <td>3.889691</td>\n",
       "      <td>3.271416</td>\n",
       "      <td>66.591487</td>\n",
       "      <td>4.590010</td>\n",
       "      <td>153.157567</td>\n",
       "      <td>94.329658</td>\n",
       "    </tr>\n",
       "    <tr>\n",
       "      <th>400951</th>\n",
       "      <td>5.436530</td>\n",
       "      <td>4.736452</td>\n",
       "      <td>63.410225</td>\n",
       "      <td>7.189301</td>\n",
       "      <td>268.917864</td>\n",
       "      <td>156.767556</td>\n",
       "    </tr>\n",
       "    <tr>\n",
       "      <th>400057</th>\n",
       "      <td>8.051988</td>\n",
       "      <td>7.035746</td>\n",
       "      <td>58.642613</td>\n",
       "      <td>12.470605</td>\n",
       "      <td>256.963242</td>\n",
       "      <td>145.622322</td>\n",
       "    </tr>\n",
       "  </tbody>\n",
       "</table>\n",
       "</div>"
      ],
      "text/plain": [
       "         occ_mean    occ_sd  speed_mean   speed_sd   flow_mean     flow_sd\n",
       "station                                                                   \n",
       "408907   3.889691  3.271416   66.591487   4.590010  153.157567   94.329658\n",
       "400951   5.436530  4.736452   63.410225   7.189301  268.917864  156.767556\n",
       "400057   8.051988  7.035746   58.642613  12.470605  256.963242  145.622322"
      ]
     },
     "execution_count": 11,
     "metadata": {},
     "output_type": "execute_result"
    }
   ],
   "source": [
    "mean_sd_df.head(3)"
   ]
  },
  {
   "cell_type": "code",
   "execution_count": 12,
   "metadata": {},
   "outputs": [],
   "source": [
    "descriptive_colors = {\n",
    "    'mean': 'b',\n",
    "    'sd': 'g'\n",
    "}"
   ]
  },
  {
   "cell_type": "code",
   "execution_count": 13,
   "metadata": {},
   "outputs": [
    {
     "data": {
      "image/png": "[encoded data removed]",
      "text/plain": [
       "<Figure size 432x288 with 1 Axes>"
      ]
     },
     "metadata": {
      "needs_background": "light"
     },
     "output_type": "display_data"
    },
    {
     "data": {
      "image/png": "[encoded data removed]",
      "text/plain": [
       "<Figure size 432x288 with 1 Axes>"
      ]
     },
     "metadata": {
      "needs_background": "light"
     },
     "output_type": "display_data"
    },
    {
     "data": {
      "image/png": "[encoded data removed]",
      "text/plain": [
       "<Figure size 432x288 with 1 Axes>"
      ]
     },
     "metadata": {
      "needs_background": "light"
     },
     "output_type": "display_data"
    },
    {
     "data": {
      "image/png": "[encoded data removed]",
      "text/plain": [
       "<Figure size 432x288 with 1 Axes>"
      ]
     },
     "metadata": {
      "needs_background": "light"
     },
     "output_type": "display_data"
    },
    {
     "data": {
      "image/png": "[encoded data removed]",
      "text/plain": [
       "<Figure size 432x288 with 1 Axes>"
      ]
     },
     "metadata": {
      "needs_background": "light"
     },
     "output_type": "display_data"
    },
    {
     "data": {
      "image/png": "[encoded data removed]",
      "text/plain": [
       "<Figure size 432x288 with 1 Axes>"
      ]
     },
     "metadata": {
      "needs_background": "light"
     },
     "output_type": "display_data"
    }
   ],
   "source": [
    "cols = mean_sd_df.columns.values.tolist()\n",
    "for col in cols:\n",
    "    des_stat = col.split('_')[1]\n",
    "    n, bins, patches = plt.hist(mean_sd_df[col].values, 25, density=False, facecolor=descriptive_colors[des_stat], alpha=.75)\n",
    "    plt.xlabel(col)\n",
    "    plt.ylabel('density')\n",
    "    plt.show()"
   ]
  },
  {
   "cell_type": "markdown",
   "metadata": {},
   "source": [
    "## Mean-SD plot"
   ]
  },
  {
   "cell_type": "code",
   "execution_count": 16,
   "metadata": {},
   "outputs": [
    {
     "data": {
      "image/png": "[encoded data removed]",
      "text/plain": [
       "<Figure size 432x288 with 1 Axes>"
      ]
     },
     "metadata": {
      "needs_background": "light"
     },
     "output_type": "display_data"
    },
    {
     "data": {
      "image/png": "[encoded data removed]",
      "text/plain": [
       "<Figure size 432x288 with 1 Axes>"
      ]
     },
     "metadata": {
      "needs_background": "light"
     },
     "output_type": "display_data"
    },
    {
     "data": {
      "image/png": "[encoded data removed]",
      "text/plain": [
       "<Figure size 432x288 with 1 Axes>"
      ]
     },
     "metadata": {
      "needs_background": "light"
     },
     "output_type": "display_data"
    }
   ],
   "source": [
    "colors = ['ro', 'go', 'bo']\n",
    "for i, var in enumerate(var_names):\n",
    "    var_mean = var + '_mean'\n",
    "    var_sd = var + '_sd'\n",
    "    plt.plot(mean_sd_df[var_mean].values, mean_sd_df[var_sd].values, colors[i])\n",
    "    plt.xlabel(var_mean)\n",
    "    plt.ylabel(var_sd)\n",
    "    plt.show()"
   ]
  }
 ],
 "metadata": {
  "kernelspec": {
   "display_name": "Python 3",
   "language": "python",
   "name": "python3"
  },
  "language_info": {
   "codemirror_mode": {
    "name": "ipython",
    "version": 3
   },
   "file_extension": ".py",
   "mimetype": "text/x-python",
   "name": "python",
   "nbconvert_exporter": "python",
   "pygments_lexer": "ipython3",
   "version": "3.7.1"
  }
 },
 "nbformat": 4,
 "nbformat_minor": 2
}
