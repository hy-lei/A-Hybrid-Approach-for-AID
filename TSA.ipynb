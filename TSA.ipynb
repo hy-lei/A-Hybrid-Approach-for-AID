{
 "cells": [
  {
   "cell_type": "markdown",
   "metadata": {},
   "source": [
    "# Understanding Data, and Data Preprocessing"
   ]
  },
  {
   "cell_type": "markdown",
   "metadata": {},
   "source": [
    "Files: <br>\n",
    "\n",
    "- stations-i880n.csv: detector station information\n",
    "- flow_speed_{num}.csv: num = 1, 2, 3; traffic flow and speed information\n",
    "- occ_{num}.csv: num = 1, 2, 3; occupancy information."
   ]
  },
  {
   "cell_type": "code",
   "execution_count": 1,
   "metadata": {},
   "outputs": [],
   "source": [
    "import pandas as pd"
   ]
  },
  {
   "cell_type": "code",
   "execution_count": 2,
   "metadata": {},
   "outputs": [],
   "source": [
    "stations = pd.read_csv(\"data/I88N/stations-i880n.csv\")"
   ]
  },
  {
   "cell_type": "code",
   "execution_count": 11,
   "metadata": {},
   "outputs": [
    {
     "data": {
      "text/plain": [
       "Index(['Fwy', 'District', 'County', 'City', 'CA PM', 'Abs PM', 'Length', 'ID',\n",
       "       'Name', 'Lanes', 'Type', 'Sensor Type', 'HOV', 'MS ID', 'IRM'],\n",
       "      dtype='object')"
      ]
     },
     "execution_count": 11,
     "metadata": {},
     "output_type": "execute_result"
    }
   ],
   "source": [
    "stations.columns"
   ]
  },
  {
   "cell_type": "code",
   "execution_count": 13,
   "metadata": {},
   "outputs": [
    {
     "data": {
      "text/plain": [
       "Fwy             object:dense\n",
       "District         int64:dense\n",
       "County          object:dense\n",
       "City            object:dense\n",
       "CA PM           object:dense\n",
       "Abs PM         float64:dense\n",
       "Length         float64:dense\n",
       "ID               int64:dense\n",
       "Name            object:dense\n",
       "Lanes            int64:dense\n",
       "Type            object:dense\n",
       "Sensor Type     object:dense\n",
       "HOV             object:dense\n",
       "MS ID           object:dense\n",
       "IRM             object:dense\n",
       "dtype: object"
      ]
     },
     "execution_count": 13,
     "metadata": {},
     "output_type": "execute_result"
    }
   ],
   "source": [
    "stations.ftypes"
   ]
  },
  {
   "cell_type": "code",
   "execution_count": 4,
   "metadata": {},
   "outputs": [],
   "source": [
    "flow_speed_1 = pd.read_csv(\"data/I88N/flow_speed1.csv\")"
   ]
  },
  {
   "cell_type": "code",
   "execution_count": 23,
   "metadata": {},
   "outputs": [
    {
     "data": {
      "text/plain": [
       "Index(['Station ID', '5 Minutes', 'Flow (Veh/5 Minutes)', 'Speed (mph)',\n",
       "       '# Lane Points', '% Observed'],\n",
       "      dtype='object')"
      ]
     },
     "execution_count": 23,
     "metadata": {},
     "output_type": "execute_result"
    }
   ],
   "source": [
    "flow_speed_1.columns"
   ]
  },
  {
   "cell_type": "code",
   "execution_count": 5,
   "metadata": {},
   "outputs": [],
   "source": [
    "occ_1 = pd.read_csv(\"data/I88N/occ1.csv\")"
   ]
  },
  {
   "cell_type": "code",
   "execution_count": 24,
   "metadata": {},
   "outputs": [
    {
     "data": {
      "text/plain": [
       "Index(['Station ID', '5 Minutes', 'Occupancy (%)', '# Lane Points',\n",
       "       '% Observed'],\n",
       "      dtype='object')"
      ]
     },
     "execution_count": 24,
     "metadata": {},
     "output_type": "execute_result"
    }
   ],
   "source": [
    "occ_1.columns"
   ]
  },
  {
   "cell_type": "code",
   "execution_count": 16,
   "metadata": {},
   "outputs": [
    {
     "data": {
      "text/html": [
       "<div>\n",
       "<style scoped>\n",
       "    .dataframe tbody tr th:only-of-type {\n",
       "        vertical-align: middle;\n",
       "    }\n",
       "\n",
       "    .dataframe tbody tr th {\n",
       "        vertical-align: top;\n",
       "    }\n",
       "\n",
       "    .dataframe thead th {\n",
       "        text-align: right;\n",
       "    }\n",
       "</style>\n",
       "<table border=\"1\" class=\"dataframe\">\n",
       "  <thead>\n",
       "    <tr style=\"text-align: right;\">\n",
       "      <th></th>\n",
       "      <th>Fwy</th>\n",
       "      <th>District</th>\n",
       "      <th>County</th>\n",
       "      <th>City</th>\n",
       "      <th>CA PM</th>\n",
       "      <th>Abs PM</th>\n",
       "      <th>Length</th>\n",
       "      <th>ID</th>\n",
       "      <th>Name</th>\n",
       "      <th>Lanes</th>\n",
       "      <th>Type</th>\n",
       "      <th>Sensor Type</th>\n",
       "      <th>HOV</th>\n",
       "      <th>MS ID</th>\n",
       "      <th>IRM</th>\n",
       "    </tr>\n",
       "  </thead>\n",
       "  <tbody>\n",
       "    <tr>\n",
       "      <th>0</th>\n",
       "      <td>I880-N</td>\n",
       "      <td>4</td>\n",
       "      <td>Santa Clara</td>\n",
       "      <td>NaN</td>\n",
       "      <td>0.31</td>\n",
       "      <td>0.31</td>\n",
       "      <td>0.425</td>\n",
       "      <td>408907</td>\n",
       "      <td>SB/NB 280 rm-n-fly/diag</td>\n",
       "      <td>3</td>\n",
       "      <td>Mainline</td>\n",
       "      <td>loops</td>\n",
       "      <td>No</td>\n",
       "      <td>DT596</td>\n",
       "      <td>L3-N-37-880-00031</td>\n",
       "    </tr>\n",
       "  </tbody>\n",
       "</table>\n",
       "</div>"
      ],
      "text/plain": [
       "      Fwy  District       County City CA PM  Abs PM  Length      ID  \\\n",
       "0  I880-N         4  Santa Clara  NaN  0.31    0.31   0.425  408907   \n",
       "\n",
       "                      Name  Lanes      Type Sensor Type HOV  MS ID  \\\n",
       "0  SB/NB 280 rm-n-fly/diag      3  Mainline       loops  No  DT596   \n",
       "\n",
       "                 IRM  \n",
       "0  L3-N-37-880-00031  "
      ]
     },
     "execution_count": 16,
     "metadata": {},
     "output_type": "execute_result"
    }
   ],
   "source": [
    "stations.loc[stations[\"ID\"] == 408907]"
   ]
  },
  {
   "cell_type": "code",
   "execution_count": 9,
   "metadata": {},
   "outputs": [
    {
     "data": {
      "text/html": [
       "<div>\n",
       "<style scoped>\n",
       "    .dataframe tbody tr th:only-of-type {\n",
       "        vertical-align: middle;\n",
       "    }\n",
       "\n",
       "    .dataframe tbody tr th {\n",
       "        vertical-align: top;\n",
       "    }\n",
       "\n",
       "    .dataframe thead th {\n",
       "        text-align: right;\n",
       "    }\n",
       "</style>\n",
       "<table border=\"1\" class=\"dataframe\">\n",
       "  <thead>\n",
       "    <tr style=\"text-align: right;\">\n",
       "      <th></th>\n",
       "      <th>Station ID</th>\n",
       "      <th>5 Minutes</th>\n",
       "      <th>Flow (Veh/5 Minutes)</th>\n",
       "      <th>Speed (mph)</th>\n",
       "      <th># Lane Points</th>\n",
       "      <th>% Observed</th>\n",
       "    </tr>\n",
       "  </thead>\n",
       "  <tbody>\n",
       "    <tr>\n",
       "      <th>0</th>\n",
       "      <td>408907</td>\n",
       "      <td>01/01/2017 00:00</td>\n",
       "      <td>95.0</td>\n",
       "      <td>68.8</td>\n",
       "      <td>3</td>\n",
       "      <td>0.0</td>\n",
       "    </tr>\n",
       "    <tr>\n",
       "      <th>1</th>\n",
       "      <td>408907</td>\n",
       "      <td>01/01/2017 00:05</td>\n",
       "      <td>91.0</td>\n",
       "      <td>68.4</td>\n",
       "      <td>3</td>\n",
       "      <td>0.0</td>\n",
       "    </tr>\n",
       "    <tr>\n",
       "      <th>2</th>\n",
       "      <td>408907</td>\n",
       "      <td>01/01/2017 00:10</td>\n",
       "      <td>91.0</td>\n",
       "      <td>68.4</td>\n",
       "      <td>3</td>\n",
       "      <td>0.0</td>\n",
       "    </tr>\n",
       "    <tr>\n",
       "      <th>3</th>\n",
       "      <td>408907</td>\n",
       "      <td>01/01/2017 00:15</td>\n",
       "      <td>86.0</td>\n",
       "      <td>68.5</td>\n",
       "      <td>3</td>\n",
       "      <td>0.0</td>\n",
       "    </tr>\n",
       "    <tr>\n",
       "      <th>4</th>\n",
       "      <td>408907</td>\n",
       "      <td>01/01/2017 00:20</td>\n",
       "      <td>82.0</td>\n",
       "      <td>68.5</td>\n",
       "      <td>3</td>\n",
       "      <td>0.0</td>\n",
       "    </tr>\n",
       "  </tbody>\n",
       "</table>\n",
       "</div>"
      ],
      "text/plain": [
       "   Station ID         5 Minutes  Flow (Veh/5 Minutes)  Speed (mph)  \\\n",
       "0      408907  01/01/2017 00:00                  95.0         68.8   \n",
       "1      408907  01/01/2017 00:05                  91.0         68.4   \n",
       "2      408907  01/01/2017 00:10                  91.0         68.4   \n",
       "3      408907  01/01/2017 00:15                  86.0         68.5   \n",
       "4      408907  01/01/2017 00:20                  82.0         68.5   \n",
       "\n",
       "   # Lane Points  % Observed  \n",
       "0              3         0.0  \n",
       "1              3         0.0  \n",
       "2              3         0.0  \n",
       "3              3         0.0  \n",
       "4              3         0.0  "
      ]
     },
     "execution_count": 9,
     "metadata": {},
     "output_type": "execute_result"
    }
   ],
   "source": [
    "flow_speed_1.head(5)"
   ]
  },
  {
   "cell_type": "code",
   "execution_count": 10,
   "metadata": {},
   "outputs": [
    {
     "data": {
      "text/html": [
       "<div>\n",
       "<style scoped>\n",
       "    .dataframe tbody tr th:only-of-type {\n",
       "        vertical-align: middle;\n",
       "    }\n",
       "\n",
       "    .dataframe tbody tr th {\n",
       "        vertical-align: top;\n",
       "    }\n",
       "\n",
       "    .dataframe thead th {\n",
       "        text-align: right;\n",
       "    }\n",
       "</style>\n",
       "<table border=\"1\" class=\"dataframe\">\n",
       "  <thead>\n",
       "    <tr style=\"text-align: right;\">\n",
       "      <th></th>\n",
       "      <th>Station ID</th>\n",
       "      <th>5 Minutes</th>\n",
       "      <th>Occupancy (%)</th>\n",
       "      <th># Lane Points</th>\n",
       "      <th>% Observed</th>\n",
       "    </tr>\n",
       "  </thead>\n",
       "  <tbody>\n",
       "    <tr>\n",
       "      <th>0</th>\n",
       "      <td>408907</td>\n",
       "      <td>01/01/2017 00:00</td>\n",
       "      <td>2.1</td>\n",
       "      <td>3</td>\n",
       "      <td>0.0</td>\n",
       "    </tr>\n",
       "    <tr>\n",
       "      <th>1</th>\n",
       "      <td>408907</td>\n",
       "      <td>01/01/2017 00:05</td>\n",
       "      <td>2.0</td>\n",
       "      <td>3</td>\n",
       "      <td>0.0</td>\n",
       "    </tr>\n",
       "    <tr>\n",
       "      <th>2</th>\n",
       "      <td>408907</td>\n",
       "      <td>01/01/2017 00:10</td>\n",
       "      <td>2.0</td>\n",
       "      <td>3</td>\n",
       "      <td>0.0</td>\n",
       "    </tr>\n",
       "    <tr>\n",
       "      <th>3</th>\n",
       "      <td>408907</td>\n",
       "      <td>01/01/2017 00:15</td>\n",
       "      <td>1.9</td>\n",
       "      <td>3</td>\n",
       "      <td>0.0</td>\n",
       "    </tr>\n",
       "    <tr>\n",
       "      <th>4</th>\n",
       "      <td>408907</td>\n",
       "      <td>01/01/2017 00:20</td>\n",
       "      <td>1.8</td>\n",
       "      <td>3</td>\n",
       "      <td>0.0</td>\n",
       "    </tr>\n",
       "  </tbody>\n",
       "</table>\n",
       "</div>"
      ],
      "text/plain": [
       "   Station ID         5 Minutes  Occupancy (%)  # Lane Points  % Observed\n",
       "0      408907  01/01/2017 00:00            2.1              3         0.0\n",
       "1      408907  01/01/2017 00:05            2.0              3         0.0\n",
       "2      408907  01/01/2017 00:10            2.0              3         0.0\n",
       "3      408907  01/01/2017 00:15            1.9              3         0.0\n",
       "4      408907  01/01/2017 00:20            1.8              3         0.0"
      ]
     },
     "execution_count": 10,
     "metadata": {},
     "output_type": "execute_result"
    }
   ],
   "source": [
    "occ_1.head(5)"
   ]
  },
  {
   "cell_type": "code",
   "execution_count": 18,
   "metadata": {},
   "outputs": [],
   "source": [
    "incidents = pd.read_csv(\"data/I88N/otherIncident.csv\")"
   ]
  },
  {
   "cell_type": "code",
   "execution_count": 19,
   "metadata": {},
   "outputs": [
    {
     "data": {
      "text/html": [
       "<div>\n",
       "<style scoped>\n",
       "    .dataframe tbody tr th:only-of-type {\n",
       "        vertical-align: middle;\n",
       "    }\n",
       "\n",
       "    .dataframe tbody tr th {\n",
       "        vertical-align: top;\n",
       "    }\n",
       "\n",
       "    .dataframe thead th {\n",
       "        text-align: right;\n",
       "    }\n",
       "</style>\n",
       "<table border=\"1\" class=\"dataframe\">\n",
       "  <thead>\n",
       "    <tr style=\"text-align: right;\">\n",
       "      <th></th>\n",
       "      <th>Incident_Id</th>\n",
       "      <th>Start_Time</th>\n",
       "      <th>Duration_(mins)</th>\n",
       "      <th>Freeway</th>\n",
       "      <th>CA_PM</th>\n",
       "      <th>Abs_PM</th>\n",
       "      <th>Source</th>\n",
       "      <th>AREA</th>\n",
       "      <th>LOCATION</th>\n",
       "      <th>DESCRIPTION</th>\n",
       "    </tr>\n",
       "  </thead>\n",
       "  <tbody>\n",
       "    <tr>\n",
       "      <th>0</th>\n",
       "      <td>16917059</td>\n",
       "      <td>1/1/17 0:24</td>\n",
       "      <td>3</td>\n",
       "      <td>I880-N</td>\n",
       "      <td>0.4</td>\n",
       "      <td>0.4</td>\n",
       "      <td>CHP</td>\n",
       "      <td>San Jose</td>\n",
       "      <td>I880 N / I280 S I880 N Con</td>\n",
       "      <td>1183-Trfc Collision-Unkn Inj</td>\n",
       "    </tr>\n",
       "    <tr>\n",
       "      <th>1</th>\n",
       "      <td>16917196</td>\n",
       "      <td>1/1/17 2:14</td>\n",
       "      <td>14</td>\n",
       "      <td>I880-N</td>\n",
       "      <td>R34.773</td>\n",
       "      <td>45.0</td>\n",
       "      <td>CHP</td>\n",
       "      <td>Oakland</td>\n",
       "      <td>I880 N West Grand Ave Onr / I880 N I80 E Con</td>\n",
       "      <td>1183-Trfc Collision-Unkn Inj</td>\n",
       "    </tr>\n",
       "    <tr>\n",
       "      <th>2</th>\n",
       "      <td>16917233</td>\n",
       "      <td>1/1/17 2:44</td>\n",
       "      <td>6</td>\n",
       "      <td>I880-N</td>\n",
       "      <td>3.673</td>\n",
       "      <td>13.9</td>\n",
       "      <td>CHP</td>\n",
       "      <td>Hayward</td>\n",
       "      <td>I880 N / Nimitz Cvef Scale Ofr</td>\n",
       "      <td>1183-Trfc Collision-Unkn Inj</td>\n",
       "    </tr>\n",
       "    <tr>\n",
       "      <th>3</th>\n",
       "      <td>16917332</td>\n",
       "      <td>1/1/17 4:31</td>\n",
       "      <td>2</td>\n",
       "      <td>I880-N</td>\n",
       "      <td>20.473</td>\n",
       "      <td>30.7</td>\n",
       "      <td>CHP</td>\n",
       "      <td>Hayward</td>\n",
       "      <td>I880 N / Lewelling Blvd Onr</td>\n",
       "      <td>20002-Hit and Run No Injuries</td>\n",
       "    </tr>\n",
       "    <tr>\n",
       "      <th>4</th>\n",
       "      <td>16917615</td>\n",
       "      <td>1/1/17 9:25</td>\n",
       "      <td>12</td>\n",
       "      <td>I880-N</td>\n",
       "      <td>17.273</td>\n",
       "      <td>27.5</td>\n",
       "      <td>CHP</td>\n",
       "      <td>Hayward</td>\n",
       "      <td>I880 N / W Winton Ave Ofr</td>\n",
       "      <td>1125-Traffic Hazard</td>\n",
       "    </tr>\n",
       "    <tr>\n",
       "      <th>5</th>\n",
       "      <td>16917677</td>\n",
       "      <td>1/1/17 10:59</td>\n",
       "      <td>43</td>\n",
       "      <td>I880-N</td>\n",
       "      <td>8.573</td>\n",
       "      <td>18.8</td>\n",
       "      <td>CHP</td>\n",
       "      <td>Hayward</td>\n",
       "      <td>I880 N / Thornton Ave Ofr</td>\n",
       "      <td>1125-Traffic Hazard</td>\n",
       "    </tr>\n",
       "    <tr>\n",
       "      <th>6</th>\n",
       "      <td>16917744</td>\n",
       "      <td>1/1/17 11:52</td>\n",
       "      <td>9</td>\n",
       "      <td>I880-N</td>\n",
       "      <td>16.373</td>\n",
       "      <td>26.6</td>\n",
       "      <td>CHP</td>\n",
       "      <td>Hayward</td>\n",
       "      <td>I880 N / I880 N Sr92 Con</td>\n",
       "      <td>1125-Traffic Hazard</td>\n",
       "    </tr>\n",
       "    <tr>\n",
       "      <th>7</th>\n",
       "      <td>16917873</td>\n",
       "      <td>1/1/17 13:27</td>\n",
       "      <td>10</td>\n",
       "      <td>I880-N</td>\n",
       "      <td>25.673</td>\n",
       "      <td>35.9</td>\n",
       "      <td>CHP</td>\n",
       "      <td>Oakland</td>\n",
       "      <td>I880 N / Hegenberger Rd W Onr</td>\n",
       "      <td>1125A-Animal Hazard</td>\n",
       "    </tr>\n",
       "    <tr>\n",
       "      <th>8</th>\n",
       "      <td>16918027</td>\n",
       "      <td>1/1/17 16:11</td>\n",
       "      <td>3</td>\n",
       "      <td>I880-N</td>\n",
       "      <td>15.273</td>\n",
       "      <td>25.5</td>\n",
       "      <td>CHP</td>\n",
       "      <td>Hayward</td>\n",
       "      <td>I880 N / W Tennyson Rd Ofr</td>\n",
       "      <td>1125-Traffic Hazard</td>\n",
       "    </tr>\n",
       "    <tr>\n",
       "      <th>9</th>\n",
       "      <td>16918100</td>\n",
       "      <td>1/1/17 17:02</td>\n",
       "      <td>11</td>\n",
       "      <td>I880-N</td>\n",
       "      <td>12.773</td>\n",
       "      <td>23.0</td>\n",
       "      <td>CHP</td>\n",
       "      <td>Hayward</td>\n",
       "      <td>I880 N / Alvarado Niles Rd Ofr</td>\n",
       "      <td>1125-Traffic Hazard</td>\n",
       "    </tr>\n",
       "    <tr>\n",
       "      <th>10</th>\n",
       "      <td>16918603</td>\n",
       "      <td>1/2/17 0:33</td>\n",
       "      <td>1</td>\n",
       "      <td>I880-N</td>\n",
       "      <td>23.773</td>\n",
       "      <td>34.0</td>\n",
       "      <td>CHP</td>\n",
       "      <td>Hayward</td>\n",
       "      <td>I880 N / Davis St Onr</td>\n",
       "      <td>1125-Traffic Hazard</td>\n",
       "    </tr>\n",
       "    <tr>\n",
       "      <th>11</th>\n",
       "      <td>16919269</td>\n",
       "      <td>1/2/17 12:28</td>\n",
       "      <td>4</td>\n",
       "      <td>I880-N</td>\n",
       "      <td>27.373</td>\n",
       "      <td>37.6</td>\n",
       "      <td>CHP</td>\n",
       "      <td>Oakland</td>\n",
       "      <td>I880 N / High St Ofr</td>\n",
       "      <td>1125-Traffic Hazard</td>\n",
       "    </tr>\n",
       "    <tr>\n",
       "      <th>12</th>\n",
       "      <td>16919410</td>\n",
       "      <td>1/2/17 13:45</td>\n",
       "      <td>3</td>\n",
       "      <td>I880-N</td>\n",
       "      <td>22.673</td>\n",
       "      <td>32.9</td>\n",
       "      <td>CHP</td>\n",
       "      <td>Hayward</td>\n",
       "      <td>I880 N / Marina Blvd E Ofr</td>\n",
       "      <td>1183-Trfc Collision-Unkn Inj</td>\n",
       "    </tr>\n",
       "    <tr>\n",
       "      <th>13</th>\n",
       "      <td>16919709</td>\n",
       "      <td>1/2/17 17:56</td>\n",
       "      <td>8</td>\n",
       "      <td>I880-N</td>\n",
       "      <td>15.273</td>\n",
       "      <td>25.5</td>\n",
       "      <td>CHP</td>\n",
       "      <td>Hayward</td>\n",
       "      <td>I880 N / W Tennyson Rd Ofr</td>\n",
       "      <td>1125-Traffic Hazard</td>\n",
       "    </tr>\n",
       "    <tr>\n",
       "      <th>14</th>\n",
       "      <td>16919951</td>\n",
       "      <td>1/2/17 20:43</td>\n",
       "      <td>3</td>\n",
       "      <td>I880-N</td>\n",
       "      <td>0.4</td>\n",
       "      <td>0.4</td>\n",
       "      <td>CHP</td>\n",
       "      <td>San Jose</td>\n",
       "      <td>I880 N / I280 S I880 N Con</td>\n",
       "      <td>1183-Trfc Collision-Unkn Inj</td>\n",
       "    </tr>\n",
       "    <tr>\n",
       "      <th>15</th>\n",
       "      <td>16920069</td>\n",
       "      <td>1/2/17 22:21</td>\n",
       "      <td>1</td>\n",
       "      <td>I880-N</td>\n",
       "      <td>4.373</td>\n",
       "      <td>14.6</td>\n",
       "      <td>CHP</td>\n",
       "      <td>Hayward</td>\n",
       "      <td>I880 N / Auto Mall Pkwy Ofr</td>\n",
       "      <td>1125-Traffic Hazard</td>\n",
       "    </tr>\n",
       "    <tr>\n",
       "      <th>16</th>\n",
       "      <td>16920207</td>\n",
       "      <td>1/3/17 0:58</td>\n",
       "      <td>3</td>\n",
       "      <td>I880-N</td>\n",
       "      <td>18.173</td>\n",
       "      <td>28.4</td>\n",
       "      <td>CHP</td>\n",
       "      <td>Hayward</td>\n",
       "      <td>I880 N / W A St Ofr</td>\n",
       "      <td>1125-Traffic Hazard</td>\n",
       "    </tr>\n",
       "    <tr>\n",
       "      <th>17</th>\n",
       "      <td>16920394</td>\n",
       "      <td>1/3/17 6:01</td>\n",
       "      <td>63</td>\n",
       "      <td>I880-N</td>\n",
       "      <td>R1.498</td>\n",
       "      <td>12.0</td>\n",
       "      <td>CHP</td>\n",
       "      <td>Hayward</td>\n",
       "      <td>I880 N / Mission Blvd Ofr</td>\n",
       "      <td>1182-Trfc Collision-No Inj</td>\n",
       "    </tr>\n",
       "    <tr>\n",
       "      <th>18</th>\n",
       "      <td>16920449</td>\n",
       "      <td>1/3/17 6:42</td>\n",
       "      <td>11</td>\n",
       "      <td>I880-N</td>\n",
       "      <td>R1.498</td>\n",
       "      <td>12.0</td>\n",
       "      <td>CHP</td>\n",
       "      <td>Hayward FSP</td>\n",
       "      <td>I880 N / Mission Blvd Ofr</td>\n",
       "      <td>1183-Trfc Collision-Unkn Inj</td>\n",
       "    </tr>\n",
       "    <tr>\n",
       "      <th>19</th>\n",
       "      <td>16920643</td>\n",
       "      <td>1/3/17 8:30</td>\n",
       "      <td>26</td>\n",
       "      <td>I880-N</td>\n",
       "      <td>2.273</td>\n",
       "      <td>12.5</td>\n",
       "      <td>CHP</td>\n",
       "      <td>Hayward FSP</td>\n",
       "      <td>I880 N / W Warren Ave Ofr</td>\n",
       "      <td>1125-Traffic Hazard</td>\n",
       "    </tr>\n",
       "    <tr>\n",
       "      <th>20</th>\n",
       "      <td>16920834</td>\n",
       "      <td>1/3/17 10:21</td>\n",
       "      <td>418</td>\n",
       "      <td>I880-N</td>\n",
       "      <td>27.373</td>\n",
       "      <td>37.6</td>\n",
       "      <td>CHP</td>\n",
       "      <td>Oakland</td>\n",
       "      <td>I880 N / High St Ofr</td>\n",
       "      <td>20002-Hit and Run No Injuries</td>\n",
       "    </tr>\n",
       "    <tr>\n",
       "      <th>21</th>\n",
       "      <td>16920847</td>\n",
       "      <td>1/3/17 10:25</td>\n",
       "      <td>4</td>\n",
       "      <td>I880-N</td>\n",
       "      <td>28.573</td>\n",
       "      <td>38.8</td>\n",
       "      <td>CHP</td>\n",
       "      <td>Oakland FSP</td>\n",
       "      <td>I880 N / 29th Ave Ofr</td>\n",
       "      <td>1183-Trfc Collision-Unkn Inj</td>\n",
       "    </tr>\n",
       "    <tr>\n",
       "      <th>22</th>\n",
       "      <td>16920862</td>\n",
       "      <td>1/3/17 10:27</td>\n",
       "      <td>17</td>\n",
       "      <td>I880-N</td>\n",
       "      <td>29.173</td>\n",
       "      <td>39.4</td>\n",
       "      <td>CHP</td>\n",
       "      <td>Oakland</td>\n",
       "      <td>I880 N / 23rd Ave S Onr</td>\n",
       "      <td>1125-Traffic Hazard</td>\n",
       "    </tr>\n",
       "    <tr>\n",
       "      <th>23</th>\n",
       "      <td>16920873</td>\n",
       "      <td>1/3/17 10:37</td>\n",
       "      <td>8</td>\n",
       "      <td>I880-N</td>\n",
       "      <td>29.173</td>\n",
       "      <td>39.4</td>\n",
       "      <td>CHP</td>\n",
       "      <td>Oakland FSP</td>\n",
       "      <td>I880 N / 23rd Ave S Onr</td>\n",
       "      <td>1125-Traffic Hazard</td>\n",
       "    </tr>\n",
       "    <tr>\n",
       "      <th>24</th>\n",
       "      <td>16920922</td>\n",
       "      <td>1/3/17 11:06</td>\n",
       "      <td>27</td>\n",
       "      <td>I880-N</td>\n",
       "      <td>28.573</td>\n",
       "      <td>38.8</td>\n",
       "      <td>CHP</td>\n",
       "      <td>Oakland</td>\n",
       "      <td>I880 N / 29th Ave Ofr</td>\n",
       "      <td>1125-Traffic Hazard</td>\n",
       "    </tr>\n",
       "    <tr>\n",
       "      <th>25</th>\n",
       "      <td>16920935</td>\n",
       "      <td>1/3/17 11:15</td>\n",
       "      <td>19</td>\n",
       "      <td>I880-N</td>\n",
       "      <td>28.873</td>\n",
       "      <td>39.1</td>\n",
       "      <td>CHP</td>\n",
       "      <td>Oakland</td>\n",
       "      <td>I880 N / 29th Ave Onr</td>\n",
       "      <td>1125-Traffic Hazard</td>\n",
       "    </tr>\n",
       "    <tr>\n",
       "      <th>26</th>\n",
       "      <td>16920943</td>\n",
       "      <td>1/3/17 11:20</td>\n",
       "      <td>8</td>\n",
       "      <td>I880-N</td>\n",
       "      <td>28.873</td>\n",
       "      <td>39.1</td>\n",
       "      <td>CHP</td>\n",
       "      <td>Oakland FSP</td>\n",
       "      <td>I880 N / 29th Ave Onr</td>\n",
       "      <td>1125-Traffic Hazard</td>\n",
       "    </tr>\n",
       "    <tr>\n",
       "      <th>27</th>\n",
       "      <td>16921033</td>\n",
       "      <td>1/3/17 12:13</td>\n",
       "      <td>1</td>\n",
       "      <td>I880-N</td>\n",
       "      <td>R0.298</td>\n",
       "      <td>10.8</td>\n",
       "      <td>CHP</td>\n",
       "      <td>Hayward</td>\n",
       "      <td>I880 N / Dixon Landing Rd Onr</td>\n",
       "      <td>1125-Traffic Hazard</td>\n",
       "    </tr>\n",
       "    <tr>\n",
       "      <th>28</th>\n",
       "      <td>16921047</td>\n",
       "      <td>1/3/17 12:14</td>\n",
       "      <td>5</td>\n",
       "      <td>I880-N</td>\n",
       "      <td>5.3</td>\n",
       "      <td>5.3</td>\n",
       "      <td>CHP</td>\n",
       "      <td>San Jose</td>\n",
       "      <td>I880 N / E Brokaw Rd Onr</td>\n",
       "      <td>1183-Trfc Collision-Unkn Inj</td>\n",
       "    </tr>\n",
       "    <tr>\n",
       "      <th>29</th>\n",
       "      <td>16921152</td>\n",
       "      <td>1/3/17 13:11</td>\n",
       "      <td>3</td>\n",
       "      <td>I880-N</td>\n",
       "      <td>29.173</td>\n",
       "      <td>39.4</td>\n",
       "      <td>CHP</td>\n",
       "      <td>Oakland</td>\n",
       "      <td>I880 N / 23rd Ave S Onr</td>\n",
       "      <td>1125-Traffic Hazard</td>\n",
       "    </tr>\n",
       "    <tr>\n",
       "      <th>...</th>\n",
       "      <td>...</td>\n",
       "      <td>...</td>\n",
       "      <td>...</td>\n",
       "      <td>...</td>\n",
       "      <td>...</td>\n",
       "      <td>...</td>\n",
       "      <td>...</td>\n",
       "      <td>...</td>\n",
       "      <td>...</td>\n",
       "      <td>...</td>\n",
       "    </tr>\n",
       "    <tr>\n",
       "      <th>6693</th>\n",
       "      <td>17684718</td>\n",
       "      <td>12/28/17 14:59</td>\n",
       "      <td>27</td>\n",
       "      <td>I880-N</td>\n",
       "      <td>6.273</td>\n",
       "      <td>16.5</td>\n",
       "      <td>CHP</td>\n",
       "      <td>Hayward</td>\n",
       "      <td>I880 N / Stevenson Blvd E Onr</td>\n",
       "      <td>1125-Traffic Hazard</td>\n",
       "    </tr>\n",
       "    <tr>\n",
       "      <th>6694</th>\n",
       "      <td>17684941</td>\n",
       "      <td>12/28/17 16:53</td>\n",
       "      <td>3</td>\n",
       "      <td>I880-N</td>\n",
       "      <td>27.473</td>\n",
       "      <td>37.7</td>\n",
       "      <td>CHP</td>\n",
       "      <td>Oakland</td>\n",
       "      <td>I880 N / High St Ofr</td>\n",
       "      <td>1125-Traffic Hazard</td>\n",
       "    </tr>\n",
       "    <tr>\n",
       "      <th>6695</th>\n",
       "      <td>17684959</td>\n",
       "      <td>12/28/17 17:00</td>\n",
       "      <td>0</td>\n",
       "      <td>I880-N</td>\n",
       "      <td>11.273</td>\n",
       "      <td>21.5</td>\n",
       "      <td>CHP</td>\n",
       "      <td>Hayward</td>\n",
       "      <td>I880 N / Alvarado Blvd Ofr</td>\n",
       "      <td>1125-Traffic Hazard</td>\n",
       "    </tr>\n",
       "    <tr>\n",
       "      <th>6696</th>\n",
       "      <td>17685024</td>\n",
       "      <td>12/28/17 17:34</td>\n",
       "      <td>8</td>\n",
       "      <td>I880-N</td>\n",
       "      <td>25.173</td>\n",
       "      <td>35.4</td>\n",
       "      <td>CHP</td>\n",
       "      <td>Oakland FSP</td>\n",
       "      <td>I880 N / Hegenberger Rd Ofr</td>\n",
       "      <td>1183-Trfc Collision-Unkn Inj</td>\n",
       "    </tr>\n",
       "    <tr>\n",
       "      <th>6697</th>\n",
       "      <td>17685025</td>\n",
       "      <td>12/28/17 17:33</td>\n",
       "      <td>22</td>\n",
       "      <td>I880-N</td>\n",
       "      <td>25.173</td>\n",
       "      <td>35.4</td>\n",
       "      <td>CHP</td>\n",
       "      <td>Oakland</td>\n",
       "      <td>I880 N / Hegenberger Rd Ofr</td>\n",
       "      <td>1183-Trfc Collision-Unkn Inj</td>\n",
       "    </tr>\n",
       "    <tr>\n",
       "      <th>6698</th>\n",
       "      <td>17685271</td>\n",
       "      <td>12/28/17 20:06</td>\n",
       "      <td>2</td>\n",
       "      <td>I880-N</td>\n",
       "      <td>9.1</td>\n",
       "      <td>9.1</td>\n",
       "      <td>CHP</td>\n",
       "      <td>San Jose</td>\n",
       "      <td>I880 N / Sr237 E Hov I880 N Con</td>\n",
       "      <td>CZP-Assist with Construction</td>\n",
       "    </tr>\n",
       "    <tr>\n",
       "      <th>6699</th>\n",
       "      <td>17685316</td>\n",
       "      <td>12/28/17 20:42</td>\n",
       "      <td>19</td>\n",
       "      <td>I880-N</td>\n",
       "      <td>20.573</td>\n",
       "      <td>30.8</td>\n",
       "      <td>CHP</td>\n",
       "      <td>Hayward</td>\n",
       "      <td>I880 N / I238</td>\n",
       "      <td>1182-Trfc Collision-No Inj</td>\n",
       "    </tr>\n",
       "    <tr>\n",
       "      <th>6700</th>\n",
       "      <td>17685606</td>\n",
       "      <td>12/29/17 5:32</td>\n",
       "      <td>25</td>\n",
       "      <td>I880-N</td>\n",
       "      <td>16.973</td>\n",
       "      <td>27.2</td>\n",
       "      <td>CHP</td>\n",
       "      <td>Hayward</td>\n",
       "      <td>I880 N / Sr92 W I880 N Con</td>\n",
       "      <td>1125-Traffic Hazard</td>\n",
       "    </tr>\n",
       "    <tr>\n",
       "      <th>6701</th>\n",
       "      <td>17685816</td>\n",
       "      <td>12/29/17 8:28</td>\n",
       "      <td>17</td>\n",
       "      <td>I880-N</td>\n",
       "      <td>24.773</td>\n",
       "      <td>35.0</td>\n",
       "      <td>CHP</td>\n",
       "      <td>Oakland</td>\n",
       "      <td>I880 N / 98th Ave E Onr</td>\n",
       "      <td>1125-Traffic Hazard</td>\n",
       "    </tr>\n",
       "    <tr>\n",
       "      <th>6702</th>\n",
       "      <td>17685858</td>\n",
       "      <td>12/29/17 8:55</td>\n",
       "      <td>6</td>\n",
       "      <td>I880-N</td>\n",
       "      <td>22.673</td>\n",
       "      <td>32.9</td>\n",
       "      <td>CHP</td>\n",
       "      <td>Hayward</td>\n",
       "      <td>I880 N / Marina Blvd E Ofr</td>\n",
       "      <td>1125-Traffic Hazard</td>\n",
       "    </tr>\n",
       "    <tr>\n",
       "      <th>6703</th>\n",
       "      <td>17685889</td>\n",
       "      <td>12/29/17 9:22</td>\n",
       "      <td>0</td>\n",
       "      <td>I880-N</td>\n",
       "      <td>3.373</td>\n",
       "      <td>13.6</td>\n",
       "      <td>CHP</td>\n",
       "      <td>Hayward FSP</td>\n",
       "      <td>I880 N / S Fremont Blvd N Onr</td>\n",
       "      <td>1125-Traffic Hazard</td>\n",
       "    </tr>\n",
       "    <tr>\n",
       "      <th>6704</th>\n",
       "      <td>17685890</td>\n",
       "      <td>12/29/17 9:20</td>\n",
       "      <td>19</td>\n",
       "      <td>I880-N</td>\n",
       "      <td>3.373</td>\n",
       "      <td>13.6</td>\n",
       "      <td>CHP</td>\n",
       "      <td>Hayward</td>\n",
       "      <td>I880 N / S Fremont Blvd N Onr</td>\n",
       "      <td>1125-Traffic Hazard</td>\n",
       "    </tr>\n",
       "    <tr>\n",
       "      <th>6705</th>\n",
       "      <td>17686105</td>\n",
       "      <td>12/29/17 11:32</td>\n",
       "      <td>77</td>\n",
       "      <td>I880-N</td>\n",
       "      <td>27.473</td>\n",
       "      <td>37.7</td>\n",
       "      <td>CHP</td>\n",
       "      <td>Oakland</td>\n",
       "      <td>I880 N / High St Ofr</td>\n",
       "      <td>1183-Trfc Collision-Unkn Inj</td>\n",
       "    </tr>\n",
       "    <tr>\n",
       "      <th>6706</th>\n",
       "      <td>17686133</td>\n",
       "      <td>12/29/17 11:45</td>\n",
       "      <td>8</td>\n",
       "      <td>I880-N</td>\n",
       "      <td>23.273</td>\n",
       "      <td>33.5</td>\n",
       "      <td>CHP</td>\n",
       "      <td>Hayward</td>\n",
       "      <td>I880 N / Davis St Ofr</td>\n",
       "      <td>ANIMAL-Live or Dead Animal</td>\n",
       "    </tr>\n",
       "    <tr>\n",
       "      <th>6707</th>\n",
       "      <td>17686242</td>\n",
       "      <td>12/29/17 12:48</td>\n",
       "      <td>23</td>\n",
       "      <td>I880-N</td>\n",
       "      <td>24.473</td>\n",
       "      <td>34.7</td>\n",
       "      <td>CHP</td>\n",
       "      <td>Oakland</td>\n",
       "      <td>I880 N / 98th Ave Ofr</td>\n",
       "      <td>1182-Trfc Collision-No Inj</td>\n",
       "    </tr>\n",
       "    <tr>\n",
       "      <th>6708</th>\n",
       "      <td>17686252</td>\n",
       "      <td>12/29/17 12:58</td>\n",
       "      <td>101</td>\n",
       "      <td>I880-N</td>\n",
       "      <td>15.673</td>\n",
       "      <td>25.9</td>\n",
       "      <td>CHP</td>\n",
       "      <td>Hayward</td>\n",
       "      <td>I880 N / Tennyson Rd Oc</td>\n",
       "      <td>1183-Trfc Collision-Unkn Inj</td>\n",
       "    </tr>\n",
       "    <tr>\n",
       "      <th>6709</th>\n",
       "      <td>17686311</td>\n",
       "      <td>12/29/17 13:26</td>\n",
       "      <td>4</td>\n",
       "      <td>I880-N</td>\n",
       "      <td>1.9</td>\n",
       "      <td>1.9</td>\n",
       "      <td>CHP</td>\n",
       "      <td>San Jose</td>\n",
       "      <td>I880 N / The Alameda Ofr</td>\n",
       "      <td>1125-Traffic Hazard</td>\n",
       "    </tr>\n",
       "    <tr>\n",
       "      <th>6710</th>\n",
       "      <td>17686608</td>\n",
       "      <td>12/29/17 15:49</td>\n",
       "      <td>20</td>\n",
       "      <td>I880-N</td>\n",
       "      <td>13.173</td>\n",
       "      <td>23.4</td>\n",
       "      <td>CHP</td>\n",
       "      <td>Hayward</td>\n",
       "      <td>I880 N / Alvarado Niles Rd Onr</td>\n",
       "      <td>1179-Trfc Collision-1141 Enrt</td>\n",
       "    </tr>\n",
       "    <tr>\n",
       "      <th>6711</th>\n",
       "      <td>17686785</td>\n",
       "      <td>12/29/17 17:28</td>\n",
       "      <td>9</td>\n",
       "      <td>I880-N</td>\n",
       "      <td>8.573</td>\n",
       "      <td>18.8</td>\n",
       "      <td>CHP</td>\n",
       "      <td>Hayward FSP</td>\n",
       "      <td>I880 N / Thornton Ave Ofr</td>\n",
       "      <td>1125-Traffic Hazard</td>\n",
       "    </tr>\n",
       "    <tr>\n",
       "      <th>6712</th>\n",
       "      <td>17687071</td>\n",
       "      <td>12/29/17 20:10</td>\n",
       "      <td>14</td>\n",
       "      <td>I880-N</td>\n",
       "      <td>13.973</td>\n",
       "      <td>24.2</td>\n",
       "      <td>CHP</td>\n",
       "      <td>Hayward</td>\n",
       "      <td>I880 N / Whipple Rd Onr</td>\n",
       "      <td>1125-Traffic Hazard</td>\n",
       "    </tr>\n",
       "    <tr>\n",
       "      <th>6713</th>\n",
       "      <td>17687115</td>\n",
       "      <td>12/29/17 21:02</td>\n",
       "      <td>27</td>\n",
       "      <td>I880-N</td>\n",
       "      <td>26.873</td>\n",
       "      <td>37.1</td>\n",
       "      <td>CHP</td>\n",
       "      <td>Oakland</td>\n",
       "      <td>I880 N / 66th Ave Onr</td>\n",
       "      <td>1183-Trfc Collision-Unkn Inj</td>\n",
       "    </tr>\n",
       "    <tr>\n",
       "      <th>6714</th>\n",
       "      <td>17687220</td>\n",
       "      <td>12/29/17 22:58</td>\n",
       "      <td>13</td>\n",
       "      <td>I880-N</td>\n",
       "      <td>R33.173</td>\n",
       "      <td>43.4</td>\n",
       "      <td>CHP</td>\n",
       "      <td>Oakland</td>\n",
       "      <td>I880 N / 7th St Ofr</td>\n",
       "      <td>1125-Traffic Hazard</td>\n",
       "    </tr>\n",
       "    <tr>\n",
       "      <th>6715</th>\n",
       "      <td>17687250</td>\n",
       "      <td>12/29/17 23:34</td>\n",
       "      <td>103</td>\n",
       "      <td>I880-N</td>\n",
       "      <td>28.873</td>\n",
       "      <td>39.1</td>\n",
       "      <td>CHP</td>\n",
       "      <td>Oakland</td>\n",
       "      <td>I880 N / 23rd Ave Ofr</td>\n",
       "      <td>1183-Trfc Collision-Unkn Inj</td>\n",
       "    </tr>\n",
       "    <tr>\n",
       "      <th>6716</th>\n",
       "      <td>17687349</td>\n",
       "      <td>12/30/17 1:14</td>\n",
       "      <td>40</td>\n",
       "      <td>I880-N</td>\n",
       "      <td>0.4</td>\n",
       "      <td>0.4</td>\n",
       "      <td>CHP</td>\n",
       "      <td>San Jose</td>\n",
       "      <td>I880 N / I280 S I880 N Con</td>\n",
       "      <td>1183-Trfc Collision-Unkn Inj</td>\n",
       "    </tr>\n",
       "    <tr>\n",
       "      <th>6717</th>\n",
       "      <td>17687737</td>\n",
       "      <td>12/30/17 10:08</td>\n",
       "      <td>13</td>\n",
       "      <td>I880-N</td>\n",
       "      <td>19.973</td>\n",
       "      <td>30.2</td>\n",
       "      <td>CHP</td>\n",
       "      <td>Hayward</td>\n",
       "      <td>Hesperian Blvd Ofr / I880 N</td>\n",
       "      <td>1182-Trfc Collision-No Inj</td>\n",
       "    </tr>\n",
       "    <tr>\n",
       "      <th>6718</th>\n",
       "      <td>17688055</td>\n",
       "      <td>12/30/17 13:53</td>\n",
       "      <td>21</td>\n",
       "      <td>I880-N</td>\n",
       "      <td>R0.298</td>\n",
       "      <td>10.8</td>\n",
       "      <td>CHP</td>\n",
       "      <td>San Jose</td>\n",
       "      <td>Dixon Landing Rd Onr / I880 N</td>\n",
       "      <td>1125-Traffic Hazard</td>\n",
       "    </tr>\n",
       "    <tr>\n",
       "      <th>6719</th>\n",
       "      <td>17688248</td>\n",
       "      <td>12/30/17 15:49</td>\n",
       "      <td>8</td>\n",
       "      <td>I880-N</td>\n",
       "      <td>17.273</td>\n",
       "      <td>27.5</td>\n",
       "      <td>CHP</td>\n",
       "      <td>Hayward</td>\n",
       "      <td>I880 N / W Winton Ave Ofr</td>\n",
       "      <td>1125-Traffic Hazard</td>\n",
       "    </tr>\n",
       "    <tr>\n",
       "      <th>6720</th>\n",
       "      <td>17688524</td>\n",
       "      <td>12/30/17 18:49</td>\n",
       "      <td>15</td>\n",
       "      <td>I880-N</td>\n",
       "      <td>1.9</td>\n",
       "      <td>1.9</td>\n",
       "      <td>CHP</td>\n",
       "      <td>San Jose</td>\n",
       "      <td>I880 N / The Alameda Ofr</td>\n",
       "      <td>1125-Traffic Hazard</td>\n",
       "    </tr>\n",
       "    <tr>\n",
       "      <th>6721</th>\n",
       "      <td>17688598</td>\n",
       "      <td>12/30/17 19:56</td>\n",
       "      <td>30</td>\n",
       "      <td>I880-N</td>\n",
       "      <td>26.873</td>\n",
       "      <td>37.1</td>\n",
       "      <td>CHP</td>\n",
       "      <td>Oakland</td>\n",
       "      <td>I880 N / 66th Ave Onr</td>\n",
       "      <td>1183-Trfc Collision-Unkn Inj</td>\n",
       "    </tr>\n",
       "    <tr>\n",
       "      <th>6722</th>\n",
       "      <td>17688646</td>\n",
       "      <td>12/30/17 20:49</td>\n",
       "      <td>10</td>\n",
       "      <td>I880-N</td>\n",
       "      <td>3</td>\n",
       "      <td>3.0</td>\n",
       "      <td>CHP</td>\n",
       "      <td>San Jose</td>\n",
       "      <td>I880 N / Coleman Ave Onr</td>\n",
       "      <td>FIRE-Report of Fire</td>\n",
       "    </tr>\n",
       "  </tbody>\n",
       "</table>\n",
       "<p>6723 rows × 10 columns</p>\n",
       "</div>"
      ],
      "text/plain": [
       "      Incident_Id      Start_Time  Duration_(mins) Freeway    CA_PM  Abs_PM  \\\n",
       "0        16917059     1/1/17 0:24                3  I880-N      0.4     0.4   \n",
       "1        16917196     1/1/17 2:14               14  I880-N  R34.773    45.0   \n",
       "2        16917233     1/1/17 2:44                6  I880-N    3.673    13.9   \n",
       "3        16917332     1/1/17 4:31                2  I880-N   20.473    30.7   \n",
       "4        16917615     1/1/17 9:25               12  I880-N   17.273    27.5   \n",
       "5        16917677    1/1/17 10:59               43  I880-N    8.573    18.8   \n",
       "6        16917744    1/1/17 11:52                9  I880-N   16.373    26.6   \n",
       "7        16917873    1/1/17 13:27               10  I880-N   25.673    35.9   \n",
       "8        16918027    1/1/17 16:11                3  I880-N   15.273    25.5   \n",
       "9        16918100    1/1/17 17:02               11  I880-N   12.773    23.0   \n",
       "10       16918603     1/2/17 0:33                1  I880-N   23.773    34.0   \n",
       "11       16919269    1/2/17 12:28                4  I880-N   27.373    37.6   \n",
       "12       16919410    1/2/17 13:45                3  I880-N   22.673    32.9   \n",
       "13       16919709    1/2/17 17:56                8  I880-N   15.273    25.5   \n",
       "14       16919951    1/2/17 20:43                3  I880-N      0.4     0.4   \n",
       "15       16920069    1/2/17 22:21                1  I880-N    4.373    14.6   \n",
       "16       16920207     1/3/17 0:58                3  I880-N   18.173    28.4   \n",
       "17       16920394     1/3/17 6:01               63  I880-N   R1.498    12.0   \n",
       "18       16920449     1/3/17 6:42               11  I880-N   R1.498    12.0   \n",
       "19       16920643     1/3/17 8:30               26  I880-N    2.273    12.5   \n",
       "20       16920834    1/3/17 10:21              418  I880-N   27.373    37.6   \n",
       "21       16920847    1/3/17 10:25                4  I880-N   28.573    38.8   \n",
       "22       16920862    1/3/17 10:27               17  I880-N   29.173    39.4   \n",
       "23       16920873    1/3/17 10:37                8  I880-N   29.173    39.4   \n",
       "24       16920922    1/3/17 11:06               27  I880-N   28.573    38.8   \n",
       "25       16920935    1/3/17 11:15               19  I880-N   28.873    39.1   \n",
       "26       16920943    1/3/17 11:20                8  I880-N   28.873    39.1   \n",
       "27       16921033    1/3/17 12:13                1  I880-N   R0.298    10.8   \n",
       "28       16921047    1/3/17 12:14                5  I880-N      5.3     5.3   \n",
       "29       16921152    1/3/17 13:11                3  I880-N   29.173    39.4   \n",
       "...           ...             ...              ...     ...      ...     ...   \n",
       "6693     17684718  12/28/17 14:59               27  I880-N    6.273    16.5   \n",
       "6694     17684941  12/28/17 16:53                3  I880-N   27.473    37.7   \n",
       "6695     17684959  12/28/17 17:00                0  I880-N   11.273    21.5   \n",
       "6696     17685024  12/28/17 17:34                8  I880-N   25.173    35.4   \n",
       "6697     17685025  12/28/17 17:33               22  I880-N   25.173    35.4   \n",
       "6698     17685271  12/28/17 20:06                2  I880-N      9.1     9.1   \n",
       "6699     17685316  12/28/17 20:42               19  I880-N   20.573    30.8   \n",
       "6700     17685606   12/29/17 5:32               25  I880-N   16.973    27.2   \n",
       "6701     17685816   12/29/17 8:28               17  I880-N   24.773    35.0   \n",
       "6702     17685858   12/29/17 8:55                6  I880-N   22.673    32.9   \n",
       "6703     17685889   12/29/17 9:22                0  I880-N    3.373    13.6   \n",
       "6704     17685890   12/29/17 9:20               19  I880-N    3.373    13.6   \n",
       "6705     17686105  12/29/17 11:32               77  I880-N   27.473    37.7   \n",
       "6706     17686133  12/29/17 11:45                8  I880-N   23.273    33.5   \n",
       "6707     17686242  12/29/17 12:48               23  I880-N   24.473    34.7   \n",
       "6708     17686252  12/29/17 12:58              101  I880-N   15.673    25.9   \n",
       "6709     17686311  12/29/17 13:26                4  I880-N      1.9     1.9   \n",
       "6710     17686608  12/29/17 15:49               20  I880-N   13.173    23.4   \n",
       "6711     17686785  12/29/17 17:28                9  I880-N    8.573    18.8   \n",
       "6712     17687071  12/29/17 20:10               14  I880-N   13.973    24.2   \n",
       "6713     17687115  12/29/17 21:02               27  I880-N   26.873    37.1   \n",
       "6714     17687220  12/29/17 22:58               13  I880-N  R33.173    43.4   \n",
       "6715     17687250  12/29/17 23:34              103  I880-N   28.873    39.1   \n",
       "6716     17687349   12/30/17 1:14               40  I880-N      0.4     0.4   \n",
       "6717     17687737  12/30/17 10:08               13  I880-N   19.973    30.2   \n",
       "6718     17688055  12/30/17 13:53               21  I880-N   R0.298    10.8   \n",
       "6719     17688248  12/30/17 15:49                8  I880-N   17.273    27.5   \n",
       "6720     17688524  12/30/17 18:49               15  I880-N      1.9     1.9   \n",
       "6721     17688598  12/30/17 19:56               30  I880-N   26.873    37.1   \n",
       "6722     17688646  12/30/17 20:49               10  I880-N        3     3.0   \n",
       "\n",
       "     Source         AREA                                      LOCATION  \\\n",
       "0       CHP     San Jose                    I880 N / I280 S I880 N Con   \n",
       "1       CHP      Oakland  I880 N West Grand Ave Onr / I880 N I80 E Con   \n",
       "2       CHP      Hayward                I880 N / Nimitz Cvef Scale Ofr   \n",
       "3       CHP      Hayward                   I880 N / Lewelling Blvd Onr   \n",
       "4       CHP      Hayward                     I880 N / W Winton Ave Ofr   \n",
       "5       CHP      Hayward                     I880 N / Thornton Ave Ofr   \n",
       "6       CHP      Hayward                      I880 N / I880 N Sr92 Con   \n",
       "7       CHP      Oakland                 I880 N / Hegenberger Rd W Onr   \n",
       "8       CHP      Hayward                    I880 N / W Tennyson Rd Ofr   \n",
       "9       CHP      Hayward                I880 N / Alvarado Niles Rd Ofr   \n",
       "10      CHP      Hayward                         I880 N / Davis St Onr   \n",
       "11      CHP      Oakland                          I880 N / High St Ofr   \n",
       "12      CHP      Hayward                    I880 N / Marina Blvd E Ofr   \n",
       "13      CHP      Hayward                    I880 N / W Tennyson Rd Ofr   \n",
       "14      CHP     San Jose                    I880 N / I280 S I880 N Con   \n",
       "15      CHP      Hayward                   I880 N / Auto Mall Pkwy Ofr   \n",
       "16      CHP      Hayward                           I880 N / W A St Ofr   \n",
       "17      CHP      Hayward                     I880 N / Mission Blvd Ofr   \n",
       "18      CHP  Hayward FSP                     I880 N / Mission Blvd Ofr   \n",
       "19      CHP  Hayward FSP                     I880 N / W Warren Ave Ofr   \n",
       "20      CHP      Oakland                          I880 N / High St Ofr   \n",
       "21      CHP  Oakland FSP                         I880 N / 29th Ave Ofr   \n",
       "22      CHP      Oakland                       I880 N / 23rd Ave S Onr   \n",
       "23      CHP  Oakland FSP                       I880 N / 23rd Ave S Onr   \n",
       "24      CHP      Oakland                         I880 N / 29th Ave Ofr   \n",
       "25      CHP      Oakland                         I880 N / 29th Ave Onr   \n",
       "26      CHP  Oakland FSP                         I880 N / 29th Ave Onr   \n",
       "27      CHP      Hayward                 I880 N / Dixon Landing Rd Onr   \n",
       "28      CHP     San Jose                      I880 N / E Brokaw Rd Onr   \n",
       "29      CHP      Oakland                       I880 N / 23rd Ave S Onr   \n",
       "...     ...          ...                                           ...   \n",
       "6693    CHP      Hayward                 I880 N / Stevenson Blvd E Onr   \n",
       "6694    CHP      Oakland                          I880 N / High St Ofr   \n",
       "6695    CHP      Hayward                    I880 N / Alvarado Blvd Ofr   \n",
       "6696    CHP  Oakland FSP                   I880 N / Hegenberger Rd Ofr   \n",
       "6697    CHP      Oakland                   I880 N / Hegenberger Rd Ofr   \n",
       "6698    CHP     San Jose               I880 N / Sr237 E Hov I880 N Con   \n",
       "6699    CHP      Hayward                                 I880 N / I238   \n",
       "6700    CHP      Hayward                    I880 N / Sr92 W I880 N Con   \n",
       "6701    CHP      Oakland                       I880 N / 98th Ave E Onr   \n",
       "6702    CHP      Hayward                    I880 N / Marina Blvd E Ofr   \n",
       "6703    CHP  Hayward FSP                 I880 N / S Fremont Blvd N Onr   \n",
       "6704    CHP      Hayward                 I880 N / S Fremont Blvd N Onr   \n",
       "6705    CHP      Oakland                          I880 N / High St Ofr   \n",
       "6706    CHP      Hayward                         I880 N / Davis St Ofr   \n",
       "6707    CHP      Oakland                         I880 N / 98th Ave Ofr   \n",
       "6708    CHP      Hayward                       I880 N / Tennyson Rd Oc   \n",
       "6709    CHP     San Jose                      I880 N / The Alameda Ofr   \n",
       "6710    CHP      Hayward                I880 N / Alvarado Niles Rd Onr   \n",
       "6711    CHP  Hayward FSP                     I880 N / Thornton Ave Ofr   \n",
       "6712    CHP      Hayward                       I880 N / Whipple Rd Onr   \n",
       "6713    CHP      Oakland                         I880 N / 66th Ave Onr   \n",
       "6714    CHP      Oakland                           I880 N / 7th St Ofr   \n",
       "6715    CHP      Oakland                         I880 N / 23rd Ave Ofr   \n",
       "6716    CHP     San Jose                    I880 N / I280 S I880 N Con   \n",
       "6717    CHP      Hayward                   Hesperian Blvd Ofr / I880 N   \n",
       "6718    CHP     San Jose                 Dixon Landing Rd Onr / I880 N   \n",
       "6719    CHP      Hayward                     I880 N / W Winton Ave Ofr   \n",
       "6720    CHP     San Jose                      I880 N / The Alameda Ofr   \n",
       "6721    CHP      Oakland                         I880 N / 66th Ave Onr   \n",
       "6722    CHP     San Jose                      I880 N / Coleman Ave Onr   \n",
       "\n",
       "                        DESCRIPTION  \n",
       "0      1183-Trfc Collision-Unkn Inj  \n",
       "1      1183-Trfc Collision-Unkn Inj  \n",
       "2      1183-Trfc Collision-Unkn Inj  \n",
       "3     20002-Hit and Run No Injuries  \n",
       "4               1125-Traffic Hazard  \n",
       "5               1125-Traffic Hazard  \n",
       "6               1125-Traffic Hazard  \n",
       "7               1125A-Animal Hazard  \n",
       "8               1125-Traffic Hazard  \n",
       "9               1125-Traffic Hazard  \n",
       "10              1125-Traffic Hazard  \n",
       "11              1125-Traffic Hazard  \n",
       "12     1183-Trfc Collision-Unkn Inj  \n",
       "13              1125-Traffic Hazard  \n",
       "14     1183-Trfc Collision-Unkn Inj  \n",
       "15              1125-Traffic Hazard  \n",
       "16              1125-Traffic Hazard  \n",
       "17       1182-Trfc Collision-No Inj  \n",
       "18     1183-Trfc Collision-Unkn Inj  \n",
       "19              1125-Traffic Hazard  \n",
       "20    20002-Hit and Run No Injuries  \n",
       "21     1183-Trfc Collision-Unkn Inj  \n",
       "22              1125-Traffic Hazard  \n",
       "23              1125-Traffic Hazard  \n",
       "24              1125-Traffic Hazard  \n",
       "25              1125-Traffic Hazard  \n",
       "26              1125-Traffic Hazard  \n",
       "27              1125-Traffic Hazard  \n",
       "28     1183-Trfc Collision-Unkn Inj  \n",
       "29              1125-Traffic Hazard  \n",
       "...                             ...  \n",
       "6693            1125-Traffic Hazard  \n",
       "6694            1125-Traffic Hazard  \n",
       "6695            1125-Traffic Hazard  \n",
       "6696   1183-Trfc Collision-Unkn Inj  \n",
       "6697   1183-Trfc Collision-Unkn Inj  \n",
       "6698   CZP-Assist with Construction  \n",
       "6699     1182-Trfc Collision-No Inj  \n",
       "6700            1125-Traffic Hazard  \n",
       "6701            1125-Traffic Hazard  \n",
       "6702            1125-Traffic Hazard  \n",
       "6703            1125-Traffic Hazard  \n",
       "6704            1125-Traffic Hazard  \n",
       "6705   1183-Trfc Collision-Unkn Inj  \n",
       "6706     ANIMAL-Live or Dead Animal  \n",
       "6707     1182-Trfc Collision-No Inj  \n",
       "6708   1183-Trfc Collision-Unkn Inj  \n",
       "6709            1125-Traffic Hazard  \n",
       "6710  1179-Trfc Collision-1141 Enrt  \n",
       "6711            1125-Traffic Hazard  \n",
       "6712            1125-Traffic Hazard  \n",
       "6713   1183-Trfc Collision-Unkn Inj  \n",
       "6714            1125-Traffic Hazard  \n",
       "6715   1183-Trfc Collision-Unkn Inj  \n",
       "6716   1183-Trfc Collision-Unkn Inj  \n",
       "6717     1182-Trfc Collision-No Inj  \n",
       "6718            1125-Traffic Hazard  \n",
       "6719            1125-Traffic Hazard  \n",
       "6720            1125-Traffic Hazard  \n",
       "6721   1183-Trfc Collision-Unkn Inj  \n",
       "6722            FIRE-Report of Fire  \n",
       "\n",
       "[6723 rows x 10 columns]"
      ]
     },
     "execution_count": 19,
     "metadata": {},
     "output_type": "execute_result"
    }
   ],
   "source": [
    "incidents"
   ]
  },
  {
   "cell_type": "markdown",
   "metadata": {},
   "source": [
    "## Sample Date for Testing"
   ]
  },
  {
   "cell_type": "code",
   "execution_count": 26,
   "metadata": {},
   "outputs": [],
   "source": [
    "# break column `5 minutes` into timestamps, and add date and time columns \n",
    "# to flow_speed_1 and occ_1\n",
    "# sample a few for test\n",
    "flow_speed_sample = flow_speed_1.sample(n=10, replace=True)"
   ]
  },
  {
   "cell_type": "code",
   "execution_count": 27,
   "metadata": {},
   "outputs": [
    {
     "data": {
      "text/html": [
       "<div>\n",
       "<style scoped>\n",
       "    .dataframe tbody tr th:only-of-type {\n",
       "        vertical-align: middle;\n",
       "    }\n",
       "\n",
       "    .dataframe tbody tr th {\n",
       "        vertical-align: top;\n",
       "    }\n",
       "\n",
       "    .dataframe thead th {\n",
       "        text-align: right;\n",
       "    }\n",
       "</style>\n",
       "<table border=\"1\" class=\"dataframe\">\n",
       "  <thead>\n",
       "    <tr style=\"text-align: right;\">\n",
       "      <th></th>\n",
       "      <th>Station ID</th>\n",
       "      <th>5 Minutes</th>\n",
       "      <th>Flow (Veh/5 Minutes)</th>\n",
       "      <th>Speed (mph)</th>\n",
       "      <th># Lane Points</th>\n",
       "      <th>% Observed</th>\n",
       "    </tr>\n",
       "  </thead>\n",
       "  <tbody>\n",
       "    <tr>\n",
       "      <th>1995792</th>\n",
       "      <td>402290</td>\n",
       "      <td>08/18/2017 00:45</td>\n",
       "      <td>132.0</td>\n",
       "      <td>66.0</td>\n",
       "      <td>7</td>\n",
       "      <td>0.0</td>\n",
       "    </tr>\n",
       "    <tr>\n",
       "      <th>3376822</th>\n",
       "      <td>401639</td>\n",
       "      <td>03/23/2017 02:55</td>\n",
       "      <td>44.0</td>\n",
       "      <td>67.1</td>\n",
       "      <td>4</td>\n",
       "      <td>100.0</td>\n",
       "    </tr>\n",
       "    <tr>\n",
       "      <th>1298938</th>\n",
       "      <td>402286</td>\n",
       "      <td>10/08/2017 23:45</td>\n",
       "      <td>264.0</td>\n",
       "      <td>63.1</td>\n",
       "      <td>5</td>\n",
       "      <td>0.0</td>\n",
       "    </tr>\n",
       "    <tr>\n",
       "      <th>497146</th>\n",
       "      <td>400343</td>\n",
       "      <td>11/19/2017 13:20</td>\n",
       "      <td>350.0</td>\n",
       "      <td>59.6</td>\n",
       "      <td>3</td>\n",
       "      <td>100.0</td>\n",
       "    </tr>\n",
       "    <tr>\n",
       "      <th>675497</th>\n",
       "      <td>400045</td>\n",
       "      <td>08/21/2017 22:15</td>\n",
       "      <td>151.0</td>\n",
       "      <td>68.6</td>\n",
       "      <td>4</td>\n",
       "      <td>0.0</td>\n",
       "    </tr>\n",
       "    <tr>\n",
       "      <th>2623051</th>\n",
       "      <td>402789</td>\n",
       "      <td>10/19/2017 09:30</td>\n",
       "      <td>464.0</td>\n",
       "      <td>46.5</td>\n",
       "      <td>4</td>\n",
       "      <td>100.0</td>\n",
       "    </tr>\n",
       "    <tr>\n",
       "      <th>2334366</th>\n",
       "      <td>402800</td>\n",
       "      <td>12/17/2017 19:40</td>\n",
       "      <td>385.0</td>\n",
       "      <td>68.5</td>\n",
       "      <td>5</td>\n",
       "      <td>100.0</td>\n",
       "    </tr>\n",
       "    <tr>\n",
       "      <th>8306</th>\n",
       "      <td>408907</td>\n",
       "      <td>01/31/2017 20:10</td>\n",
       "      <td>205.0</td>\n",
       "      <td>65.7</td>\n",
       "      <td>3</td>\n",
       "      <td>0.0</td>\n",
       "    </tr>\n",
       "    <tr>\n",
       "      <th>233976</th>\n",
       "      <td>400057</td>\n",
       "      <td>04/20/2017 14:35</td>\n",
       "      <td>373.0</td>\n",
       "      <td>58.9</td>\n",
       "      <td>3</td>\n",
       "      <td>100.0</td>\n",
       "    </tr>\n",
       "    <tr>\n",
       "      <th>1637290</th>\n",
       "      <td>401464</td>\n",
       "      <td>02/10/2017 00:10</td>\n",
       "      <td>108.0</td>\n",
       "      <td>68.6</td>\n",
       "      <td>4</td>\n",
       "      <td>100.0</td>\n",
       "    </tr>\n",
       "  </tbody>\n",
       "</table>\n",
       "</div>"
      ],
      "text/plain": [
       "         Station ID         5 Minutes  Flow (Veh/5 Minutes)  Speed (mph)  \\\n",
       "1995792      402290  08/18/2017 00:45                 132.0         66.0   \n",
       "3376822      401639  03/23/2017 02:55                  44.0         67.1   \n",
       "1298938      402286  10/08/2017 23:45                 264.0         63.1   \n",
       "497146       400343  11/19/2017 13:20                 350.0         59.6   \n",
       "675497       400045  08/21/2017 22:15                 151.0         68.6   \n",
       "2623051      402789  10/19/2017 09:30                 464.0         46.5   \n",
       "2334366      402800  12/17/2017 19:40                 385.0         68.5   \n",
       "8306         408907  01/31/2017 20:10                 205.0         65.7   \n",
       "233976       400057  04/20/2017 14:35                 373.0         58.9   \n",
       "1637290      401464  02/10/2017 00:10                 108.0         68.6   \n",
       "\n",
       "         # Lane Points  % Observed  \n",
       "1995792              7         0.0  \n",
       "3376822              4       100.0  \n",
       "1298938              5         0.0  \n",
       "497146               3       100.0  \n",
       "675497               4         0.0  \n",
       "2623051              4       100.0  \n",
       "2334366              5       100.0  \n",
       "8306                 3         0.0  \n",
       "233976               3       100.0  \n",
       "1637290              4       100.0  "
      ]
     },
     "execution_count": 27,
     "metadata": {},
     "output_type": "execute_result"
    }
   ],
   "source": [
    "flows"
   ]
  },
  {
   "cell_type": "code",
   "execution_count": 34,
   "metadata": {},
   "outputs": [],
   "source": [
    "flow_speed_sample[\"5 Minutes\"] = flow_speed_sample[\"5 Minutes\"].apply(lambda x: pd.to_datetime(x))"
   ]
  },
  {
   "cell_type": "code",
   "execution_count": 35,
   "metadata": {},
   "outputs": [
    {
     "data": {
      "text/plain": [
       "dtype('<M8[ns]')"
      ]
     },
     "execution_count": 35,
     "metadata": {},
     "output_type": "execute_result"
    }
   ],
   "source": [
    "flow_speed_sample[\"5 Minutes\"].dtypes"
   ]
  },
  {
   "cell_type": "code",
   "execution_count": 36,
   "metadata": {},
   "outputs": [],
   "source": [
    "# Now apply to all data\n",
    "flow_speed_1[\"5 Minutes\"] = flow_speed_1[\"5 Minutes\"].apply(lambda x: pd.to_datetime(x))"
   ]
  },
  {
   "cell_type": "code",
   "execution_count": 37,
   "metadata": {},
   "outputs": [],
   "source": [
    "occ_1[\"5 Minutes\"] = occ_1[\"5 Minutes\"].apply(lambda x: pd.to_datetime(x))"
   ]
  },
  {
   "cell_type": "code",
   "execution_count": 39,
   "metadata": {},
   "outputs": [],
   "source": [
    "flow_speed_1[\"Date\"] = flow_speed_1[\"5 Minutes\"].dt.date"
   ]
  },
  {
   "cell_type": "code",
   "execution_count": 41,
   "metadata": {},
   "outputs": [],
   "source": [
    "flow_speed_1[\"Time\"] = flow_speed_1[\"5 Minutes\"].dt.time"
   ]
  },
  {
   "cell_type": "code",
   "execution_count": 42,
   "metadata": {},
   "outputs": [],
   "source": [
    "occ_1[\"Date\"] = occ_1[\"5 Minutes\"].dt.date\n",
    "occ_1[\"Time\"] = occ_1[\"5 Minutes\"].dt.time"
   ]
  },
  {
   "cell_type": "code",
   "execution_count": 43,
   "metadata": {},
   "outputs": [
    {
     "data": {
      "text/html": [
       "<div>\n",
       "<style scoped>\n",
       "    .dataframe tbody tr th:only-of-type {\n",
       "        vertical-align: middle;\n",
       "    }\n",
       "\n",
       "    .dataframe tbody tr th {\n",
       "        vertical-align: top;\n",
       "    }\n",
       "\n",
       "    .dataframe thead th {\n",
       "        text-align: right;\n",
       "    }\n",
       "</style>\n",
       "<table border=\"1\" class=\"dataframe\">\n",
       "  <thead>\n",
       "    <tr style=\"text-align: right;\">\n",
       "      <th></th>\n",
       "      <th>Station ID</th>\n",
       "      <th>5 Minutes</th>\n",
       "      <th>Occupancy (%)</th>\n",
       "      <th># Lane Points</th>\n",
       "      <th>% Observed</th>\n",
       "      <th>Date</th>\n",
       "      <th>Time</th>\n",
       "    </tr>\n",
       "  </thead>\n",
       "  <tbody>\n",
       "    <tr>\n",
       "      <th>3557623</th>\n",
       "      <td>400662</td>\n",
       "      <td>2017-12-30 23:35:00</td>\n",
       "      <td>2.8</td>\n",
       "      <td>4</td>\n",
       "      <td>100.0</td>\n",
       "      <td>2017-12-30</td>\n",
       "      <td>23:35:00</td>\n",
       "    </tr>\n",
       "    <tr>\n",
       "      <th>3557624</th>\n",
       "      <td>400662</td>\n",
       "      <td>2017-12-30 23:40:00</td>\n",
       "      <td>3.0</td>\n",
       "      <td>4</td>\n",
       "      <td>100.0</td>\n",
       "      <td>2017-12-30</td>\n",
       "      <td>23:40:00</td>\n",
       "    </tr>\n",
       "    <tr>\n",
       "      <th>3557625</th>\n",
       "      <td>400662</td>\n",
       "      <td>2017-12-30 23:45:00</td>\n",
       "      <td>2.5</td>\n",
       "      <td>4</td>\n",
       "      <td>100.0</td>\n",
       "      <td>2017-12-30</td>\n",
       "      <td>23:45:00</td>\n",
       "    </tr>\n",
       "    <tr>\n",
       "      <th>3557626</th>\n",
       "      <td>400662</td>\n",
       "      <td>2017-12-30 23:50:00</td>\n",
       "      <td>2.8</td>\n",
       "      <td>4</td>\n",
       "      <td>100.0</td>\n",
       "      <td>2017-12-30</td>\n",
       "      <td>23:50:00</td>\n",
       "    </tr>\n",
       "    <tr>\n",
       "      <th>3557627</th>\n",
       "      <td>400662</td>\n",
       "      <td>2017-12-30 23:55:00</td>\n",
       "      <td>3.1</td>\n",
       "      <td>4</td>\n",
       "      <td>100.0</td>\n",
       "      <td>2017-12-30</td>\n",
       "      <td>23:55:00</td>\n",
       "    </tr>\n",
       "  </tbody>\n",
       "</table>\n",
       "</div>"
      ],
      "text/plain": [
       "         Station ID           5 Minutes  Occupancy (%)  # Lane Points  \\\n",
       "3557623      400662 2017-12-30 23:35:00            2.8              4   \n",
       "3557624      400662 2017-12-30 23:40:00            3.0              4   \n",
       "3557625      400662 2017-12-30 23:45:00            2.5              4   \n",
       "3557626      400662 2017-12-30 23:50:00            2.8              4   \n",
       "3557627      400662 2017-12-30 23:55:00            3.1              4   \n",
       "\n",
       "         % Observed        Date      Time  \n",
       "3557623       100.0  2017-12-30  23:35:00  \n",
       "3557624       100.0  2017-12-30  23:40:00  \n",
       "3557625       100.0  2017-12-30  23:45:00  \n",
       "3557626       100.0  2017-12-30  23:50:00  \n",
       "3557627       100.0  2017-12-30  23:55:00  "
      ]
     },
     "execution_count": 43,
     "metadata": {},
     "output_type": "execute_result"
    }
   ],
   "source": [
    "occ_1.tail(5)"
   ]
  },
  {
   "cell_type": "code",
   "execution_count": 44,
   "metadata": {},
   "outputs": [],
   "source": [
    "flow_speed_1.to_csv(\"data/I88N-processed/flow_speed_1.csv\")\n",
    "occ_1.to_csv(\"data/I88N-processed/occ_1.csv\")"
   ]
  },
  {
   "cell_type": "code",
   "execution_count": 51,
   "metadata": {},
   "outputs": [
    {
     "data": {
      "text/plain": [
       "array([datetime.date(2017, 1, 1), datetime.date(2017, 1, 3),\n",
       "       datetime.date(2017, 1, 4), datetime.date(2017, 1, 5),\n",
       "       datetime.date(2017, 1, 6), datetime.date(2017, 1, 7),\n",
       "       datetime.date(2017, 1, 8), datetime.date(2017, 1, 9),\n",
       "       datetime.date(2017, 1, 10), datetime.date(2017, 1, 11),\n",
       "       datetime.date(2017, 1, 12), datetime.date(2017, 1, 13),\n",
       "       datetime.date(2017, 1, 14), datetime.date(2017, 1, 15),\n",
       "       datetime.date(2017, 1, 17), datetime.date(2017, 1, 18),\n",
       "       datetime.date(2017, 1, 19), datetime.date(2017, 1, 20),\n",
       "       datetime.date(2017, 1, 21), datetime.date(2017, 1, 22),\n",
       "       datetime.date(2017, 1, 23), datetime.date(2017, 1, 24),\n",
       "       datetime.date(2017, 1, 25), datetime.date(2017, 1, 26),\n",
       "       datetime.date(2017, 1, 27), datetime.date(2017, 1, 28),\n",
       "       datetime.date(2017, 1, 29), datetime.date(2017, 1, 30),\n",
       "       datetime.date(2017, 1, 31), datetime.date(2017, 2, 1),\n",
       "       datetime.date(2017, 2, 2), datetime.date(2017, 2, 3),\n",
       "       datetime.date(2017, 2, 4), datetime.date(2017, 2, 5),\n",
       "       datetime.date(2017, 2, 6), datetime.date(2017, 2, 7),\n",
       "       datetime.date(2017, 2, 8), datetime.date(2017, 2, 9),\n",
       "       datetime.date(2017, 2, 10), datetime.date(2017, 2, 11),\n",
       "       datetime.date(2017, 2, 12), datetime.date(2017, 2, 13),\n",
       "       datetime.date(2017, 2, 14), datetime.date(2017, 2, 15),\n",
       "       datetime.date(2017, 2, 16), datetime.date(2017, 2, 17),\n",
       "       datetime.date(2017, 2, 18), datetime.date(2017, 2, 19),\n",
       "       datetime.date(2017, 2, 21), datetime.date(2017, 2, 22),\n",
       "       datetime.date(2017, 2, 23), datetime.date(2017, 2, 24),\n",
       "       datetime.date(2017, 2, 25), datetime.date(2017, 2, 26),\n",
       "       datetime.date(2017, 2, 27), datetime.date(2017, 2, 28),\n",
       "       datetime.date(2017, 3, 1), datetime.date(2017, 3, 2),\n",
       "       datetime.date(2017, 3, 3), datetime.date(2017, 3, 4),\n",
       "       datetime.date(2017, 3, 5), datetime.date(2017, 3, 6),\n",
       "       datetime.date(2017, 3, 7), datetime.date(2017, 3, 8),\n",
       "       datetime.date(2017, 3, 9), datetime.date(2017, 3, 10),\n",
       "       datetime.date(2017, 3, 11), datetime.date(2017, 3, 12),\n",
       "       datetime.date(2017, 3, 13), datetime.date(2017, 3, 14),\n",
       "       datetime.date(2017, 3, 15), datetime.date(2017, 3, 16),\n",
       "       datetime.date(2017, 3, 17), datetime.date(2017, 3, 18),\n",
       "       datetime.date(2017, 3, 19), datetime.date(2017, 3, 20),\n",
       "       datetime.date(2017, 3, 21), datetime.date(2017, 3, 22),\n",
       "       datetime.date(2017, 3, 23), datetime.date(2017, 3, 24),\n",
       "       datetime.date(2017, 3, 25), datetime.date(2017, 3, 26),\n",
       "       datetime.date(2017, 3, 27), datetime.date(2017, 3, 28),\n",
       "       datetime.date(2017, 3, 29), datetime.date(2017, 3, 30),\n",
       "       datetime.date(2017, 3, 31), datetime.date(2017, 4, 1),\n",
       "       datetime.date(2017, 4, 2), datetime.date(2017, 4, 3),\n",
       "       datetime.date(2017, 4, 4), datetime.date(2017, 4, 5),\n",
       "       datetime.date(2017, 4, 6), datetime.date(2017, 4, 7),\n",
       "       datetime.date(2017, 4, 8), datetime.date(2017, 4, 9),\n",
       "       datetime.date(2017, 4, 10), datetime.date(2017, 4, 11),\n",
       "       datetime.date(2017, 4, 12), datetime.date(2017, 4, 13),\n",
       "       datetime.date(2017, 4, 14), datetime.date(2017, 4, 15),\n",
       "       datetime.date(2017, 4, 16), datetime.date(2017, 4, 17),\n",
       "       datetime.date(2017, 4, 18), datetime.date(2017, 4, 19),\n",
       "       datetime.date(2017, 4, 20), datetime.date(2017, 4, 21),\n",
       "       datetime.date(2017, 4, 22), datetime.date(2017, 4, 23),\n",
       "       datetime.date(2017, 4, 24), datetime.date(2017, 4, 25),\n",
       "       datetime.date(2017, 4, 26), datetime.date(2017, 4, 27),\n",
       "       datetime.date(2017, 4, 28), datetime.date(2017, 4, 29),\n",
       "       datetime.date(2017, 4, 30), datetime.date(2017, 5, 1),\n",
       "       datetime.date(2017, 5, 2), datetime.date(2017, 5, 3),\n",
       "       datetime.date(2017, 5, 4), datetime.date(2017, 5, 5),\n",
       "       datetime.date(2017, 5, 6), datetime.date(2017, 5, 7),\n",
       "       datetime.date(2017, 5, 8), datetime.date(2017, 5, 9),\n",
       "       datetime.date(2017, 5, 10), datetime.date(2017, 5, 11),\n",
       "       datetime.date(2017, 5, 12), datetime.date(2017, 5, 13),\n",
       "       datetime.date(2017, 5, 14), datetime.date(2017, 5, 15),\n",
       "       datetime.date(2017, 5, 16), datetime.date(2017, 5, 17),\n",
       "       datetime.date(2017, 5, 18), datetime.date(2017, 5, 19),\n",
       "       datetime.date(2017, 5, 20), datetime.date(2017, 5, 21),\n",
       "       datetime.date(2017, 5, 22), datetime.date(2017, 5, 23),\n",
       "       datetime.date(2017, 5, 24), datetime.date(2017, 5, 25),\n",
       "       datetime.date(2017, 5, 26), datetime.date(2017, 5, 27),\n",
       "       datetime.date(2017, 5, 28), datetime.date(2017, 5, 30),\n",
       "       datetime.date(2017, 5, 31), datetime.date(2017, 6, 1),\n",
       "       datetime.date(2017, 6, 2), datetime.date(2017, 6, 3),\n",
       "       datetime.date(2017, 6, 4), datetime.date(2017, 6, 5),\n",
       "       datetime.date(2017, 6, 6), datetime.date(2017, 6, 7),\n",
       "       datetime.date(2017, 6, 8), datetime.date(2017, 6, 9),\n",
       "       datetime.date(2017, 6, 10), datetime.date(2017, 6, 11),\n",
       "       datetime.date(2017, 6, 12), datetime.date(2017, 6, 13),\n",
       "       datetime.date(2017, 6, 14), datetime.date(2017, 6, 15),\n",
       "       datetime.date(2017, 6, 16), datetime.date(2017, 6, 17),\n",
       "       datetime.date(2017, 6, 18), datetime.date(2017, 6, 19),\n",
       "       datetime.date(2017, 6, 20), datetime.date(2017, 6, 21),\n",
       "       datetime.date(2017, 6, 22), datetime.date(2017, 6, 23),\n",
       "       datetime.date(2017, 6, 24), datetime.date(2017, 6, 25),\n",
       "       datetime.date(2017, 6, 26), datetime.date(2017, 6, 27),\n",
       "       datetime.date(2017, 6, 28), datetime.date(2017, 6, 29),\n",
       "       datetime.date(2017, 6, 30), datetime.date(2017, 7, 1),\n",
       "       datetime.date(2017, 7, 2), datetime.date(2017, 7, 3),\n",
       "       datetime.date(2017, 7, 5), datetime.date(2017, 7, 6),\n",
       "       datetime.date(2017, 7, 7), datetime.date(2017, 7, 8),\n",
       "       datetime.date(2017, 7, 9), datetime.date(2017, 7, 10),\n",
       "       datetime.date(2017, 7, 11), datetime.date(2017, 7, 12),\n",
       "       datetime.date(2017, 7, 13), datetime.date(2017, 7, 14),\n",
       "       datetime.date(2017, 7, 15), datetime.date(2017, 7, 16),\n",
       "       datetime.date(2017, 7, 17), datetime.date(2017, 7, 18),\n",
       "       datetime.date(2017, 7, 19), datetime.date(2017, 7, 20),\n",
       "       datetime.date(2017, 7, 21), datetime.date(2017, 7, 22),\n",
       "       datetime.date(2017, 7, 23), datetime.date(2017, 7, 24),\n",
       "       datetime.date(2017, 7, 25), datetime.date(2017, 7, 26),\n",
       "       datetime.date(2017, 7, 27), datetime.date(2017, 7, 28),\n",
       "       datetime.date(2017, 7, 29), datetime.date(2017, 7, 30),\n",
       "       datetime.date(2017, 7, 31), datetime.date(2017, 8, 1),\n",
       "       datetime.date(2017, 8, 2), datetime.date(2017, 8, 3),\n",
       "       datetime.date(2017, 8, 4), datetime.date(2017, 8, 5),\n",
       "       datetime.date(2017, 8, 6), datetime.date(2017, 8, 7),\n",
       "       datetime.date(2017, 8, 8), datetime.date(2017, 8, 9),\n",
       "       datetime.date(2017, 8, 10), datetime.date(2017, 8, 11),\n",
       "       datetime.date(2017, 8, 12), datetime.date(2017, 8, 13),\n",
       "       datetime.date(2017, 8, 14), datetime.date(2017, 8, 15),\n",
       "       datetime.date(2017, 8, 16), datetime.date(2017, 8, 17),\n",
       "       datetime.date(2017, 8, 18), datetime.date(2017, 8, 19),\n",
       "       datetime.date(2017, 8, 20), datetime.date(2017, 8, 21),\n",
       "       datetime.date(2017, 8, 22), datetime.date(2017, 8, 23),\n",
       "       datetime.date(2017, 8, 24), datetime.date(2017, 8, 25),\n",
       "       datetime.date(2017, 8, 26), datetime.date(2017, 8, 27),\n",
       "       datetime.date(2017, 8, 28), datetime.date(2017, 8, 29),\n",
       "       datetime.date(2017, 8, 30), datetime.date(2017, 8, 31),\n",
       "       datetime.date(2017, 9, 1), datetime.date(2017, 9, 2),\n",
       "       datetime.date(2017, 9, 3), datetime.date(2017, 9, 5),\n",
       "       datetime.date(2017, 9, 6), datetime.date(2017, 9, 7),\n",
       "       datetime.date(2017, 9, 8), datetime.date(2017, 9, 9),\n",
       "       datetime.date(2017, 9, 10), datetime.date(2017, 9, 11),\n",
       "       datetime.date(2017, 9, 12), datetime.date(2017, 9, 13),\n",
       "       datetime.date(2017, 9, 14), datetime.date(2017, 9, 15),\n",
       "       datetime.date(2017, 9, 16), datetime.date(2017, 9, 17),\n",
       "       datetime.date(2017, 9, 18), datetime.date(2017, 9, 19),\n",
       "       datetime.date(2017, 9, 20), datetime.date(2017, 9, 21),\n",
       "       datetime.date(2017, 9, 22), datetime.date(2017, 9, 23),\n",
       "       datetime.date(2017, 9, 24), datetime.date(2017, 9, 25),\n",
       "       datetime.date(2017, 9, 26), datetime.date(2017, 9, 27),\n",
       "       datetime.date(2017, 9, 28), datetime.date(2017, 9, 29),\n",
       "       datetime.date(2017, 9, 30), datetime.date(2017, 10, 1),\n",
       "       datetime.date(2017, 10, 2), datetime.date(2017, 10, 3),\n",
       "       datetime.date(2017, 10, 4), datetime.date(2017, 10, 5),\n",
       "       datetime.date(2017, 10, 6), datetime.date(2017, 10, 7),\n",
       "       datetime.date(2017, 10, 8), datetime.date(2017, 10, 10),\n",
       "       datetime.date(2017, 10, 11), datetime.date(2017, 10, 12),\n",
       "       datetime.date(2017, 10, 13), datetime.date(2017, 10, 14),\n",
       "       datetime.date(2017, 10, 15), datetime.date(2017, 10, 16),\n",
       "       datetime.date(2017, 10, 17), datetime.date(2017, 10, 18),\n",
       "       datetime.date(2017, 10, 19), datetime.date(2017, 10, 20),\n",
       "       datetime.date(2017, 10, 21), datetime.date(2017, 10, 22),\n",
       "       datetime.date(2017, 10, 23), datetime.date(2017, 10, 24),\n",
       "       datetime.date(2017, 10, 25), datetime.date(2017, 10, 26),\n",
       "       datetime.date(2017, 10, 27), datetime.date(2017, 10, 28),\n",
       "       datetime.date(2017, 10, 29), datetime.date(2017, 10, 30),\n",
       "       datetime.date(2017, 10, 31), datetime.date(2017, 11, 1),\n",
       "       datetime.date(2017, 11, 2), datetime.date(2017, 11, 3),\n",
       "       datetime.date(2017, 11, 4), datetime.date(2017, 11, 5),\n",
       "       datetime.date(2017, 11, 6), datetime.date(2017, 11, 7),\n",
       "       datetime.date(2017, 11, 8), datetime.date(2017, 11, 9),\n",
       "       datetime.date(2017, 11, 11), datetime.date(2017, 11, 12),\n",
       "       datetime.date(2017, 11, 13), datetime.date(2017, 11, 14),\n",
       "       datetime.date(2017, 11, 15), datetime.date(2017, 11, 16),\n",
       "       datetime.date(2017, 11, 17), datetime.date(2017, 11, 18),\n",
       "       datetime.date(2017, 11, 19), datetime.date(2017, 11, 20),\n",
       "       datetime.date(2017, 11, 21), datetime.date(2017, 11, 22),\n",
       "       datetime.date(2017, 11, 25), datetime.date(2017, 11, 26),\n",
       "       datetime.date(2017, 11, 27), datetime.date(2017, 11, 28),\n",
       "       datetime.date(2017, 11, 29), datetime.date(2017, 11, 30),\n",
       "       datetime.date(2017, 12, 1), datetime.date(2017, 12, 2),\n",
       "       datetime.date(2017, 12, 3), datetime.date(2017, 12, 4),\n",
       "       datetime.date(2017, 12, 5), datetime.date(2017, 12, 6),\n",
       "       datetime.date(2017, 12, 7), datetime.date(2017, 12, 8),\n",
       "       datetime.date(2017, 12, 9), datetime.date(2017, 12, 10),\n",
       "       datetime.date(2017, 12, 11), datetime.date(2017, 12, 12),\n",
       "       datetime.date(2017, 12, 13), datetime.date(2017, 12, 14),\n",
       "       datetime.date(2017, 12, 15), datetime.date(2017, 12, 16),\n",
       "       datetime.date(2017, 12, 17), datetime.date(2017, 12, 18),\n",
       "       datetime.date(2017, 12, 19), datetime.date(2017, 12, 20),\n",
       "       datetime.date(2017, 12, 21), datetime.date(2017, 12, 22),\n",
       "       datetime.date(2017, 12, 23), datetime.date(2017, 12, 24),\n",
       "       datetime.date(2017, 12, 26), datetime.date(2017, 12, 27),\n",
       "       datetime.date(2017, 12, 28), datetime.date(2017, 12, 29),\n",
       "       datetime.date(2017, 12, 30)], dtype=object)"
      ]
     },
     "execution_count": 51,
     "metadata": {},
     "output_type": "execute_result"
    }
   ],
   "source": [
    "# get all the available dates\n",
    "all_dates_1 = flow_speed_1[\"Date\"].unique()\n",
    "all_dates_1"
   ]
  },
  {
   "cell_type": "code",
   "execution_count": 52,
   "metadata": {},
   "outputs": [
    {
     "data": {
      "text/plain": [
       "353"
      ]
     },
     "execution_count": 52,
     "metadata": {},
     "output_type": "execute_result"
    }
   ],
   "source": [
    "all_dates_1.size"
   ]
  },
  {
   "cell_type": "code",
   "execution_count": 54,
   "metadata": {},
   "outputs": [],
   "source": [
    "all_stations_1 = flow_speed_1[\"Station ID\"].unique()"
   ]
  },
  {
   "cell_type": "code",
   "execution_count": 55,
   "metadata": {},
   "outputs": [
    {
     "data": {
      "text/plain": [
       "array([408907, 400951, 400057, 400147, 400343, 401560, 400045, 400122,\n",
       "       401541, 402281, 402283, 402285, 402286, 400088, 402288, 413026,\n",
       "       401464, 401489, 401538, 402290, 402292, 401643, 402800, 402828,\n",
       "       407219, 402789, 408755, 402802, 408756, 400189, 400309, 400417,\n",
       "       400249, 401639, 400662])"
      ]
     },
     "execution_count": 55,
     "metadata": {},
     "output_type": "execute_result"
    }
   ],
   "source": [
    "all_stations_1"
   ]
  },
  {
   "cell_type": "code",
   "execution_count": 56,
   "metadata": {},
   "outputs": [
    {
     "data": {
      "text/plain": [
       "35"
      ]
     },
     "execution_count": 56,
     "metadata": {},
     "output_type": "execute_result"
    }
   ],
   "source": [
    "all_stations_1.size"
   ]
  },
  {
   "cell_type": "code",
   "execution_count": 60,
   "metadata": {},
   "outputs": [],
   "source": [
    "all_stations = stations[\"ID\"].unique()"
   ]
  },
  {
   "cell_type": "code",
   "execution_count": 66,
   "metadata": {},
   "outputs": [
    {
     "data": {
      "text/plain": [
       "(102,)"
      ]
     },
     "execution_count": 66,
     "metadata": {},
     "output_type": "execute_result"
    }
   ],
   "source": [
    "all_stations.shape"
   ]
  },
  {
   "cell_type": "code",
   "execution_count": 67,
   "metadata": {},
   "outputs": [
    {
     "data": {
      "text/plain": [
       "(3557628, 8)"
      ]
     },
     "execution_count": 67,
     "metadata": {},
     "output_type": "execute_result"
    }
   ],
   "source": [
    "flow_speed_1.shape"
   ]
  },
  {
   "cell_type": "code",
   "execution_count": 68,
   "metadata": {},
   "outputs": [
    {
     "data": {
      "text/plain": [
       "(3557628, 7)"
      ]
     },
     "execution_count": 68,
     "metadata": {},
     "output_type": "execute_result"
    }
   ],
   "source": [
    "occ_1.shape"
   ]
  },
  {
   "cell_type": "code",
   "execution_count": null,
   "metadata": {},
   "outputs": [],
   "source": []
  },
  {
   "cell_type": "markdown",
   "metadata": {},
   "source": [
    "# Sample data for parameter tuning"
   ]
  },
  {
   "cell_type": "markdown",
   "metadata": {},
   "source": [
    "The paper took a bootstrapping approach to test statistically the performance. <br/>\n",
    "Bootstrap experiments were conducted 30 times.  At each time, 32 days' data were randomly sampled from all days with replacement."
   ]
  },
  {
   "cell_type": "markdown",
   "metadata": {},
   "source": [
    "We use a smaller dataset to test our code.  We have 353 days in the year of 2017, let's sample 10 days first."
   ]
  },
  {
   "cell_type": "code",
   "execution_count": 80,
   "metadata": {},
   "outputs": [],
   "source": [
    "import numpy as np\n",
    "import random"
   ]
  },
  {
   "cell_type": "code",
   "execution_count": 82,
   "metadata": {},
   "outputs": [
    {
     "data": {
      "text/plain": [
       "353"
      ]
     },
     "execution_count": 82,
     "metadata": {},
     "output_type": "execute_result"
    }
   ],
   "source": [
    "len(all_dates_1)"
   ]
  },
  {
   "cell_type": "code",
   "execution_count": 86,
   "metadata": {},
   "outputs": [],
   "source": [
    "# draw 10 random numbers from dates array\n",
    "random_indicies = random.sample(range(0, all_dates_1.size - 1), 10)\n",
    "random_indicies.sort()"
   ]
  },
  {
   "cell_type": "code",
   "execution_count": 87,
   "metadata": {},
   "outputs": [],
   "source": [
    "sample_dates_1 = all_dates_1[random_indicies]"
   ]
  },
  {
   "cell_type": "code",
   "execution_count": 88,
   "metadata": {},
   "outputs": [
    {
     "data": {
      "text/plain": [
       "array([datetime.date(2017, 1, 9), datetime.date(2017, 1, 15),\n",
       "       datetime.date(2017, 2, 26), datetime.date(2017, 4, 13),\n",
       "       datetime.date(2017, 4, 16), datetime.date(2017, 8, 6),\n",
       "       datetime.date(2017, 8, 20), datetime.date(2017, 10, 18),\n",
       "       datetime.date(2017, 10, 20), datetime.date(2017, 12, 13)],\n",
       "      dtype=object)"
      ]
     },
     "execution_count": 88,
     "metadata": {},
     "output_type": "execute_result"
    }
   ],
   "source": [
    "sample_dates_1"
   ]
  },
  {
   "cell_type": "code",
   "execution_count": 89,
   "metadata": {},
   "outputs": [],
   "source": [
    "sample_flow_speed_1 = flow_speed_1.loc[flow_speed_1[\"Date\"].isin(sample_dates_1)]"
   ]
  },
  {
   "cell_type": "code",
   "execution_count": 91,
   "metadata": {},
   "outputs": [
    {
     "data": {
      "text/html": [
       "<div>\n",
       "<style scoped>\n",
       "    .dataframe tbody tr th:only-of-type {\n",
       "        vertical-align: middle;\n",
       "    }\n",
       "\n",
       "    .dataframe tbody tr th {\n",
       "        vertical-align: top;\n",
       "    }\n",
       "\n",
       "    .dataframe thead th {\n",
       "        text-align: right;\n",
       "    }\n",
       "</style>\n",
       "<table border=\"1\" class=\"dataframe\">\n",
       "  <thead>\n",
       "    <tr style=\"text-align: right;\">\n",
       "      <th></th>\n",
       "      <th>Station ID</th>\n",
       "      <th>5 Minutes</th>\n",
       "      <th>Flow (Veh/5 Minutes)</th>\n",
       "      <th>Speed (mph)</th>\n",
       "      <th># Lane Points</th>\n",
       "      <th>% Observed</th>\n",
       "      <th>Date</th>\n",
       "      <th>Time</th>\n",
       "    </tr>\n",
       "  </thead>\n",
       "  <tbody>\n",
       "    <tr>\n",
       "      <th>2016</th>\n",
       "      <td>408907</td>\n",
       "      <td>2017-01-09 00:00:00</td>\n",
       "      <td>45.0</td>\n",
       "      <td>66.0</td>\n",
       "      <td>3</td>\n",
       "      <td>0.0</td>\n",
       "      <td>2017-01-09</td>\n",
       "      <td>00:00:00</td>\n",
       "    </tr>\n",
       "    <tr>\n",
       "      <th>2017</th>\n",
       "      <td>408907</td>\n",
       "      <td>2017-01-09 00:05:00</td>\n",
       "      <td>55.0</td>\n",
       "      <td>66.0</td>\n",
       "      <td>3</td>\n",
       "      <td>0.0</td>\n",
       "      <td>2017-01-09</td>\n",
       "      <td>00:05:00</td>\n",
       "    </tr>\n",
       "    <tr>\n",
       "      <th>2018</th>\n",
       "      <td>408907</td>\n",
       "      <td>2017-01-09 00:10:00</td>\n",
       "      <td>65.0</td>\n",
       "      <td>66.0</td>\n",
       "      <td>3</td>\n",
       "      <td>0.0</td>\n",
       "      <td>2017-01-09</td>\n",
       "      <td>00:10:00</td>\n",
       "    </tr>\n",
       "    <tr>\n",
       "      <th>2019</th>\n",
       "      <td>408907</td>\n",
       "      <td>2017-01-09 00:15:00</td>\n",
       "      <td>50.0</td>\n",
       "      <td>66.1</td>\n",
       "      <td>3</td>\n",
       "      <td>0.0</td>\n",
       "      <td>2017-01-09</td>\n",
       "      <td>00:15:00</td>\n",
       "    </tr>\n",
       "    <tr>\n",
       "      <th>2020</th>\n",
       "      <td>408907</td>\n",
       "      <td>2017-01-09 00:20:00</td>\n",
       "      <td>42.0</td>\n",
       "      <td>65.5</td>\n",
       "      <td>3</td>\n",
       "      <td>0.0</td>\n",
       "      <td>2017-01-09</td>\n",
       "      <td>00:20:00</td>\n",
       "    </tr>\n",
       "  </tbody>\n",
       "</table>\n",
       "</div>"
      ],
      "text/plain": [
       "      Station ID           5 Minutes  Flow (Veh/5 Minutes)  Speed (mph)  \\\n",
       "2016      408907 2017-01-09 00:00:00                  45.0         66.0   \n",
       "2017      408907 2017-01-09 00:05:00                  55.0         66.0   \n",
       "2018      408907 2017-01-09 00:10:00                  65.0         66.0   \n",
       "2019      408907 2017-01-09 00:15:00                  50.0         66.1   \n",
       "2020      408907 2017-01-09 00:20:00                  42.0         65.5   \n",
       "\n",
       "      # Lane Points  % Observed        Date      Time  \n",
       "2016              3         0.0  2017-01-09  00:00:00  \n",
       "2017              3         0.0  2017-01-09  00:05:00  \n",
       "2018              3         0.0  2017-01-09  00:10:00  \n",
       "2019              3         0.0  2017-01-09  00:15:00  \n",
       "2020              3         0.0  2017-01-09  00:20:00  "
      ]
     },
     "execution_count": 91,
     "metadata": {},
     "output_type": "execute_result"
    }
   ],
   "source": [
    "sample_flow_speed_1.head(5)"
   ]
  },
  {
   "cell_type": "code",
   "execution_count": 93,
   "metadata": {},
   "outputs": [],
   "source": [
    "sample_occ_1 = occ_1.loc[occ_1[\"Date\"].isin(sample_dates_1)]"
   ]
  },
  {
   "cell_type": "code",
   "execution_count": 94,
   "metadata": {},
   "outputs": [
    {
     "data": {
      "text/html": [
       "<div>\n",
       "<style scoped>\n",
       "    .dataframe tbody tr th:only-of-type {\n",
       "        vertical-align: middle;\n",
       "    }\n",
       "\n",
       "    .dataframe tbody tr th {\n",
       "        vertical-align: top;\n",
       "    }\n",
       "\n",
       "    .dataframe thead th {\n",
       "        text-align: right;\n",
       "    }\n",
       "</style>\n",
       "<table border=\"1\" class=\"dataframe\">\n",
       "  <thead>\n",
       "    <tr style=\"text-align: right;\">\n",
       "      <th></th>\n",
       "      <th>Station ID</th>\n",
       "      <th>5 Minutes</th>\n",
       "      <th>Occupancy (%)</th>\n",
       "      <th># Lane Points</th>\n",
       "      <th>% Observed</th>\n",
       "      <th>Date</th>\n",
       "      <th>Time</th>\n",
       "    </tr>\n",
       "  </thead>\n",
       "  <tbody>\n",
       "    <tr>\n",
       "      <th>2016</th>\n",
       "      <td>408907</td>\n",
       "      <td>2017-01-09 00:00:00</td>\n",
       "      <td>1.8</td>\n",
       "      <td>3</td>\n",
       "      <td>0.0</td>\n",
       "      <td>2017-01-09</td>\n",
       "      <td>00:00:00</td>\n",
       "    </tr>\n",
       "    <tr>\n",
       "      <th>2017</th>\n",
       "      <td>408907</td>\n",
       "      <td>2017-01-09 00:05:00</td>\n",
       "      <td>1.9</td>\n",
       "      <td>3</td>\n",
       "      <td>0.0</td>\n",
       "      <td>2017-01-09</td>\n",
       "      <td>00:05:00</td>\n",
       "    </tr>\n",
       "    <tr>\n",
       "      <th>2018</th>\n",
       "      <td>408907</td>\n",
       "      <td>2017-01-09 00:10:00</td>\n",
       "      <td>2.1</td>\n",
       "      <td>3</td>\n",
       "      <td>0.0</td>\n",
       "      <td>2017-01-09</td>\n",
       "      <td>00:10:00</td>\n",
       "    </tr>\n",
       "    <tr>\n",
       "      <th>2019</th>\n",
       "      <td>408907</td>\n",
       "      <td>2017-01-09 00:15:00</td>\n",
       "      <td>1.8</td>\n",
       "      <td>3</td>\n",
       "      <td>0.0</td>\n",
       "      <td>2017-01-09</td>\n",
       "      <td>00:15:00</td>\n",
       "    </tr>\n",
       "    <tr>\n",
       "      <th>2020</th>\n",
       "      <td>408907</td>\n",
       "      <td>2017-01-09 00:20:00</td>\n",
       "      <td>1.8</td>\n",
       "      <td>3</td>\n",
       "      <td>0.0</td>\n",
       "      <td>2017-01-09</td>\n",
       "      <td>00:20:00</td>\n",
       "    </tr>\n",
       "  </tbody>\n",
       "</table>\n",
       "</div>"
      ],
      "text/plain": [
       "      Station ID           5 Minutes  Occupancy (%)  # Lane Points  \\\n",
       "2016      408907 2017-01-09 00:00:00            1.8              3   \n",
       "2017      408907 2017-01-09 00:05:00            1.9              3   \n",
       "2018      408907 2017-01-09 00:10:00            2.1              3   \n",
       "2019      408907 2017-01-09 00:15:00            1.8              3   \n",
       "2020      408907 2017-01-09 00:20:00            1.8              3   \n",
       "\n",
       "      % Observed        Date      Time  \n",
       "2016         0.0  2017-01-09  00:00:00  \n",
       "2017         0.0  2017-01-09  00:05:00  \n",
       "2018         0.0  2017-01-09  00:10:00  \n",
       "2019         0.0  2017-01-09  00:15:00  \n",
       "2020         0.0  2017-01-09  00:20:00  "
      ]
     },
     "execution_count": 94,
     "metadata": {},
     "output_type": "execute_result"
    }
   ],
   "source": [
    "sample_occ_1.head(5)"
   ]
  },
  {
   "cell_type": "code",
   "execution_count": 96,
   "metadata": {},
   "outputs": [],
   "source": [
    "# save the work\n",
    "sample_flow_speed_1.to_csv(\"data/I88N-processed/sample/sample_flow_speed_1.csv\")\n",
    "sample_occ_1.to_csv(\"data/I88N-processed/sample/sample_occ_1.csv\")\n",
    "pd.DataFrame(sample_dates_1).to_csv(\"data/I88N-processed/sample/sample_dates_1.csv\")"
   ]
  },
  {
   "cell_type": "markdown",
   "metadata": {},
   "source": [
    "Now we have samples of 35 stations in 10 days.\n",
    "`sample_flow_speed_1` saves speed and flow, `sample_occ_1` saves occupancy information, for each station each day, from 00:00 to 23:55, i.e., for a single station, $$12 \\ samples/hour \\times 24 \\ hours/day \\times 10 \\ days = 2880 \\ samples/station.$$ And in total, $$2880 \\ samples/station \\times 35 \\ stations = 100,800 \\ samples$$ sample points."
   ]
  },
  {
   "cell_type": "code",
   "execution_count": 98,
   "metadata": {},
   "outputs": [
    {
     "data": {
      "text/plain": [
       "(100783, 8)"
      ]
     },
     "execution_count": 98,
     "metadata": {},
     "output_type": "execute_result"
    }
   ],
   "source": [
    "sample_flow_speed_1.shape"
   ]
  },
  {
   "cell_type": "code",
   "execution_count": 99,
   "metadata": {},
   "outputs": [
    {
     "data": {
      "text/plain": [
       "(100783, 7)"
      ]
     },
     "execution_count": 99,
     "metadata": {},
     "output_type": "execute_result"
    }
   ],
   "source": [
    "sample_occ_1.shape"
   ]
  },
  {
   "cell_type": "code",
   "execution_count": 147,
   "metadata": {},
   "outputs": [
    {
     "name": "stdout",
     "output_type": "stream",
     "text": [
      "400057: 2879\n",
      "400147: 2879\n",
      "400343: 2879\n",
      "401541: 2879\n",
      "402281: 2879\n",
      "413026: 2879\n",
      "402292: 2879\n",
      "401643: 2879\n",
      "402828: 2879\n",
      "402789: 2879\n",
      "408755: 2879\n",
      "402802: 2879\n",
      "408756: 2879\n",
      "400417: 2879\n",
      "400249: 2879\n",
      "401639: 2879\n",
      "400662: 2879\n"
     ]
    }
   ],
   "source": [
    "# For each station i, generate X[i]\n",
    "X_1 = {}\n",
    "have_holes = []\n",
    "for i, stationId in enumerate(all_stations_1):\n",
    "    sample_flow_speed_1_i = sample_flow_speed_1.loc[sample_flow_speed_1[\"Station ID\"] == stationId]\n",
    "    sample_occ_1_i = sample_occ_1.loc[sample_occ_1[\"Station ID\"] == stationId]\n",
    "    # we need them arranged in order of time for time series prediction\n",
    "    num = len(sample_occ_1_i[\"Occupancy (%)\"].values)\n",
    "    if num != 2880:\n",
    "        print(str(stationId) + \": \" + str(num))\n",
    "        have_holes.append(stationId)\n",
    "    X_1_i = np.ndarray(shape=(3, num))\n",
    "    X_1_i[0] = sample_occ_1_i[\"Occupancy (%)\"].values\n",
    "    X_1_i[1] = sample_flow_speed_1_i[\"Speed (mph)\"].values\n",
    "    X_1_i[2] = sample_flow_speed_1_i[\"Flow (Veh/5 Minutes)\"].values\n",
    "    X_1[str(stationId)] = X_1_i"
   ]
  },
  {
   "cell_type": "markdown",
   "metadata": {},
   "source": [
    "We can see that 17 points are missing, but let's leave it at this stage."
   ]
  },
  {
   "cell_type": "markdown",
   "metadata": {},
   "source": [
    "# Implement TSA DES estimator"
   ]
  },
  {
   "cell_type": "markdown",
   "metadata": {},
   "source": [
    "### Basic functions"
   ]
  },
  {
   "cell_type": "markdown",
   "metadata": {},
   "source": [
    "We first implement functions to compute root mean squarted error (RMSE)."
   ]
  },
  {
   "cell_type": "markdown",
   "metadata": {},
   "source": [
    "We use the following formulae.\n",
    "$$S_1(t) = \\alpha X(i, t) + (1-\\alpha)S_1(t-1)$$\n",
    "$$S_2(t) = \\alpha S_1(t) + (1-\\alpha)S_2(t-1)$$\n",
    "$$A(t) = 2S_1(t) - S_2(t)$$\n",
    "$$B(t) = {\\alpha \\over (1-\\alpha)} [S_1(t) - S_2(t)]$$\n",
    "and finally,\n",
    "$$Y(i, t+1) = A(i, t) + B(i, t)$$\n",
    "where $Y(i, t+1)$ is the vector of predicted traffic variables for station $i$ at time $t+1$, and $X(i, t)$ is the vector of traffic variables for station $i$ at time $t$."
   ]
  },
  {
   "cell_type": "code",
   "execution_count": 167,
   "metadata": {},
   "outputs": [],
   "source": [
    "def RMSE(X, Y):\n",
    "    \"\"\"\n",
    "        X: is a vector storing traffic parameters for one station for each time t\n",
    "        Y: traffic parameter forecasts for each time t\n",
    "    \"\"\"\n",
    "    return np.sqrt(np.mean((Y - X) ** 2, axis=1))"
   ]
  },
  {
   "cell_type": "code",
   "execution_count": 119,
   "metadata": {},
   "outputs": [],
   "source": [
    "def S1(X, prev_S1, alpha):\n",
    "    \"\"\"\n",
    "        Order 1 smoothing\n",
    "    \"\"\"\n",
    "    return alpha * X + (1 - alpha) * prev_S1"
   ]
  },
  {
   "cell_type": "code",
   "execution_count": 120,
   "metadata": {},
   "outputs": [],
   "source": [
    "def S2(S1, prev_S2, alpha):\n",
    "    \"\"\"\n",
    "        Order 2 smoothing\n",
    "    \"\"\"\n",
    "    return alpha * S1 + (1 - alpha) * prev_S2"
   ]
  },
  {
   "cell_type": "code",
   "execution_count": 157,
   "metadata": {},
   "outputs": [],
   "source": [
    "def A(S1, S2):\n",
    "    return 2 * S1 - S2"
   ]
  },
  {
   "cell_type": "code",
   "execution_count": 158,
   "metadata": {},
   "outputs": [],
   "source": [
    "def B(S1, S2, alpha):\n",
    "    return 1 / (1 - alpha) * (S1 - S2)"
   ]
  },
  {
   "cell_type": "markdown",
   "metadata": {},
   "source": [
    "### Using Grid Search for Parameter Tuning\n",
    "Check stations Id:"
   ]
  },
  {
   "cell_type": "code",
   "execution_count": 115,
   "metadata": {},
   "outputs": [],
   "source": [
    "complete_stations = all_stations_1[np.isin(all_stations_1, have_holes, invert=True)]"
   ]
  },
  {
   "cell_type": "code",
   "execution_count": 116,
   "metadata": {},
   "outputs": [
    {
     "data": {
      "text/plain": [
       "array([408907, 400951, 401560, 400045, 400122, 402283, 402285, 402286,\n",
       "       400088, 402288, 401464, 401489, 401538, 402290, 402800, 407219,\n",
       "       400189, 400309])"
      ]
     },
     "execution_count": 116,
     "metadata": {},
     "output_type": "execute_result"
    }
   ],
   "source": [
    "complete_stations"
   ]
  },
  {
   "cell_type": "markdown",
   "metadata": {},
   "source": [
    "Let's choose station 400309."
   ]
  },
  {
   "cell_type": "code",
   "execution_count": 148,
   "metadata": {},
   "outputs": [],
   "source": [
    "X_400309 = X_1[\"400309\"]"
   ]
  },
  {
   "cell_type": "code",
   "execution_count": 149,
   "metadata": {},
   "outputs": [
    {
     "data": {
      "text/plain": [
       "array([[  1.4,   1.5,   1. , ...,   2.6,   2. ,   2.1],\n",
       "       [ 66.6,  67.5,  66.4, ...,  67.2,  67.7,  67.8],\n",
       "       [ 64. , 115. ,  76. , ..., 153. , 116. , 129. ]])"
      ]
     },
     "execution_count": 149,
     "metadata": {},
     "output_type": "execute_result"
    }
   ],
   "source": [
    "X_400309"
   ]
  },
  {
   "cell_type": "markdown",
   "metadata": {},
   "source": [
    "The numpy array has three vectors. <br>\n",
    "- 0: occupancy, in percentage\n",
    "- 1: speed, in miles per hour (mph)\n",
    "- 2: flow, number of vehicles per 5 minutes"
   ]
  },
  {
   "cell_type": "markdown",
   "metadata": {},
   "source": [
    "Initialize $\\alpha = 0.2$."
   ]
  },
  {
   "cell_type": "code",
   "execution_count": 150,
   "metadata": {},
   "outputs": [],
   "source": [
    "# initialize alpha\n",
    "alpha = 0.2"
   ]
  },
  {
   "cell_type": "code",
   "execution_count": 151,
   "metadata": {},
   "outputs": [],
   "source": [
    "# Initialize S1 and S2\n",
    "num_400309 = X_400309[0].size\n",
    "S1_400309 = np.zeros((3, num_400309))\n",
    "S2_400309 = np.zeros((3, num_400309))"
   ]
  },
  {
   "cell_type": "code",
   "execution_count": 159,
   "metadata": {},
   "outputs": [],
   "source": [
    "# Initialize Y\n",
    "Y_400309 = np.zeros((3, num_400309))"
   ]
  },
  {
   "cell_type": "markdown",
   "metadata": {},
   "source": [
    "The initial values for $S_1(t)$, as the paper suggests, is initialized to the average of the first 10 values:\n",
    "$$S_1(10) = {1 \\over 10}\\sum_{t=1}^{10} X(i, t)$$\n",
    "As for $S_2(t)$, the initial value can be set to the following:\n",
    "$$S_2(10) = {1 \\over 5} \\sum_{t=1}^{5} [X(i, 2t) - X(i, 2t-1)]$$"
   ]
  },
  {
   "cell_type": "code",
   "execution_count": 152,
   "metadata": {},
   "outputs": [],
   "source": [
    "S1_400309[:, 9] = np.mean(X_400309[:, 0:9], axis=1)"
   ]
  },
  {
   "cell_type": "code",
   "execution_count": 155,
   "metadata": {},
   "outputs": [],
   "source": [
    "S2_400309[:, 9] = np.zeros((3,))\n",
    "for i in range(5):\n",
    "    S2_400309[:, 9] += (X_400309[:, 2 * i + 1] - X_400309[:, 2 * i])\n",
    "S2_400309[:, 9] /= 5.0"
   ]
  },
  {
   "cell_type": "code",
   "execution_count": 156,
   "metadata": {},
   "outputs": [
    {
     "data": {
      "text/plain": [
       "array([4.4408921e-17, 3.4000000e-01, 8.2000000e+00])"
      ]
     },
     "execution_count": 156,
     "metadata": {},
     "output_type": "execute_result"
    }
   ],
   "source": [
    "S2_400309[:, 9]"
   ]
  },
  {
   "cell_type": "code",
   "execution_count": 164,
   "metadata": {},
   "outputs": [],
   "source": [
    "# Start to iterate on t\n",
    "for t in range(num_400309 - 1):\n",
    "    if t > 9:\n",
    "        S1_400309[:, t] = S1(X_400309[:, t], S1_400309[:, t-1], alpha)\n",
    "        S2_400309[:, t] = S2(S1_400309[:, t], S2_400309[:, t-1], alpha)\n",
    "        Y_400309[:, t+1] = A(S1_400309[:, t], S2_400309[:, t]) + B(S1_400309[:, t], S2_400309[:, t], alpha)"
   ]
  },
  {
   "cell_type": "code",
   "execution_count": 176,
   "metadata": {},
   "outputs": [
    {
     "data": {
      "text/plain": [
       "array([[  3.11129933,   2.966042  ,   2.79843563,   2.67123012,\n",
       "          2.5149694 ,   2.28236375,   2.33420159,   1.57000975,\n",
       "          3.11012658,   2.67939628],\n",
       "       [ 68.0413769 ,  67.72262724,  67.08972237,  66.64507435,\n",
       "         66.89869665,  67.40506705,  67.23694143,  67.33586337,\n",
       "         66.16173888,  65.64382965],\n",
       "       [205.42285647, 193.94398273, 175.83974422, 164.53944181,\n",
       "        157.9656706 , 149.55983019, 146.59769913, 102.47802728,\n",
       "        176.22231621, 153.84976847]])"
      ]
     },
     "execution_count": 176,
     "metadata": {},
     "output_type": "execute_result"
    }
   ],
   "source": [
    "Y_400309[:, -20:-10]"
   ]
  },
  {
   "cell_type": "code",
   "execution_count": 177,
   "metadata": {},
   "outputs": [
    {
     "data": {
      "text/plain": [
       "array([[  3.9,   3.7,   3.6,   3.4,   3.1,   3.4,   1.9,   5.5,   2.8,\n",
       "          3.3],\n",
       "       [ 66.8,  66.1,  66.1,  67.1,  67.7,  66.8,  67.2,  65. ,  65.5,\n",
       "         66.6],\n",
       "       [233. , 211. , 209. , 207. , 196. , 197. , 118. , 299. , 166. ,\n",
       "        192. ]])"
      ]
     },
     "execution_count": 177,
     "metadata": {},
     "output_type": "execute_result"
    }
   ],
   "source": [
    "X_400309[:, -20:-10]"
   ]
  },
  {
   "cell_type": "code",
   "execution_count": 168,
   "metadata": {},
   "outputs": [],
   "source": [
    "RMSE_400309 = RMSE(X_400309[:, 10:], Y_400309[:, 10:])"
   ]
  },
  {
   "cell_type": "code",
   "execution_count": 169,
   "metadata": {},
   "outputs": [
    {
     "data": {
      "text/plain": [
       "array([ 1.72303066,  4.92920212, 40.0771787 ])"
      ]
     },
     "execution_count": 169,
     "metadata": {},
     "output_type": "execute_result"
    }
   ],
   "source": [
    "RMSE_400309"
   ]
  },
  {
   "cell_type": "markdown",
   "metadata": {},
   "source": [
    "### Visualize Results Using Matplotlib"
   ]
  },
  {
   "cell_type": "markdown",
   "metadata": {},
   "source": [
    "Here we want to generate plots, for real values and predictions, for three traffic variables:\n",
    "- Occupancy\n",
    "- Speed\n",
    "- Flow"
   ]
  },
  {
   "cell_type": "code",
   "execution_count": 178,
   "metadata": {},
   "outputs": [],
   "source": [
    "import matplotlib.pyplot as plt"
   ]
  },
  {
   "cell_type": "code",
   "execution_count": 183,
   "metadata": {},
   "outputs": [
    {
     "data": {
      "image/png": "[encoded data removed]",
      "text/plain": [
       "<Figure size 720x576 with 1 Axes>"
      ]
     },
     "metadata": {},
     "output_type": "display_data"
    }
   ],
   "source": [
    "# Plot occupancy first\n",
    "def plot_time_series(X, Y, X_label, Y_label):\n",
    "    num = X.shape\n",
    "    f, ax = plt.subplots(1, 1, figsize=(10, 8))\n",
    "    ax.plot(np.array(range(num)), X, lw=1, color=\"black\", label=X_label)\n",
    "    ax.plot(np.array(range(num)), Y, lw=1, color=\"red\", label=Y_label)\n",
    "    ax.set_xlim(0, 100)\n",
    "    ax.set_ylim(0, 60)\n",
    "    ax.set_xticklabels(ax.get_xticks(), fontsize=10)\n",
    "    ax.set_yticklabels(ax.get_yticks(), fontsize=10)\n",
    "    ax.legend(fontsize=10, loc=0)\n",
    "    \n",
    "    plt.show()"
   ]
  }
 ],
 "metadata": {
  "kernelspec": {
   "display_name": "Python 3",
   "language": "python",
   "name": "python3"
  },
  "language_info": {
   "codemirror_mode": {
    "name": "ipython",
    "version": 3
   },
   "file_extension": ".py",
   "mimetype": "text/x-python",
   "name": "python",
   "nbconvert_exporter": "python",
   "pygments_lexer": "ipython3",
   "version": "3.6.5"
  }
 },
 "nbformat": 4,
 "nbformat_minor": 2
}
