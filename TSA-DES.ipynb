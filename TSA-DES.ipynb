{
 "cells": [
  {
   "cell_type": "markdown",
   "metadata": {},
   "source": [
    "# Time Series - Double Exponential Smoothing (DES)"
   ]
  },
  {
   "cell_type": "code",
   "execution_count": 2,
   "metadata": {},
   "outputs": [],
   "source": [
    "import numpy as np\n",
    "import pandas as pd"
   ]
  },
  {
   "cell_type": "code",
   "execution_count": 3,
   "metadata": {},
   "outputs": [],
   "source": [
    "import util as u"
   ]
  },
  {
   "cell_type": "code",
   "execution_count": 4,
   "metadata": {},
   "outputs": [],
   "source": [
    "base_path = \"data/I88N-processed/\""
   ]
  },
  {
   "cell_type": "code",
   "execution_count": 5,
   "metadata": {},
   "outputs": [],
   "source": [
    "# import concatenated data, and available days to sample from\n",
    "concat_1 = pd.read_csv(base_path + \"concat/concat_1.csv\")\n",
    "concat_2 = pd.read_csv(base_path + \"concat/concat_2.csv\")\n",
    "concat_3 = pd.read_csv(base_path + \"concat/concat_3.csv\")"
   ]
  },
  {
   "cell_type": "code",
   "execution_count": 57,
   "metadata": {},
   "outputs": [],
   "source": [
    "datetime_1 = concat_1[\"datetime\"].values\n",
    "datetime_1 = pd.to_datetime(datetime_1)"
   ]
  },
  {
   "cell_type": "code",
   "execution_count": 196,
   "metadata": {},
   "outputs": [],
   "source": [
    "dataset_df_1 = concat_1.loc[concat_1[\"Date\"].isin(dates_format_1)]"
   ]
  },
  {
   "cell_type": "code",
   "execution_count": 197,
   "metadata": {},
   "outputs": [],
   "source": [
    "dataset_df_2 = concat_2.loc[concat_2[\"Date\"].isin(dates_format_2)]\n",
    "dataset_df_3 = concat_3.loc[concat_3[\"Date\"].isin(dates_format_2)]"
   ]
  },
  {
   "cell_type": "code",
   "execution_count": 202,
   "metadata": {},
   "outputs": [
    {
     "data": {
      "text/plain": [
       "array([400141, 400761, 400490, 401888, 400137, 400716, 401545, 401011,\n",
       "       400674, 400539, 400534, 401062, 401529, 401613, 400536, 400488,\n",
       "       401561, 400611, 400928, 400284, 400041, 408133, 408135, 417665,\n",
       "       412637, 417666, 408134, 400685, 401003, 400898, 400275, 400939,\n",
       "       400180, 400529, 400990])"
      ]
     },
     "execution_count": 202,
     "metadata": {},
     "output_type": "execute_result"
    }
   ],
   "source": [
    "dataset_df_2[\"Station ID\"].unique()"
   ]
  },
  {
   "cell_type": "code",
   "execution_count": 205,
   "metadata": {},
   "outputs": [
    {
     "data": {
      "text/plain": [
       "64512"
      ]
     },
     "execution_count": 205,
     "metadata": {},
     "output_type": "execute_result"
    }
   ],
   "source": [
    "len(dataset_df_2.loc[dataset_df_2[\"Station ID\"] == 417666].values)"
   ]
  },
  {
   "cell_type": "code",
   "execution_count": 200,
   "metadata": {},
   "outputs": [],
   "source": [
    "dates = available_dates"
   ]
  },
  {
   "cell_type": "code",
   "execution_count": 206,
   "metadata": {},
   "outputs": [
    {
     "data": {
      "text/plain": [
       "224"
      ]
     },
     "execution_count": 206,
     "metadata": {},
     "output_type": "execute_result"
    }
   ],
   "source": [
    "len(dates)"
   ]
  },
  {
   "cell_type": "markdown",
   "metadata": {},
   "source": [
    "The total number of samples collected at one station across all days is 97344, which is equal to 338 days * 24 hours/day * 12 samples/hour."
   ]
  },
  {
   "cell_type": "code",
   "execution_count": 260,
   "metadata": {},
   "outputs": [
    {
     "data": {
      "text/html": [
       "<div>\n",
       "<style scoped>\n",
       "    .dataframe tbody tr th:only-of-type {\n",
       "        vertical-align: middle;\n",
       "    }\n",
       "\n",
       "    .dataframe tbody tr th {\n",
       "        vertical-align: top;\n",
       "    }\n",
       "\n",
       "    .dataframe thead th {\n",
       "        text-align: right;\n",
       "    }\n",
       "</style>\n",
       "<table border=\"1\" class=\"dataframe\">\n",
       "  <thead>\n",
       "    <tr style=\"text-align: right;\">\n",
       "      <th></th>\n",
       "      <th>Station ID</th>\n",
       "      <th>datetime</th>\n",
       "      <th>Occupancy</th>\n",
       "      <th>Flow</th>\n",
       "      <th>Speed</th>\n",
       "      <th>Date</th>\n",
       "      <th>Time</th>\n",
       "      <th>idx</th>\n",
       "    </tr>\n",
       "  </thead>\n",
       "  <tbody>\n",
       "    <tr>\n",
       "      <th>33395</th>\n",
       "      <td>408907</td>\n",
       "      <td>2017-04-30 00:00:00</td>\n",
       "      <td>0.6</td>\n",
       "      <td>26.0</td>\n",
       "      <td>68.4</td>\n",
       "      <td>04/30/2017</td>\n",
       "      <td>00:00</td>\n",
       "      <td>33395</td>\n",
       "    </tr>\n",
       "    <tr>\n",
       "      <th>33396</th>\n",
       "      <td>408907</td>\n",
       "      <td>2017-04-30 00:05:00</td>\n",
       "      <td>1.1</td>\n",
       "      <td>42.0</td>\n",
       "      <td>67.5</td>\n",
       "      <td>04/30/2017</td>\n",
       "      <td>00:05</td>\n",
       "      <td>33396</td>\n",
       "    </tr>\n",
       "    <tr>\n",
       "      <th>33397</th>\n",
       "      <td>408907</td>\n",
       "      <td>2017-04-30 00:10:00</td>\n",
       "      <td>1.0</td>\n",
       "      <td>41.0</td>\n",
       "      <td>68.1</td>\n",
       "      <td>04/30/2017</td>\n",
       "      <td>00:10</td>\n",
       "      <td>33397</td>\n",
       "    </tr>\n",
       "  </tbody>\n",
       "</table>\n",
       "</div>"
      ],
      "text/plain": [
       "       Station ID             datetime  Occupancy  Flow  Speed        Date  \\\n",
       "33395      408907  2017-04-30 00:00:00        0.6  26.0   68.4  04/30/2017   \n",
       "33396      408907  2017-04-30 00:05:00        1.1  42.0   67.5  04/30/2017   \n",
       "33397      408907  2017-04-30 00:10:00        1.0  41.0   68.1  04/30/2017   \n",
       "\n",
       "        Time    idx  \n",
       "33395  00:00  33395  \n",
       "33396  00:05  33396  \n",
       "33397  00:10  33397  "
      ]
     },
     "execution_count": 260,
     "metadata": {},
     "output_type": "execute_result"
    }
   ],
   "source": [
    "dataset_df_1.head(3)"
   ]
  },
  {
   "cell_type": "code",
   "execution_count": 6,
   "metadata": {},
   "outputs": [],
   "source": [
    "dataset_df_1 = pd.read_csv(base_path + \"concat_no_holes/concat_1.csv\")\n",
    "dataset_df_2 = pd.read_csv(base_path + \"concat_no_holes/concat_2.csv\")\n",
    "dataset_df_3 = pd.read_csv(base_path + \"concat_no_holes/concat_3.csv\")"
   ]
  },
  {
   "cell_type": "code",
   "execution_count": 8,
   "metadata": {},
   "outputs": [],
   "source": [
    "concats = pd.read_csv(base_path + \"concat_no_holes/concat.csv\")"
   ]
  },
  {
   "cell_type": "code",
   "execution_count": 52,
   "metadata": {},
   "outputs": [],
   "source": [
    "concat = concats"
   ]
  },
  {
   "cell_type": "code",
   "execution_count": 264,
   "metadata": {},
   "outputs": [],
   "source": [
    "concat.to_csv(base_path + \"concat_no_holes/concat.csv\")"
   ]
  },
  {
   "cell_type": "code",
   "execution_count": 9,
   "metadata": {},
   "outputs": [],
   "source": [
    "available_dates_str = pd.read_csv(base_path + \"available_dates.csv\").iloc[:, 0].values"
   ]
  },
  {
   "cell_type": "code",
   "execution_count": 10,
   "metadata": {},
   "outputs": [
    {
     "data": {
      "text/plain": [
       "array(['2017-04-30', '2017-05-01', '2017-05-02'], dtype=object)"
      ]
     },
     "execution_count": 10,
     "metadata": {},
     "output_type": "execute_result"
    }
   ],
   "source": [
    "available_dates_str[:3]"
   ]
  },
  {
   "cell_type": "code",
   "execution_count": 70,
   "metadata": {},
   "outputs": [],
   "source": [
    "dates = list(map(lambda x: pd.to_datetime(x).date(), available_dates_str))"
   ]
  },
  {
   "cell_type": "code",
   "execution_count": 21,
   "metadata": {},
   "outputs": [],
   "source": [
    "# dataset_df_1 = dataset_df_1.drop([\"Unnamed: 0\"], axis=1)\n",
    "dataset_df_1.to_csv(base_path + \"concat_no_holes/concat_1.csv\", index=False)"
   ]
  },
  {
   "cell_type": "code",
   "execution_count": 20,
   "metadata": {},
   "outputs": [],
   "source": [
    "# dataset_df_2 = dataset_df_2.drop([\"Unnamed: 0\"], axis=1)\n",
    "dataset_df_2.to_csv(base_path + \"concat_no_holes/concat_2.csv\", index=False)"
   ]
  },
  {
   "cell_type": "code",
   "execution_count": 22,
   "metadata": {},
   "outputs": [],
   "source": [
    "dataset_df_3 = dataset_df_3.drop([\"Unnamed: 0\"], axis=1)\n",
    "dataset_df_3.to_csv(base_path + \"concat_no_holes/concat_3.csv\", index=False)"
   ]
  },
  {
   "cell_type": "code",
   "execution_count": 23,
   "metadata": {},
   "outputs": [],
   "source": [
    "concats = concats.drop([\"Unnamed: 0\"], axis=1)\n",
    "concats.to_csv(base_path + \"concat_no_holes/concat.csv\", index=False)"
   ]
  },
  {
   "cell_type": "code",
   "execution_count": 24,
   "metadata": {
    "scrolled": false
   },
   "outputs": [
    {
     "data": {
      "text/html": [
       "<div>\n",
       "<style scoped>\n",
       "    .dataframe tbody tr th:only-of-type {\n",
       "        vertical-align: middle;\n",
       "    }\n",
       "\n",
       "    .dataframe tbody tr th {\n",
       "        vertical-align: top;\n",
       "    }\n",
       "\n",
       "    .dataframe thead th {\n",
       "        text-align: right;\n",
       "    }\n",
       "</style>\n",
       "<table border=\"1\" class=\"dataframe\">\n",
       "  <thead>\n",
       "    <tr style=\"text-align: right;\">\n",
       "      <th></th>\n",
       "      <th>Station ID</th>\n",
       "      <th>datetime</th>\n",
       "      <th>Occupancy</th>\n",
       "      <th>Flow</th>\n",
       "      <th>Speed</th>\n",
       "      <th>Date</th>\n",
       "      <th>Time</th>\n",
       "      <th>idx</th>\n",
       "    </tr>\n",
       "  </thead>\n",
       "  <tbody>\n",
       "    <tr>\n",
       "      <th>0</th>\n",
       "      <td>408907</td>\n",
       "      <td>2017-04-30 00:00:00</td>\n",
       "      <td>0.6</td>\n",
       "      <td>26.0</td>\n",
       "      <td>68.4</td>\n",
       "      <td>04/30/2017</td>\n",
       "      <td>00:00</td>\n",
       "      <td>33395</td>\n",
       "    </tr>\n",
       "  </tbody>\n",
       "</table>\n",
       "</div>"
      ],
      "text/plain": [
       "   Station ID             datetime  Occupancy  Flow  Speed        Date   Time  \\\n",
       "0      408907  2017-04-30 00:00:00        0.6  26.0   68.4  04/30/2017  00:00   \n",
       "\n",
       "     idx  \n",
       "0  33395  "
      ]
     },
     "execution_count": 24,
     "metadata": {},
     "output_type": "execute_result"
    }
   ],
   "source": [
    "dataset_df_1.head(1)"
   ]
  },
  {
   "cell_type": "code",
   "execution_count": 25,
   "metadata": {},
   "outputs": [
    {
     "data": {
      "text/html": [
       "<div>\n",
       "<style scoped>\n",
       "    .dataframe tbody tr th:only-of-type {\n",
       "        vertical-align: middle;\n",
       "    }\n",
       "\n",
       "    .dataframe tbody tr th {\n",
       "        vertical-align: top;\n",
       "    }\n",
       "\n",
       "    .dataframe thead th {\n",
       "        text-align: right;\n",
       "    }\n",
       "</style>\n",
       "<table border=\"1\" class=\"dataframe\">\n",
       "  <thead>\n",
       "    <tr style=\"text-align: right;\">\n",
       "      <th></th>\n",
       "      <th>Station ID</th>\n",
       "      <th>datetime</th>\n",
       "      <th>Occupancy</th>\n",
       "      <th>Flow</th>\n",
       "      <th>Speed</th>\n",
       "      <th>Date</th>\n",
       "      <th>Time</th>\n",
       "      <th>idx</th>\n",
       "    </tr>\n",
       "  </thead>\n",
       "  <tbody>\n",
       "    <tr>\n",
       "      <th>0</th>\n",
       "      <td>400141</td>\n",
       "      <td>2017-04-30 00:00:00</td>\n",
       "      <td>2.7</td>\n",
       "      <td>175.0</td>\n",
       "      <td>68.1</td>\n",
       "      <td>04/30/2017</td>\n",
       "      <td>00:00</td>\n",
       "      <td>33396</td>\n",
       "    </tr>\n",
       "  </tbody>\n",
       "</table>\n",
       "</div>"
      ],
      "text/plain": [
       "   Station ID             datetime  Occupancy   Flow  Speed        Date  \\\n",
       "0      400141  2017-04-30 00:00:00        2.7  175.0   68.1  04/30/2017   \n",
       "\n",
       "    Time    idx  \n",
       "0  00:00  33396  "
      ]
     },
     "execution_count": 25,
     "metadata": {},
     "output_type": "execute_result"
    }
   ],
   "source": [
    "dataset_df_2.head(1)"
   ]
  },
  {
   "cell_type": "code",
   "execution_count": 26,
   "metadata": {
    "scrolled": true
   },
   "outputs": [
    {
     "data": {
      "text/html": [
       "<div>\n",
       "<style scoped>\n",
       "    .dataframe tbody tr th:only-of-type {\n",
       "        vertical-align: middle;\n",
       "    }\n",
       "\n",
       "    .dataframe tbody tr th {\n",
       "        vertical-align: top;\n",
       "    }\n",
       "\n",
       "    .dataframe thead th {\n",
       "        text-align: right;\n",
       "    }\n",
       "</style>\n",
       "<table border=\"1\" class=\"dataframe\">\n",
       "  <thead>\n",
       "    <tr style=\"text-align: right;\">\n",
       "      <th></th>\n",
       "      <th>Station ID</th>\n",
       "      <th>datetime</th>\n",
       "      <th>Occupancy</th>\n",
       "      <th>Flow</th>\n",
       "      <th>Speed</th>\n",
       "      <th>Date</th>\n",
       "      <th>Time</th>\n",
       "      <th>idx</th>\n",
       "    </tr>\n",
       "  </thead>\n",
       "  <tbody>\n",
       "    <tr>\n",
       "      <th>2064383</th>\n",
       "      <td>401471</td>\n",
       "      <td>2017-12-30 23:55:00</td>\n",
       "      <td>4.0</td>\n",
       "      <td>210.0</td>\n",
       "      <td>60.8</td>\n",
       "      <td>12/30/2017</td>\n",
       "      <td>23:55</td>\n",
       "      <td>3252717</td>\n",
       "    </tr>\n",
       "  </tbody>\n",
       "</table>\n",
       "</div>"
      ],
      "text/plain": [
       "         Station ID             datetime  Occupancy   Flow  Speed        Date  \\\n",
       "2064383      401471  2017-12-30 23:55:00        4.0  210.0   60.8  12/30/2017   \n",
       "\n",
       "          Time      idx  \n",
       "2064383  23:55  3252717  "
      ]
     },
     "execution_count": 26,
     "metadata": {},
     "output_type": "execute_result"
    }
   ],
   "source": [
    "dataset_df_3.tail(1)"
   ]
  },
  {
   "cell_type": "code",
   "execution_count": 71,
   "metadata": {},
   "outputs": [
    {
     "data": {
      "text/html": [
       "<div>\n",
       "<style scoped>\n",
       "    .dataframe tbody tr th:only-of-type {\n",
       "        vertical-align: middle;\n",
       "    }\n",
       "\n",
       "    .dataframe tbody tr th {\n",
       "        vertical-align: top;\n",
       "    }\n",
       "\n",
       "    .dataframe thead th {\n",
       "        text-align: right;\n",
       "    }\n",
       "</style>\n",
       "<table border=\"1\" class=\"dataframe\">\n",
       "  <thead>\n",
       "    <tr style=\"text-align: right;\">\n",
       "      <th></th>\n",
       "      <th>Station ID</th>\n",
       "      <th>datetime</th>\n",
       "      <th>Occupancy</th>\n",
       "      <th>Flow</th>\n",
       "      <th>Speed</th>\n",
       "      <th>Date</th>\n",
       "      <th>Time</th>\n",
       "      <th>idx</th>\n",
       "    </tr>\n",
       "  </thead>\n",
       "  <tbody>\n",
       "    <tr>\n",
       "      <th>0</th>\n",
       "      <td>408907</td>\n",
       "      <td>2017-04-30 00:00:00</td>\n",
       "      <td>0.6</td>\n",
       "      <td>26.0</td>\n",
       "      <td>68.4</td>\n",
       "      <td>04/30/2017</td>\n",
       "      <td>00:00</td>\n",
       "      <td>33395</td>\n",
       "    </tr>\n",
       "  </tbody>\n",
       "</table>\n",
       "</div>"
      ],
      "text/plain": [
       "   Station ID             datetime  Occupancy  Flow  Speed        Date   Time  \\\n",
       "0      408907  2017-04-30 00:00:00        0.6  26.0   68.4  04/30/2017  00:00   \n",
       "\n",
       "     idx  \n",
       "0  33395  "
      ]
     },
     "execution_count": 71,
     "metadata": {},
     "output_type": "execute_result"
    }
   ],
   "source": [
    "concat.head(1)"
   ]
  },
  {
   "cell_type": "code",
   "execution_count": 28,
   "metadata": {},
   "outputs": [
    {
     "data": {
      "text/plain": [
       "[datetime.date(2017, 4, 30), datetime.date(2017, 5, 1)]"
      ]
     },
     "execution_count": 28,
     "metadata": {},
     "output_type": "execute_result"
    }
   ],
   "source": [
    "dates[0:2]"
   ]
  },
  {
   "cell_type": "code",
   "execution_count": 29,
   "metadata": {},
   "outputs": [],
   "source": [
    "dates_format_1 = available_dates_str"
   ]
  },
  {
   "cell_type": "code",
   "execution_count": 30,
   "metadata": {},
   "outputs": [
    {
     "data": {
      "text/plain": [
       "array(['2017-04-30', '2017-05-01', '2017-05-02'], dtype=object)"
      ]
     },
     "execution_count": 30,
     "metadata": {},
     "output_type": "execute_result"
    }
   ],
   "source": [
    "dates_format_1[0:3]"
   ]
  },
  {
   "cell_type": "code",
   "execution_count": 72,
   "metadata": {},
   "outputs": [],
   "source": [
    "dates_format_2 = list(map(lambda x: x.split('-')[1] + \"/\" + x.split('-')[2] + \"/\" + x.split('-')[0], available_dates_str))"
   ]
  },
  {
   "cell_type": "code",
   "execution_count": 73,
   "metadata": {
    "scrolled": true
   },
   "outputs": [
    {
     "data": {
      "text/plain": [
       "['04/30/2017', '05/01/2017', '05/02/2017']"
      ]
     },
     "execution_count": 73,
     "metadata": {},
     "output_type": "execute_result"
    }
   ],
   "source": [
    "dates_format_2[0:3]"
   ]
  },
  {
   "cell_type": "markdown",
   "metadata": {},
   "source": [
    "## Exception found: we want the dates to start from 2017-04-30"
   ]
  },
  {
   "cell_type": "code",
   "execution_count": null,
   "metadata": {},
   "outputs": [],
   "source": [
    "available_dates[0:10]"
   ]
  },
  {
   "cell_type": "code",
   "execution_count": 188,
   "metadata": {},
   "outputs": [],
   "source": [
    "pd.DataFrame(available_dates).to_csv(base_path + \"available_dates.csv\", index=False)"
   ]
  },
  {
   "cell_type": "markdown",
   "metadata": {},
   "source": [
    "## Loading incidents"
   ]
  },
  {
   "cell_type": "markdown",
   "metadata": {},
   "source": [
    "Upstream is of type int, and downstream is of type string, since the last station has no downstream by definition and each road segment has an upstream station."
   ]
  },
  {
   "cell_type": "code",
   "execution_count": 33,
   "metadata": {},
   "outputs": [],
   "source": [
    "incidents = pd.read_csv(base_path + \"incidents.csv\")"
   ]
  },
  {
   "cell_type": "code",
   "execution_count": 76,
   "metadata": {},
   "outputs": [
    {
     "data": {
      "text/plain": [
       "[datetime.date(2017, 4, 30),\n",
       " datetime.date(2017, 5, 1),\n",
       " datetime.date(2017, 5, 2)]"
      ]
     },
     "execution_count": 76,
     "metadata": {},
     "output_type": "execute_result"
    }
   ],
   "source": [
    "dates[0:3]"
   ]
  },
  {
   "cell_type": "code",
   "execution_count": 37,
   "metadata": {},
   "outputs": [
    {
     "data": {
      "text/plain": [
       "6722"
      ]
     },
     "execution_count": 37,
     "metadata": {},
     "output_type": "execute_result"
    }
   ],
   "source": [
    "len(incidents[\"ID\"].values)"
   ]
  },
  {
   "cell_type": "code",
   "execution_count": 38,
   "metadata": {},
   "outputs": [
    {
     "data": {
      "text/plain": [
       "5234"
      ]
     },
     "execution_count": 38,
     "metadata": {},
     "output_type": "execute_result"
    }
   ],
   "source": [
    "len(incidents.loc[incidents[\"Duration\"].apply(lambda x: int(x) >= 5)][\"ID\"].values)"
   ]
  },
  {
   "cell_type": "code",
   "execution_count": 39,
   "metadata": {},
   "outputs": [],
   "source": [
    "valid_incidents = incidents.loc[incidents[\"Duration\"].apply(lambda x: int(x) >= 5)]"
   ]
  },
  {
   "cell_type": "code",
   "execution_count": 40,
   "metadata": {},
   "outputs": [],
   "source": [
    "valid_incidents.to_csv(base_path + \"valid_incidents.csv\")"
   ]
  },
  {
   "cell_type": "markdown",
   "metadata": {},
   "source": [
    "# Is there any temporal correlation in the data?  Visulize data at one station, in one day"
   ]
  },
  {
   "cell_type": "code",
   "execution_count": 41,
   "metadata": {},
   "outputs": [],
   "source": [
    "import matplotlib.pyplot as plt"
   ]
  },
  {
   "cell_type": "code",
   "execution_count": 53,
   "metadata": {},
   "outputs": [],
   "source": [
    "stations = concat[\"Station ID\"].unique()"
   ]
  },
  {
   "cell_type": "markdown",
   "metadata": {},
   "source": [
    "There is a problem here.  The two stations, 417665 and 417666, have records starting from 2007-04-29, and started to collect data on 2007-04-30 (notice that speed, flow and occupancy are all constant on 2007-04-29).  Therefore we discard the data before date 2007-04-29."
   ]
  },
  {
   "cell_type": "code",
   "execution_count": 46,
   "metadata": {},
   "outputs": [
    {
     "data": {
      "text/plain": [
       "5234"
      ]
     },
     "execution_count": 46,
     "metadata": {},
     "output_type": "execute_result"
    }
   ],
   "source": [
    "len(valid_incidents)"
   ]
  },
  {
   "cell_type": "markdown",
   "metadata": {},
   "source": [
    "Finally, there are 224 days of data available for use, and the total number of records for each station is 64512."
   ]
  },
  {
   "cell_type": "code",
   "execution_count": 54,
   "metadata": {},
   "outputs": [
    {
     "data": {
      "text/plain": [
       "102"
      ]
     },
     "execution_count": 54,
     "metadata": {},
     "output_type": "execute_result"
    }
   ],
   "source": [
    "len(stations)"
   ]
  },
  {
   "cell_type": "code",
   "execution_count": 55,
   "metadata": {},
   "outputs": [
    {
     "data": {
      "text/plain": [
       "array([408907, 400951, 400057, 400147, 400343, 401560, 400045, 400122,\n",
       "       401541, 402281])"
      ]
     },
     "execution_count": 55,
     "metadata": {},
     "output_type": "execute_result"
    }
   ],
   "source": [
    "stations[0:10]"
   ]
  },
  {
   "cell_type": "code",
   "execution_count": 115,
   "metadata": {},
   "outputs": [],
   "source": [
    "sample_station = np.random.choice(stations)\n",
    "sample_date, sample_date2 = np.random.choice(dates, 2)"
   ]
  },
  {
   "cell_type": "code",
   "execution_count": 116,
   "metadata": {
    "scrolled": true
   },
   "outputs": [
    {
     "name": "stdout",
     "output_type": "stream",
     "text": [
      "400041 2017-09-13 2017-06-24\n"
     ]
    }
   ],
   "source": [
    "print(sample_station, sample_date, sample_date2)"
   ]
  },
  {
   "cell_type": "code",
   "execution_count": 90,
   "metadata": {},
   "outputs": [
    {
     "data": {
      "text/plain": [
       "array(['04/30/2017', '04/30/2017', '04/30/2017', ..., '12/30/2017',\n",
       "       '12/30/2017', '12/30/2017'], dtype=object)"
      ]
     },
     "execution_count": 90,
     "metadata": {},
     "output_type": "execute_result"
    }
   ],
   "source": [
    "concat[\"Date\"].values"
   ]
  },
  {
   "cell_type": "code",
   "execution_count": 117,
   "metadata": {},
   "outputs": [],
   "source": [
    "sample_df = concat.loc[(concat[\"Station ID\"] == sample_station) & (concat[\"Date\"] == sample_date.strftime(\"%m/%d/%Y\"))]\n",
    "sample_df2 = concat.loc[(concat[\"Station ID\"] == sample_station) & (concat[\"Date\"] == sample_date2.strftime(\"%m/%d/%Y\"))]"
   ]
  },
  {
   "cell_type": "markdown",
   "metadata": {},
   "source": [
    "### Occupancy (%)"
   ]
  },
  {
   "cell_type": "code",
   "execution_count": 102,
   "metadata": {},
   "outputs": [],
   "source": [
    "sample_x = sample_df[\"Time\"].values"
   ]
  },
  {
   "cell_type": "code",
   "execution_count": 118,
   "metadata": {},
   "outputs": [
    {
     "data": {
      "text/plain": [
       "<Figure size 432x288 with 0 Axes>"
      ]
     },
     "metadata": {},
     "output_type": "display_data"
    },
    {
     "data": {
      "image/png": "[encoded data removed]",
      "text/plain": [
       "<Figure size 1152x360 with 2 Axes>"
      ]
     },
     "metadata": {},
     "output_type": "display_data"
    }
   ],
   "source": [
    "sample_occ = sample_df[\"Occupancy\"].values\n",
    "sample_occ2 = sample_df2[\"Occupancy\"].values\n",
    "\n",
    "plt.gcf().clear()\n",
    "fig = plt.figure(figsize=(16, 5))\n",
    "ax = fig.add_subplot(121)\n",
    "ax2 = fig.add_subplot(122)\n",
    "ax.plot(sample_x, sample_occ)\n",
    "ax2.plot(sample_x, sample_occ2)\n",
    "start, end = ax.get_xlim()\n",
    "ax.xaxis.set_ticks(np.arange(start, end, 60))\n",
    "start, end = ax2.get_xlim()\n",
    "ax2.xaxis.set_ticks(np.arange(start, end, 60))\n",
    "\n",
    "plt.show()"
   ]
  },
  {
   "cell_type": "markdown",
   "metadata": {},
   "source": [
    "### Flow (number of cars / 5 minutes)"
   ]
  },
  {
   "cell_type": "code",
   "execution_count": 119,
   "metadata": {},
   "outputs": [
    {
     "data": {
      "text/plain": [
       "<Figure size 432x288 with 0 Axes>"
      ]
     },
     "metadata": {},
     "output_type": "display_data"
    },
    {
     "data": {
      "image/png": "[encoded data removed]",
      "text/plain": [
       "<Figure size 1152x360 with 2 Axes>"
      ]
     },
     "metadata": {},
     "output_type": "display_data"
    }
   ],
   "source": [
    "sample_flow = sample_df[\"Flow\"].values\n",
    "sample_flow2 = sample_df2[\"Flow\"].values\n",
    "\n",
    "plt.gcf().clear()\n",
    "fig = plt.figure(figsize=(16, 5))\n",
    "ax = fig.add_subplot(121)\n",
    "ax2 = fig.add_subplot(122)\n",
    "ax.plot(sample_x, sample_flow)\n",
    "ax2.plot(sample_x, sample_flow2)\n",
    "start, end = ax.get_xlim()\n",
    "ax.xaxis.set_ticks(np.arange(start, end, 60))\n",
    "start, end = ax2.get_xlim()\n",
    "ax2.xaxis.set_ticks(np.arange(start, end, 60))\n",
    "\n",
    "plt.show()"
   ]
  },
  {
   "cell_type": "markdown",
   "metadata": {},
   "source": [
    "### Speed (mph)"
   ]
  },
  {
   "cell_type": "code",
   "execution_count": 120,
   "metadata": {},
   "outputs": [
    {
     "data": {
      "text/plain": [
       "<Figure size 432x288 with 0 Axes>"
      ]
     },
     "metadata": {},
     "output_type": "display_data"
    },
    {
     "data": {
      "image/png": "[encoded data removed]",
      "text/plain": [
       "<Figure size 1152x360 with 2 Axes>"
      ]
     },
     "metadata": {},
     "output_type": "display_data"
    }
   ],
   "source": [
    "sample_speed = sample_df[\"Speed\"].values\n",
    "sample_speed2 = sample_df2[\"Speed\"].values\n",
    "\n",
    "plt.gcf().clear()\n",
    "fig = plt.figure(figsize=(16, 5))\n",
    "ax = fig.add_subplot(121)\n",
    "ax2 = fig.add_subplot(122)\n",
    "ax.plot(sample_x, sample_speed)\n",
    "ax2.plot(sample_x, sample_speed2)\n",
    "start, end = ax.get_xlim()\n",
    "ax.xaxis.set_ticks(np.arange(start, end, 60))\n",
    "start, end = ax2.get_xlim()\n",
    "ax2.xaxis.set_ticks(np.arange(start, end, 60))\n",
    "\n",
    "plt.show()"
   ]
  },
  {
   "cell_type": "markdown",
   "metadata": {},
   "source": [
    "# Bootstrapping data"
   ]
  },
  {
   "cell_type": "markdown",
   "metadata": {},
   "source": [
    "TODO: One idea - we can keep a rational proportion between weekdays and weekends in the sample data."
   ]
  },
  {
   "cell_type": "code",
   "execution_count": 121,
   "metadata": {
    "scrolled": true
   },
   "outputs": [
    {
     "data": {
      "text/plain": [
       "224"
      ]
     },
     "execution_count": 121,
     "metadata": {},
     "output_type": "execute_result"
    }
   ],
   "source": [
    "len(dates)"
   ]
  },
  {
   "cell_type": "code",
   "execution_count": 122,
   "metadata": {},
   "outputs": [],
   "source": [
    "dates_train = np.random.choice(dates, 112)"
   ]
  },
  {
   "cell_type": "code",
   "execution_count": 123,
   "metadata": {},
   "outputs": [],
   "source": [
    "dates_test = list(set(dates).difference(set(dates_train)))\n",
    "dates_test.sort()"
   ]
  },
  {
   "cell_type": "code",
   "execution_count": 124,
   "metadata": {
    "scrolled": true
   },
   "outputs": [
    {
     "data": {
      "text/plain": [
       "(112, 140)"
      ]
     },
     "execution_count": 124,
     "metadata": {},
     "output_type": "execute_result"
    }
   ],
   "source": [
    "len(dates_train), len(dates_test)"
   ]
  },
  {
   "cell_type": "code",
   "execution_count": 125,
   "metadata": {},
   "outputs": [],
   "source": [
    "dates_train_str = list(map(lambda x: x.strftime(\"%m/%d/%Y\"), dates_train))\n",
    "dates_test_str = list(map(lambda x: x.strftime(\"%m/%d/%Y\"), dates_test))\n",
    "dates_train_str.sort()\n",
    "dates_test_str.sort()"
   ]
  },
  {
   "cell_type": "code",
   "execution_count": 126,
   "metadata": {},
   "outputs": [
    {
     "data": {
      "text/plain": [
       "(['04/30/2017', '05/01/2017', '05/01/2017'],\n",
       " ['05/03/2017', '05/04/2017', '05/08/2017'])"
      ]
     },
     "execution_count": 126,
     "metadata": {},
     "output_type": "execute_result"
    }
   ],
   "source": [
    "dates_train_str[:3], dates_test_str[:3]"
   ]
  },
  {
   "cell_type": "code",
   "execution_count": 127,
   "metadata": {},
   "outputs": [],
   "source": [
    "df_train = concat.loc[concat[\"Date\"].isin(dates_train_str)]\n",
    "df_test = concat.loc[concat[\"Date\"].isin(dates_test_str)]"
   ]
  },
  {
   "cell_type": "code",
   "execution_count": 128,
   "metadata": {},
   "outputs": [
    {
     "data": {
      "text/html": [
       "<div>\n",
       "<style scoped>\n",
       "    .dataframe tbody tr th:only-of-type {\n",
       "        vertical-align: middle;\n",
       "    }\n",
       "\n",
       "    .dataframe tbody tr th {\n",
       "        vertical-align: top;\n",
       "    }\n",
       "\n",
       "    .dataframe thead th {\n",
       "        text-align: right;\n",
       "    }\n",
       "</style>\n",
       "<table border=\"1\" class=\"dataframe\">\n",
       "  <thead>\n",
       "    <tr style=\"text-align: right;\">\n",
       "      <th></th>\n",
       "      <th>Station ID</th>\n",
       "      <th>datetime</th>\n",
       "      <th>Occupancy</th>\n",
       "      <th>Flow</th>\n",
       "      <th>Speed</th>\n",
       "      <th>Date</th>\n",
       "      <th>Time</th>\n",
       "      <th>idx</th>\n",
       "    </tr>\n",
       "  </thead>\n",
       "  <tbody>\n",
       "    <tr>\n",
       "      <th>0</th>\n",
       "      <td>408907</td>\n",
       "      <td>2017-04-30 00:00:00</td>\n",
       "      <td>0.6</td>\n",
       "      <td>26.0</td>\n",
       "      <td>68.4</td>\n",
       "      <td>04/30/2017</td>\n",
       "      <td>00:00</td>\n",
       "      <td>33395</td>\n",
       "    </tr>\n",
       "    <tr>\n",
       "      <th>1</th>\n",
       "      <td>408907</td>\n",
       "      <td>2017-04-30 00:05:00</td>\n",
       "      <td>1.1</td>\n",
       "      <td>42.0</td>\n",
       "      <td>67.5</td>\n",
       "      <td>04/30/2017</td>\n",
       "      <td>00:05</td>\n",
       "      <td>33396</td>\n",
       "    </tr>\n",
       "    <tr>\n",
       "      <th>2</th>\n",
       "      <td>408907</td>\n",
       "      <td>2017-04-30 00:10:00</td>\n",
       "      <td>1.0</td>\n",
       "      <td>41.0</td>\n",
       "      <td>68.1</td>\n",
       "      <td>04/30/2017</td>\n",
       "      <td>00:10</td>\n",
       "      <td>33397</td>\n",
       "    </tr>\n",
       "  </tbody>\n",
       "</table>\n",
       "</div>"
      ],
      "text/plain": [
       "   Station ID             datetime  Occupancy  Flow  Speed        Date   Time  \\\n",
       "0      408907  2017-04-30 00:00:00        0.6  26.0   68.4  04/30/2017  00:00   \n",
       "1      408907  2017-04-30 00:05:00        1.1  42.0   67.5  04/30/2017  00:05   \n",
       "2      408907  2017-04-30 00:10:00        1.0  41.0   68.1  04/30/2017  00:10   \n",
       "\n",
       "     idx  \n",
       "0  33395  \n",
       "1  33396  \n",
       "2  33397  "
      ]
     },
     "execution_count": 128,
     "metadata": {},
     "output_type": "execute_result"
    }
   ],
   "source": [
    "df_train.head(3)"
   ]
  },
  {
   "cell_type": "code",
   "execution_count": 129,
   "metadata": {},
   "outputs": [
    {
     "data": {
      "text/html": [
       "<div>\n",
       "<style scoped>\n",
       "    .dataframe tbody tr th:only-of-type {\n",
       "        vertical-align: middle;\n",
       "    }\n",
       "\n",
       "    .dataframe tbody tr th {\n",
       "        vertical-align: top;\n",
       "    }\n",
       "\n",
       "    .dataframe thead th {\n",
       "        text-align: right;\n",
       "    }\n",
       "</style>\n",
       "<table border=\"1\" class=\"dataframe\">\n",
       "  <thead>\n",
       "    <tr style=\"text-align: right;\">\n",
       "      <th></th>\n",
       "      <th>Station ID</th>\n",
       "      <th>datetime</th>\n",
       "      <th>Occupancy</th>\n",
       "      <th>Flow</th>\n",
       "      <th>Speed</th>\n",
       "      <th>Date</th>\n",
       "      <th>Time</th>\n",
       "      <th>idx</th>\n",
       "    </tr>\n",
       "  </thead>\n",
       "  <tbody>\n",
       "    <tr>\n",
       "      <th>864</th>\n",
       "      <td>408907</td>\n",
       "      <td>2017-05-03 00:00:00</td>\n",
       "      <td>0.7</td>\n",
       "      <td>27.0</td>\n",
       "      <td>67.3</td>\n",
       "      <td>05/03/2017</td>\n",
       "      <td>00:00</td>\n",
       "      <td>34259</td>\n",
       "    </tr>\n",
       "    <tr>\n",
       "      <th>865</th>\n",
       "      <td>408907</td>\n",
       "      <td>2017-05-03 00:05:00</td>\n",
       "      <td>0.8</td>\n",
       "      <td>32.0</td>\n",
       "      <td>68.5</td>\n",
       "      <td>05/03/2017</td>\n",
       "      <td>00:05</td>\n",
       "      <td>34260</td>\n",
       "    </tr>\n",
       "    <tr>\n",
       "      <th>866</th>\n",
       "      <td>408907</td>\n",
       "      <td>2017-05-03 00:10:00</td>\n",
       "      <td>0.4</td>\n",
       "      <td>13.0</td>\n",
       "      <td>67.7</td>\n",
       "      <td>05/03/2017</td>\n",
       "      <td>00:10</td>\n",
       "      <td>34261</td>\n",
       "    </tr>\n",
       "  </tbody>\n",
       "</table>\n",
       "</div>"
      ],
      "text/plain": [
       "     Station ID             datetime  Occupancy  Flow  Speed        Date  \\\n",
       "864      408907  2017-05-03 00:00:00        0.7  27.0   67.3  05/03/2017   \n",
       "865      408907  2017-05-03 00:05:00        0.8  32.0   68.5  05/03/2017   \n",
       "866      408907  2017-05-03 00:10:00        0.4  13.0   67.7  05/03/2017   \n",
       "\n",
       "      Time    idx  \n",
       "864  00:00  34259  \n",
       "865  00:05  34260  \n",
       "866  00:10  34261  "
      ]
     },
     "execution_count": 129,
     "metadata": {},
     "output_type": "execute_result"
    }
   ],
   "source": [
    "df_test.head(3)"
   ]
  },
  {
   "cell_type": "markdown",
   "metadata": {},
   "source": [
    "## DES: Tune and save parameters for each variable, and each detector station"
   ]
  },
  {
   "cell_type": "markdown",
   "metadata": {},
   "source": [
    "$$S_1(t) = \\alpha X(i,t) + (1 - \\alpha) S_1(t-1)$$\n",
    "$$S_2(t) = \\alpha S_1(t) + (1 - \\alpha) S_2(t-1)$$\n",
    "$$A(t) = 2S_1(t) - S_2(t)$$\n",
    "$$B(t) = \\frac{\\alpha}{1 - \\alpha} [S_1(t) - S_2(t)]$$\n",
    "and finally,\n",
    "$$Y(i, t+1) = A(i, t) + B(i, t),$$\n",
    "where $i$ denotes a detector station named $i$."
   ]
  },
  {
   "cell_type": "markdown",
   "metadata": {},
   "source": [
    "### How to define \"normal days\" for a detector?"
   ]
  },
  {
   "cell_type": "markdown",
   "metadata": {},
   "source": [
    "Of course a \"normal\" day is a day when no incident happens and the traffic state at the detector station is normal overall.  But how can we determine a normal day?"
   ]
  },
  {
   "cell_type": "markdown",
   "metadata": {},
   "source": [
    "Suppose a lane-blocking incident happens between two adjacent road segments B (upstream) and E (downstream).  Then B and E are both likely to be affected because the occupancy at B may increase and E decrease in a short time.  Hence at present, let's suppose both B and E are affected, and the rest upstream and downstream stations are unaffected."
   ]
  },
  {
   "cell_type": "code",
   "execution_count": 130,
   "metadata": {},
   "outputs": [],
   "source": [
    "station = np.random.choice(stations)"
   ]
  },
  {
   "cell_type": "code",
   "execution_count": 131,
   "metadata": {},
   "outputs": [
    {
     "data": {
      "text/plain": [
       "402800"
      ]
     },
     "execution_count": 131,
     "metadata": {},
     "output_type": "execute_result"
    }
   ],
   "source": [
    "station"
   ]
  },
  {
   "cell_type": "code",
   "execution_count": 132,
   "metadata": {},
   "outputs": [],
   "source": [
    "abnormal_dates_station = incidents.loc[(incidents[\"Upstream\"] == station) | (incidents[\"Downstream\"] == str(station))][\"Date\"].unique()\n",
    "normal_dates_train = list(set(dates_train).difference(set(abnormal_dates_station)))\n",
    "normal_dates_train.sort()\n",
    "normal_dates_train_str = list(map(lambda x: x.strftime(\"%m/%d/%Y\"), normal_dates_train))\n",
    "df_train_station = df_train.loc[(df_train[\"Station ID\"] == station) & (df_train[\"Date\"].isin(normal_dates_train_str))]"
   ]
  },
  {
   "cell_type": "code",
   "execution_count": 133,
   "metadata": {
    "scrolled": true
   },
   "outputs": [
    {
     "data": {
      "text/html": [
       "<div>\n",
       "<style scoped>\n",
       "    .dataframe tbody tr th:only-of-type {\n",
       "        vertical-align: middle;\n",
       "    }\n",
       "\n",
       "    .dataframe tbody tr th {\n",
       "        vertical-align: top;\n",
       "    }\n",
       "\n",
       "    .dataframe thead th {\n",
       "        text-align: right;\n",
       "    }\n",
       "</style>\n",
       "<table border=\"1\" class=\"dataframe\">\n",
       "  <thead>\n",
       "    <tr style=\"text-align: right;\">\n",
       "      <th></th>\n",
       "      <th>Station ID</th>\n",
       "      <th>datetime</th>\n",
       "      <th>Occupancy</th>\n",
       "      <th>Flow</th>\n",
       "      <th>Speed</th>\n",
       "      <th>Date</th>\n",
       "      <th>Time</th>\n",
       "      <th>idx</th>\n",
       "    </tr>\n",
       "  </thead>\n",
       "  <tbody>\n",
       "    <tr>\n",
       "      <th>1419264</th>\n",
       "      <td>402800</td>\n",
       "      <td>2017-04-30 00:00:00</td>\n",
       "      <td>2.5</td>\n",
       "      <td>218.0</td>\n",
       "      <td>72.4</td>\n",
       "      <td>04/30/2017</td>\n",
       "      <td>00:00</td>\n",
       "      <td>2269619</td>\n",
       "    </tr>\n",
       "    <tr>\n",
       "      <th>1419265</th>\n",
       "      <td>402800</td>\n",
       "      <td>2017-04-30 00:05:00</td>\n",
       "      <td>1.8</td>\n",
       "      <td>151.0</td>\n",
       "      <td>72.1</td>\n",
       "      <td>04/30/2017</td>\n",
       "      <td>00:05</td>\n",
       "      <td>2269620</td>\n",
       "    </tr>\n",
       "    <tr>\n",
       "      <th>1419266</th>\n",
       "      <td>402800</td>\n",
       "      <td>2017-04-30 00:10:00</td>\n",
       "      <td>2.1</td>\n",
       "      <td>173.0</td>\n",
       "      <td>71.3</td>\n",
       "      <td>04/30/2017</td>\n",
       "      <td>00:10</td>\n",
       "      <td>2269621</td>\n",
       "    </tr>\n",
       "    <tr>\n",
       "      <th>1419267</th>\n",
       "      <td>402800</td>\n",
       "      <td>2017-04-30 00:15:00</td>\n",
       "      <td>2.0</td>\n",
       "      <td>173.0</td>\n",
       "      <td>72.0</td>\n",
       "      <td>04/30/2017</td>\n",
       "      <td>00:15</td>\n",
       "      <td>2269622</td>\n",
       "    </tr>\n",
       "    <tr>\n",
       "      <th>1419268</th>\n",
       "      <td>402800</td>\n",
       "      <td>2017-04-30 00:20:00</td>\n",
       "      <td>2.0</td>\n",
       "      <td>172.0</td>\n",
       "      <td>71.7</td>\n",
       "      <td>04/30/2017</td>\n",
       "      <td>00:20</td>\n",
       "      <td>2269623</td>\n",
       "    </tr>\n",
       "  </tbody>\n",
       "</table>\n",
       "</div>"
      ],
      "text/plain": [
       "         Station ID             datetime  Occupancy   Flow  Speed        Date  \\\n",
       "1419264      402800  2017-04-30 00:00:00        2.5  218.0   72.4  04/30/2017   \n",
       "1419265      402800  2017-04-30 00:05:00        1.8  151.0   72.1  04/30/2017   \n",
       "1419266      402800  2017-04-30 00:10:00        2.1  173.0   71.3  04/30/2017   \n",
       "1419267      402800  2017-04-30 00:15:00        2.0  173.0   72.0  04/30/2017   \n",
       "1419268      402800  2017-04-30 00:20:00        2.0  172.0   71.7  04/30/2017   \n",
       "\n",
       "          Time      idx  \n",
       "1419264  00:00  2269619  \n",
       "1419265  00:05  2269620  \n",
       "1419266  00:10  2269621  \n",
       "1419267  00:15  2269622  \n",
       "1419268  00:20  2269623  "
      ]
     },
     "execution_count": 133,
     "metadata": {},
     "output_type": "execute_result"
    }
   ],
   "source": [
    "df_train_station.head(5)"
   ]
  },
  {
   "cell_type": "code",
   "execution_count": 240,
   "metadata": {},
   "outputs": [],
   "source": [
    "var_name = \"Speed\"\n",
    "var_series = df_train_station[var_name].values"
   ]
  },
  {
   "cell_type": "code",
   "execution_count": 241,
   "metadata": {},
   "outputs": [
    {
     "data": {
      "text/plain": [
       "array([68.7, 70.4, 70.3, 70.9, 65.5])"
      ]
     },
     "execution_count": 241,
     "metadata": {},
     "output_type": "execute_result"
    }
   ],
   "source": [
    "var_series[:5]"
   ]
  },
  {
   "cell_type": "code",
   "execution_count": 196,
   "metadata": {},
   "outputs": [],
   "source": [
    "# initialize data using the first ten points\n",
    "alphas = np.arange(1000) / 1000.\n",
    "# for each alpha, perform exponential smoothing, and compute RMSE\n",
    "alpha = np.random.choice(alphas)\n",
    "beta = round(1. - alpha, 3)"
   ]
  },
  {
   "cell_type": "code",
   "execution_count": 197,
   "metadata": {},
   "outputs": [
    {
     "data": {
      "text/plain": [
       "(0.074, 0.926)"
      ]
     },
     "execution_count": 197,
     "metadata": {},
     "output_type": "execute_result"
    }
   ],
   "source": [
    "alpha, beta"
   ]
  },
  {
   "cell_type": "code",
   "execution_count": 261,
   "metadata": {},
   "outputs": [],
   "source": [
    "alpha = .7\n",
    "beta = .3"
   ]
  },
  {
   "cell_type": "code",
   "execution_count": 256,
   "metadata": {
    "scrolled": true
   },
   "outputs": [
    {
     "data": {
      "text/plain": [
       "24192"
      ]
     },
     "execution_count": 256,
     "metadata": {},
     "output_type": "execute_result"
    }
   ],
   "source": [
    "len(var_series)"
   ]
  },
  {
   "cell_type": "code",
   "execution_count": 262,
   "metadata": {},
   "outputs": [],
   "source": [
    "sse = 0.\n",
    "s1 = [0.] * len(var_series)\n",
    "s2 = [0.] * len(var_series)\n",
    "y = [0.] * len(var_series)\n",
    "# initialize values\n",
    "s1[10] = np.mean(var_series[:10])\n",
    "s2[10] = s1[10]\n",
    "for i in range(11, len(var_series) - 1):\n",
    "    s1[i] = alpha * var_series[i] + beta * s1[i-1]\n",
    "    s2[i] = alpha * s1[i] + beta * s2[i-1]\n",
    "    y[i+1] = 2 * s1[i] - s2[i] + alpha / beta * (s1[i] - s2[i])\n",
    "    sse += (var_series[i+1] - y[i+1]) ** 2"
   ]
  },
  {
   "cell_type": "code",
   "execution_count": 263,
   "metadata": {},
   "outputs": [],
   "source": [
    "# compute RMSE\n",
    "diff = var_series - y\n",
    "diff = diff[12:len(var_series)]"
   ]
  },
  {
   "cell_type": "code",
   "execution_count": 264,
   "metadata": {},
   "outputs": [
    {
     "data": {
      "text/plain": [
       "3.0259644677551067"
      ]
     },
     "execution_count": 264,
     "metadata": {},
     "output_type": "execute_result"
    }
   ],
   "source": [
    "rmse = np.sqrt( np.mean(diff ** 2) )\n",
    "rmse"
   ]
  },
  {
   "cell_type": "code",
   "execution_count": 266,
   "metadata": {},
   "outputs": [
    {
     "data": {
      "image/png": "[encoded data removed]",
      "text/plain": [
       "<Figure size 720x576 with 1 Axes>"
      ]
     },
     "metadata": {},
     "output_type": "display_data"
    }
   ],
   "source": [
    "u.plot_time_series(var_series[20300:20900], y[20300:20900], X_label=\"X\", Y_label=\"Y\")"
   ]
  },
  {
   "cell_type": "code",
   "execution_count": 224,
   "metadata": {},
   "outputs": [
    {
     "data": {
      "text/plain": [
       "2.0930696264644015"
      ]
     },
     "execution_count": 224,
     "metadata": {},
     "output_type": "execute_result"
    }
   ],
   "source": [
    "np.sqrt( sse/ (len(var_series) - 12) )"
   ]
  },
  {
   "cell_type": "markdown",
   "metadata": {},
   "source": [
    "*TODO*: We don't actually need the vectors s1, s2 and y to get rmse.  Implement a memory-efficient solution."
   ]
  },
  {
   "cell_type": "markdown",
   "metadata": {},
   "source": [
    "### Memory-efficient form"
   ]
  },
  {
   "cell_type": "code",
   "execution_count": 225,
   "metadata": {},
   "outputs": [],
   "source": [
    "sse = 0.\n",
    "s1 = np.mean(var_series[:10])\n",
    "s2 = s1\n",
    "y = None\n",
    "for i in range(11, len(var_series) - 1):\n",
    "    s1 = alpha * var_series[i] + beta * s1\n",
    "    s2 = alpha * s1 + beta * s2\n",
    "    y_next = 2 * s1 - s2 + alpha / beta * (s1 - s2)\n",
    "    sse += (var_series[i+1] - y_next) ** 2"
   ]
  },
  {
   "cell_type": "code",
   "execution_count": 226,
   "metadata": {},
   "outputs": [
    {
     "data": {
      "text/plain": [
       "2.0930696264644015"
      ]
     },
     "execution_count": 226,
     "metadata": {},
     "output_type": "execute_result"
    }
   ],
   "source": [
    "np.sqrt( sse/ (len(var_series) - 12) )"
   ]
  },
  {
   "cell_type": "markdown",
   "metadata": {},
   "source": [
    "## Put the above code together!"
   ]
  },
  {
   "cell_type": "markdown",
   "metadata": {},
   "source": [
    "We also want to save the best alphas for each variable. Use a dictionary, transform it to pandas dataframe, and save to csv."
   ]
  },
  {
   "cell_type": "code",
   "execution_count": 146,
   "metadata": {},
   "outputs": [],
   "source": [
    "var_names = [\"Speed\", \"Flow\", \"Occupancy\"]"
   ]
  },
  {
   "cell_type": "code",
   "execution_count": 227,
   "metadata": {},
   "outputs": [],
   "source": [
    "def DES_rmse(alpha, var_series):\n",
    "    len_series = len(var_series)\n",
    "    \n",
    "    beta = round(1. - alpha, 3)\n",
    "\n",
    "    sse = 0.\n",
    "    s1 = np.mean(var_series[:10])\n",
    "    s2 = s1\n",
    "    \n",
    "    for i in range(11, len_series - 1):\n",
    "        s1 = alpha * var_series[i] + beta * s1\n",
    "        s2 = alpha * s1 + beta * s2\n",
    "        y_next = 2 * s1 - s2 + alpha / beta * (s1 - s2)\n",
    "        sse += (var_series[i+1] - y_next) ** 2\n",
    "    \n",
    "    return np.sqrt( sse / (len_series - 12) )"
   ]
  },
  {
   "cell_type": "code",
   "execution_count": 228,
   "metadata": {},
   "outputs": [
    {
     "data": {
      "text/plain": [
       "2.0930696264644015"
      ]
     },
     "execution_count": 228,
     "metadata": {},
     "output_type": "execute_result"
    }
   ],
   "source": [
    "DES_rmse(alpha, var_series)"
   ]
  },
  {
   "cell_type": "code",
   "execution_count": 237,
   "metadata": {},
   "outputs": [
    {
     "data": {
      "text/plain": [
       "2.093069626464403"
      ]
     },
     "execution_count": 237,
     "metadata": {},
     "output_type": "execute_result"
    }
   ],
   "source": [
    "DES_rmse_vector(alpha, var_series)"
   ]
  },
  {
   "cell_type": "code",
   "execution_count": 236,
   "metadata": {},
   "outputs": [],
   "source": [
    "def DES_rmse_vector(alpha, var_series):\n",
    "    len_series = len(var_series)\n",
    "    \n",
    "    beta = round(1. - alpha, 3)\n",
    "    s1 = [0.] * len_series\n",
    "    s2 = [0.] * len_series\n",
    "    y = [0.] * len_series\n",
    "\n",
    "    # initialize values\n",
    "    s1[10] = np.mean(var_series[:10])\n",
    "    s2[10] = s1[10]\n",
    "    \n",
    "    # time series prediction\n",
    "    for t in range(11, len_series - 1):\n",
    "        s1[t] = alpha * var_series[t] + beta * s1[t-1]\n",
    "        s2[t] = alpha * s1[t] + beta * s2[t-1]\n",
    "        y[t+1] = 2 * s1[t] - s2[t] + alpha / beta * (s1[t] - s2[t])\n",
    "\n",
    "    # compute RMSE\n",
    "        diff = var_series - y\n",
    "        diff = diff[12:len(var_series)]\n",
    "        rmse = np.sqrt( np.mean(diff ** 2) )\n",
    "    \n",
    "    return rmse"
   ]
  },
  {
   "cell_type": "code",
   "execution_count": 238,
   "metadata": {
    "scrolled": true
   },
   "outputs": [
    {
     "name": "stdout",
     "output_type": "stream",
     "text": [
      "408907\n",
      "408907 0.7 0.2 0.5\n",
      "400951\n",
      "400951 0.7 0.2 0.5\n",
      "400057\n",
      "400057 0.7 0.2 0.4\n",
      "400147\n",
      "400147 0.7 0.2 0.4\n",
      "400343\n",
      "400343 0.7 0.2 0.4\n",
      "401560\n",
      "401560 0.6 0.2 0.3\n",
      "400045\n",
      "400045 0.7 0.2 0.3\n",
      "400122\n",
      "400122 0.7 0.3 0.4\n",
      "401541\n",
      "401541 0.6 0.2 0.3\n",
      "402281\n",
      "402281 0.5 0.2 0.3\n",
      "402283\n",
      "402283 0.4 0.2 0.3\n",
      "402285\n",
      "402285 0.5 0.2 0.3\n",
      "402286\n",
      "402286 0.4 0.2 0.2\n",
      "400088\n",
      "400088 0.4 0.2 0.2\n",
      "402288\n",
      "402288 0.4 0.2 0.2\n",
      "413026\n",
      "413026 0.5 0.2 0.4\n",
      "401464\n",
      "401464 0.6 0.2 0.4\n",
      "401489\n",
      "401489 0.6 0.2 0.5\n",
      "401538\n",
      "401538 0.4 0.2 0.3\n",
      "402290\n",
      "402290 0.5 0.2 0.4\n",
      "402292\n",
      "402292 0.6 0.2 0.4\n",
      "401643\n",
      "401643 0.7 0.2 0.4\n",
      "402800\n",
      "402800 0.5 0.3 0.3\n",
      "402828\n",
      "402828 0.7 0.2 0.3\n",
      "407219\n",
      "407219 0.6 0.2 0.3\n",
      "402789\n",
      "402789 0.6 0.2 0.3\n",
      "408755\n",
      "408755 0.7 0.2 0.3\n",
      "402802\n",
      "402802 0.6 0.1 0.2\n",
      "408756\n",
      "408756 0.7 0.2 0.3\n",
      "400189\n",
      "400189 0.6 0.2 0.3\n",
      "400309\n",
      "400309 0.6 0.2 0.3\n",
      "400417\n",
      "400417 0.5 0.2 0.3\n",
      "400249\n",
      "400249 0.7 0.2 0.4\n",
      "401639\n",
      "401639 0.8 0.2 0.5\n",
      "400662\n",
      "400662 0.6 0.2 0.3\n",
      "400141\n",
      "400141 0.6 0.2 0.3\n",
      "400761\n",
      "400761 0.6 0.2 0.3\n",
      "400490\n",
      "400490 0.5 0.2 0.3\n",
      "401888\n",
      "401888 0.6 0.1 0.2\n",
      "400137\n",
      "400137 0.7 0.2 0.3\n",
      "400716\n",
      "400716 0.6 0.2 0.3\n",
      "401545\n",
      "401545 0.5 0.2 0.3\n",
      "401011\n",
      "401011 0.6 0.2 0.4\n",
      "400674\n",
      "400674 0.6 0.2 0.3\n",
      "400539\n",
      "400539 0.6 0.2 0.3\n",
      "400534\n",
      "400534 0.7 0.2 0.3\n",
      "401062\n",
      "401062 0.6 0.2 0.3\n",
      "401529\n",
      "401529 0.6 0.2 0.2\n",
      "401613\n",
      "401613 0.6 0.2 0.2\n",
      "400536\n",
      "400536 0.5 0.2 0.3\n",
      "400488\n",
      "400488 0.8 0.2 0.4\n",
      "401561\n",
      "401561 0.6 0.2 0.4\n",
      "400611\n",
      "400611 0.6 0.2 0.3\n",
      "400928\n",
      "400928 0.6 0.2 0.3\n",
      "400284\n",
      "400284 0.6 0.2 0.3\n",
      "400041\n",
      "400041 0.6 0.2 0.3\n",
      "408133\n",
      "408133 0.5 0.2 0.3\n",
      "408135\n",
      "408135 0.6 0.2 0.3\n",
      "417665\n",
      "417665 0.6 0.2 0.4\n",
      "412637\n",
      "412637 0.7 0.2 0.4\n",
      "417666\n",
      "417666 0.7 0.2 0.4\n",
      "408134\n",
      "408134 0.6 0.2 0.4\n",
      "400685\n"
     ]
    },
    {
     "ename": "KeyboardInterrupt",
     "evalue": "",
     "output_type": "error",
     "traceback": [
      "\u001b[0;31m---------------------------------------------------------------------------\u001b[0m",
      "\u001b[0;31mKeyboardInterrupt\u001b[0m                         Traceback (most recent call last)",
      "\u001b[0;32m<ipython-input-238-7de028aea6bd>\u001b[0m in \u001b[0;36m<module>\u001b[0;34m()\u001b[0m\n\u001b[1;32m     43\u001b[0m                 \u001b[0ms1\u001b[0m\u001b[0;34m[\u001b[0m\u001b[0mt\u001b[0m\u001b[0;34m]\u001b[0m \u001b[0;34m=\u001b[0m \u001b[0malpha\u001b[0m \u001b[0;34m*\u001b[0m \u001b[0mvar_series\u001b[0m\u001b[0;34m[\u001b[0m\u001b[0mt\u001b[0m\u001b[0;34m]\u001b[0m \u001b[0;34m+\u001b[0m \u001b[0mbeta\u001b[0m \u001b[0;34m*\u001b[0m \u001b[0ms1\u001b[0m\u001b[0;34m[\u001b[0m\u001b[0mt\u001b[0m\u001b[0;34m-\u001b[0m\u001b[0;36m1\u001b[0m\u001b[0;34m]\u001b[0m\u001b[0;34m\u001b[0m\u001b[0m\n\u001b[1;32m     44\u001b[0m                 \u001b[0ms2\u001b[0m\u001b[0;34m[\u001b[0m\u001b[0mt\u001b[0m\u001b[0;34m]\u001b[0m \u001b[0;34m=\u001b[0m \u001b[0malpha\u001b[0m \u001b[0;34m*\u001b[0m \u001b[0ms1\u001b[0m\u001b[0;34m[\u001b[0m\u001b[0mt\u001b[0m\u001b[0;34m]\u001b[0m \u001b[0;34m+\u001b[0m \u001b[0mbeta\u001b[0m \u001b[0;34m*\u001b[0m \u001b[0ms2\u001b[0m\u001b[0;34m[\u001b[0m\u001b[0mt\u001b[0m\u001b[0;34m-\u001b[0m\u001b[0;36m1\u001b[0m\u001b[0;34m]\u001b[0m\u001b[0;34m\u001b[0m\u001b[0m\n\u001b[0;32m---> 45\u001b[0;31m                 \u001b[0my\u001b[0m\u001b[0;34m[\u001b[0m\u001b[0mt\u001b[0m\u001b[0;34m+\u001b[0m\u001b[0;36m1\u001b[0m\u001b[0;34m]\u001b[0m \u001b[0;34m=\u001b[0m \u001b[0;36m2\u001b[0m \u001b[0;34m*\u001b[0m \u001b[0ms1\u001b[0m\u001b[0;34m[\u001b[0m\u001b[0mt\u001b[0m\u001b[0;34m]\u001b[0m \u001b[0;34m-\u001b[0m \u001b[0ms2\u001b[0m\u001b[0;34m[\u001b[0m\u001b[0mt\u001b[0m\u001b[0;34m]\u001b[0m \u001b[0;34m+\u001b[0m \u001b[0malpha\u001b[0m \u001b[0;34m/\u001b[0m \u001b[0mbeta\u001b[0m \u001b[0;34m*\u001b[0m \u001b[0;34m(\u001b[0m\u001b[0ms1\u001b[0m\u001b[0;34m[\u001b[0m\u001b[0mt\u001b[0m\u001b[0;34m]\u001b[0m \u001b[0;34m-\u001b[0m \u001b[0ms2\u001b[0m\u001b[0;34m[\u001b[0m\u001b[0mt\u001b[0m\u001b[0;34m]\u001b[0m\u001b[0;34m)\u001b[0m\u001b[0;34m\u001b[0m\u001b[0m\n\u001b[0m\u001b[1;32m     46\u001b[0m \u001b[0;34m\u001b[0m\u001b[0m\n\u001b[1;32m     47\u001b[0m             \u001b[0;31m# compute RMSE\u001b[0m\u001b[0;34m\u001b[0m\u001b[0;34m\u001b[0m\u001b[0m\n",
      "\u001b[0;31mKeyboardInterrupt\u001b[0m: "
     ]
    }
   ],
   "source": [
    "best_alphas = {\n",
    "    'Station ID': [],\n",
    "    'Speed': [],\n",
    "    'Flow': [],\n",
    "    'Occupancy': []\n",
    "}\n",
    "num_grids = 10\n",
    "for i, station in enumerate(stations):\n",
    "    best_alphas['Station ID'].append(station)\n",
    "    \n",
    "    # update current training station dataframe, the training data is normal day's data\n",
    "    abnormal_dates_station = incidents.loc[(incidents[\"Upstream\"] == station) | (incidents[\"Downstream\"] == str(station))][\"Date\"].unique()\n",
    "    normal_dates_train = list(set(dates_train).difference(set(abnormal_dates_station)))\n",
    "    normal_dates_train_str = list(map(lambda x: x.strftime(\"%m/%d/%Y\"), normal_dates_train))\n",
    "    df_train_station = df_train.loc[(df_train[\"Station ID\"] == station) & (df_train[\"Date\"].isin(normal_dates_train_str))]\n",
    "\n",
    "    df_train_station = df_train.loc[df_train[\"Station ID\"] == station]\n",
    "    print(station)\n",
    "    for var_name in var_names:\n",
    "        var_series = df_train_station[var_name].values\n",
    "        len_series = len(var_series)\n",
    "        \n",
    "        # setting up alphas\n",
    "        alphas = np.arange(num_grids) * 1. / num_grids\n",
    "        \n",
    "        # save the historical best alpha by rmse\n",
    "        best_rmse = float(\"inf\")\n",
    "        best_alpha = 0.\n",
    "        \n",
    "        # for each alpha, perform exponential smoothing, and compute RMSE\n",
    "        for alpha in alphas:\n",
    "            beta = round(1. - alpha, 3)\n",
    "            s1 = [0.] * len_series\n",
    "            s2 = [0.] * len_series\n",
    "            y = [0.] * len_series\n",
    "            \n",
    "            # initialize values\n",
    "            s1[10] = np.mean(var_series[:10])\n",
    "            s2[10] = s1[10]\n",
    "            \n",
    "            # time series prediction\n",
    "            for t in range(11, len_series-1):\n",
    "                s1[t] = alpha * var_series[t] + beta * s1[t-1]\n",
    "                s2[t] = alpha * s1[t] + beta * s2[t-1]\n",
    "                y[t+1] = 2 * s1[t] - s2[t] + alpha / beta * (s1[t] - s2[t])\n",
    "            \n",
    "            # compute RMSE\n",
    "            diff = var_series - y\n",
    "            diff = diff[12:len(var_series)]\n",
    "            rmse = np.sqrt( np.mean(diff ** 2) )\n",
    "            \n",
    "            # compare, and decide whether to update best alpha\n",
    "            if rmse < best_rmse:\n",
    "                best_rmse = rmse\n",
    "                best_alpha = alpha\n",
    "        \n",
    "        # finally, save the best alpha for the variable at this station\n",
    "        best_alphas[var_name].append(best_alpha)\n",
    "    \n",
    "    # print trained alphas for each station\n",
    "    print(best_alphas['Station ID'][i], best_alphas['Speed'][i], best_alphas['Flow'][i], best_alphas['Occupancy'][i])"
   ]
  },
  {
   "cell_type": "markdown",
   "metadata": {},
   "source": [
    "### Memory-efficient version"
   ]
  },
  {
   "cell_type": "markdown",
   "metadata": {},
   "source": [
    "The time needed to find optimal alpha for three traffic variables at one single detector station is approximately 2 minutes."
   ]
  },
  {
   "cell_type": "code",
   "execution_count": 267,
   "metadata": {
    "scrolled": true
   },
   "outputs": [
    {
     "name": "stdout",
     "output_type": "stream",
     "text": [
      "408907\n",
      "408907 0.72 0.201 0.525\n",
      "400951\n",
      "400951 0.742 0.212 0.524\n",
      "400057\n",
      "400057 0.738 0.218 0.443\n",
      "400147\n",
      "400147 0.724 0.235 0.419\n",
      "400343\n",
      "400343 0.683 0.239 0.363\n",
      "401560\n",
      "401560 0.592 0.177 0.319\n",
      "400045\n",
      "400045 0.679 0.182 0.279\n",
      "400122\n",
      "400122 0.704 0.255 0.407\n",
      "401541\n",
      "401541 0.641 0.225 0.292\n",
      "402281\n",
      "402281 0.534 0.214 0.295\n",
      "402283\n",
      "402283 0.441 0.228 0.305\n",
      "402285\n",
      "402285 0.528 0.184 0.281\n",
      "402286\n",
      "402286 0.448 0.193 0.186\n",
      "400088\n",
      "400088 0.425 0.184 0.169\n",
      "402288\n",
      "402288 0.394 0.241 0.161\n",
      "413026\n",
      "413026 0.506 0.173 0.382\n",
      "401464\n",
      "401464 0.572 0.198 0.427\n",
      "401489\n",
      "401489 0.61 0.209 0.451\n",
      "401538\n",
      "401538 0.371 0.208 0.337\n",
      "402290\n",
      "402290 0.539 0.211 0.392\n",
      "402292\n",
      "402292 0.628 0.22 0.383\n",
      "401643\n",
      "401643 0.696 0.232 0.404\n",
      "402800\n",
      "402800 0.52 0.253 0.29\n",
      "402828\n",
      "402828 0.68 0.191 0.326\n",
      "407219\n",
      "407219 0.56 0.194 0.295\n",
      "402789\n",
      "402789 0.598 0.244 0.321\n",
      "408755\n",
      "408755 0.714 0.217 0.34\n",
      "402802\n",
      "402802 0.565 0.136 0.206\n",
      "408756\n",
      "408756 0.696 0.211 0.345\n",
      "400189\n",
      "400189 0.588 0.208 0.268\n",
      "400309\n",
      "400309 0.6 0.21 0.302\n",
      "400417\n",
      "400417 0.514 0.189 0.298\n",
      "400249\n",
      "400249 0.732 0.212 0.412\n",
      "401639\n",
      "401639 0.753 0.214 0.458\n",
      "400662\n",
      "400662 0.594 0.21 0.265\n",
      "400141\n",
      "400141 0.55 0.2 0.298\n",
      "400761\n",
      "400761 0.632 0.198 0.326\n",
      "400490\n",
      "400490 0.535 0.196 0.328\n",
      "401888\n",
      "401888 0.578 0.126 0.244\n",
      "400137\n",
      "400137 0.66 0.195 0.3\n",
      "400716\n",
      "400716 0.559 0.195 0.305\n",
      "401545\n",
      "401545 0.538 0.158 0.29\n",
      "401011\n",
      "401011 0.645 0.176 0.357\n",
      "400674\n",
      "400674 0.645 0.203 0.318\n",
      "400539\n",
      "400539 0.555 0.213 0.317\n",
      "400534\n",
      "400534 0.662 0.202 0.269\n",
      "401062\n",
      "401062 0.596 0.186 0.284\n",
      "401529\n",
      "401529 0.604 0.185 0.238\n",
      "401613\n",
      "401613 0.564 0.182 0.24\n",
      "400536\n",
      "400536 0.518 0.208 0.32\n",
      "400488\n",
      "400488 0.751 0.206 0.447\n",
      "401561\n",
      "401561 0.64 0.204 0.368\n",
      "400611\n",
      "400611 0.615 0.22 0.275\n",
      "400928\n",
      "400928 0.649 0.189 0.287\n",
      "400284\n",
      "400284 0.645 0.211 0.293\n",
      "400041\n",
      "400041 0.637 0.22 0.315\n",
      "408133\n",
      "408133 0.451 0.221 0.27\n",
      "408135\n",
      "408135 0.575 0.227 0.344\n",
      "417665\n",
      "417665 0.625 0.218 0.366\n",
      "412637\n",
      "412637 0.701 0.237 0.369\n",
      "417666\n",
      "417666 0.667 0.235 0.374\n",
      "408134\n",
      "408134 0.611 0.241 0.403\n",
      "400685\n",
      "400685 0.623 0.265 0.379\n",
      "401003\n",
      "401003 0.557 0.234 0.329\n",
      "400898\n",
      "400898 0.479 0.213 0.243\n",
      "400275\n",
      "400275 0.607 0.233 0.353\n",
      "400939\n",
      "400939 0.69 0.266 0.479\n",
      "400180\n",
      "400180 0.634 0.24 0.405\n",
      "400529\n",
      "400529 0.692 0.257 0.425\n",
      "400990\n",
      "400990 0.594 0.258 0.374\n",
      "400515\n",
      "400515 0.533 0.23 0.403\n",
      "400252\n",
      "400252 0.654 0.236 0.422\n",
      "400788\n",
      "400788 0.669 0.228 0.423\n",
      "401517\n",
      "401517 0.626 0.232 0.419\n",
      "401871\n",
      "401871 0.634 0.181 0.364\n",
      "400574\n",
      "400574 0.599 0.227 0.382\n",
      "401629\n",
      "401629 0.656 0.343 0.424\n",
      "400422\n",
      "400422 0.698 0.216 0.432\n",
      "400333\n",
      "400333 0.684 0.185 0.328\n",
      "410363\n",
      "410363 0.457 0.132 0.258\n",
      "400360\n",
      "400360 0.614 0.217 0.373\n",
      "400955\n",
      "400955 0.64 0.226 0.41\n",
      "400495\n",
      "400495 0.629 0.226 0.412\n",
      "400608\n",
      "400608 0.726 0.25 0.435\n",
      "400949\n",
      "400949 0.675 0.269 0.412\n",
      "400678\n",
      "400678 0.728 0.252 0.423\n",
      "400341\n",
      "400341 0.781 0.258 0.465\n",
      "400607\n",
      "400607 0.693 0.225 0.421\n",
      "400094\n",
      "400094 0.7 0.905 0.8\n",
      "400682\n",
      "400682 0.537 0.162 0.241\n",
      "408138\n",
      "408138 0.561 0.172 0.219\n",
      "400980\n",
      "400980 0.565 0.186 0.273\n",
      "401333\n",
      "401333 0.515 0.148 0.172\n",
      "404746\n",
      "404746 0.423 0.141 0.133\n",
      "401142\n",
      "401142 0.462 0.149 0.18\n",
      "400218\n",
      "400218 0.448 0.144 0.228\n",
      "400983\n",
      "400983 0.336 0.114 0.146\n",
      "400765\n",
      "400765 0.505 0.173 0.391\n",
      "400844\n",
      "400844 0.686 0.175 0.509\n",
      "400923\n",
      "400923 0.538 0.189 0.455\n",
      "401143\n",
      "401143 0.465 0.184 0.38\n",
      "401471\n",
      "401471 0.314 0.177 0.19\n"
     ]
    }
   ],
   "source": [
    "best_alphas = {\n",
    "    'Station ID': [],\n",
    "    'Speed': [],\n",
    "    'Flow': [],\n",
    "    'Occupancy': []\n",
    "}\n",
    "num_grids = 1000\n",
    "for i, station in enumerate(stations):\n",
    "    best_alphas['Station ID'].append(station)\n",
    "    \n",
    "    # update current training station dataframe, the training data is normal day's data\n",
    "    abnormal_dates_station = incidents.loc[(incidents[\"Upstream\"] == station) | (incidents[\"Downstream\"] == str(station))][\"Date\"].unique()\n",
    "    normal_dates_train = list(set(dates_train).difference(set(abnormal_dates_station)))\n",
    "    normal_dates_train_str = list(map(lambda x: x.strftime(\"%m/%d/%Y\"), normal_dates_train))\n",
    "    df_train_station = df_train.loc[(df_train[\"Station ID\"] == station) & (df_train[\"Date\"].isin(normal_dates_train_str))]\n",
    "\n",
    "    df_train_station = df_train.loc[df_train[\"Station ID\"] == station]\n",
    "    print(station)\n",
    "    for var_name in var_names:\n",
    "        var_series = df_train_station[var_name].values\n",
    "        len_series = len(var_series)\n",
    "        \n",
    "        # setting up alphas\n",
    "        alphas = np.arange(num_grids) * 1. / num_grids\n",
    "        \n",
    "        # save the historical best alpha by rmse\n",
    "        best_rmse = float(\"inf\")\n",
    "        best_alpha = 0.\n",
    "        \n",
    "        # for each alpha, perform exponential smoothing, and compute RMSE\n",
    "        for alpha in alphas:\n",
    "            rmse = DES_rmse(alpha, var_series)\n",
    "            \n",
    "            # compare, and decide whether to update best alpha\n",
    "            if rmse < best_rmse:\n",
    "                best_rmse = rmse\n",
    "                best_alpha = alpha\n",
    "        \n",
    "        # finally, save the best alpha for the variable at this station\n",
    "        best_alphas[var_name].append(best_alpha)\n",
    "    \n",
    "    # print trained alphas for each station\n",
    "    print(best_alphas['Station ID'][i], best_alphas['Speed'][i], best_alphas['Flow'][i], best_alphas['Occupancy'][i])"
   ]
  },
  {
   "cell_type": "code",
   "execution_count": 269,
   "metadata": {},
   "outputs": [],
   "source": [
    "best_alphas_df = pd.DataFrame(best_alphas)\n",
    "best_alphas_df.to_csv(base_path + \"best_alphas.csv\", index=False)"
   ]
  }
 ],
 "metadata": {
  "kernelspec": {
   "display_name": "Python 3",
   "language": "python",
   "name": "python3"
  },
  "language_info": {
   "codemirror_mode": {
    "name": "ipython",
    "version": 3
   },
   "file_extension": ".py",
   "mimetype": "text/x-python",
   "name": "python",
   "nbconvert_exporter": "python",
   "pygments_lexer": "ipython3",
   "version": "3.6.5"
  }
 },
 "nbformat": 4,
 "nbformat_minor": 2
}
