{
 "cells": [
  {
   "cell_type": "markdown",
   "metadata": {},
   "source": [
    "# Time Series - Double Exponential Smoothing (DES)"
   ]
  },
  {
   "cell_type": "code",
   "execution_count": 1,
   "metadata": {},
   "outputs": [],
   "source": [
    "import numpy as np\n",
    "import pandas as pd"
   ]
  },
  {
   "cell_type": "code",
   "execution_count": 110,
   "metadata": {},
   "outputs": [],
   "source": [
    "import util as u"
   ]
  },
  {
   "cell_type": "code",
   "execution_count": 3,
   "metadata": {},
   "outputs": [],
   "source": [
    "base_path = \"data/I88N-processed/\""
   ]
  },
  {
   "cell_type": "code",
   "execution_count": 5,
   "metadata": {},
   "outputs": [],
   "source": [
    "# import concatenated data, and available days to sample from\n",
    "concat_1 = pd.read_csv(base_path + \"concat/concat_1.csv\")\n",
    "concat_2 = pd.read_csv(base_path + \"concat/concat_2.csv\")\n",
    "concat_3 = pd.read_csv(base_path + \"concat/concat_3.csv\")"
   ]
  },
  {
   "cell_type": "code",
   "execution_count": 57,
   "metadata": {},
   "outputs": [],
   "source": [
    "datetime_1 = concat_1[\"datetime\"].values\n",
    "datetime_1 = pd.to_datetime(datetime_1)"
   ]
  },
  {
   "cell_type": "code",
   "execution_count": 196,
   "metadata": {},
   "outputs": [],
   "source": [
    "dataset_df_1 = concat_1.loc[concat_1[\"Date\"].isin(dates_format_1)]"
   ]
  },
  {
   "cell_type": "code",
   "execution_count": 197,
   "metadata": {},
   "outputs": [],
   "source": [
    "dataset_df_2 = concat_2.loc[concat_2[\"Date\"].isin(dates_format_2)]\n",
    "dataset_df_3 = concat_3.loc[concat_3[\"Date\"].isin(dates_format_2)]"
   ]
  },
  {
   "cell_type": "code",
   "execution_count": 202,
   "metadata": {},
   "outputs": [
    {
     "data": {
      "text/plain": [
       "array([400141, 400761, 400490, 401888, 400137, 400716, 401545, 401011,\n",
       "       400674, 400539, 400534, 401062, 401529, 401613, 400536, 400488,\n",
       "       401561, 400611, 400928, 400284, 400041, 408133, 408135, 417665,\n",
       "       412637, 417666, 408134, 400685, 401003, 400898, 400275, 400939,\n",
       "       400180, 400529, 400990])"
      ]
     },
     "execution_count": 202,
     "metadata": {},
     "output_type": "execute_result"
    }
   ],
   "source": [
    "dataset_df_2[\"Station ID\"].unique()"
   ]
  },
  {
   "cell_type": "code",
   "execution_count": 205,
   "metadata": {},
   "outputs": [
    {
     "data": {
      "text/plain": [
       "64512"
      ]
     },
     "execution_count": 205,
     "metadata": {},
     "output_type": "execute_result"
    }
   ],
   "source": [
    "len(dataset_df_2.loc[dataset_df_2[\"Station ID\"] == 417666].values)"
   ]
  },
  {
   "cell_type": "code",
   "execution_count": 200,
   "metadata": {},
   "outputs": [],
   "source": [
    "dates = available_dates"
   ]
  },
  {
   "cell_type": "code",
   "execution_count": 206,
   "metadata": {},
   "outputs": [
    {
     "data": {
      "text/plain": [
       "224"
      ]
     },
     "execution_count": 206,
     "metadata": {},
     "output_type": "execute_result"
    }
   ],
   "source": [
    "len(dates)"
   ]
  },
  {
   "cell_type": "markdown",
   "metadata": {},
   "source": [
    "The total number of samples collected at one station across all days is 97344, which is equal to 338 days * 24 hours/day * 12 samples/hour."
   ]
  },
  {
   "cell_type": "code",
   "execution_count": 260,
   "metadata": {},
   "outputs": [
    {
     "data": {
      "text/html": [
       "<div>\n",
       "<style scoped>\n",
       "    .dataframe tbody tr th:only-of-type {\n",
       "        vertical-align: middle;\n",
       "    }\n",
       "\n",
       "    .dataframe tbody tr th {\n",
       "        vertical-align: top;\n",
       "    }\n",
       "\n",
       "    .dataframe thead th {\n",
       "        text-align: right;\n",
       "    }\n",
       "</style>\n",
       "<table border=\"1\" class=\"dataframe\">\n",
       "  <thead>\n",
       "    <tr style=\"text-align: right;\">\n",
       "      <th></th>\n",
       "      <th>Station ID</th>\n",
       "      <th>datetime</th>\n",
       "      <th>Occupancy</th>\n",
       "      <th>Flow</th>\n",
       "      <th>Speed</th>\n",
       "      <th>Date</th>\n",
       "      <th>Time</th>\n",
       "      <th>idx</th>\n",
       "    </tr>\n",
       "  </thead>\n",
       "  <tbody>\n",
       "    <tr>\n",
       "      <th>33395</th>\n",
       "      <td>408907</td>\n",
       "      <td>2017-04-30 00:00:00</td>\n",
       "      <td>0.6</td>\n",
       "      <td>26.0</td>\n",
       "      <td>68.4</td>\n",
       "      <td>04/30/2017</td>\n",
       "      <td>00:00</td>\n",
       "      <td>33395</td>\n",
       "    </tr>\n",
       "    <tr>\n",
       "      <th>33396</th>\n",
       "      <td>408907</td>\n",
       "      <td>2017-04-30 00:05:00</td>\n",
       "      <td>1.1</td>\n",
       "      <td>42.0</td>\n",
       "      <td>67.5</td>\n",
       "      <td>04/30/2017</td>\n",
       "      <td>00:05</td>\n",
       "      <td>33396</td>\n",
       "    </tr>\n",
       "    <tr>\n",
       "      <th>33397</th>\n",
       "      <td>408907</td>\n",
       "      <td>2017-04-30 00:10:00</td>\n",
       "      <td>1.0</td>\n",
       "      <td>41.0</td>\n",
       "      <td>68.1</td>\n",
       "      <td>04/30/2017</td>\n",
       "      <td>00:10</td>\n",
       "      <td>33397</td>\n",
       "    </tr>\n",
       "  </tbody>\n",
       "</table>\n",
       "</div>"
      ],
      "text/plain": [
       "       Station ID             datetime  Occupancy  Flow  Speed        Date  \\\n",
       "33395      408907  2017-04-30 00:00:00        0.6  26.0   68.4  04/30/2017   \n",
       "33396      408907  2017-04-30 00:05:00        1.1  42.0   67.5  04/30/2017   \n",
       "33397      408907  2017-04-30 00:10:00        1.0  41.0   68.1  04/30/2017   \n",
       "\n",
       "        Time    idx  \n",
       "33395  00:00  33395  \n",
       "33396  00:05  33396  \n",
       "33397  00:10  33397  "
      ]
     },
     "execution_count": 260,
     "metadata": {},
     "output_type": "execute_result"
    }
   ],
   "source": [
    "dataset_df_1.head(3)"
   ]
  },
  {
   "cell_type": "code",
   "execution_count": 207,
   "metadata": {},
   "outputs": [],
   "source": [
    "dataset_df_1.to_csv(base_path + \"concat_no_holes/concat_1.csv\")\n",
    "dataset_df_2.to_csv(base_path + \"concat_no_holes/concat_2.csv\")\n",
    "dataset_df_3.to_csv(base_path + \"concat_no_holes/concat_3.csv\")"
   ]
  },
  {
   "cell_type": "code",
   "execution_count": 262,
   "metadata": {},
   "outputs": [],
   "source": [
    "concats = [dataset_df_1, dataset_df_2, dataset_df_3]"
   ]
  },
  {
   "cell_type": "code",
   "execution_count": 263,
   "metadata": {},
   "outputs": [],
   "source": [
    "concat = pd.concat(concats)"
   ]
  },
  {
   "cell_type": "code",
   "execution_count": 264,
   "metadata": {},
   "outputs": [],
   "source": [
    "concat.to_csv(base_path + \"concat_no_holes/concat.csv\")"
   ]
  },
  {
   "cell_type": "code",
   "execution_count": 220,
   "metadata": {},
   "outputs": [],
   "source": [
    "available_dates_str = pd.read_csv(base_path + \"available_dates.csv\").iloc[:, 0].values"
   ]
  },
  {
   "cell_type": "code",
   "execution_count": 221,
   "metadata": {},
   "outputs": [
    {
     "data": {
      "text/plain": [
       "array(['2017-04-30', '2017-05-01', '2017-05-02'], dtype=object)"
      ]
     },
     "execution_count": 221,
     "metadata": {},
     "output_type": "execute_result"
    }
   ],
   "source": [
    "available_dates_str[:3]"
   ]
  },
  {
   "cell_type": "code",
   "execution_count": 222,
   "metadata": {},
   "outputs": [],
   "source": [
    "dates = list(map(lambda x: pd.to_datetime(x).date(), available_dates_str))"
   ]
  },
  {
   "cell_type": "code",
   "execution_count": 265,
   "metadata": {
    "scrolled": false
   },
   "outputs": [
    {
     "data": {
      "text/html": [
       "<div>\n",
       "<style scoped>\n",
       "    .dataframe tbody tr th:only-of-type {\n",
       "        vertical-align: middle;\n",
       "    }\n",
       "\n",
       "    .dataframe tbody tr th {\n",
       "        vertical-align: top;\n",
       "    }\n",
       "\n",
       "    .dataframe thead th {\n",
       "        text-align: right;\n",
       "    }\n",
       "</style>\n",
       "<table border=\"1\" class=\"dataframe\">\n",
       "  <thead>\n",
       "    <tr style=\"text-align: right;\">\n",
       "      <th></th>\n",
       "      <th>Station ID</th>\n",
       "      <th>datetime</th>\n",
       "      <th>Occupancy</th>\n",
       "      <th>Flow</th>\n",
       "      <th>Speed</th>\n",
       "      <th>Date</th>\n",
       "      <th>Time</th>\n",
       "      <th>idx</th>\n",
       "    </tr>\n",
       "  </thead>\n",
       "  <tbody>\n",
       "    <tr>\n",
       "      <th>33395</th>\n",
       "      <td>408907</td>\n",
       "      <td>2017-04-30 00:00:00</td>\n",
       "      <td>0.6</td>\n",
       "      <td>26.0</td>\n",
       "      <td>68.4</td>\n",
       "      <td>04/30/2017</td>\n",
       "      <td>00:00</td>\n",
       "      <td>33395</td>\n",
       "    </tr>\n",
       "  </tbody>\n",
       "</table>\n",
       "</div>"
      ],
      "text/plain": [
       "       Station ID             datetime  Occupancy  Flow  Speed        Date  \\\n",
       "33395      408907  2017-04-30 00:00:00        0.6  26.0   68.4  04/30/2017   \n",
       "\n",
       "        Time    idx  \n",
       "33395  00:00  33395  "
      ]
     },
     "execution_count": 265,
     "metadata": {},
     "output_type": "execute_result"
    }
   ],
   "source": [
    "dataset_df_1.head(1)"
   ]
  },
  {
   "cell_type": "code",
   "execution_count": 266,
   "metadata": {},
   "outputs": [
    {
     "data": {
      "text/html": [
       "<div>\n",
       "<style scoped>\n",
       "    .dataframe tbody tr th:only-of-type {\n",
       "        vertical-align: middle;\n",
       "    }\n",
       "\n",
       "    .dataframe tbody tr th {\n",
       "        vertical-align: top;\n",
       "    }\n",
       "\n",
       "    .dataframe thead th {\n",
       "        text-align: right;\n",
       "    }\n",
       "</style>\n",
       "<table border=\"1\" class=\"dataframe\">\n",
       "  <thead>\n",
       "    <tr style=\"text-align: right;\">\n",
       "      <th></th>\n",
       "      <th>Station ID</th>\n",
       "      <th>datetime</th>\n",
       "      <th>Occupancy</th>\n",
       "      <th>Flow</th>\n",
       "      <th>Speed</th>\n",
       "      <th>Date</th>\n",
       "      <th>Time</th>\n",
       "      <th>idx</th>\n",
       "    </tr>\n",
       "  </thead>\n",
       "  <tbody>\n",
       "    <tr>\n",
       "      <th>33396</th>\n",
       "      <td>400141</td>\n",
       "      <td>2017-04-30 00:00:00</td>\n",
       "      <td>2.7</td>\n",
       "      <td>175.0</td>\n",
       "      <td>68.1</td>\n",
       "      <td>04/30/2017</td>\n",
       "      <td>00:00</td>\n",
       "      <td>33396</td>\n",
       "    </tr>\n",
       "  </tbody>\n",
       "</table>\n",
       "</div>"
      ],
      "text/plain": [
       "       Station ID             datetime  Occupancy   Flow  Speed        Date  \\\n",
       "33396      400141  2017-04-30 00:00:00        2.7  175.0   68.1  04/30/2017   \n",
       "\n",
       "        Time    idx  \n",
       "33396  00:00  33396  "
      ]
     },
     "execution_count": 266,
     "metadata": {},
     "output_type": "execute_result"
    }
   ],
   "source": [
    "dataset_df_2.head(1)"
   ]
  },
  {
   "cell_type": "code",
   "execution_count": 267,
   "metadata": {
    "scrolled": true
   },
   "outputs": [
    {
     "data": {
      "text/html": [
       "<div>\n",
       "<style scoped>\n",
       "    .dataframe tbody tr th:only-of-type {\n",
       "        vertical-align: middle;\n",
       "    }\n",
       "\n",
       "    .dataframe tbody tr th {\n",
       "        vertical-align: top;\n",
       "    }\n",
       "\n",
       "    .dataframe thead th {\n",
       "        text-align: right;\n",
       "    }\n",
       "</style>\n",
       "<table border=\"1\" class=\"dataframe\">\n",
       "  <thead>\n",
       "    <tr style=\"text-align: right;\">\n",
       "      <th></th>\n",
       "      <th>Station ID</th>\n",
       "      <th>datetime</th>\n",
       "      <th>Occupancy</th>\n",
       "      <th>Flow</th>\n",
       "      <th>Speed</th>\n",
       "      <th>Date</th>\n",
       "      <th>Time</th>\n",
       "      <th>idx</th>\n",
       "    </tr>\n",
       "  </thead>\n",
       "  <tbody>\n",
       "    <tr>\n",
       "      <th>3252717</th>\n",
       "      <td>401471</td>\n",
       "      <td>2017-12-30 23:55:00</td>\n",
       "      <td>4.0</td>\n",
       "      <td>210.0</td>\n",
       "      <td>60.8</td>\n",
       "      <td>12/30/2017</td>\n",
       "      <td>23:55</td>\n",
       "      <td>3252717</td>\n",
       "    </tr>\n",
       "  </tbody>\n",
       "</table>\n",
       "</div>"
      ],
      "text/plain": [
       "         Station ID             datetime  Occupancy   Flow  Speed        Date  \\\n",
       "3252717      401471  2017-12-30 23:55:00        4.0  210.0   60.8  12/30/2017   \n",
       "\n",
       "          Time      idx  \n",
       "3252717  23:55  3252717  "
      ]
     },
     "execution_count": 267,
     "metadata": {},
     "output_type": "execute_result"
    }
   ],
   "source": [
    "dataset_df_3.tail(1)"
   ]
  },
  {
   "cell_type": "code",
   "execution_count": 268,
   "metadata": {},
   "outputs": [
    {
     "data": {
      "text/plain": [
       "[datetime.date(2017, 4, 30), datetime.date(2017, 5, 1)]"
      ]
     },
     "execution_count": 268,
     "metadata": {},
     "output_type": "execute_result"
    }
   ],
   "source": [
    "dates[0:2]"
   ]
  },
  {
   "cell_type": "code",
   "execution_count": 269,
   "metadata": {},
   "outputs": [],
   "source": [
    "dates_format_1 = available_dates_str"
   ]
  },
  {
   "cell_type": "code",
   "execution_count": 270,
   "metadata": {},
   "outputs": [
    {
     "data": {
      "text/plain": [
       "array(['2017-04-30', '2017-05-01', '2017-05-02'], dtype=object)"
      ]
     },
     "execution_count": 270,
     "metadata": {},
     "output_type": "execute_result"
    }
   ],
   "source": [
    "dates_format_1[0:3]"
   ]
  },
  {
   "cell_type": "code",
   "execution_count": 226,
   "metadata": {},
   "outputs": [],
   "source": [
    "dates_format_2 = list(map(lambda x: x.split('-')[1] + \"/\" + x.split('-')[2] + \"/\" + x.split('-')[0], available_dates_str))"
   ]
  },
  {
   "cell_type": "code",
   "execution_count": 271,
   "metadata": {
    "scrolled": true
   },
   "outputs": [
    {
     "data": {
      "text/plain": [
       "['04/30/2017', '05/01/2017', '05/02/2017']"
      ]
     },
     "execution_count": 271,
     "metadata": {},
     "output_type": "execute_result"
    }
   ],
   "source": [
    "dates_format_2[0:3]"
   ]
  },
  {
   "cell_type": "markdown",
   "metadata": {},
   "source": [
    "## Exception found: we want the dates to start from 2017-04-30"
   ]
  },
  {
   "cell_type": "code",
   "execution_count": 191,
   "metadata": {},
   "outputs": [
    {
     "data": {
      "text/plain": [
       "array(['2017-04-30', '2017-05-01', '2017-05-02', '2017-05-03',\n",
       "       '2017-05-04', '2017-05-06', '2017-05-07', '2017-05-08',\n",
       "       '2017-05-09', '2017-05-10'], dtype=object)"
      ]
     },
     "execution_count": 191,
     "metadata": {},
     "output_type": "execute_result"
    }
   ],
   "source": [
    "available_dates[0:10]"
   ]
  },
  {
   "cell_type": "code",
   "execution_count": 188,
   "metadata": {},
   "outputs": [],
   "source": [
    "pd.DataFrame(available_dates).to_csv(base_path + \"available_dates.csv\", index=False)"
   ]
  },
  {
   "cell_type": "markdown",
   "metadata": {},
   "source": [
    "# Is there any temporal correlation in the data?  Visulize data at one station, in one day"
   ]
  },
  {
   "cell_type": "code",
   "execution_count": 289,
   "metadata": {},
   "outputs": [],
   "source": [
    "import matplotlib.pyplot as plt"
   ]
  },
  {
   "cell_type": "code",
   "execution_count": 272,
   "metadata": {},
   "outputs": [],
   "source": [
    "stations = concat[\"Station ID\"].unique()"
   ]
  },
  {
   "cell_type": "markdown",
   "metadata": {},
   "source": [
    "There is a problem here.  The two stations, 417665 and 417666, have records starting from 2007-04-29, and started to collect data on 2007-04-30 (notice that speed, flow and occupancy are all constant on 2007-04-29).  Therefore we discard the data before date 2007-04-29."
   ]
  },
  {
   "cell_type": "code",
   "execution_count": 277,
   "metadata": {},
   "outputs": [
    {
     "data": {
      "text/plain": [
       "224"
      ]
     },
     "execution_count": 277,
     "metadata": {},
     "output_type": "execute_result"
    }
   ],
   "source": [
    "len(dates)"
   ]
  },
  {
   "cell_type": "markdown",
   "metadata": {},
   "source": [
    "Finally, there are 224 days of data available for use, and the total number of records for each station is 64512."
   ]
  },
  {
   "cell_type": "code",
   "execution_count": 279,
   "metadata": {},
   "outputs": [
    {
     "data": {
      "text/plain": [
       "102"
      ]
     },
     "execution_count": 279,
     "metadata": {},
     "output_type": "execute_result"
    }
   ],
   "source": [
    "len(stations)"
   ]
  },
  {
   "cell_type": "code",
   "execution_count": 280,
   "metadata": {},
   "outputs": [
    {
     "data": {
      "text/plain": [
       "array([408907, 400951, 400057, 400147, 400343, 401560, 400045, 400122,\n",
       "       401541, 402281])"
      ]
     },
     "execution_count": 280,
     "metadata": {},
     "output_type": "execute_result"
    }
   ],
   "source": [
    "stations[0:10]"
   ]
  },
  {
   "cell_type": "code",
   "execution_count": 381,
   "metadata": {},
   "outputs": [],
   "source": [
    "sample_station = np.random.choice(stations)\n",
    "sample_date = np.random.choice(dates)\n",
    "sample_date2 = np.random.choice(dates)"
   ]
  },
  {
   "cell_type": "code",
   "execution_count": 382,
   "metadata": {},
   "outputs": [
    {
     "name": "stdout",
     "output_type": "stream",
     "text": [
      "400284 2017-11-17 2017-09-30\n"
     ]
    }
   ],
   "source": [
    "print(sample_station, sample_date, sample_date2)"
   ]
  },
  {
   "cell_type": "code",
   "execution_count": 383,
   "metadata": {},
   "outputs": [],
   "source": [
    "sample_df = concat.loc[(concat[\"Station ID\"] == sample_station) & (concat[\"Date\"] == sample_date.strftime(\"%m/%d/%Y\"))]\n",
    "sample_df2 = concat.loc[(concat[\"Station ID\"] == sample_station) & (concat[\"Date\"] == sample_date2.strftime(\"%m/%d/%Y\"))]"
   ]
  },
  {
   "cell_type": "markdown",
   "metadata": {},
   "source": [
    "### Occupancy (%)"
   ]
  },
  {
   "cell_type": "code",
   "execution_count": 384,
   "metadata": {},
   "outputs": [],
   "source": [
    "sample_x = sample_df[\"Time\"].values"
   ]
  },
  {
   "cell_type": "code",
   "execution_count": 385,
   "metadata": {},
   "outputs": [
    {
     "data": {
      "image/png": "[encoded data removed]",
      "text/plain": [
       "<Figure size 1152x360 with 2 Axes>"
      ]
     },
     "metadata": {},
     "output_type": "display_data"
    }
   ],
   "source": [
    "sample_occ = sample_df[\"Occupancy\"].values\n",
    "sample_occ2 = sample_df2[\"Occupancy\"].values\n",
    "\n",
    "fig = plt.figure(figsize=(16, 5))\n",
    "ax = fig.add_subplot(121)\n",
    "ax2 = fig.add_subplot(122)\n",
    "ax.plot(sample_x, sample_occ)\n",
    "ax2.plot(sample_x, sample_occ2)\n",
    "start, end = ax.get_xlim()\n",
    "ax.xaxis.set_ticks(np.arange(start, end, 60))\n",
    "start, end = ax2.get_xlim()\n",
    "ax2.xaxis.set_ticks(np.arange(start, end, 60))\n",
    "\n",
    "plt.show()"
   ]
  },
  {
   "cell_type": "markdown",
   "metadata": {},
   "source": [
    "### Flow (number of cars / 5 minutes)"
   ]
  },
  {
   "cell_type": "code",
   "execution_count": 386,
   "metadata": {},
   "outputs": [
    {
     "data": {
      "text/plain": [
       "<Figure size 432x288 with 0 Axes>"
      ]
     },
     "metadata": {},
     "output_type": "display_data"
    },
    {
     "data": {
      "image/png": "[encoded data removed]",
      "text/plain": [
       "<Figure size 1152x360 with 2 Axes>"
      ]
     },
     "metadata": {},
     "output_type": "display_data"
    }
   ],
   "source": [
    "sample_flow = sample_df[\"Flow\"].values\n",
    "sample_flow2 = sample_df2[\"Flow\"].values\n",
    "\n",
    "plt.clf()\n",
    "fig = plt.figure(figsize=(16, 5))\n",
    "ax = fig.add_subplot(121)\n",
    "ax2 = fig.add_subplot(122)\n",
    "ax.plot(sample_x, sample_flow)\n",
    "ax2.plot(sample_x, sample_flow2)\n",
    "start, end = ax.get_xlim()\n",
    "ax.xaxis.set_ticks(np.arange(start, end, 60))\n",
    "start, end = ax2.get_xlim()\n",
    "ax2.xaxis.set_ticks(np.arange(start, end, 60))\n",
    "\n",
    "plt.show()"
   ]
  },
  {
   "cell_type": "markdown",
   "metadata": {},
   "source": [
    "### Speed (mph)"
   ]
  },
  {
   "cell_type": "code",
   "execution_count": 387,
   "metadata": {},
   "outputs": [
    {
     "data": {
      "text/plain": [
       "<Figure size 432x288 with 0 Axes>"
      ]
     },
     "metadata": {},
     "output_type": "display_data"
    },
    {
     "data": {
      "image/png": "[encoded data removed]",
      "text/plain": [
       "<Figure size 1152x360 with 2 Axes>"
      ]
     },
     "metadata": {},
     "output_type": "display_data"
    }
   ],
   "source": [
    "sample_speed = sample_df[\"Speed\"].values\n",
    "sample_speed2 = sample_df2[\"Speed\"].values\n",
    "\n",
    "plt.clf()\n",
    "fig = plt.figure(figsize=(16, 5))\n",
    "ax = fig.add_subplot(121)\n",
    "ax2 = fig.add_subplot(122)\n",
    "ax.plot(sample_x, sample_speed)\n",
    "ax2.plot(sample_x, sample_speed2)\n",
    "start, end = ax.get_xlim()\n",
    "ax.xaxis.set_ticks(np.arange(start, end, 60))\n",
    "start, end = ax2.get_xlim()\n",
    "ax2.xaxis.set_ticks(np.arange(start, end, 60))\n",
    "\n",
    "plt.show()"
   ]
  },
  {
   "cell_type": "markdown",
   "metadata": {},
   "source": [
    "# Bootstrapping data"
   ]
  },
  {
   "cell_type": "markdown",
   "metadata": {},
   "source": [
    "TODO: One idea - we can keep a rational proportion between weekdays and weekends in the sample data."
   ]
  },
  {
   "cell_type": "code",
   "execution_count": 388,
   "metadata": {
    "scrolled": true
   },
   "outputs": [
    {
     "data": {
      "text/plain": [
       "224"
      ]
     },
     "execution_count": 388,
     "metadata": {},
     "output_type": "execute_result"
    }
   ],
   "source": [
    "len(dates)"
   ]
  },
  {
   "cell_type": "code",
   "execution_count": 391,
   "metadata": {},
   "outputs": [],
   "source": [
    "dates_train = np.random.choice(dates, 112)"
   ]
  },
  {
   "cell_type": "code",
   "execution_count": 392,
   "metadata": {},
   "outputs": [],
   "source": [
    "dates_test = list(set(dates).difference(set(dates_train)))\n",
    "dates_test.sort()"
   ]
  },
  {
   "cell_type": "code",
   "execution_count": 395,
   "metadata": {
    "scrolled": true
   },
   "outputs": [
    {
     "data": {
      "text/plain": [
       "(112, 138)"
      ]
     },
     "execution_count": 395,
     "metadata": {},
     "output_type": "execute_result"
    }
   ],
   "source": [
    "len(dates_train), len(dates_test)"
   ]
  },
  {
   "cell_type": "code",
   "execution_count": 403,
   "metadata": {},
   "outputs": [],
   "source": [
    "dates_train_str = list(map(lambda x: x.strftime(\"%m/%d/%Y\"), dates_train))\n",
    "dates_test_str = list(map(lambda x: x.strftime(\"%m/%d/%Y\"), dates_test))\n",
    "dates_train_str.sort()\n",
    "dates_test_str.sort()"
   ]
  },
  {
   "cell_type": "code",
   "execution_count": 405,
   "metadata": {},
   "outputs": [
    {
     "data": {
      "text/plain": [
       "(['05/04/2017', '05/04/2017', '05/07/2017'],\n",
       " ['04/30/2017', '05/01/2017', '05/02/2017'])"
      ]
     },
     "execution_count": 405,
     "metadata": {},
     "output_type": "execute_result"
    }
   ],
   "source": [
    "dates_train_str[:3], dates_test_str[:3]"
   ]
  },
  {
   "cell_type": "code",
   "execution_count": 406,
   "metadata": {},
   "outputs": [],
   "source": [
    "df_train = concat.loc[concat[\"Date\"].isin(dates_train_str)]\n",
    "df_test = concat.loc[concat[\"Date\"].isin(dates_test_str)]"
   ]
  },
  {
   "cell_type": "code",
   "execution_count": 408,
   "metadata": {},
   "outputs": [
    {
     "data": {
      "text/html": [
       "<div>\n",
       "<style scoped>\n",
       "    .dataframe tbody tr th:only-of-type {\n",
       "        vertical-align: middle;\n",
       "    }\n",
       "\n",
       "    .dataframe tbody tr th {\n",
       "        vertical-align: top;\n",
       "    }\n",
       "\n",
       "    .dataframe thead th {\n",
       "        text-align: right;\n",
       "    }\n",
       "</style>\n",
       "<table border=\"1\" class=\"dataframe\">\n",
       "  <thead>\n",
       "    <tr style=\"text-align: right;\">\n",
       "      <th></th>\n",
       "      <th>Station ID</th>\n",
       "      <th>datetime</th>\n",
       "      <th>Occupancy</th>\n",
       "      <th>Flow</th>\n",
       "      <th>Speed</th>\n",
       "      <th>Date</th>\n",
       "      <th>Time</th>\n",
       "      <th>idx</th>\n",
       "    </tr>\n",
       "  </thead>\n",
       "  <tbody>\n",
       "    <tr>\n",
       "      <th>34547</th>\n",
       "      <td>408907</td>\n",
       "      <td>2017-05-04 00:00:00</td>\n",
       "      <td>0.6</td>\n",
       "      <td>20.0</td>\n",
       "      <td>67.6</td>\n",
       "      <td>05/04/2017</td>\n",
       "      <td>00:00</td>\n",
       "      <td>34547</td>\n",
       "    </tr>\n",
       "    <tr>\n",
       "      <th>34548</th>\n",
       "      <td>408907</td>\n",
       "      <td>2017-05-04 00:05:00</td>\n",
       "      <td>0.5</td>\n",
       "      <td>18.0</td>\n",
       "      <td>67.9</td>\n",
       "      <td>05/04/2017</td>\n",
       "      <td>00:05</td>\n",
       "      <td>34548</td>\n",
       "    </tr>\n",
       "    <tr>\n",
       "      <th>34549</th>\n",
       "      <td>408907</td>\n",
       "      <td>2017-05-04 00:10:00</td>\n",
       "      <td>0.5</td>\n",
       "      <td>20.0</td>\n",
       "      <td>68.3</td>\n",
       "      <td>05/04/2017</td>\n",
       "      <td>00:10</td>\n",
       "      <td>34549</td>\n",
       "    </tr>\n",
       "  </tbody>\n",
       "</table>\n",
       "</div>"
      ],
      "text/plain": [
       "       Station ID             datetime  Occupancy  Flow  Speed        Date  \\\n",
       "34547      408907  2017-05-04 00:00:00        0.6  20.0   67.6  05/04/2017   \n",
       "34548      408907  2017-05-04 00:05:00        0.5  18.0   67.9  05/04/2017   \n",
       "34549      408907  2017-05-04 00:10:00        0.5  20.0   68.3  05/04/2017   \n",
       "\n",
       "        Time    idx  \n",
       "34547  00:00  34547  \n",
       "34548  00:05  34548  \n",
       "34549  00:10  34549  "
      ]
     },
     "execution_count": 408,
     "metadata": {},
     "output_type": "execute_result"
    }
   ],
   "source": [
    "df_train.head(3)"
   ]
  },
  {
   "cell_type": "code",
   "execution_count": 409,
   "metadata": {},
   "outputs": [
    {
     "data": {
      "text/html": [
       "<div>\n",
       "<style scoped>\n",
       "    .dataframe tbody tr th:only-of-type {\n",
       "        vertical-align: middle;\n",
       "    }\n",
       "\n",
       "    .dataframe tbody tr th {\n",
       "        vertical-align: top;\n",
       "    }\n",
       "\n",
       "    .dataframe thead th {\n",
       "        text-align: right;\n",
       "    }\n",
       "</style>\n",
       "<table border=\"1\" class=\"dataframe\">\n",
       "  <thead>\n",
       "    <tr style=\"text-align: right;\">\n",
       "      <th></th>\n",
       "      <th>Station ID</th>\n",
       "      <th>datetime</th>\n",
       "      <th>Occupancy</th>\n",
       "      <th>Flow</th>\n",
       "      <th>Speed</th>\n",
       "      <th>Date</th>\n",
       "      <th>Time</th>\n",
       "      <th>idx</th>\n",
       "    </tr>\n",
       "  </thead>\n",
       "  <tbody>\n",
       "    <tr>\n",
       "      <th>33395</th>\n",
       "      <td>408907</td>\n",
       "      <td>2017-04-30 00:00:00</td>\n",
       "      <td>0.6</td>\n",
       "      <td>26.0</td>\n",
       "      <td>68.4</td>\n",
       "      <td>04/30/2017</td>\n",
       "      <td>00:00</td>\n",
       "      <td>33395</td>\n",
       "    </tr>\n",
       "    <tr>\n",
       "      <th>33396</th>\n",
       "      <td>408907</td>\n",
       "      <td>2017-04-30 00:05:00</td>\n",
       "      <td>1.1</td>\n",
       "      <td>42.0</td>\n",
       "      <td>67.5</td>\n",
       "      <td>04/30/2017</td>\n",
       "      <td>00:05</td>\n",
       "      <td>33396</td>\n",
       "    </tr>\n",
       "    <tr>\n",
       "      <th>33397</th>\n",
       "      <td>408907</td>\n",
       "      <td>2017-04-30 00:10:00</td>\n",
       "      <td>1.0</td>\n",
       "      <td>41.0</td>\n",
       "      <td>68.1</td>\n",
       "      <td>04/30/2017</td>\n",
       "      <td>00:10</td>\n",
       "      <td>33397</td>\n",
       "    </tr>\n",
       "  </tbody>\n",
       "</table>\n",
       "</div>"
      ],
      "text/plain": [
       "       Station ID             datetime  Occupancy  Flow  Speed        Date  \\\n",
       "33395      408907  2017-04-30 00:00:00        0.6  26.0   68.4  04/30/2017   \n",
       "33396      408907  2017-04-30 00:05:00        1.1  42.0   67.5  04/30/2017   \n",
       "33397      408907  2017-04-30 00:10:00        1.0  41.0   68.1  04/30/2017   \n",
       "\n",
       "        Time    idx  \n",
       "33395  00:00  33395  \n",
       "33396  00:05  33396  \n",
       "33397  00:10  33397  "
      ]
     },
     "execution_count": 409,
     "metadata": {},
     "output_type": "execute_result"
    }
   ],
   "source": [
    "df_test.head(3)"
   ]
  },
  {
   "cell_type": "markdown",
   "metadata": {},
   "source": [
    "## DES: Tune and save parameters for each variable, and each detector station"
   ]
  },
  {
   "cell_type": "markdown",
   "metadata": {},
   "source": [
    "$$S_1(t) = \\alpha X(i,t) + (1 - \\alpha) S_1(t-1)$$\n",
    "$$S_2(t) = \\alpha S_1(t) + (1 - \\alpha) S_2(t-1)$$\n",
    "$$A(t) = 2S_1(t) - S_2(t)$$\n",
    "$$B(t) = \\frac{\\alpha}{1 - \\alpha} [S_1(t) - S_2(t)]$$\n",
    "and finally,\n",
    "$$Y(i, t+1) = A(i, t) + B(i, t),$$\n",
    "where $i$ denotes a detector station named $i$."
   ]
  },
  {
   "cell_type": "code",
   "execution_count": 411,
   "metadata": {},
   "outputs": [],
   "source": [
    "station = np.random.choice(stations)"
   ]
  },
  {
   "cell_type": "code",
   "execution_count": 412,
   "metadata": {},
   "outputs": [
    {
     "data": {
      "text/plain": [
       "401003"
      ]
     },
     "execution_count": 412,
     "metadata": {},
     "output_type": "execute_result"
    }
   ],
   "source": [
    "station"
   ]
  },
  {
   "cell_type": "code",
   "execution_count": 413,
   "metadata": {},
   "outputs": [],
   "source": [
    "df_train_station = df_train.loc[df_train[\"Station ID\"] == station]"
   ]
  },
  {
   "cell_type": "code",
   "execution_count": 416,
   "metadata": {},
   "outputs": [
    {
     "data": {
      "text/html": [
       "<div>\n",
       "<style scoped>\n",
       "    .dataframe tbody tr th:only-of-type {\n",
       "        vertical-align: middle;\n",
       "    }\n",
       "\n",
       "    .dataframe tbody tr th {\n",
       "        vertical-align: top;\n",
       "    }\n",
       "\n",
       "    .dataframe thead th {\n",
       "        text-align: right;\n",
       "    }\n",
       "</style>\n",
       "<table border=\"1\" class=\"dataframe\">\n",
       "  <thead>\n",
       "    <tr style=\"text-align: right;\">\n",
       "      <th></th>\n",
       "      <th>Station ID</th>\n",
       "      <th>datetime</th>\n",
       "      <th>Occupancy</th>\n",
       "      <th>Flow</th>\n",
       "      <th>Speed</th>\n",
       "      <th>Date</th>\n",
       "      <th>Time</th>\n",
       "      <th>idx</th>\n",
       "    </tr>\n",
       "  </thead>\n",
       "  <tbody>\n",
       "    <tr>\n",
       "      <th>2814457</th>\n",
       "      <td>401003</td>\n",
       "      <td>2017-05-04 00:00:00</td>\n",
       "      <td>1.9</td>\n",
       "      <td>220.0</td>\n",
       "      <td>67.1</td>\n",
       "      <td>05/04/2017</td>\n",
       "      <td>00:00</td>\n",
       "      <td>2814457</td>\n",
       "    </tr>\n",
       "    <tr>\n",
       "      <th>2814458</th>\n",
       "      <td>401003</td>\n",
       "      <td>2017-05-04 00:05:00</td>\n",
       "      <td>1.8</td>\n",
       "      <td>208.0</td>\n",
       "      <td>67.5</td>\n",
       "      <td>05/04/2017</td>\n",
       "      <td>00:05</td>\n",
       "      <td>2814458</td>\n",
       "    </tr>\n",
       "    <tr>\n",
       "      <th>2814459</th>\n",
       "      <td>401003</td>\n",
       "      <td>2017-05-04 00:10:00</td>\n",
       "      <td>2.3</td>\n",
       "      <td>252.0</td>\n",
       "      <td>66.9</td>\n",
       "      <td>05/04/2017</td>\n",
       "      <td>00:10</td>\n",
       "      <td>2814459</td>\n",
       "    </tr>\n",
       "    <tr>\n",
       "      <th>2814460</th>\n",
       "      <td>401003</td>\n",
       "      <td>2017-05-04 00:15:00</td>\n",
       "      <td>1.3</td>\n",
       "      <td>155.0</td>\n",
       "      <td>68.8</td>\n",
       "      <td>05/04/2017</td>\n",
       "      <td>00:15</td>\n",
       "      <td>2814460</td>\n",
       "    </tr>\n",
       "    <tr>\n",
       "      <th>2814461</th>\n",
       "      <td>401003</td>\n",
       "      <td>2017-05-04 00:20:00</td>\n",
       "      <td>1.5</td>\n",
       "      <td>181.0</td>\n",
       "      <td>69.1</td>\n",
       "      <td>05/04/2017</td>\n",
       "      <td>00:20</td>\n",
       "      <td>2814461</td>\n",
       "    </tr>\n",
       "  </tbody>\n",
       "</table>\n",
       "</div>"
      ],
      "text/plain": [
       "         Station ID             datetime  Occupancy   Flow  Speed        Date  \\\n",
       "2814457      401003  2017-05-04 00:00:00        1.9  220.0   67.1  05/04/2017   \n",
       "2814458      401003  2017-05-04 00:05:00        1.8  208.0   67.5  05/04/2017   \n",
       "2814459      401003  2017-05-04 00:10:00        2.3  252.0   66.9  05/04/2017   \n",
       "2814460      401003  2017-05-04 00:15:00        1.3  155.0   68.8  05/04/2017   \n",
       "2814461      401003  2017-05-04 00:20:00        1.5  181.0   69.1  05/04/2017   \n",
       "\n",
       "          Time      idx  \n",
       "2814457  00:00  2814457  \n",
       "2814458  00:05  2814458  \n",
       "2814459  00:10  2814459  \n",
       "2814460  00:15  2814460  \n",
       "2814461  00:20  2814461  "
      ]
     },
     "execution_count": 416,
     "metadata": {},
     "output_type": "execute_result"
    }
   ],
   "source": [
    "df_train_station.head(5)"
   ]
  },
  {
   "cell_type": "code",
   "execution_count": 427,
   "metadata": {},
   "outputs": [],
   "source": [
    "var_name = \"Occupancy\"\n",
    "var_series = df_train_station[var].values"
   ]
  },
  {
   "cell_type": "code",
   "execution_count": 428,
   "metadata": {},
   "outputs": [
    {
     "data": {
      "text/plain": [
       "array([1.9, 1.8, 2.3, 1.3, 1.5])"
      ]
     },
     "execution_count": 428,
     "metadata": {},
     "output_type": "execute_result"
    }
   ],
   "source": [
    "var_series[:5]"
   ]
  },
  {
   "cell_type": "code",
   "execution_count": 431,
   "metadata": {},
   "outputs": [],
   "source": [
    "# initialize data using the first ten points\n",
    "alphas = np.arange(1000) / 1000.\n",
    "# for each alpha, perform exponential smoothing, and compute RMSE\n",
    "alpha = np.random.choice(alphas)\n",
    "beta = round(1. - alpha, 3)"
   ]
  },
  {
   "cell_type": "code",
   "execution_count": 432,
   "metadata": {},
   "outputs": [
    {
     "data": {
      "text/plain": [
       "(0.271, 0.729)"
      ]
     },
     "execution_count": 432,
     "metadata": {},
     "output_type": "execute_result"
    }
   ],
   "source": [
    "alpha, beta"
   ]
  },
  {
   "cell_type": "code",
   "execution_count": 421,
   "metadata": {},
   "outputs": [],
   "source": [
    "s1 = [0.] * len(var_series)\n",
    "s2 = [0.] * len(var_series)\n",
    "y = [0.] * len(var_series)"
   ]
  },
  {
   "cell_type": "code",
   "execution_count": 423,
   "metadata": {
    "scrolled": true
   },
   "outputs": [
    {
     "data": {
      "text/plain": [
       "24768"
      ]
     },
     "execution_count": 423,
     "metadata": {},
     "output_type": "execute_result"
    }
   ],
   "source": [
    "len(var_series)"
   ]
  },
  {
   "cell_type": "code",
   "execution_count": 426,
   "metadata": {},
   "outputs": [],
   "source": [
    "# initialize values\n",
    "s1[10] = np.mean(var_series[:10])\n",
    "s2[10] = s1[10]"
   ]
  },
  {
   "cell_type": "code",
   "execution_count": 459,
   "metadata": {},
   "outputs": [],
   "source": [
    "for i in range(11, len(var_series)):\n",
    "    y[i] = 2 * s1[i-1] - s2[i-1] + alpha / beta * (s1[i-1] - s2[i-1])\n",
    "    s1[i] = alpha * var_series[i-1] + beta * s1[i-2]\n",
    "    s2[i] = alpha * s1[i-1] + beta * s2[i-2]"
   ]
  },
  {
   "cell_type": "code",
   "execution_count": 461,
   "metadata": {},
   "outputs": [],
   "source": [
    "# compute RMSE\n",
    "diff = var_series - y\n",
    "diff = diff[11:len(var_series)]"
   ]
  },
  {
   "cell_type": "code",
   "execution_count": 462,
   "metadata": {},
   "outputs": [],
   "source": [
    "rmse = np.sqrt( np.mean(diff ** 2) )"
   ]
  },
  {
   "cell_type": "markdown",
   "metadata": {},
   "source": [
    "## Put the above code together!"
   ]
  },
  {
   "cell_type": "markdown",
   "metadata": {},
   "source": [
    "We also want to save the best alphas for each variable. Use a dictionary, transform it to pandas dataframe, and save to csv."
   ]
  },
  {
   "cell_type": "code",
   "execution_count": 465,
   "metadata": {},
   "outputs": [],
   "source": [
    "var_names = [\"Speed\", \"Flow\", \"Occupancy\"]"
   ]
  },
  {
   "cell_type": "code",
   "execution_count": null,
   "metadata": {},
   "outputs": [
    {
     "name": "stdout",
     "output_type": "stream",
     "text": [
      "408907\n",
      "408907 0.4 0.2 0.3\n",
      "400951\n",
      "400951 0.4 0.2 0.3\n",
      "400057\n"
     ]
    }
   ],
   "source": [
    "best_alphas = {\n",
    "    'Station ID': [],\n",
    "    'Speed': [],\n",
    "    'Flow': [],\n",
    "    'Occupancy': []\n",
    "}\n",
    "num_grids = 10\n",
    "for i, station in enumerate(stations):\n",
    "    best_alphas['Station ID'].append(station)\n",
    "    # update current training station dataframe\n",
    "    df_train_station = df_train.loc[df_train[\"Station ID\"] == station]\n",
    "    print(station)\n",
    "    for var_name in var_names:\n",
    "        var_series = df_train_station[var_name].values\n",
    "        len_series = len(var_series)\n",
    "        \n",
    "        # setting up alphas\n",
    "        alphas = np.arange(num_grids) * 1. / num_grids\n",
    "        \n",
    "        # save the historical best alpha by rmse\n",
    "        best_rmse = float(\"inf\")\n",
    "        best_alpha = 0.\n",
    "        \n",
    "        # for each alpha, perform exponential smoothing, and compute RMSE\n",
    "        for alpha in alphas:\n",
    "            beta = round(1. - alpha, 3)\n",
    "            s1 = [0.] * len_series\n",
    "            s2 = [0.] * len_series\n",
    "            y = [0.] * len_series\n",
    "            \n",
    "            # initialize values\n",
    "            s1[10] = np.mean(var_series[:10])\n",
    "            s2[10] = s1[10]\n",
    "            \n",
    "            # time series prediction\n",
    "            for t in range(11, len_series):\n",
    "                y[t] = 2 * s1[t-1] - s2[t-1] + alpha / beta * (s1[t-1] - s2[t-1])\n",
    "                s1[t] = alpha * var_series[t-1] + beta * s1[t-2]\n",
    "                s2[t] = alpha * s1[t-1] + beta * s2[t-2]\n",
    "            \n",
    "            # compute RMSE\n",
    "            diff = var_series - y\n",
    "            diff = diff[11:len(var_series)]\n",
    "            rmse = np.sqrt( np.mean(diff ** 2) )\n",
    "            \n",
    "            # compare, and decide whether to update best alpha\n",
    "            if rmse < best_rmse:\n",
    "                best_rmse = rmse\n",
    "                best_alpha = alpha\n",
    "        \n",
    "        # finally, save the best alpha for the variable at this station\n",
    "        best_alphas[var_name].append(best_alpha)\n",
    "    \n",
    "    # print trained alphas for each station\n",
    "    print(best_alphas['Station ID'][i], best_alphas['Speed'][i], best_alphas['Flow'][i], best_alphas['Occupancy'][i])"
   ]
  },
  {
   "cell_type": "code",
   "execution_count": null,
   "metadata": {},
   "outputs": [],
   "source": []
  }
 ],
 "metadata": {
  "kernelspec": {
   "display_name": "Python 3",
   "language": "python",
   "name": "python3"
  },
  "language_info": {
   "codemirror_mode": {
    "name": "ipython",
    "version": 3
   },
   "file_extension": ".py",
   "mimetype": "text/x-python",
   "name": "python",
   "nbconvert_exporter": "python",
   "pygments_lexer": "ipython3",
   "version": "3.6.5"
  }
 },
 "nbformat": 4,
 "nbformat_minor": 2
}
